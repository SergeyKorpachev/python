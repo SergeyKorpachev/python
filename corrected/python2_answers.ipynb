{
 "cells": [
  {
   "cell_type": "markdown",
   "metadata": {},
   "source": [
    "## Answers to problems"
   ]
  },
  {
   "cell_type": "code",
   "execution_count": 1,
   "metadata": {},
   "outputs": [],
   "source": [
    "import numpy as np\n",
    "import pandas as pd\n",
    "import matplotlib.pyplot as plt\n",
    "from scipy.optimize import curve_fit"
   ]
  },
  {
   "cell_type": "code",
   "execution_count": 2,
   "metadata": {},
   "outputs": [
    {
     "name": "stdout",
     "output_type": "stream",
     "text": [
      "Original 2D array:\n",
      "[[1 0]\n",
      " [1 2]]\n",
      "Its determinant:\n",
      "2.0\n"
     ]
    }
   ],
   "source": [
    "# Answer to problem №0:\n",
    "\n",
    "a = np.array([[1, 0], [1, 2]])\n",
    "\n",
    "print(\"Original 2D array:\")\n",
    "print(a)\n",
    "\n",
    "print(\"Its determinant:\")\n",
    "print(np.linalg.det(a))"
   ]
  },
  {
   "cell_type": "code",
   "execution_count": 3,
   "metadata": {},
   "outputs": [
    {
     "name": "stdout",
     "output_type": "stream",
     "text": [
      "[[ 0.1         2.          3.          4.        ]\n",
      " [ 5.          0.23076923  7.          8.        ]\n",
      " [ 9.         10.          0.26190476 12.        ]\n",
      " [13.         14.         15.          0.27586207]]\n"
     ]
    }
   ],
   "source": [
    "# Answer to problem №1:\n",
    "\n",
    "a = np.arange(1, 17).reshape(4,4)\n",
    "mask = np.ones_like(a)\n",
    "np.fill_diagonal(mask, np.sum(a, axis=1))\n",
    "\n",
    "print(a / mask)"
   ]
  },
  {
   "cell_type": "code",
   "execution_count": 4,
   "metadata": {},
   "outputs": [
    {
     "data": {
      "text/plain": [
       "Survived      0\n",
       "Pclass        0\n",
       "Name          0\n",
       "Sex           0\n",
       "Age         177\n",
       "SibSp         0\n",
       "Parch         0\n",
       "Ticket        0\n",
       "Fare          0\n",
       "Cabin       687\n",
       "Embarked      2\n",
       "dtype: int64"
      ]
     },
     "execution_count": 4,
     "metadata": {},
     "output_type": "execute_result"
    }
   ],
   "source": [
    "# Answer to problem №2:\n",
    "\n",
    "data = pd.read_csv(\"./data/train.csv\", index_col='PassengerId')\n",
    "data.isna().sum()"
   ]
  },
  {
   "cell_type": "code",
   "execution_count": 5,
   "metadata": {},
   "outputs": [
    {
     "data": {
      "text/plain": [
       "Survived                   1\n",
       "Pclass                     1\n",
       "Name        Ward, Miss. Anna\n",
       "Sex                   female\n",
       "Age                       35\n",
       "SibSp                      0\n",
       "Parch                      0\n",
       "Ticket              PC 17755\n",
       "Fare                 512.329\n",
       "Cabin                    NaN\n",
       "Embarked                   C\n",
       "Name: 259, dtype: object"
      ]
     },
     "execution_count": 5,
     "metadata": {},
     "output_type": "execute_result"
    }
   ],
   "source": [
    "# Answer to problem №3:\n",
    "\n",
    "data = pd.read_csv(\"./data/train.csv\", index_col='PassengerId')\n",
    "data.iloc[np.argmax(data[\"Fare\"])]"
   ]
  },
  {
   "cell_type": "code",
   "execution_count": 6,
   "metadata": {},
   "outputs": [
    {
     "name": "stdout",
     "output_type": "stream",
     "text": [
      "0.5398230088495575 0.3810316139767055\n"
     ]
    }
   ],
   "source": [
    "# Answer to problem №4:\n",
    "\n",
    "child_survival_rate = np.sum(data[data[\"Age\"] < 18][\"Survived\"]) / np.shape(\n",
    "    data[data[\"Age\"] < 18])[0]\n",
    "adult_survival_rate = np.sum(data[data[\"Age\"] >= 18][\"Survived\"]) / np.shape(\n",
    "    data[data[\"Age\"] >= 18])[0]\n",
    "\n",
    "print(child_survival_rate, adult_survival_rate)"
   ]
  },
  {
   "cell_type": "code",
   "execution_count": 8,
   "metadata": {},
   "outputs": [
    {
     "data": {
      "image/png": "[encoded data removed]",
      "text/plain": [
       "<Figure size 432x288 with 1 Axes>"
      ]
     },
     "metadata": {
      "needs_background": "light"
     },
     "output_type": "display_data"
    }
   ],
   "source": [
    "# Answer to problem №5:\n",
    "\n",
    "df = pd.read_csv(\"./data/company_sales_data.csv\")\n",
    "\n",
    "month_list = df['month_number']\n",
    "toothpaste_sales = df['toothpaste']\n",
    "\n",
    "plt.scatter(month_list, toothpaste_sales, label='Toothpaste sales')\n",
    "plt.xlabel('Month Number')\n",
    "plt.ylabel('Number of sold items')\n",
    "plt.legend(loc='upper left')\n",
    "plt.title('Toothpaste sales')\n",
    "plt.xticks(month_list)\n",
    "plt.grid(True, linewidth=1, linestyle=\"--\")\n",
    "plt.show()"
   ]
  },
  {
   "cell_type": "code",
   "execution_count": 9,
   "metadata": {},
   "outputs": [],
   "source": [
    "# Answer to problem №6:\n",
    "\n",
    "x_data = np.linspace(-5, 5, num=50)\n",
    "y_data = 2.9 * np.sin(1.5 * x_data) + np.random.normal(size=50)\n",
    "\n",
    "def test_func(x, a, b):\n",
    "    return a * np.sin(b * x)"
   ]
  },
  {
   "cell_type": "code",
   "execution_count": 10,
   "metadata": {},
   "outputs": [
    {
     "name": "stdout",
     "output_type": "stream",
     "text": [
      "[2.73741812 1.54400902]\n"
     ]
    }
   ],
   "source": [
    "params, params_covariance = curve_fit(test_func, x_data, y_data, p0=[2, 2])\n",
    "print(params)"
   ]
  },
  {
   "cell_type": "code",
   "execution_count": 11,
   "metadata": {},
   "outputs": [
    {
     "data": {
      "image/png": "[encoded data removed]",
      "text/plain": [
       "<Figure size 432x288 with 1 Axes>"
      ]
     },
     "metadata": {
      "needs_background": "light"
     },
     "output_type": "display_data"
    }
   ],
   "source": [
    "plt.figure(figsize=(6, 4))\n",
    "plt.scatter(x_data, y_data, label='Data')\n",
    "plt.plot(x_data,\n",
    "         test_func(x_data, params[0], params[1]),\n",
    "         label='Fitted function')\n",
    "\n",
    "plt.legend(loc='best')\n",
    "\n",
    "plt.show()"
   ]
  },
  {
   "cell_type": "code",
   "execution_count": null,
   "metadata": {},
   "outputs": [],
   "source": []
  }
 ],
 "metadata": {
  "kernelspec": {
   "display_name": "ml-lpi",
   "language": "python",
   "name": "ml-lpi"
  },
  "language_info": {
   "codemirror_mode": {
    "name": "ipython",
    "version": 3
   },
   "file_extension": ".py",
   "mimetype": "text/x-python",
   "name": "python",
   "nbconvert_exporter": "python",
   "pygments_lexer": "ipython3",
   "version": "3.8.5"
  }
 },
 "nbformat": 4,
 "nbformat_minor": 4
}
