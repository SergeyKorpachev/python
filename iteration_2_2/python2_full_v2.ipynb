{
 "cells": [
  {
   "cell_type": "markdown",
   "metadata": {},
   "source": [
    "<center>\n",
    "<img src=\"https://i.redd.it/nva5b9dq8r631.png\" alt=\"Python-MEME\" width=\"500\" height=\"600\">\n",
    "</center>"
   ]
  },
  {
   "cell_type": "code",
   "execution_count": null,
   "metadata": {},
   "outputs": [],
   "source": [
    "# If the picture does not work for you (there is no Internet connection),\n",
    "# you can uncomment these two lines below and then run the cell. The picture should appear.\n",
    "# These two:\n",
    "\n",
    "#from IPython.display import Image\n",
    "#Image(\"./images/nva5b9dq8r631.png\")"
   ]
  },
  {
   "cell_type": "markdown",
   "metadata": {
    "colab_type": "text",
    "id": "I_J_iM9Hjwc3"
   },
   "source": [
    "## Part I: Jupyter system recap"
   ]
  },
  {
   "cell_type": "markdown",
   "metadata": {
    "colab_type": "text",
    "id": "De2BsSxGJXVV"
   },
   "source": [
    "**The most important feature** of jupyter notebooks / labs for this course: \n",
    "* if you're typing something, press `Tab` to see automatic suggestions, use arrow keys + enter to pick one.\n",
    "* if you move your cursor inside some function and press `Shift + Tab`, you'll get a help window."
   ]
  },
  {
   "cell_type": "code",
   "execution_count": null,
   "metadata": {
    "colab": {},
    "colab_type": "code",
    "id": "5oQdc9MIJXVW"
   },
   "outputs": [],
   "source": [
    "import math\n",
    "\n",
    "# It is good practice to declare all required libraries (modules) at the beginning of your code.\n",
    "# You can forget about this in the study notebook."
   ]
  },
  {
   "cell_type": "code",
   "execution_count": null,
   "metadata": {
    "colab": {},
    "colab_type": "code",
    "id": "4FZxJodmJXVZ",
    "outputId": "55f8df7a-cb4f-4c92-8955-7d545a0df062"
   },
   "outputs": [],
   "source": [
    "m                  # Tab\n",
    "\n",
    "math.              # Tab\n",
    "\n",
    "math.atan2         # Shift and Tab for docs\n",
    "\n",
    "math.atan2(1, 2)  # atan2(y, x)"
   ]
  },
  {
   "cell_type": "code",
   "execution_count": null,
   "metadata": {},
   "outputs": [],
   "source": [
    "# Return the arctangent of x, in radians.\n",
    "\n",
    "math.atan(0.5)"
   ]
  },
  {
   "cell_type": "code",
   "execution_count": null,
   "metadata": {},
   "outputs": [],
   "source": [
    "# Return atan(y / x), in radians. The result is between -pi and pi.\n",
    "\n",
    "math.atan2(1, 2)"
   ]
  },
  {
   "cell_type": "code",
   "execution_count": null,
   "metadata": {},
   "outputs": [],
   "source": [
    "math.atan(0.25)"
   ]
  },
  {
   "cell_type": "code",
   "execution_count": null,
   "metadata": {},
   "outputs": [],
   "source": [
    "math.atan2(1, 4)"
   ]
  },
  {
   "cell_type": "code",
   "execution_count": null,
   "metadata": {},
   "outputs": [],
   "source": [
    "del math"
   ]
  },
  {
   "cell_type": "code",
   "execution_count": null,
   "metadata": {},
   "outputs": [],
   "source": [
    "ma  # Press Tab\n",
    "\n",
    "# Where is the module 'math'?\n",
    "# Do you understand it?"
   ]
  },
  {
   "cell_type": "markdown",
   "metadata": {
    "colab_type": "text",
    "id": "-cY1PEyznRYw"
   },
   "source": [
    "## Part II: Numpy and vectorized computing"
   ]
  },
  {
   "cell_type": "markdown",
   "metadata": {
    "colab_type": "text",
    "id": "4luG6vWXJXWU"
   },
   "source": [
    "Almost any machine learning model requires some computational heavy lifting usually involving linear algebra problems. Unfortunately, raw python is terrible at this because each operation is interpreted at runtime. \n",
    "\n",
    "So instead, we'll use `NumPy` - a library that lets you run blazing fast computation with vectors, matrices and other tensors. The object here is `numpy.ndarray`."
   ]
  },
  {
   "cell_type": "markdown",
   "metadata": {},
   "source": [
    "https://numpy.org\n",
    "\n",
    "https://numpy.org/devdocs/user/quickstart.html\n",
    "\n",
    "https://numpy.org/doc/stable/user/basics.creation.html\n",
    "\n",
    "https://www.w3schools.com/python/numpy_intro.asp\n",
    "\n",
    "https://github.com/rougier/numpy-tutorial\n",
    "\n",
    "https://www.datacamp.com/community/tutorials/python-numpy-tutorial\n",
    "\n",
    "https://www.guru99.com/numpy-tutorial.html"
   ]
  },
  {
   "cell_type": "markdown",
   "metadata": {},
   "source": [
    "### Creation of arrays and operations with them"
   ]
  },
  {
   "cell_type": "code",
   "execution_count": null,
   "metadata": {
    "colab": {},
    "colab_type": "code",
    "id": "gcTokNL-JXWV",
    "outputId": "a28fbfc7-d6fc-4c65-a078-4a6c86c2f2bc"
   },
   "outputs": [],
   "source": [
    "import numpy as np\n",
    "\n",
    "# We can initialize NumPy arrays from nested Python lists, and access elements using square brackets\n",
    "a = np.array([1, 2, 3, 4, 5])\n",
    "b = np.array([5, 4, 3, 2, 1])\n",
    "print(\"a = \", a)\n",
    "print(\"b = \", b)\n",
    "\n",
    "# Math and boolean operations can be applied to each element of an array\n",
    "print(\"a + 1 = \", a + 1)\n",
    "print(\"a * 2 = \", a * 2)\n",
    "print(\"a == 2 \", a == 2)\n",
    "\n",
    "# And corresponding elements of two (or more) arrays\n",
    "print(\"a + b = \", a + b)\n",
    "print(\"a * b = \", a * b)\n",
    "print(\"a / b = \", a / b)"
   ]
  },
  {
   "cell_type": "code",
   "execution_count": null,
   "metadata": {},
   "outputs": [],
   "source": [
    "type(a)"
   ]
  },
  {
   "cell_type": "markdown",
   "metadata": {},
   "source": [
    "https://webcourses.ucf.edu/courses/1249560/pages/python-lists-vs-numpy-arrays-what-is-the-difference"
   ]
  },
  {
   "cell_type": "code",
   "execution_count": null,
   "metadata": {},
   "outputs": [],
   "source": [
    "x = np.array([[1, 2.0], [0, 0],\n",
    "              (1 + 1j, 3.)])  # Note mix of lists and tuple, and mix of types\n",
    "x"
   ]
  },
  {
   "cell_type": "code",
   "execution_count": null,
   "metadata": {},
   "outputs": [],
   "source": [
    "x = np.array([[1, 2.0], [0, 0], (1 + 1j, 3.)], dtype=np.int)"
   ]
  },
  {
   "cell_type": "code",
   "execution_count": null,
   "metadata": {},
   "outputs": [],
   "source": [
    "b = np.array([[1.5, 2, 3], [4, 5, 6]], dtype=np.complex)\n",
    "b"
   ]
  },
  {
   "cell_type": "code",
   "execution_count": null,
   "metadata": {},
   "outputs": [],
   "source": [
    "a1 = np.array([1, 2, 3, 4, 5])\n",
    "b1 = np.array([5, 4, 3, 2])\n",
    "\n",
    "print(\"a1 + b1 = \", a1 + b1)\n",
    "print(\"a1 * b1 = \", a1 * b1)"
   ]
  },
  {
   "cell_type": "code",
   "execution_count": null,
   "metadata": {
    "colab": {},
    "colab_type": "code",
    "id": "40slF_H1JXWY",
    "outputId": "c66e0cb0-484d-464e-c79a-49b697936957"
   },
   "outputs": [],
   "source": [
    "a = np.array([1, 2, 3, 4, 5])\n",
    "b = np.array([5, 4, 3, 2, 1])\n",
    "\n",
    "c = (a * b) / 2\n",
    "c"
   ]
  },
  {
   "cell_type": "markdown",
   "metadata": {},
   "source": [
    "https://cs231n.github.io/python-numpy-tutorial/#numpy"
   ]
  },
  {
   "cell_type": "markdown",
   "metadata": {
    "colab_type": "text",
    "id": "uHV6HlQgoL-r"
   },
   "source": [
    "There are several functions to create arrays of zeros, ones, ascending/descending numbers etc.:"
   ]
  },
  {
   "cell_type": "code",
   "execution_count": null,
   "metadata": {
    "colab": {},
    "colab_type": "code",
    "id": "dCqkfcCWoi1I",
    "outputId": "594a0667-b25b-4800-826b-57b03668b632"
   },
   "outputs": [],
   "source": [
    "np.zeros(shape=(3, 4))"
   ]
  },
  {
   "cell_type": "code",
   "execution_count": null,
   "metadata": {},
   "outputs": [],
   "source": [
    "np.ones(shape=(2, 5))"
   ]
  },
  {
   "cell_type": "code",
   "execution_count": null,
   "metadata": {},
   "outputs": [],
   "source": [
    "4 * np.ones(shape=(2, 5))"
   ]
  },
  {
   "cell_type": "code",
   "execution_count": null,
   "metadata": {
    "colab": {},
    "colab_type": "code",
    "id": "NAee3VdtorX8",
    "outputId": "652db431-4fde-42cf-b7ef-8775a675da5a"
   },
   "outputs": [],
   "source": [
    "np.ones(shape=(2, 5), dtype=np.bool)"
   ]
  },
  {
   "cell_type": "code",
   "execution_count": null,
   "metadata": {},
   "outputs": [],
   "source": [
    "np.full((2, 2), 99)"
   ]
  },
  {
   "cell_type": "code",
   "execution_count": null,
   "metadata": {},
   "outputs": [],
   "source": [
    "np.eye(4)\n",
    "\n",
    "# Return a 2-D array with ones on the diagonal and zeros elsewhere."
   ]
  },
  {
   "cell_type": "code",
   "execution_count": null,
   "metadata": {},
   "outputs": [],
   "source": [
    "np.random.random((2, 2))"
   ]
  },
  {
   "cell_type": "markdown",
   "metadata": {},
   "source": [
    "### Sorting and combining arrays"
   ]
  },
  {
   "cell_type": "code",
   "execution_count": null,
   "metadata": {},
   "outputs": [],
   "source": [
    "array = np.array([7, 5, 3, 2, 6, 1, 4])\n",
    "array"
   ]
  },
  {
   "cell_type": "code",
   "execution_count": null,
   "metadata": {},
   "outputs": [],
   "source": [
    "sorted_array = np.sort(array)\n",
    "sorted_array"
   ]
  },
  {
   "cell_type": "code",
   "execution_count": null,
   "metadata": {},
   "outputs": [],
   "source": [
    "reverse_array = sorted_array[::-1]\n",
    "reverse_array"
   ]
  },
  {
   "cell_type": "code",
   "execution_count": null,
   "metadata": {
    "colab": {},
    "colab_type": "code",
    "id": "ymW4lMqpozFn",
    "outputId": "0c25aa41-d137-4b15-bc9f-1ed5afdf6b4a"
   },
   "outputs": [],
   "source": [
    "np.arange(3, 15, 2)  # start, stop, step"
   ]
  },
  {
   "cell_type": "markdown",
   "metadata": {},
   "source": [
    "https://numpy.org/doc/stable/reference/generated/numpy.linspace.html"
   ]
  },
  {
   "cell_type": "code",
   "execution_count": null,
   "metadata": {
    "colab": {},
    "colab_type": "code",
    "id": "KQi-FGqto_ty",
    "outputId": "78d38fef-c802-4fe8-9f37-44c9098206b5"
   },
   "outputs": [],
   "source": [
    "np.linspace(0, 10, 11)  # Divide [0, 10] interval into 11 points"
   ]
  },
  {
   "cell_type": "code",
   "execution_count": null,
   "metadata": {
    "colab": {},
    "colab_type": "code",
    "id": "7d7MlvuqpJ0S",
    "outputId": "73314487-1564-4709-da9e-78a59248769a"
   },
   "outputs": [],
   "source": [
    "np.logspace(1, 10, base=2, dtype=np.int64)  # Base 2, number = 50"
   ]
  },
  {
   "cell_type": "code",
   "execution_count": null,
   "metadata": {},
   "outputs": [],
   "source": [
    "np.logspace(1, 10, 10, base=2)  # Base 2, number = 10"
   ]
  },
  {
   "cell_type": "code",
   "execution_count": null,
   "metadata": {},
   "outputs": [],
   "source": [
    "a = np.array([[1, 2, 3, 4], [5, 6, 7, 8], [9, 10, 11, 12]])\n",
    "a"
   ]
  },
  {
   "cell_type": "code",
   "execution_count": null,
   "metadata": {},
   "outputs": [],
   "source": [
    "a.shape"
   ]
  },
  {
   "cell_type": "code",
   "execution_count": null,
   "metadata": {},
   "outputs": [],
   "source": [
    "# Use slicing to pull out the subarray consisting of the first 2 rows\n",
    "# and columns 1 and 2; b is the following array of shape (2, 2):\n",
    "\n",
    "b = a[:2, 1:3]\n",
    "b"
   ]
  },
  {
   "cell_type": "code",
   "execution_count": null,
   "metadata": {},
   "outputs": [],
   "source": [
    "b = a[:3, 0:4]\n",
    "b"
   ]
  },
  {
   "cell_type": "code",
   "execution_count": null,
   "metadata": {},
   "outputs": [],
   "source": [
    "b.shape"
   ]
  },
  {
   "cell_type": "code",
   "execution_count": null,
   "metadata": {},
   "outputs": [],
   "source": [
    "a = np.array([[1, 2, 3, 4], [5, 6, 7, 8], [9, 10, 11, 12]])\n",
    "a"
   ]
  },
  {
   "cell_type": "code",
   "execution_count": null,
   "metadata": {},
   "outputs": [],
   "source": [
    "# Two ways of accessing the data in the middle row of the array.\n",
    "# Mixing integer indexing with slices yields an array of lower rank,\n",
    "# while using only slices yields an array of the same rank as the\n",
    "# original array:\n",
    "\n",
    "row_r1 = a[1, :]  # Rank 1 view of the second row of a\n",
    "row_r1"
   ]
  },
  {
   "cell_type": "code",
   "execution_count": null,
   "metadata": {},
   "outputs": [],
   "source": [
    "row_r1.shape"
   ]
  },
  {
   "cell_type": "code",
   "execution_count": null,
   "metadata": {},
   "outputs": [],
   "source": [
    "row_r2 = a[1:2, :]  # Rank 2 view of the second row of a\n",
    "row_r2"
   ]
  },
  {
   "cell_type": "code",
   "execution_count": null,
   "metadata": {},
   "outputs": [],
   "source": [
    "row_r2.shape"
   ]
  },
  {
   "cell_type": "code",
   "execution_count": null,
   "metadata": {},
   "outputs": [],
   "source": [
    "row_r1 = a[1, 1:3]  # Rank 1 view of the second row of a\n",
    "row_r1"
   ]
  },
  {
   "cell_type": "code",
   "execution_count": null,
   "metadata": {},
   "outputs": [],
   "source": [
    "a = np.array([[1, 2], [3, 4], [5, 6]])\n",
    "\n",
    "bool_idx = (a > 2)\n",
    "\n",
    "bool_idx"
   ]
  },
  {
   "cell_type": "markdown",
   "metadata": {
    "colab_type": "text",
    "id": "C4hb3shSpdBf"
   },
   "source": [
    "You can easily reshape arrays:"
   ]
  },
  {
   "cell_type": "markdown",
   "metadata": {},
   "source": [
    "https://www.w3schools.com/python/numpy_array_reshape.asp"
   ]
  },
  {
   "cell_type": "code",
   "execution_count": null,
   "metadata": {},
   "outputs": [],
   "source": [
    "np.arange(24)"
   ]
  },
  {
   "cell_type": "code",
   "execution_count": null,
   "metadata": {
    "colab": {},
    "colab_type": "code",
    "id": "83xNeecTphm4",
    "outputId": "e6a3e533-8323-4afb-d50a-f4ac04058b26"
   },
   "outputs": [],
   "source": [
    "np.arange(24).reshape(6, 4)"
   ]
  },
  {
   "cell_type": "code",
   "execution_count": null,
   "metadata": {},
   "outputs": [],
   "source": [
    "np.arange(24).reshape(2, 3, 4)"
   ]
  },
  {
   "cell_type": "code",
   "execution_count": null,
   "metadata": {},
   "outputs": [],
   "source": [
    "np.arange(24).reshape(4, 3, 2)"
   ]
  },
  {
   "cell_type": "markdown",
   "metadata": {
    "colab_type": "text",
    "id": "F_evgKCtpzpk"
   },
   "source": [
    "or add dimensions of size 1:"
   ]
  },
  {
   "cell_type": "markdown",
   "metadata": {},
   "source": [
    "https://numpy.org/doc/stable/reference/arrays.indexing.html\n",
    "    \n",
    "https://www.edureka.co/community/66684/how-does-numpy-newaxis-work-and-when-to-use-it\n",
    "\n",
    "https://www.programcreek.com/python/example/12692/numpy.newaxis"
   ]
  },
  {
   "cell_type": "code",
   "execution_count": null,
   "metadata": {
    "colab": {},
    "colab_type": "code",
    "id": "It_JTbIiqCTH",
    "outputId": "9f4bacf9-a57f-4558-cab0-3344c0ebcc13"
   },
   "outputs": [],
   "source": [
    "print(np.arange(3)[:, np.newaxis])"
   ]
  },
  {
   "cell_type": "code",
   "execution_count": null,
   "metadata": {},
   "outputs": [],
   "source": [
    "print(np.arange(3)[np.newaxis, :])"
   ]
  },
  {
   "cell_type": "code",
   "execution_count": null,
   "metadata": {
    "colab": {},
    "colab_type": "code",
    "id": "VmO2UtjtqcEU",
    "outputId": "2fa55bf8-87b8-4e06-c852-6b820c723f9e"
   },
   "outputs": [],
   "source": [
    "np.arange(3)[:, np.newaxis] + np.arange(3)[np.newaxis, :]"
   ]
  },
  {
   "cell_type": "markdown",
   "metadata": {
    "colab_type": "text",
    "id": "pfmFlVopqzId"
   },
   "source": [
    "There are also several ways to stack arrays together:"
   ]
  },
  {
   "cell_type": "code",
   "execution_count": null,
   "metadata": {},
   "outputs": [],
   "source": [
    "matrix1 = np.arange(50).reshape(10, 5)\n",
    "matrix1"
   ]
  },
  {
   "cell_type": "code",
   "execution_count": null,
   "metadata": {},
   "outputs": [],
   "source": [
    "matrix2 = -np.arange(20).reshape(10, 2)\n",
    "matrix2"
   ]
  },
  {
   "cell_type": "code",
   "execution_count": null,
   "metadata": {
    "colab": {},
    "colab_type": "code",
    "id": "WzfKzymGq3wX",
    "outputId": "609696dc-a04f-4d7c-dd7d-1a08588e7e78"
   },
   "outputs": [],
   "source": [
    "np.concatenate([matrix1, matrix2],\n",
    "               axis=1)  # Join a sequence of arrays along an existing axis.\n",
    "\n",
    "# About axis. The axis along which the arrays will be joined. If an axis is None, arrays are flattened before use.\n",
    "# Default is 0.\n",
    "\n",
    "# Axes are defined for arrays with more than one dimension.\n",
    "# A 2-dimensional array has two corresponding axes: the first running vertically downwards across rows (axis 0),\n",
    "# and the second running horizontally across columns (axis 1)."
   ]
  },
  {
   "cell_type": "code",
   "execution_count": null,
   "metadata": {},
   "outputs": [],
   "source": [
    "# Many operations can take place along one of these axes.\n",
    "# For example, we can sum each row of an array, in which case we operate along with columns, or axis 1:\n",
    "\n",
    "x = np.arange(12).reshape(3, 4)\n",
    "x"
   ]
  },
  {
   "cell_type": "code",
   "execution_count": null,
   "metadata": {},
   "outputs": [],
   "source": [
    "x.sum(axis=1)  # See below about 'sum'."
   ]
  },
  {
   "cell_type": "code",
   "execution_count": null,
   "metadata": {},
   "outputs": [],
   "source": [
    "x.sum(axis=0)"
   ]
  },
  {
   "cell_type": "code",
   "execution_count": null,
   "metadata": {},
   "outputs": [],
   "source": [
    "x.sum(axis=-1)"
   ]
  },
  {
   "cell_type": "code",
   "execution_count": null,
   "metadata": {},
   "outputs": [],
   "source": [
    "matrix1 = np.arange(50).reshape(10, 5)\n",
    "matrix2 = -np.arange(20).reshape(10, 2)\n",
    "\n",
    "np.concatenate([matrix1, matrix2])  # Default is 0."
   ]
  },
  {
   "cell_type": "markdown",
   "metadata": {
    "colab_type": "text",
    "id": "MulZJhPBr6ie"
   },
   "source": [
    "Any matrix can be transposed easily:"
   ]
  },
  {
   "cell_type": "code",
   "execution_count": null,
   "metadata": {
    "colab": {},
    "colab_type": "code",
    "id": "KIeOCQ-wr_Q6",
    "outputId": "d34c4f8b-6a13-4eda-8e6a-34e85c1b5bb3"
   },
   "outputs": [],
   "source": [
    "matrix2.T  # The transposed array."
   ]
  },
  {
   "cell_type": "markdown",
   "metadata": {},
   "source": [
    "### Problem №0 (all answers are at the end of the notebook):\n",
    "\n",
    "Write a NumPy program to compute the determinant of a given square array.\n",
    "\n",
    "You have a = np.array([[1, 0], [1, 2]])."
   ]
  },
  {
   "cell_type": "markdown",
   "metadata": {},
   "source": [
    "### Problem №1 (all answers are at the end of the notebook):\n",
    "\n",
    "You need to replace the middle column in the array with a new column.\n",
    "\n",
    "You have sampleArray = np.array([[34, 43, 73], [82, 22, 12], [53, 94, 66]]) \n",
    "and newColumn = np.array([[10, 10, 10]])."
   ]
  },
  {
   "cell_type": "markdown",
   "metadata": {
    "colab_type": "text",
    "id": "iD6NjAugj_3y"
   },
   "source": [
    "## Part III: Pandas"
   ]
  },
  {
   "cell_type": "markdown",
   "metadata": {
    "colab_type": "text",
    "id": "K0OYaO-6JXVb"
   },
   "source": [
    "Pandas is a library that helps you load the data, prepare it and perform some lightweight analysis. The object here is the `pandas.DataFrame`."
   ]
  },
  {
   "cell_type": "markdown",
   "metadata": {},
   "source": [
    "https://pandas.pydata.org\n",
    "\n",
    "https://pandas.pydata.org/docs/\n",
    "\n",
    "https://pandas.pydata.org/pandas-docs/stable/user_guide/10min.html\n",
    "\n",
    "https://www.kaggle.com/learn/pandas # Remember this site (www.kaggle.com).\n",
    "\n",
    "https://www.datacamp.com/community/tutorials/pandas-tutorial-dataframe-python"
   ]
  },
  {
   "cell_type": "markdown",
   "metadata": {},
   "source": [
    "### Creating and reading data with pandas"
   ]
  },
  {
   "cell_type": "code",
   "execution_count": null,
   "metadata": {},
   "outputs": [],
   "source": [
    "a = np.random.normal(size=100)\n",
    "a"
   ]
  },
  {
   "cell_type": "code",
   "execution_count": null,
   "metadata": {},
   "outputs": [],
   "source": [
    "import pandas as pd\n",
    "\n",
    "dataframe = pd.DataFrame(a)\n",
    "dataframe"
   ]
  },
  {
   "cell_type": "code",
   "execution_count": null,
   "metadata": {
    "scrolled": false
   },
   "outputs": [],
   "source": [
    "a = np.random.normal(size=20)\n",
    "df = pd.DataFrame(a, columns=['Text'], dtype=np.complex)\n",
    "df"
   ]
  },
  {
   "cell_type": "code",
   "execution_count": null,
   "metadata": {},
   "outputs": [],
   "source": [
    "df = pd.DataFrame(np.array([[1, 2, 3], [4, 5, 6], [7, 8, 9]]),\n",
    "                  columns=['A', 'B', 'C'])\n",
    "df"
   ]
  },
  {
   "cell_type": "code",
   "execution_count": null,
   "metadata": {},
   "outputs": [],
   "source": [
    "df.A"
   ]
  },
  {
   "cell_type": "code",
   "execution_count": null,
   "metadata": {},
   "outputs": [],
   "source": [
    "type(df)"
   ]
  },
  {
   "cell_type": "code",
   "execution_count": null,
   "metadata": {},
   "outputs": [],
   "source": [
    "type(df.A)"
   ]
  },
  {
   "cell_type": "code",
   "execution_count": null,
   "metadata": {},
   "outputs": [],
   "source": [
    "a_array = np.array([1, 2, 3, 4, 5, 6, 7, 8, 9, 10, 11])\n",
    "a_array"
   ]
  },
  {
   "cell_type": "code",
   "execution_count": null,
   "metadata": {},
   "outputs": [],
   "source": [
    "type(a_array)"
   ]
  },
  {
   "cell_type": "code",
   "execution_count": null,
   "metadata": {},
   "outputs": [],
   "source": [
    "# https://pandas.pydata.org/pandas-docs/stable/reference/api/pandas.Series.html\n",
    "\n",
    "a_series = pd.Series(a_array, name='a_array', dtype='float32')\n",
    "a_series"
   ]
  },
  {
   "cell_type": "code",
   "execution_count": null,
   "metadata": {},
   "outputs": [],
   "source": [
    "type(a_series)"
   ]
  },
  {
   "cell_type": "code",
   "execution_count": null,
   "metadata": {},
   "outputs": [],
   "source": [
    "a_dataframe = pd.DataFrame({'a_series': a_series})\n",
    "a_dataframe"
   ]
  },
  {
   "cell_type": "code",
   "execution_count": null,
   "metadata": {},
   "outputs": [],
   "source": [
    "type(a_dataframe)"
   ]
  },
  {
   "cell_type": "code",
   "execution_count": null,
   "metadata": {
    "colab": {},
    "colab_type": "code",
    "id": "rMpClKdKzasG",
    "outputId": "ff828e57-ec45-44b7-de9d-4373b89bec1a"
   },
   "outputs": [],
   "source": [
    "# If you don't have an Internet connection,\n",
    "# you can uncomment these two lines below and then run them.\n",
    "# The file will be uploaded to the place where you are now.\n",
    "# And command 'mv' moves the file to 'data'.\n",
    "# These lines:\n",
    "\n",
    "#!wget -i https://github.com/HSE-LAMBDA/MLatMIPS-2020/raw/master/Introduction/train.csv\n",
    "#!mv train.csv ./data/."
   ]
  },
  {
   "cell_type": "code",
   "execution_count": null,
   "metadata": {},
   "outputs": [],
   "source": [
    "!ls -lhtr ./data/train.csv\n",
    "\n",
    "# csv is comma-separated values.\n",
    "\n",
    "# https://www.howtogeek.com/348960/what-is-a-csv-file-and-how-do-i-open-it/"
   ]
  },
  {
   "cell_type": "code",
   "execution_count": null,
   "metadata": {
    "colab": {},
    "colab_type": "code",
    "id": "G36oVo3RJXVc"
   },
   "outputs": [],
   "source": [
    "import pandas as pd\n",
    "data = pd.read_csv(\"./data/train.csv\")\n",
    "\n",
    "# This is Titanic dataset."
   ]
  },
  {
   "cell_type": "code",
   "execution_count": null,
   "metadata": {
    "scrolled": false
   },
   "outputs": [],
   "source": [
    "data"
   ]
  },
  {
   "cell_type": "code",
   "execution_count": null,
   "metadata": {},
   "outputs": [],
   "source": [
    "data = pd.read_csv(\"./data/train.csv\", index_col='PassengerId')"
   ]
  },
  {
   "cell_type": "code",
   "execution_count": null,
   "metadata": {},
   "outputs": [],
   "source": [
    "data"
   ]
  },
  {
   "cell_type": "code",
   "execution_count": null,
   "metadata": {},
   "outputs": [],
   "source": [
    "data.shape"
   ]
  },
  {
   "cell_type": "code",
   "execution_count": null,
   "metadata": {},
   "outputs": [],
   "source": [
    "data.shape[1]"
   ]
  },
  {
   "cell_type": "code",
   "execution_count": null,
   "metadata": {},
   "outputs": [],
   "source": [
    "data.  # Press Tab"
   ]
  },
  {
   "cell_type": "markdown",
   "metadata": {},
   "source": [
    "### Referring to data items"
   ]
  },
  {
   "cell_type": "code",
   "execution_count": null,
   "metadata": {
    "colab": {},
    "colab_type": "code",
    "id": "gEvLO4nvJXVf",
    "outputId": "0dfd3fdd-90f6-4d90-bdb5-ab8e6ac15272"
   },
   "outputs": [],
   "source": [
    "head = data[:10]\n",
    "head"
   ]
  },
  {
   "cell_type": "code",
   "execution_count": null,
   "metadata": {},
   "outputs": [],
   "source": [
    "type(head)"
   ]
  },
  {
   "cell_type": "code",
   "execution_count": null,
   "metadata": {},
   "outputs": [],
   "source": [
    "# Return the first n rows.\n",
    "\n",
    "data.head()"
   ]
  },
  {
   "cell_type": "code",
   "execution_count": null,
   "metadata": {},
   "outputs": [],
   "source": [
    "data.head(10)"
   ]
  },
  {
   "cell_type": "code",
   "execution_count": null,
   "metadata": {},
   "outputs": [],
   "source": [
    "# Return the last n rows.\n",
    "\n",
    "data.tail()"
   ]
  },
  {
   "cell_type": "code",
   "execution_count": null,
   "metadata": {},
   "outputs": [],
   "source": [
    "data.tail(10)"
   ]
  },
  {
   "cell_type": "code",
   "execution_count": null,
   "metadata": {},
   "outputs": [],
   "source": [
    "# Return a random sample of items from an axis of the object.\n",
    "\n",
    "data.sample()"
   ]
  },
  {
   "cell_type": "code",
   "execution_count": null,
   "metadata": {},
   "outputs": [],
   "source": [
    "data.sample(5)"
   ]
  },
  {
   "cell_type": "markdown",
   "metadata": {
    "colab_type": "text",
    "id": "EDHw3sHgJXVj"
   },
   "source": [
    "#### About the data\n",
    "Here are some of the columns\n",
    "* Name - a string with a person's full name\n",
    "* Survived - 1 if a person survived the shipwreck, 0 otherwise.\n",
    "* Pclass - passenger class. Pclass == 3 is cheap'n'cheerful, Pclass == 1 is for moneybags.\n",
    "* Sex - a person's gender\n",
    "* Age - age in years, if available\n",
    "* Sibsp - number of siblings on a ship\n",
    "* Parch - number of parents on a ship\n",
    "* Fare - ticket cost\n",
    "* Embarked - the port where the passenger embarked\n",
    " * C = Cherbourg; Q = Queenstown; S = Southampton"
   ]
  },
  {
   "cell_type": "code",
   "execution_count": null,
   "metadata": {
    "colab": {},
    "colab_type": "code",
    "id": "PWmRBFP6JXVl",
    "outputId": "a4ef0fb9-83d9-48f4-ffb2-ee3bc26c8d09"
   },
   "outputs": [],
   "source": [
    "# Table dimensions\n",
    "\n",
    "print(\"len(data) = \", len(data))\n",
    "print(\"data.shape = \", data.shape)"
   ]
  },
  {
   "cell_type": "code",
   "execution_count": null,
   "metadata": {
    "colab": {},
    "colab_type": "code",
    "id": "dt6itIHBJXVn",
    "outputId": "8ac84e24-1f7c-424b-faa5-c8596a0b2a08"
   },
   "outputs": [],
   "source": [
    "# Select a single row\n",
    "\n",
    "print(data.loc[4])  # See below about 'loc'"
   ]
  },
  {
   "cell_type": "code",
   "execution_count": null,
   "metadata": {},
   "outputs": [],
   "source": [
    "a = data.loc[4]\n",
    "type(a)"
   ]
  },
  {
   "cell_type": "code",
   "execution_count": null,
   "metadata": {
    "colab": {},
    "colab_type": "code",
    "id": "wdpiKMr7JXVq",
    "outputId": "32fb4495-a3be-4a68-a240-27f4d7a2f391"
   },
   "outputs": [],
   "source": [
    "# Select a single column.\n",
    "\n",
    "ages = data[\"Age\"]\n",
    "print(ages[:10])  # Alternatively: data.Age"
   ]
  },
  {
   "cell_type": "code",
   "execution_count": null,
   "metadata": {},
   "outputs": [],
   "source": [
    "data.Age[:10]"
   ]
  },
  {
   "cell_type": "code",
   "execution_count": null,
   "metadata": {
    "colab": {},
    "colab_type": "code",
    "id": "-ao3OhDtJXVu",
    "outputId": "c7481514-d3b7-4090-bd68-4b9b64cb2044"
   },
   "outputs": [],
   "source": [
    "# Select several columns and rows at once\n",
    "\n",
    "data.loc[5:10, (\"Fare\",\n",
    "                \"Pclass\")]  # Alternatively: data[[\"Fare\", \"Pclass\"]].loc[5:10]"
   ]
  },
  {
   "cell_type": "code",
   "execution_count": null,
   "metadata": {},
   "outputs": [],
   "source": [
    "data[[\"Fare\", \"Pclass\"]].loc[5:10]"
   ]
  },
  {
   "cell_type": "code",
   "execution_count": null,
   "metadata": {},
   "outputs": [],
   "source": [
    "data[data[\"Sex\"] == 'female']"
   ]
  },
  {
   "cell_type": "code",
   "execution_count": null,
   "metadata": {},
   "outputs": [],
   "source": [
    "data[data[\"Pclass\"] == 3]"
   ]
  },
  {
   "cell_type": "code",
   "execution_count": null,
   "metadata": {},
   "outputs": [],
   "source": [
    "data[data[\"Pclass\"] < 3]"
   ]
  },
  {
   "cell_type": "markdown",
   "metadata": {
    "colab_type": "text",
    "id": "h7jqzyjLp9qe"
   },
   "source": [
    "#### `loc` vs `iloc`"
   ]
  },
  {
   "cell_type": "markdown",
   "metadata": {
    "colab_type": "text",
    "id": "qR-MSiiiqDB4"
   },
   "source": [
    "There are two ways of indexing the rows in pandas:\n",
    " *   by index column values (`PassengerId` in our case) – use `data.loc` for that\n",
    " *   by positional index - use `data.iloc` for that"
   ]
  },
  {
   "cell_type": "markdown",
   "metadata": {
    "colab_type": "text",
    "id": "uXCOFn0Fqr1M"
   },
   "source": [
    "Note that index column starts from 1, so positional index 0 will correspond to index column value 1, positional 1 to index column value 2, and so on:"
   ]
  },
  {
   "cell_type": "markdown",
   "metadata": {},
   "source": [
    "https://pandas.pydata.org/pandas-docs/stable/user_guide/indexing.html\n",
    "    \n",
    "https://www.analyticsvidhya.com/blog/2020/02/loc-iloc-pandas/\n",
    "    \n",
    "https://stackoverflow.com/questions/31593201/how-are-iloc-and-loc-different"
   ]
  },
  {
   "cell_type": "code",
   "execution_count": null,
   "metadata": {},
   "outputs": [],
   "source": [
    "data.index"
   ]
  },
  {
   "cell_type": "code",
   "execution_count": null,
   "metadata": {
    "colab": {},
    "colab_type": "code",
    "id": "PWD9vfcIqjAH",
    "outputId": "f0fcadb4-d953-4c98-f9cb-80e93293ba01"
   },
   "outputs": [],
   "source": [
    "print(data.iloc[0])"
   ]
  },
  {
   "cell_type": "code",
   "execution_count": null,
   "metadata": {},
   "outputs": [],
   "source": [
    "print(data.loc[1])"
   ]
  },
  {
   "cell_type": "markdown",
   "metadata": {
    "colab_type": "text",
    "id": "dZAezJgDJXV8"
   },
   "source": [
    "Pandas also have some basic data analysis tools. For one, you can quickly display statistical aggregates for each column using `.describe()`"
   ]
  },
  {
   "cell_type": "code",
   "execution_count": null,
   "metadata": {
    "colab": {},
    "colab_type": "code",
    "id": "yHtn-GlbJXV8",
    "outputId": "ae04329c-373e-4121-d03e-df30bf48861a"
   },
   "outputs": [],
   "source": [
    "data.describe()  # Generate descriptive statistics.\n",
    "\n",
    "# https://pandas.pydata.org/pandas-docs/stable/reference/api/pandas.DataFrame.describe.html"
   ]
  },
  {
   "cell_type": "code",
   "execution_count": null,
   "metadata": {},
   "outputs": [],
   "source": [
    "data[\"Sex\"].describe()"
   ]
  },
  {
   "cell_type": "markdown",
   "metadata": {},
   "source": [
    "### Operations with DataFrame data"
   ]
  },
  {
   "cell_type": "code",
   "execution_count": null,
   "metadata": {},
   "outputs": [],
   "source": [
    "df = pd.DataFrame([[4, 9]] * 3, columns=['A', 'B'])\n",
    "df"
   ]
  },
  {
   "cell_type": "code",
   "execution_count": null,
   "metadata": {},
   "outputs": [],
   "source": [
    "df.apply(np.sqrt)  # Apply a function along an axis of the DataFrame.\n",
    "\n",
    "# See below about connection NumPy and pandas"
   ]
  },
  {
   "cell_type": "code",
   "execution_count": null,
   "metadata": {},
   "outputs": [],
   "source": [
    "df.apply(np.sum, axis=0)"
   ]
  },
  {
   "cell_type": "code",
   "execution_count": null,
   "metadata": {},
   "outputs": [],
   "source": [
    "df.apply(np.sum, axis=1)"
   ]
  },
  {
   "cell_type": "code",
   "execution_count": null,
   "metadata": {},
   "outputs": [],
   "source": [
    "df.apply(lambda x: x, axis=1)"
   ]
  },
  {
   "cell_type": "code",
   "execution_count": null,
   "metadata": {},
   "outputs": [],
   "source": [
    "df = pd.DataFrame({\n",
    "    'A': range(1, 6),\n",
    "    'B': range(10, 0, -2),\n",
    "    'C': range(10, 5, -1)\n",
    "})\n",
    "\n",
    "df"
   ]
  },
  {
   "cell_type": "code",
   "execution_count": null,
   "metadata": {},
   "outputs": [],
   "source": [
    "df.query(\n",
    "    'A > B')  # Query the columns of a DataFrame with a boolean expression."
   ]
  },
  {
   "cell_type": "code",
   "execution_count": null,
   "metadata": {},
   "outputs": [],
   "source": [
    "# The previous expression is equivalent to\n",
    "\n",
    "df[df.A > df.B]"
   ]
  },
  {
   "cell_type": "code",
   "execution_count": null,
   "metadata": {},
   "outputs": [],
   "source": [
    "df.query('B == C')"
   ]
  },
  {
   "cell_type": "code",
   "execution_count": null,
   "metadata": {},
   "outputs": [],
   "source": [
    "# The previous expression is equivalent to\n",
    "\n",
    "df[df.B == df['C']]"
   ]
  },
  {
   "cell_type": "code",
   "execution_count": null,
   "metadata": {},
   "outputs": [],
   "source": [
    "df = pd.DataFrame({\"animal\": [\"dog\", \"pig\"], \"age\": [10, 20]})\n",
    "df"
   ]
  },
  {
   "cell_type": "code",
   "execution_count": null,
   "metadata": {},
   "outputs": [],
   "source": [
    "pd.eval(\"double_age = df.age * 2\", target=df)\n",
    "\n",
    "# Evaluate a Python expression as a string using various backends."
   ]
  },
  {
   "cell_type": "code",
   "execution_count": null,
   "metadata": {},
   "outputs": [],
   "source": [
    "df = pd.DataFrame({'A': range(1, 6), 'B': range(10, 0, -2)})\n",
    "df"
   ]
  },
  {
   "cell_type": "code",
   "execution_count": null,
   "metadata": {},
   "outputs": [],
   "source": [
    "df.eval('A + B')"
   ]
  },
  {
   "cell_type": "code",
   "execution_count": null,
   "metadata": {},
   "outputs": [],
   "source": [
    "df.eval('C = A + B')"
   ]
  },
  {
   "cell_type": "code",
   "execution_count": null,
   "metadata": {},
   "outputs": [],
   "source": [
    "df"
   ]
  },
  {
   "cell_type": "code",
   "execution_count": null,
   "metadata": {},
   "outputs": [],
   "source": [
    "df.eval('C = A + B', inplace=True)\n",
    "df"
   ]
  },
  {
   "cell_type": "code",
   "execution_count": null,
   "metadata": {},
   "outputs": [],
   "source": [
    "df"
   ]
  },
  {
   "cell_type": "code",
   "execution_count": null,
   "metadata": {},
   "outputs": [],
   "source": [
    "df.eval('''\n",
    " C = A + B\n",
    " D = A - B\n",
    " ''')"
   ]
  },
  {
   "cell_type": "code",
   "execution_count": null,
   "metadata": {},
   "outputs": [],
   "source": [
    "df = pd.DataFrame(columns=['A', 'B', 'C'])\n",
    "df"
   ]
  },
  {
   "cell_type": "code",
   "execution_count": null,
   "metadata": {},
   "outputs": [],
   "source": [
    "df.loc[0, 'A'] = 1\n",
    "df"
   ]
  },
  {
   "cell_type": "code",
   "execution_count": null,
   "metadata": {},
   "outputs": [],
   "source": [
    "df.loc['QWERTY', 'A'] = 1\n",
    "df"
   ]
  },
  {
   "cell_type": "code",
   "execution_count": null,
   "metadata": {},
   "outputs": [],
   "source": [
    "df = pd.DataFrame(columns=['A', 'B', 'C'])\n",
    "df"
   ]
  },
  {
   "cell_type": "code",
   "execution_count": null,
   "metadata": {},
   "outputs": [],
   "source": [
    "df.loc[0, 'A'] = 1\n",
    "df"
   ]
  },
  {
   "cell_type": "code",
   "execution_count": null,
   "metadata": {},
   "outputs": [],
   "source": [
    "df.loc[1] = [2, 3, 4]\n",
    "df"
   ]
  },
  {
   "cell_type": "code",
   "execution_count": null,
   "metadata": {},
   "outputs": [],
   "source": [
    "df.loc[2] = {'A': 3, 'C': 9, 'B': 9}\n",
    "df"
   ]
  },
  {
   "cell_type": "code",
   "execution_count": null,
   "metadata": {},
   "outputs": [],
   "source": [
    "df.loc[1] = [5, 6, 7]\n",
    "df"
   ]
  },
  {
   "cell_type": "code",
   "execution_count": null,
   "metadata": {},
   "outputs": [],
   "source": [
    "df.loc[0, 'B'] = 8\n",
    "df"
   ]
  },
  {
   "cell_type": "code",
   "execution_count": null,
   "metadata": {},
   "outputs": [],
   "source": [
    "df_empty = pd.DataFrame(columns=['A', 'B', 'C'])\n",
    "df_empty"
   ]
  },
  {
   "cell_type": "code",
   "execution_count": null,
   "metadata": {},
   "outputs": [],
   "source": [
    "dff = df_empty.append(df)\n",
    "dff.loc[0, 'C'] = 99\n",
    "dff"
   ]
  },
  {
   "cell_type": "code",
   "execution_count": null,
   "metadata": {},
   "outputs": [],
   "source": [
    "df"
   ]
  },
  {
   "cell_type": "code",
   "execution_count": null,
   "metadata": {},
   "outputs": [],
   "source": [
    "dff.loc[3] = {'A': 3, 'C': 9, 'B': 9}\n",
    "dff"
   ]
  },
  {
   "cell_type": "code",
   "execution_count": null,
   "metadata": {},
   "outputs": [],
   "source": [
    "dff_second = dff.append(df, ignore_index=True)\n",
    "dff_second"
   ]
  },
  {
   "cell_type": "code",
   "execution_count": null,
   "metadata": {},
   "outputs": [],
   "source": [
    "dff_third = dff.append(df)\n",
    "dff_third"
   ]
  },
  {
   "cell_type": "code",
   "execution_count": null,
   "metadata": {},
   "outputs": [],
   "source": [
    "one = pd.DataFrame(\n",
    "    {\n",
    "        'Name': ['Alex', 'Amy', 'Allen', 'Alice', 'Ayoung'],\n",
    "        'subject_id': ['sub1', 'sub2', 'sub4', 'sub6', 'sub5'],\n",
    "        'Marks_scored': [98, 90, 87, 69, 78]\n",
    "    },\n",
    "    index=[1, 2, 3, 4, 5])\n",
    "\n",
    "two = pd.DataFrame(\n",
    "    {\n",
    "        'Name': ['Billy', 'Brian', 'Bran', 'Bryce', 'Betty'],\n",
    "        'subject_id': ['sub2', 'sub4', 'sub3', 'sub6', 'sub5'],\n",
    "        'Marks_scored': [89, 80, 79, 97, 88]\n",
    "    },\n",
    "    index=[1, 2, 3, 4, 5])"
   ]
  },
  {
   "cell_type": "code",
   "execution_count": null,
   "metadata": {},
   "outputs": [],
   "source": [
    "one"
   ]
  },
  {
   "cell_type": "code",
   "execution_count": null,
   "metadata": {},
   "outputs": [],
   "source": [
    "two"
   ]
  },
  {
   "cell_type": "code",
   "execution_count": null,
   "metadata": {},
   "outputs": [],
   "source": [
    "pd.concat([one, two])"
   ]
  },
  {
   "cell_type": "code",
   "execution_count": null,
   "metadata": {},
   "outputs": [],
   "source": [
    "pd.concat([one, two], keys=['x', 'y'])"
   ]
  },
  {
   "cell_type": "code",
   "execution_count": null,
   "metadata": {},
   "outputs": [],
   "source": [
    "a = pd.concat([one, two], ignore_index=True)\n",
    "a"
   ]
  },
  {
   "cell_type": "markdown",
   "metadata": {},
   "source": [
    "https://stackoverflow.com/questions/12555323/adding-new-column-to-existing-dataframe-in-python-pandas\n",
    "\n",
    "https://www.geeksforgeeks.org/adding-new-column-to-existing-dataframe-in-pandas/\n",
    "\n",
    "https://www.interviewqs.com/ddi_code_snippets/add_new_col_df_default_value\n",
    "\n",
    "https://stackoverflow.com/questions/10715965/add-one-row-to-pandas-dataframe\n",
    "\n",
    "https://thispointer.com/python-pandas-how-to-add-rows-in-a-dataframe-using-dataframe-append-loc-iloc/\n",
    "\n",
    "https://pythonexamples.org/pandas-dataframe-add-append-row/\n",
    "\n",
    "https://www.shanelynn.ie/using-pandas-dataframe-creating-editing-viewing-data-in-python/\n",
    "\n",
    "https://www.geeksforgeeks.org/how-to-drop-one-or-multiple-columns-in-pandas-dataframe/\n",
    "\n",
    "https://www.w3resource.com/pandas/dataframe/dataframe-drop.php\n",
    "\n",
    "https://chrisalbon.com/python/data_wrangling/pandas_dropping_column_and_rows/\n",
    "\n",
    "https://stackoverflow.com/questions/18172851/deleting-dataframe-row-in-pandas-based-on-column-value\n",
    "\n",
    "https://note.nkmk.me/en/python-pandas-drop/\n",
    "\n",
    "Russian: https://www.rupython.com/pandas-dataframe-python-del-937.html"
   ]
  },
  {
   "cell_type": "code",
   "execution_count": null,
   "metadata": {},
   "outputs": [],
   "source": [
    "del a['Name']\n",
    "a"
   ]
  },
  {
   "cell_type": "code",
   "execution_count": null,
   "metadata": {},
   "outputs": [],
   "source": [
    "a = pd.concat([one, two], ignore_index=True)\n",
    "a"
   ]
  },
  {
   "cell_type": "code",
   "execution_count": null,
   "metadata": {},
   "outputs": [],
   "source": [
    "a.drop(['Name'], axis='columns', inplace=True)\n",
    "a"
   ]
  },
  {
   "cell_type": "code",
   "execution_count": null,
   "metadata": {},
   "outputs": [],
   "source": [
    "a.drop([3, 5], axis='rows', inplace=True)\n",
    "a"
   ]
  },
  {
   "cell_type": "code",
   "execution_count": null,
   "metadata": {},
   "outputs": [],
   "source": [
    "df = pd.DataFrame(np.arange(10).reshape(5, 2), columns=list('ab'))\n",
    "df"
   ]
  },
  {
   "cell_type": "code",
   "execution_count": null,
   "metadata": {},
   "outputs": [],
   "source": [
    "df = df.drop([0, 4])\n",
    "df"
   ]
  },
  {
   "cell_type": "code",
   "execution_count": null,
   "metadata": {},
   "outputs": [],
   "source": [
    "# But let's go back now to our dataset."
   ]
  },
  {
   "cell_type": "markdown",
   "metadata": {},
   "source": [
    "### Operations with NaN values"
   ]
  },
  {
   "cell_type": "markdown",
   "metadata": {
    "colab_type": "text",
    "id": "hp-OG6bOJXWA"
   },
   "source": [
    "Some columns contain __NaN__ values - this means that there is no data there. For example, passenger `#5` has an unknown age. To simplify the future data analysis, we'll replace NaN values by using pandas `fillna` function."
   ]
  },
  {
   "cell_type": "markdown",
   "metadata": {},
   "source": [
    "# Note: we do this so easily because it's a tutorial. In general, you think twice before you modify data like this."
   ]
  },
  {
   "cell_type": "code",
   "execution_count": null,
   "metadata": {
    "colab": {},
    "colab_type": "code",
    "id": "h62nzR9vJXWB",
    "outputId": "3c84925e-fcfc-4d80-e39c-123d1c720811"
   },
   "outputs": [],
   "source": [
    "data.iloc[5]"
   ]
  },
  {
   "cell_type": "code",
   "execution_count": null,
   "metadata": {},
   "outputs": [],
   "source": [
    "data.loc[889]"
   ]
  },
  {
   "cell_type": "code",
   "execution_count": null,
   "metadata": {
    "colab": {},
    "colab_type": "code",
    "id": "EHEegWTOJXWK"
   },
   "outputs": [],
   "source": [
    "# Fill NA/NaN values using the specified method.\n",
    "\n",
    "data['Age'] = data['Age'].fillna(value=data['Age'].mean())\n",
    "data['Fare'] = data['Fare'].fillna(value=data['Fare'].mean())"
   ]
  },
  {
   "cell_type": "code",
   "execution_count": null,
   "metadata": {
    "colab": {},
    "colab_type": "code",
    "id": "jSIS7m9RJXWO",
    "outputId": "481ec66c-bfd2-4e5c-f434-335555ac9957"
   },
   "outputs": [],
   "source": [
    "data.iloc[5]"
   ]
  },
  {
   "cell_type": "code",
   "execution_count": null,
   "metadata": {},
   "outputs": [],
   "source": [
    "data.loc[889]"
   ]
  },
  {
   "cell_type": "code",
   "execution_count": null,
   "metadata": {},
   "outputs": [],
   "source": [
    "df = pd.DataFrame([[np.nan, 2, np.nan, 0], [3, 4, np.nan, 1],\n",
    "                   [np.nan, np.nan, np.nan, 5], [np.nan, 3, np.nan, 4]],\n",
    "                  columns=list('ABCD'))\n",
    "\n",
    "df"
   ]
  },
  {
   "cell_type": "code",
   "execution_count": null,
   "metadata": {},
   "outputs": [],
   "source": [
    "df.fillna(0)"
   ]
  },
  {
   "cell_type": "code",
   "execution_count": null,
   "metadata": {},
   "outputs": [],
   "source": [
    "values = {'A': 0, 'B': 1, 'C': 2, 'D': 3}\n",
    "df.fillna(value=values)"
   ]
  },
  {
   "cell_type": "code",
   "execution_count": null,
   "metadata": {},
   "outputs": [],
   "source": [
    "df = pd.DataFrame({\n",
    "    \"name\": ['Alfred', 'Batman', 'Catwoman'],\n",
    "    \"toy\": [np.nan, 'Batmobile', 'Bullwhip'],\n",
    "    \"born\": [pd.NaT, pd.Timestamp(\"1940-04-25\"), pd.NaT]\n",
    "})\n",
    "\n",
    "df"
   ]
  },
  {
   "cell_type": "code",
   "execution_count": null,
   "metadata": {},
   "outputs": [],
   "source": [
    "df.dropna()  # Remove missing values."
   ]
  },
  {
   "cell_type": "code",
   "execution_count": null,
   "metadata": {},
   "outputs": [],
   "source": [
    "df.dropna(axis='columns')"
   ]
  },
  {
   "cell_type": "code",
   "execution_count": null,
   "metadata": {},
   "outputs": [],
   "source": [
    "df.dropna(axis='rows')"
   ]
  },
  {
   "cell_type": "code",
   "execution_count": null,
   "metadata": {},
   "outputs": [],
   "source": [
    "# Drop the rows where all elements are missing.\n",
    "\n",
    "df.dropna(how='all')"
   ]
  },
  {
   "cell_type": "code",
   "execution_count": null,
   "metadata": {},
   "outputs": [],
   "source": [
    "# Keep only the rows with at least 2 non-NA values.\n",
    "\n",
    "df.dropna(thresh=2)"
   ]
  },
  {
   "cell_type": "code",
   "execution_count": null,
   "metadata": {},
   "outputs": [],
   "source": [
    "# Define in which columns to look for missing values.\n",
    "\n",
    "df.dropna(subset=['name', 'born'])"
   ]
  },
  {
   "cell_type": "markdown",
   "metadata": {},
   "source": [
    "https://pandas.pydata.org/pandas-docs/version/1.0.0/user_guide/missing_data.html\n",
    "\n",
    "https://chartio.com/resources/tutorials/how-to-check-if-any-value-is-nan-in-a-pandas-dataframe/\n",
    "\n",
    "https://www.geeksforgeeks.org/working-with-missing-data-in-pandas/\n",
    "\n",
    "https://stackoverflow.com/questions/46305837/pandas-selecting-nan-values-using-np-nan\n",
    "\n",
    "Russian: https://pythonru.com/biblioteki/not-a-number-vse-o-nan-pd-5"
   ]
  },
  {
   "cell_type": "code",
   "execution_count": null,
   "metadata": {},
   "outputs": [],
   "source": [
    "df = pd.DataFrame(np.random.randn(5, 3),\n",
    "                  index=['a', 'c', 'e', 'f', 'h'],\n",
    "                  columns=['one', 'two', 'three'])\n",
    "df"
   ]
  },
  {
   "cell_type": "code",
   "execution_count": null,
   "metadata": {},
   "outputs": [],
   "source": [
    "df['four'] = 'bar'\n",
    "df['five'] = df['one'] > 0\n",
    "df"
   ]
  },
  {
   "cell_type": "code",
   "execution_count": null,
   "metadata": {},
   "outputs": [],
   "source": [
    "# Conform Series/DataFrame to a new index with optional filling logic.\n",
    "\n",
    "# Places NaN in locations having no value in the previous index.\n",
    "\n",
    "df2 = df.reindex(['a', 'b', 'c', 'd', 'e', 'f', 'g', 'h'])\n",
    "df2"
   ]
  },
  {
   "cell_type": "code",
   "execution_count": null,
   "metadata": {},
   "outputs": [],
   "source": [
    "df2['one']"
   ]
  },
  {
   "cell_type": "code",
   "execution_count": null,
   "metadata": {},
   "outputs": [],
   "source": [
    "pd.isna(df2['one'])  # Detect missing values."
   ]
  },
  {
   "cell_type": "code",
   "execution_count": null,
   "metadata": {},
   "outputs": [],
   "source": [
    "df2['four'].notna()  # Detect existing (non-missing) values."
   ]
  },
  {
   "cell_type": "code",
   "execution_count": null,
   "metadata": {},
   "outputs": [],
   "source": [
    "df2.isna()"
   ]
  },
  {
   "cell_type": "code",
   "execution_count": null,
   "metadata": {},
   "outputs": [],
   "source": [
    "# One has to be mindful that in Python (and NumPy), the nan's don’t compare equal, but None's do.\n",
    "# Note that pandas/NumPy uses the fact that np.nan != np.nan, and treats None like np.nan."
   ]
  },
  {
   "cell_type": "code",
   "execution_count": null,
   "metadata": {},
   "outputs": [],
   "source": [
    "None == None"
   ]
  },
  {
   "cell_type": "code",
   "execution_count": null,
   "metadata": {},
   "outputs": [],
   "source": [
    "np.nan == np.nan"
   ]
  },
  {
   "cell_type": "code",
   "execution_count": null,
   "metadata": {},
   "outputs": [],
   "source": [
    "# So as compared to above, a scalar equality comparison versus a None/np.nan doesn’t provide useful information.\n",
    "\n",
    "df2['one'] == np.nan"
   ]
  },
  {
   "cell_type": "markdown",
   "metadata": {
    "colab_type": "text",
    "id": "ASsnUCRMJXWS"
   },
   "source": [
    "* Bunch of cheat sheets awaits just one google query away from you (e.g. [basics](http://blog.yhat.com/static/img/datacamp-cheat.png), [combining datasets](https://pbs.twimg.com/media/C65MaMpVwAA3v0A.jpg) and so on). "
   ]
  },
  {
   "cell_type": "markdown",
   "metadata": {},
   "source": [
    "### Problem №2 (all answers are at the end of the notebook):\n",
    "\n",
    "Write a Pandas program to count the number of rows and columns of a DataFrame.\n",
    "\n",
    "You have sample DataFrame:\n",
    "exam_data = {\n",
    "    'name': [\n",
    "        'Anastasia', 'Dima', 'Katherine', 'James', 'Emily', 'Michael',\n",
    "        'Matthew', 'Laura', 'Kevin', 'Jonas'\n",
    "    ],\n",
    "    'score': [12.5, 9, 16.5, np.nan, 9, 20, 14.5, np.nan, 8, 19],\n",
    "    'attempts': [1, 3, 2, 3, 2, 3, 1, 1, 2, 1],\n",
    "    'qualify':\n",
    "    ['yes', 'no', 'yes', 'no', 'no', 'yes', 'yes', 'no', 'no', 'yes']\n",
    "}\n",
    "\n",
    "labels = ['a', 'b', 'c', 'd', 'e', 'f', 'g', 'h', 'i', 'j']."
   ]
  },
  {
   "cell_type": "markdown",
   "metadata": {},
   "source": [
    "### Problem №3 (all answers are at the end of the notebook):\n",
    "\n",
    "Write a Pandas program to calculate the mean score for each different student in a data frame.\n",
    "\n",
    "You have sample DataFrame:\n",
    "exam_data = {\n",
    "    'name': [\n",
    "        'Anastasia', 'Dima', 'Katherine', 'James', 'Emily', 'Michael',\n",
    "        'Matthew', 'Laura', 'Kevin', 'Jonas'\n",
    "    ],\n",
    "    'score': [12.5, 9, 16.5, np.nan, 9, 20, 14.5, np.nan, 8, 19],\n",
    "    'attempts': [1, 3, 2, 3, 2, 3, 1, 1, 2, 1],\n",
    "    'qualify':\n",
    "    ['yes', 'no', 'yes', 'no', 'no', 'yes', 'yes', 'no', 'no', 'yes']\n",
    "}\n",
    "\n",
    "labels = ['a', 'b', 'c', 'd', 'e', 'f', 'g', 'h', 'i', 'j']."
   ]
  },
  {
   "cell_type": "markdown",
   "metadata": {
    "colab_type": "text",
    "id": "OPtaPKy3uI6A"
   },
   "source": [
    "## Part IV: Other NumPy functions and features and connection NumPy and pandas"
   ]
  },
  {
   "cell_type": "markdown",
   "metadata": {
    "colab_type": "text",
    "id": "S-8KaYRmuM4m"
   },
   "source": [
    "There's also a bunch of pre-implemented operations including logarithms, trigonometry, vector/matrix products and aggregations."
   ]
  },
  {
   "cell_type": "markdown",
   "metadata": {},
   "source": [
    "https://blog.thedataincubator.com/2018/02/numpy-and-pandas/"
   ]
  },
  {
   "cell_type": "code",
   "execution_count": null,
   "metadata": {
    "colab": {},
    "colab_type": "code",
    "id": "RklGSklbJXWn",
    "outputId": "45c345ce-6f25-42e8-bad7-c0d7e3bc208e"
   },
   "outputs": [],
   "source": [
    "a = np.array([1, 2, 3, 4, 5])\n",
    "b = np.array([5, 4, 3, 2, 1])\n",
    "print(\"numpy.sum(a) = \", np.sum(a))\n",
    "print(\"numpy.mean(a) = \", np.mean(a))\n",
    "print(\"numpy.min(a) = \", np.min(a))\n",
    "print(\"numpy.argmin(b) = \", np.argmin(b))  # Index of the minimal element\n",
    "print(\"numpy.dot(a, b) = \",\n",
    "      np.dot(a, b))  # Dot product. Also used for matrix/tensor multiplication\n",
    "\n",
    "print(\"np.unique = \",\n",
    "      np.unique(['male', 'male', 'female', 'female', 'male',\n",
    "                 'qqq']))  # Find the unique elements of an array.\n",
    "\n",
    "# and tons of other stuff. See http://bit.ly/2u5q430 ."
   ]
  },
  {
   "cell_type": "code",
   "execution_count": null,
   "metadata": {},
   "outputs": [],
   "source": [
    "c = np.unique(['male', 'male', 'female', 'female', 'male', 'qqq'])\n",
    "c"
   ]
  },
  {
   "cell_type": "code",
   "execution_count": null,
   "metadata": {},
   "outputs": [],
   "source": [
    "c = np.unique(['2', '3', '4', '5', '6', '1'])\n",
    "c"
   ]
  },
  {
   "cell_type": "markdown",
   "metadata": {
    "colab_type": "text",
    "id": "Wk8fA8HBJXWs"
   },
   "source": [
    "The important part: all this functionality works with data frames, as you can get their NumPy representation with `.values` (most NumPy functions will even work on pure pandas objects):"
   ]
  },
  {
   "cell_type": "code",
   "execution_count": null,
   "metadata": {
    "colab": {},
    "colab_type": "code",
    "id": "uE53osRgJXWs",
    "outputId": "3d14e089-5051-49fd-92d4-81796cd80756"
   },
   "outputs": [],
   "source": [
    "# Calling np.max on a pure pandas column:\n",
    "print(\"Max ticket price: \", np.max(data[\"Fare\"]))\n",
    "\n",
    "# Calling np.argmax on a NumPy representation of a pandas co\n",
    "print(\"\\nThe guy who paid the most:\\n\",\n",
    "      data.iloc[np.argmax(data[\"Fare\"].values)])"
   ]
  },
  {
   "cell_type": "code",
   "execution_count": null,
   "metadata": {},
   "outputs": [],
   "source": [
    "print(\"\\nThe guy who paid the most:\\n\", data.iloc[np.argmax(data[\"Fare\"])])"
   ]
  },
  {
   "cell_type": "code",
   "execution_count": null,
   "metadata": {},
   "outputs": [],
   "source": [
    "c = data.iloc[np.argmax(data[\"Fare\"].values)]\n",
    "c"
   ]
  },
  {
   "cell_type": "code",
   "execution_count": null,
   "metadata": {},
   "outputs": [],
   "source": [
    "type(c)"
   ]
  },
  {
   "cell_type": "code",
   "execution_count": null,
   "metadata": {},
   "outputs": [],
   "source": [
    "c1 = data.iloc[np.argmax(data[\"Fare\"])]\n",
    "c1"
   ]
  },
  {
   "cell_type": "code",
   "execution_count": null,
   "metadata": {},
   "outputs": [],
   "source": [
    "np.max(data[\"Fare\"])"
   ]
  },
  {
   "cell_type": "code",
   "execution_count": null,
   "metadata": {},
   "outputs": [],
   "source": [
    "np.min(data[\"Fare\"])"
   ]
  },
  {
   "cell_type": "code",
   "execution_count": null,
   "metadata": {},
   "outputs": [],
   "source": [
    "np.std(\n",
    "    data[\"Fare\"])  # Compute the standard deviation along the specified axis."
   ]
  },
  {
   "cell_type": "code",
   "execution_count": null,
   "metadata": {},
   "outputs": [],
   "source": [
    "type(c1)"
   ]
  },
  {
   "cell_type": "code",
   "execution_count": null,
   "metadata": {
    "colab": {},
    "colab_type": "code",
    "id": "Jkq07GT5JXW0",
    "outputId": "09eee682-66d6-4827-d623-4c3777be2a3d"
   },
   "outputs": [],
   "source": [
    "a = np.array([1, 2, 3, 4, 5])\n",
    "b = np.array([5, 4, 3, 2, 1])\n",
    "\n",
    "print(\"Boolean operations\")\n",
    "\n",
    "print('a = ', a)\n",
    "print('b = ', b)\n",
    "print(\"a > 2\", a > 2)\n",
    "print(\"numpy.logical_not(a > 2) = \", np.logical_not(a > 2))\n",
    "print(\"numpy.logical_and(a > 2, b > 2) = \", np.logical_and(a > 2, b > 2))\n",
    "print(\"numpy.logical_or(a > 2 , b < 3) = \", np.logical_or(a > 2, b < 3))\n",
    "\n",
    "print(\"\\n shortcuts\")\n",
    "print(\"~(a > 2) = \", ~(a > 2))  # Logical_not(a > 2)\n",
    "print(\"(a > 2) & (b > 2) = \", (a > 2) & (b > 2))  # Logical_and\n",
    "print(\"(a > 2) | (b < 3) = \", (a > 2) | (b < 3))  # Logical_or"
   ]
  },
  {
   "cell_type": "markdown",
   "metadata": {
    "colab_type": "text",
    "id": "VBkDTTOLJXW3"
   },
   "source": [
    "Another NumPy feature we'll need is indexing: selecting elements from an array. \n",
    "Aside from python indexes and slices (e.g. a[1:4]), NumPy also allows you to select several elements at once."
   ]
  },
  {
   "cell_type": "code",
   "execution_count": null,
   "metadata": {
    "colab": {},
    "colab_type": "code",
    "id": "MhXHB6fgJXW4",
    "outputId": "4b534ba9-fbf8-4a07-82e4-3d5bb41da444",
    "scrolled": true
   },
   "outputs": [],
   "source": [
    "a = np.array([0, 1, 4, 9, 16, 25])\n",
    "ix = np.array([1, 2, 5])\n",
    "\n",
    "print(\"a = \", a)\n",
    "print(\"Select by element index:\")\n",
    "print(\"a[[1, 2, 5]] = \", a[ix])\n",
    "\n",
    "print(\"\\nSelect by boolean mask:\")\n",
    "print(\"a[a > 5] = \",\n",
    "      a[a > 5])  # Select all elements in 'a' that are greater than 5\n",
    "print(\"(a % 2 == 0) =\", a % 2 == 0)  # True for even, False for odd\n",
    "print(\"a[a % 2 == 0] =\",\n",
    "      a[a % 2 == 0])  # Select all elements in 'a' that are even"
   ]
  },
  {
   "cell_type": "code",
   "execution_count": null,
   "metadata": {
    "scrolled": true
   },
   "outputs": [],
   "source": [
    "data[(data['Age'] < 18) & (data['Sex'] == 'male')]"
   ]
  },
  {
   "cell_type": "code",
   "execution_count": null,
   "metadata": {},
   "outputs": [],
   "source": [
    "data[(data['Sex'] == 'female') & (data['Sex'] == 'male')]"
   ]
  },
  {
   "cell_type": "code",
   "execution_count": null,
   "metadata": {
    "colab": {},
    "colab_type": "code",
    "id": "h6eXINxLJXW6",
    "outputId": "f31fc353-43b9-40fb-cbd6-e32d7c84588f"
   },
   "outputs": [],
   "source": [
    "# Who on average paid more for their ticket, men or women?\n",
    "\n",
    "mean_fare_men = np.mean(data[data[\"Sex\"] == \"male\"][\"Fare\"])\n",
    "mean_fare_women = np.mean(data[data[\"Sex\"] == \"female\"][\"Fare\"])\n",
    "\n",
    "print(mean_fare_men, mean_fare_women)"
   ]
  },
  {
   "cell_type": "code",
   "execution_count": null,
   "metadata": {},
   "outputs": [],
   "source": [
    "mean_fare = np.mean(data[\"Fare\"])\n",
    "mean_fare"
   ]
  },
  {
   "cell_type": "code",
   "execution_count": null,
   "metadata": {
    "colab": {},
    "colab_type": "code",
    "id": "EyDEaifrJXW8",
    "outputId": "300b13b6-7ed1-4c60-b21a-b4d0cef16997"
   },
   "outputs": [],
   "source": [
    "# Who is more likely to survive: a child (< 18 y.o.) or an adult?\n",
    "\n",
    "child_survival_rate = np.sum(data[data[\"Age\"] < 18][\"Survived\"]) / np.shape(\n",
    "    data[data[\"Age\"] < 18])[0]\n",
    "adult_survival_rate = np.sum(data[data[\"Age\"] >= 18][\"Survived\"]) / np.shape(\n",
    "    data[data[\"Age\"] >= 18])[0]\n",
    "\n",
    "print(child_survival_rate, adult_survival_rate)"
   ]
  },
  {
   "cell_type": "code",
   "execution_count": null,
   "metadata": {},
   "outputs": [],
   "source": [
    "data[data[\"Age\"] < 18][\"Survived\"]"
   ]
  },
  {
   "cell_type": "code",
   "execution_count": null,
   "metadata": {},
   "outputs": [],
   "source": [
    "np.shape(data[data[\"Age\"] < 18])"
   ]
  },
  {
   "cell_type": "code",
   "execution_count": null,
   "metadata": {},
   "outputs": [],
   "source": [
    "np.shape(data[data[\"Age\"] < 18])[0]"
   ]
  },
  {
   "cell_type": "code",
   "execution_count": null,
   "metadata": {},
   "outputs": [],
   "source": [
    "# It may be interesting to you: Python vs NumPy.\n",
    "\n",
    "big_array = np.random.rand(1000000)\n",
    "%timeit sum(big_array)\n",
    "%timeit np.sum(big_array)"
   ]
  },
  {
   "cell_type": "code",
   "execution_count": null,
   "metadata": {},
   "outputs": [],
   "source": [
    "# It executes the operation in compiled code,\n",
    "# NumPy's version of the operation is computed much more quickly.\n",
    "\n",
    "# Be careful, though: the sum function and the np.sum function are not identical,\n",
    "# which can sometimes lead to confusion! In particular, their optional arguments have different meanings,\n",
    "# and np.sum is aware of multiple array dimensions, as we will see in the following section."
   ]
  },
  {
   "cell_type": "markdown",
   "metadata": {},
   "source": [
    "https://jakevdp.github.io/PythonDataScienceHandbook/02.04-computation-on-arrays-aggregates.html"
   ]
  },
  {
   "cell_type": "code",
   "execution_count": null,
   "metadata": {},
   "outputs": [],
   "source": [
    "from math import pi\n",
    "print('pi = ', pi)"
   ]
  },
  {
   "cell_type": "code",
   "execution_count": null,
   "metadata": {},
   "outputs": [],
   "source": [
    "# First array is from 0 to 1 000 000\n",
    "# Second array is from 99 to 1 000 099"
   ]
  },
  {
   "cell_type": "code",
   "execution_count": null,
   "metadata": {},
   "outputs": [],
   "source": [
    "%%time\n",
    "# ^-- this \"magic\" measures and prints cell computation time\n",
    "\n",
    "# Option I: pure Python\n",
    "arr_1 = range(1000000)\n",
    "arr_2 = range(99, 1000099)\n",
    "\n",
    "a_sum = []\n",
    "a_prod = []\n",
    "sqrt_a1 = []\n",
    "sqrt_a2 = []\n",
    "other_a = []\n",
    "for i in range(len(arr_1)):\n",
    "    a_sum.append(arr_1[i] + arr_2[i])\n",
    "    a_prod.append(arr_1[i] * arr_2[i])\n",
    "    sqrt_a1.append(arr_1[i]**0.5)\n",
    "    sqrt_a2.append(arr_2[i]**0.5)\n",
    "    other_a.append(((arr_1[i]**1.5) + (arr_2[i]**1.5)) * pi)\n",
    "\n",
    "arr_1_sum = sum(arr_1)\n",
    "arr_2_sum = sum(arr_2)"
   ]
  },
  {
   "cell_type": "code",
   "execution_count": null,
   "metadata": {},
   "outputs": [],
   "source": [
    "%%time\n",
    "\n",
    "# Option II: start from Python, convert to NumPy\n",
    "arr_1 = range(1000000)\n",
    "arr_2 = range(99, 1000099)\n",
    "\n",
    "arr_1, arr_2 = np.array(arr_1), np.array(arr_2)\n",
    "\n",
    "a_sum = arr_1 + arr_2\n",
    "a_prod = arr_1 * arr_2\n",
    "sqrt_a1 = arr_1**.5\n",
    "sqrt_a2 = arr_2**.5\n",
    "other_a = (((arr_1**1.5) + (arr_2**1.5)) * pi)\n",
    "\n",
    "arr_1_sum = arr_1.sum()\n",
    "arr_2_sum = arr_2.sum()"
   ]
  },
  {
   "cell_type": "code",
   "execution_count": null,
   "metadata": {},
   "outputs": [],
   "source": [
    "%%time\n",
    "\n",
    "# Option III: pure NumPy\n",
    "arr_1 = np.arange(1000000)\n",
    "arr_2 = np.arange(99, 1000099)\n",
    "\n",
    "a_sum = arr_1 + arr_2\n",
    "a_prod = arr_1 * arr_2\n",
    "sqrt_a1 = arr_1**.5\n",
    "sqrt_a2 = arr_2**.5\n",
    "other_a = (((arr_1**1.5) + (arr_2**1.5)) * pi)\n",
    "\n",
    "arr_1_sum = arr_1.sum()\n",
    "arr_2_sum = arr_2.sum()"
   ]
  },
  {
   "cell_type": "markdown",
   "metadata": {},
   "source": [
    "### Benchmarks of speed (NumPy vs all): http://brilliantlywrong.blogspot.com/2015/01/benchmarks-of-speed-numpy-vs-all.html"
   ]
  },
  {
   "cell_type": "markdown",
   "metadata": {},
   "source": [
    "### <center><b> Some numbers from the link: </b></center>"
   ]
  },
  {
   "cell_type": "markdown",
   "metadata": {},
   "source": [
    "<h1>\n",
    "<table>\n",
    "  <tr>\n",
    "    <td>Pure Python</td>\n",
    "    <td>183ms</td>\n",
    "  </tr>\n",
    "  <tr>\n",
    "    <td>Numpy</td>\n",
    "    <td>5.97ms</td>\n",
    "  </tr>\n",
    "  <tr>\n",
    "    <td>Naive Cython</td>\n",
    "    <td>7.76ms</td>\n",
    "  </tr>\n",
    "  <tr>\n",
    "    <td>Optimised Cython</td>\n",
    "    <td>2.18ms</td>\n",
    "  </tr>\n",
    "  <tr>\n",
    "    <td>Cython calling C</td>\n",
    "    <td>2.22ms</td>\n",
    "  </tr>\n",
    "</table>\n",
    "</h1>"
   ]
  },
  {
   "cell_type": "markdown",
   "metadata": {},
   "source": [
    "<h1>\n",
    "<table>\n",
    "  <tr>\n",
    "    <td>Python</td>\n",
    "    <td>9.51s</td>\n",
    "  </tr>\n",
    "  <tr>\n",
    "    <td>Naive numpy</td>\n",
    "    <td>64.7ms</td>\n",
    "  </tr>\n",
    "  <tr>\n",
    "    <td>Numba</td>\n",
    "    <td>6.72ms</td>\n",
    "  </tr>\n",
    "  <tr>\n",
    "    <td>Cython</td>\n",
    "    <td>6.57ms</td>\n",
    "  </tr>\n",
    "  <tr>\n",
    "    <td>Parakeet</td>\n",
    "    <td>12.3ms</td>\n",
    "  </tr>\n",
    "  <tr>\n",
    "    <td>Cython</td>\n",
    "    <td>6.57ms</td>\n",
    "  </tr>\n",
    "</table>\n",
    "</h1>"
   ]
  },
  {
   "cell_type": "code",
   "execution_count": null,
   "metadata": {},
   "outputs": [],
   "source": [
    "# But let's go back now to our dataset."
   ]
  },
  {
   "cell_type": "code",
   "execution_count": null,
   "metadata": {
    "scrolled": true
   },
   "outputs": [],
   "source": [
    "data.Age.plot()"
   ]
  },
  {
   "cell_type": "code",
   "execution_count": null,
   "metadata": {
    "scrolled": true
   },
   "outputs": [],
   "source": [
    "data.Age.plot(kind='hist')"
   ]
  },
  {
   "cell_type": "code",
   "execution_count": null,
   "metadata": {
    "scrolled": true
   },
   "outputs": [],
   "source": [
    "data.Pclass.plot(kind='hist')"
   ]
  },
  {
   "cell_type": "markdown",
   "metadata": {},
   "source": [
    "# Coffee Break?"
   ]
  },
  {
   "cell_type": "markdown",
   "metadata": {
    "colab_type": "text",
    "id": "yt0lgtQox2e1"
   },
   "source": [
    "## Part V: Matplotlib, plotly and seaborn"
   ]
  },
  {
   "cell_type": "markdown",
   "metadata": {},
   "source": [
    "### Matplotlib"
   ]
  },
  {
   "cell_type": "markdown",
   "metadata": {
    "colab_type": "text",
    "id": "Odx24QWTJXW-"
   },
   "source": [
    "Using python to visualize the data is covered by different libraries: `matplotlib`, `plotly`, etc.\n",
    "\n",
    "Just like python itself, matplotlib has an awesome tendency of keeping simple things simple while still allowing you to write complicated stuff with convenience (e.g. super-detailed plots or custom animations)."
   ]
  },
  {
   "cell_type": "markdown",
   "metadata": {},
   "source": [
    "https://matplotlib.org/3.3.1/tutorials/index.html\n",
    "\n",
    "https://github.com/rougier/matplotlib-tutorial\n",
    "\n",
    "https://www.tutorialspoint.com/matplotlib/index.htm\n",
    "\n",
    "https://realpython.com/python-matplotlib-guide/\n",
    "\n",
    "https://www.datacamp.com/community/tutorials/matplotlib-tutorial-python"
   ]
  },
  {
   "cell_type": "code",
   "execution_count": null,
   "metadata": {
    "colab": {},
    "colab_type": "code",
    "id": "7QxD0DoLJXW-",
    "outputId": "03fcca56-fbe4-4751-8998-608bee04404e",
    "scrolled": true
   },
   "outputs": [],
   "source": [
    "import matplotlib.pyplot as plt\n",
    "%matplotlib inline\n",
    "# ^-- This \"magic\" selects specific matplotlib backend suitable for\n",
    "# jupyter notebooks. For more info see:\n",
    "# https://ipython.readthedocs.io/en/stable/interactive/plotting.html#id1\n",
    "\n",
    "# line plot\n",
    "plt.plot([0, 1, 2, 3, 4, 5], [0, 1, 4, 9, 16, 25])"
   ]
  },
  {
   "cell_type": "code",
   "execution_count": null,
   "metadata": {},
   "outputs": [],
   "source": [
    "plt.plot([0, 1, 2, 3, 4, 5], [0, 1, 4, 9, 16, 25], [0, 1, 3, 5, 10, 30])"
   ]
  },
  {
   "cell_type": "code",
   "execution_count": null,
   "metadata": {
    "colab": {},
    "colab_type": "code",
    "id": "huybuiQkJXXB",
    "outputId": "7499d543-de44-46e2-d59d-4029ae2b915e"
   },
   "outputs": [],
   "source": [
    "# scatter-plot\n",
    "\n",
    "import numpy as np\n",
    "\n",
    "x = np.arange(5)\n",
    "print(\"x = \", x)\n",
    "print(\"x**2 = \", x**2)\n",
    "print(\"plotting x ** 2 vs x:\")\n",
    "plt.scatter(\n",
    "    x,\n",
    "    x**2)  # A scatters plot of y vs. x with varying marker size and/or colour.\n",
    "\n",
    "plt.show()  # Show the first plot and begin drawing next one\n",
    "plt.plot(x, x**2)"
   ]
  },
  {
   "cell_type": "code",
   "execution_count": null,
   "metadata": {},
   "outputs": [],
   "source": [
    "# scatter-plot\n",
    "\n",
    "x = np.arange(5)\n",
    "print(\"x = \", x)\n",
    "print(\"x**2 = \", x**2)\n",
    "print(\"plotting x ** 2 vs x:\")\n",
    "plt.scatter(x, x**2)\n",
    "\n",
    "#plt.show()  # Show the first plot and begin drawing next one\n",
    "plt.plot(x, x**2)"
   ]
  },
  {
   "cell_type": "code",
   "execution_count": null,
   "metadata": {},
   "outputs": [],
   "source": [
    "# Draw a scatter plot with custom markers and colours\n",
    "plt.scatter([1, 1, 2, 3, 4, 4.5], [3, 2, 2, 5, 15, 24],\n",
    "            c=[\"red\", \"blue\", \"orange\", \"green\", \"cyan\", \"gray\"],\n",
    "            marker=\",\")\n",
    "\n",
    "plt.scatter([0.0, 0.1, 0.2], [2, 4, 16],\n",
    "            c=[\"red\", \"blue\", \"orange\"],\n",
    "            marker=\"o\")\n",
    "\n",
    "# Without plt.show(), several plots will be drawn on top of one another\n",
    "plt.plot([0, 1, 2, 3, 4, 5], [0, 1, 4, 9, 16, 25], c=\"blue\")\n",
    "\n",
    "plt.title(\"Title\")\n",
    "plt.xlabel(\"Text 1\")\n",
    "plt.ylabel(\"Text 2\")"
   ]
  },
  {
   "cell_type": "code",
   "execution_count": null,
   "metadata": {
    "colab": {},
    "colab_type": "code",
    "id": "fz5WDA4YJXXI",
    "outputId": "00a048a9-73a7-4655-8627-e6cba6630320"
   },
   "outputs": [],
   "source": [
    "# Histogram - showing data density\n",
    "plt.hist([0, 1, 1, 1, 2, 2, 3, 3, 3, 3, 3, 4, 4, 5, 5, 5, 6, 7, 7, 8, 9,\n",
    "          10])  # Plot a histogram.\n",
    "plt.show()\n",
    "\n",
    "plt.hist([0, 1, 1, 1, 2, 2, 3, 3, 3, 3, 3, 4, 4, 5, 5, 5, 6, 7, 7, 8, 9, 10],\n",
    "         bins=5)"
   ]
  },
  {
   "cell_type": "code",
   "execution_count": null,
   "metadata": {},
   "outputs": [],
   "source": [
    "plt.hist([0, 1, 1, 1, 2, 2, 3, 3, 3, 3, 3, 4, 4, 5, 5, 5, 6, 7, 7, 8, 9, 10],\n",
    "         bins=30)\n",
    "# Plot a histogram."
   ]
  },
  {
   "cell_type": "code",
   "execution_count": null,
   "metadata": {},
   "outputs": [],
   "source": [
    "import pandas as pd\n",
    "\n",
    "data = pd.read_csv(\"./data/train.csv\", index_col='PassengerId')\n",
    "\n",
    "data[\"Age\"].plot(kind='hist')"
   ]
  },
  {
   "cell_type": "code",
   "execution_count": null,
   "metadata": {},
   "outputs": [],
   "source": [
    "data[\"Fare\"].plot(kind='hist')"
   ]
  },
  {
   "cell_type": "code",
   "execution_count": null,
   "metadata": {},
   "outputs": [],
   "source": [
    "data[\"Age\"].plot(kind='hist')\n",
    "data[\"Fare\"].plot(kind='hist')\n",
    "\n",
    "# Do you know where is 'Age'?"
   ]
  },
  {
   "cell_type": "code",
   "execution_count": null,
   "metadata": {},
   "outputs": [],
   "source": [
    "data[\"Fare\"].plot(kind='hist')\n",
    "data[\"Age\"].plot(kind='hist')"
   ]
  },
  {
   "cell_type": "code",
   "execution_count": null,
   "metadata": {},
   "outputs": [],
   "source": [
    "data[\"Fare\"].plot(kind='hist')\n",
    "plt.show()\n",
    "data[\"Age\"].plot(kind='hist')"
   ]
  },
  {
   "cell_type": "code",
   "execution_count": null,
   "metadata": {},
   "outputs": [],
   "source": [
    "# Plot a histogram of age and a histogram of ticket fares on separate plots\n",
    "\n",
    "plt.subplot(211)  # nrows, ncols, index, ...\n",
    "plt.hist(data[\"Age\"])\n",
    "plt.subplot(212)  # Add a subplot to the current figure.\n",
    "plt.hist(data[\"Fare\"])"
   ]
  },
  {
   "cell_type": "code",
   "execution_count": null,
   "metadata": {},
   "outputs": [],
   "source": [
    "# Plot a histogram of age and a histogram of ticket fares on separate plots\n",
    "\n",
    "plt.subplot(221)  # nrows, ncols, index, ...\n",
    "plt.hist(data[\"Age\"])\n",
    "plt.subplot(222)\n",
    "plt.hist(data[\"Fare\"])\n",
    "plt.subplot(223)\n",
    "plt.hist(data[\"Fare\"])\n",
    "plt.subplot(224)\n",
    "plt.hist(data[\"Age\"])"
   ]
  },
  {
   "cell_type": "code",
   "execution_count": null,
   "metadata": {
    "colab": {},
    "colab_type": "code",
    "id": "QIzNFjffJXXP",
    "outputId": "74be3f8d-ecb4-48f9-e71f-06d22770cec0",
    "scrolled": true
   },
   "outputs": [],
   "source": [
    "# Make a scatter plot of passenger age vs ticket fare\n",
    "\n",
    "m_data = data[data[\"Sex\"] == \"male\"]\n",
    "f_data = data[data[\"Sex\"] == \"female\"]\n",
    "plt.scatter(m_data[\"Age\"], m_data[\"Fare\"], c='r')\n",
    "plt.scatter(f_data[\"Age\"], f_data[\"Fare\"], c='g')"
   ]
  },
  {
   "cell_type": "code",
   "execution_count": null,
   "metadata": {},
   "outputs": [],
   "source": [
    "fig = plt.figure()\n",
    "ax = fig.add_subplot(111, projection='3d')\n",
    "\n",
    "# Make data\n",
    "u = np.linspace(0, 2 * np.pi, 100)\n",
    "v = np.linspace(0, np.pi, 100)\n",
    "x = 10 * np.outer(np.cos(u),\n",
    "                  np.sin(v))  # Compute the outer product of two vectors\n",
    "y = 10 * np.outer(np.sin(u), np.sin(v))\n",
    "z = 10 * np.outer(np.ones(np.size(u)), np.cos(v))\n",
    "\n",
    "# Plot the surface\n",
    "ax.plot_surface(x, y, z)\n",
    "\n",
    "plt.show()"
   ]
  },
  {
   "cell_type": "code",
   "execution_count": null,
   "metadata": {},
   "outputs": [],
   "source": [
    "fig = plt.figure()\n",
    "ax = fig.add_subplot(111, projection='3d')\n",
    "\n",
    "# Make data\n",
    "u = np.linspace(0, 2 * np.pi, 100)\n",
    "v = np.linspace(0, np.pi, 100)\n",
    "x = 10 * np.outer(np.cos(u),\n",
    "                  np.sin(v))  # Compute the outer product of two vectors\n",
    "y = 10 * np.outer(np.sin(u), np.sin(v))\n",
    "z = 10 * np.outer(np.zeros(np.size(u)), np.cos(v))\n",
    "\n",
    "# Plot the surface\n",
    "ax.plot_surface(x, y, z)\n",
    "\n",
    "plt.show()"
   ]
  },
  {
   "cell_type": "code",
   "execution_count": null,
   "metadata": {},
   "outputs": [],
   "source": [
    "fig = plt.figure()\n",
    "ax = fig.add_subplot(111, projection='3d')\n",
    "\n",
    "# Make data\n",
    "u = np.linspace(0, 2 * np.pi, 10)\n",
    "v = np.linspace(0, np.pi, 10)\n",
    "x = 10 * np.outer(np.cos(u), np.sin(v))\n",
    "y = 10 * np.outer(np.sin(u), np.sin(v))\n",
    "z = 10 * np.outer(np.ones(np.size(u)), np.cos(v))\n",
    "\n",
    "# Plot the surface\n",
    "ax.plot_surface(x, y, z)\n",
    "\n",
    "plt.show()"
   ]
  },
  {
   "cell_type": "code",
   "execution_count": null,
   "metadata": {},
   "outputs": [],
   "source": [
    "fig = plt.figure()\n",
    "ax = fig.add_subplot(111, projection='3d')\n",
    "\n",
    "# Make data\n",
    "u = np.linspace(0, 2 * np.pi, 5)\n",
    "v = np.linspace(0, np.pi, 5)\n",
    "x = 10 * np.outer(np.cos(u), np.sin(v))\n",
    "y = 10 * np.outer(np.sin(u), np.sin(v))\n",
    "z = 10 * np.outer(np.ones(np.size(u)), np.cos(v))\n",
    "\n",
    "# Plot the surface\n",
    "ax.plot_surface(x, y, z)\n",
    "\n",
    "plt.show()"
   ]
  },
  {
   "cell_type": "code",
   "execution_count": null,
   "metadata": {},
   "outputs": [],
   "source": [
    "def lorenz(x, y, z, s=10, r=28, b=2.667):\n",
    "    \"\"\"\n",
    "    Given:\n",
    "       x, y, z: a point of interest in three-dimensional space\n",
    "       s, r, b: parameters defining the Lorenz attractor\n",
    "    Returns:\n",
    "       x_dot, y_dot, z_dot: values of the Lorenz attractor's partial\n",
    "           derivatives at the point x, y, z\n",
    "    \"\"\"\n",
    "    x_dot = s * (y - x)\n",
    "    y_dot = r * x - y - x * z\n",
    "    z_dot = x * y - b * z\n",
    "    return x_dot, y_dot, z_dot\n",
    "\n",
    "\n",
    "dt = 0.01\n",
    "num_steps = 10000\n",
    "\n",
    "# Need one more for the initial values\n",
    "xs = np.empty(\n",
    "    num_steps + 1\n",
    ")  # Return a new array of given shape and type, without initializing entries.\n",
    "ys = np.empty(num_steps + 1)\n",
    "zs = np.empty(num_steps + 1)\n",
    "\n",
    "# Set initial values\n",
    "xs[0], ys[0], zs[0] = (0., 1., 1.05)\n",
    "\n",
    "# Step through \"time\", calculating the partial derivatives at the current point\n",
    "# and using them to estimate the next point\n",
    "for i in range(num_steps):\n",
    "    x_dot, y_dot, z_dot = lorenz(xs[i], ys[i], zs[i])\n",
    "    xs[i + 1] = xs[i] + (x_dot * dt)\n",
    "    ys[i + 1] = ys[i] + (y_dot * dt)\n",
    "    zs[i + 1] = zs[i] + (z_dot * dt)\n",
    "\n",
    "# Plot\n",
    "fig = plt.figure()\n",
    "ax = fig.gca(\n",
    "    projection='3d')  # Get the current axes, creating one if necessary.\n",
    "\n",
    "ax.plot(xs, ys, zs, lw=0.5)\n",
    "ax.set_xlabel(\"X Axis\")\n",
    "ax.set_ylabel(\"Y Axis\")\n",
    "ax.set_zlabel(\"Z Axis\")\n",
    "ax.set_title(\"Lorenz Attractor\")\n",
    "\n",
    "plt.show()"
   ]
  },
  {
   "cell_type": "markdown",
   "metadata": {},
   "source": [
    "### Problem №4 (all answers are at the end of the notebook):\n",
    "\n",
    "Read toothpaste sales data of each month and show it using a scatter plot.\n",
    "\n",
    "Also, add a grid in the plot. gridline style should “–“.\n",
    "The scatter plot should look like this.\n",
    "\n",
    "<center>\n",
    "<img src=\"https://pynative.com/wp-content/uploads/2019/01/matplotlib_and_pandas_exercise_4_show_scatter_plot.png\" width=\"500\" height=\"600\">\n",
    "</center>\n",
    "\n",
    "You have this file: company_sales_data.csv."
   ]
  },
  {
   "cell_type": "code",
   "execution_count": null,
   "metadata": {},
   "outputs": [],
   "source": [
    "# If the picture does not work for you (there is no Internet connection),\n",
    "# you can uncomment these two lines below and then run the cell. The picture should appear.\n",
    "# These two:\n",
    "\n",
    "#from IPython.display import Image\n",
    "#Image(\"./images/matplotlib_and_pandas_exercise_4_show_scatter_plot.png\")"
   ]
  },
  {
   "cell_type": "code",
   "execution_count": null,
   "metadata": {},
   "outputs": [],
   "source": [
    "# If you don't have an Internet connection,\n",
    "# you can uncomment these two lines below and then run them.\n",
    "# The file will be uploaded to the place where you are now.\n",
    "# And command 'mv' moves the file to 'data'.\n",
    "# These lines:\n",
    "\n",
    "#!wget -i https://pynative.com/wp-content/uploads/2019/01/company_sales_data.csv\n",
    "#!mv company_sales_data.csv ./data/."
   ]
  },
  {
   "cell_type": "code",
   "execution_count": null,
   "metadata": {},
   "outputs": [],
   "source": [
    "!ls -lhtr ./data/company_sales_data.csv"
   ]
  },
  {
   "cell_type": "markdown",
   "metadata": {},
   "source": [
    "### Plotly"
   ]
  },
  {
   "cell_type": "markdown",
   "metadata": {},
   "source": [
    "https://plotly.com/python/\n",
    "\n",
    "https://www.kaggle.com/kanncaa1/plotly-tutorial-for-beginners\n",
    "\n",
    "https://www.tutorialspoint.com/plotly/index.htm"
   ]
  },
  {
   "cell_type": "code",
   "execution_count": null,
   "metadata": {},
   "outputs": [],
   "source": [
    "import plotly.express as px\n",
    "df = px.data.tips()  # Pre-prepared dataset.\n",
    "\n",
    "fig = px.density_heatmap(df, x=\"total_bill\", y=\"tip\")\n",
    "fig.show()\n",
    "\n",
    "# In a density heatmap, rows of data_frame are grouped into coloured rectangular tiles\n",
    "# to visualize the 2D distribution of an aggregate function histfunc (e.g. the count or sum) of the value z."
   ]
  },
  {
   "cell_type": "code",
   "execution_count": null,
   "metadata": {},
   "outputs": [],
   "source": [
    "df"
   ]
  },
  {
   "cell_type": "code",
   "execution_count": null,
   "metadata": {},
   "outputs": [],
   "source": [
    "fig = px.density_heatmap(df,\n",
    "                         x=\"total_bill\",\n",
    "                         y=\"tip\",\n",
    "                         nbinsx=20,\n",
    "                         nbinsy=20,\n",
    "                         color_continuous_scale=\"Viridis\")\n",
    "\n",
    "fig.show()"
   ]
  },
  {
   "cell_type": "code",
   "execution_count": null,
   "metadata": {},
   "outputs": [],
   "source": [
    "fig = px.density_heatmap(df,\n",
    "                         x=\"total_bill\",\n",
    "                         y=\"tip\",\n",
    "                         marginal_x=\"histogram\",\n",
    "                         marginal_y=\"histogram\")\n",
    "fig.show()"
   ]
  },
  {
   "cell_type": "code",
   "execution_count": null,
   "metadata": {
    "scrolled": false
   },
   "outputs": [],
   "source": [
    "fig = px.density_heatmap(df,\n",
    "                         x=\"total_bill\",\n",
    "                         y=\"tip\",\n",
    "                         facet_row=\"sex\",\n",
    "                         facet_col=\"smoker\")\n",
    "fig.show()"
   ]
  },
  {
   "cell_type": "code",
   "execution_count": null,
   "metadata": {},
   "outputs": [],
   "source": [
    "fig = px.density_heatmap(df,\n",
    "                         x=\"total_bill\",\n",
    "                         y=\"tip\",\n",
    "                         facet_row=\"day\",\n",
    "                         facet_col=\"time\")\n",
    "fig.show()"
   ]
  },
  {
   "cell_type": "code",
   "execution_count": null,
   "metadata": {},
   "outputs": [],
   "source": [
    "df = px.data.wind()\n",
    "\n",
    "fig = px.scatter_polar(df, r=\"frequency\", theta=\"direction\")\n",
    "fig.show()"
   ]
  },
  {
   "cell_type": "code",
   "execution_count": null,
   "metadata": {},
   "outputs": [],
   "source": [
    "df"
   ]
  },
  {
   "cell_type": "code",
   "execution_count": null,
   "metadata": {},
   "outputs": [],
   "source": [
    "fig = px.line_polar(df,\n",
    "                    r=\"frequency\",\n",
    "                    theta=\"direction\",\n",
    "                    color=\"strength\",\n",
    "                    line_close=True,\n",
    "                    color_discrete_sequence=px.colors.sequential.Plasma_r,\n",
    "                    template=\"plotly_dark\")\n",
    "\n",
    "fig.show()\n",
    "\n",
    "# In a polar line plot, each row of data_frame is represented as a vertex of a polyline mark in polar coordinates."
   ]
  },
  {
   "cell_type": "code",
   "execution_count": null,
   "metadata": {},
   "outputs": [],
   "source": [
    "import plotly.figure_factory as ff\n",
    "\n",
    "x, y = np.meshgrid(np.arange(0, 2, .2), np.arange(\n",
    "    0, 2, .2))  # Return coordinate matrices from coordinate vectors.\n",
    "u = np.cos(x) * y\n",
    "v = np.sin(x) * y\n",
    "\n",
    "fig = ff.create_quiver(x, y, u, v)  # Returns data for a quiver plot.\n",
    "fig.show()"
   ]
  },
  {
   "cell_type": "markdown",
   "metadata": {},
   "source": [
    "### Seaborn"
   ]
  },
  {
   "cell_type": "markdown",
   "metadata": {},
   "source": [
    "https://seaborn.pydata.org\n",
    "    \n",
    "https://jakevdp.github.io/PythonDataScienceHandbook/04.14-visualization-with-seaborn.html\n",
    "\n",
    "https://python-graph-gallery.com/seaborn/\n",
    "\n",
    "https://elitedatascience.com/python-seaborn-tutorial\n",
    "\n",
    "https://www.tutorialspoint.com/seaborn/index.htm\n",
    "\n",
    "https://www.kaggle.com/kanncaa1/seaborn-tutorial-for-beginners\n",
    "\n",
    "https://www.datacamp.com/community/tutorials/seaborn-python-tutorial"
   ]
  },
  {
   "cell_type": "code",
   "execution_count": null,
   "metadata": {},
   "outputs": [],
   "source": [
    "import seaborn as sns  # or sn\n",
    "\n",
    "# Load the example flights dataset and convert to long-form.\n",
    "flights_long = sns.load_dataset(\"flights\")\n",
    "flights = flights_long.pivot(\"month\", \"year\", \"passengers\")\n",
    "\n",
    "# Draw a heatmap with the numeric values in each cell.\n",
    "f, ax = plt.subplots(figsize=(9, 6))\n",
    "sns.heatmap(flights, annot=True, fmt=\"d\", linewidths=.5,\n",
    "            ax=ax)  # Plot rectangular data as a colour-encoded matrix."
   ]
  },
  {
   "cell_type": "code",
   "execution_count": null,
   "metadata": {},
   "outputs": [],
   "source": [
    "flights_long"
   ]
  },
  {
   "cell_type": "code",
   "execution_count": null,
   "metadata": {},
   "outputs": [],
   "source": [
    "flights"
   ]
  },
  {
   "cell_type": "code",
   "execution_count": null,
   "metadata": {},
   "outputs": [],
   "source": [
    "ax = sns.heatmap(flights, cmap=\"YlGnBu\")"
   ]
  },
  {
   "cell_type": "code",
   "execution_count": null,
   "metadata": {},
   "outputs": [],
   "source": [
    "sns.set(style=\"ticks\")  # Set aesthetic parameters in one step.\n",
    "tips = sns.load_dataset(\"tips\")\n",
    "g = sns.relplot(x=\"total_bill\", y=\"tip\", hue=\"day\", data=tips)\n",
    "\n",
    "# Figure-level interface for drawing relational plots onto a FacetGrid."
   ]
  },
  {
   "cell_type": "code",
   "execution_count": null,
   "metadata": {},
   "outputs": [],
   "source": [
    "g = sns.relplot(x=\"total_bill\", y=\"tip\", hue=\"day\", col=\"time\", data=tips)"
   ]
  },
  {
   "cell_type": "code",
   "execution_count": null,
   "metadata": {},
   "outputs": [],
   "source": [
    "g = sns.relplot(x=\"total_bill\",\n",
    "                y=\"tip\",\n",
    "                hue=\"day\",\n",
    "                col=\"time\",\n",
    "                row=\"sex\",\n",
    "                data=tips)"
   ]
  },
  {
   "cell_type": "code",
   "execution_count": null,
   "metadata": {},
   "outputs": [],
   "source": [
    "g = sns.relplot(x=\"total_bill\",\n",
    "                y=\"tip\",\n",
    "                hue=\"time\",\n",
    "                size=\"size\",\n",
    "                palette=[\"b\", \"r\"],\n",
    "                sizes=(10, 100),\n",
    "                col=\"time\",\n",
    "                data=tips)"
   ]
  },
  {
   "cell_type": "code",
   "execution_count": null,
   "metadata": {},
   "outputs": [],
   "source": [
    "fmri = sns.load_dataset(\"fmri\")\n",
    "g = sns.relplot(x=\"timepoint\",\n",
    "                y=\"signal\",\n",
    "                hue=\"event\",\n",
    "                style=\"event\",\n",
    "                col=\"region\",\n",
    "                kind=\"line\",\n",
    "                data=fmri)"
   ]
  },
  {
   "cell_type": "code",
   "execution_count": null,
   "metadata": {},
   "outputs": [],
   "source": [
    "sns.set(style=\"whitegrid\")\n",
    "tips = sns.load_dataset(\"tips\")\n",
    "ax = sns.boxplot(x=tips[\"total_bill\"]\n",
    "                 )  # Draw a box plot to show distributions to categories."
   ]
  },
  {
   "cell_type": "code",
   "execution_count": null,
   "metadata": {},
   "outputs": [],
   "source": [
    "ax = sns.boxplot(x=\"day\", y=\"total_bill\", data=tips)"
   ]
  },
  {
   "cell_type": "code",
   "execution_count": null,
   "metadata": {},
   "outputs": [],
   "source": [
    "ax = sns.boxplot(x=\"day\",\n",
    "                 y=\"total_bill\",\n",
    "                 hue=\"smoker\",\n",
    "                 data=tips,\n",
    "                 palette=\"Set3\")"
   ]
  },
  {
   "cell_type": "code",
   "execution_count": null,
   "metadata": {},
   "outputs": [],
   "source": [
    "ax = sns.boxplot(x=\"day\", y=\"total_bill\", data=tips)\n",
    "ax = sns.swarmplot(\n",
    "    x=\"day\", y=\"total_bill\", data=tips,\n",
    "    color=\".25\")  # Draw a categorical scatterplot with non-overlapping points."
   ]
  },
  {
   "cell_type": "code",
   "execution_count": null,
   "metadata": {},
   "outputs": [],
   "source": [
    "ax = sns.violinplot(x=\"day\",\n",
    "                    y=\"total_bill\",\n",
    "                    hue=\"smoker\",\n",
    "                    data=tips,\n",
    "                    palette=\"muted\",\n",
    "                    split=True)"
   ]
  },
  {
   "cell_type": "markdown",
   "metadata": {},
   "source": [
    "[Kernel Density Estimation](https://mathisonian.github.io/kde/)\n",
    "\n",
    "http://faculty.washington.edu/yenchic/18W_425/Lec6_hist_KDE.pdf\n",
    "\n",
    "https://jakevdp.github.io/PythonDataScienceHandbook/05.13-kernel-density-estimation.html\n",
    "\n",
    "http://www.machinelearning.ru/wiki/images/5/51/Kitov-ML-eng-11-Kernel_density_estimation.pdf\n",
    "\n",
    "https://deepai.org/machine-learning-glossary-and-terms/kernel-density-estimation"
   ]
  },
  {
   "cell_type": "code",
   "execution_count": null,
   "metadata": {},
   "outputs": [],
   "source": [
    "sns.set(style=\"ticks\", color_codes=True)\n",
    "iris = sns.load_dataset(\"iris\")\n",
    "g = sns.pairplot(iris,\n",
    "                 hue=\"species\")  # Plot pairwise relationships in a dataset."
   ]
  },
  {
   "cell_type": "code",
   "execution_count": null,
   "metadata": {},
   "outputs": [],
   "source": [
    "g = sns.pairplot(iris, kind=\"reg\")"
   ]
  },
  {
   "cell_type": "code",
   "execution_count": null,
   "metadata": {},
   "outputs": [],
   "source": [
    "sns.set(color_codes=True)\n",
    "tips = sns.load_dataset(\"tips\")\n",
    "ax = sns.regplot(x=\"total_bill\", y=\"tip\",\n",
    "                 data=tips)  # Plot data and a linear regression model fit."
   ]
  },
  {
   "cell_type": "markdown",
   "metadata": {},
   "source": [
    "## Part VI: SciPy"
   ]
  },
  {
   "cell_type": "markdown",
   "metadata": {},
   "source": [
    "https://docs.scipy.org/doc/scipy/reference/tutorial/\n",
    "\n",
    "https://www.guru99.com/scipy-tutorial.html\n",
    "\n",
    "https://www.tutorialspoint.com/scipy/index.htm\n",
    "\n",
    "https://scipy-lectures.org\n",
    "\n",
    "https://www.edureka.co/blog/scipy-tutorial/\n",
    "\n",
    "https://www.journaldev.com/18106/python-scipy-tutorial\n",
    "\n",
    "https://www.dezyre.com/data-science-in-python-tutorial/scipy-introduction-tutorial"
   ]
  },
  {
   "cell_type": "code",
   "execution_count": null,
   "metadata": {},
   "outputs": [],
   "source": [
    "from scipy import linalg\n",
    "\n",
    "# Define a square matrix\n",
    "two_d_array = np.array([[4, 5], [3, 2]])\n",
    "\n",
    "# Pass values to det() function\n",
    "linalg.det(two_d_array)"
   ]
  },
  {
   "cell_type": "code",
   "execution_count": null,
   "metadata": {},
   "outputs": [],
   "source": [
    "two_d_array"
   ]
  },
  {
   "cell_type": "code",
   "execution_count": null,
   "metadata": {},
   "outputs": [],
   "source": [
    "from scipy import linalg\n",
    "a = np.array([[1, 3, 5], [2, 5, 1], [2, 3, 8]])\n",
    "a"
   ]
  },
  {
   "cell_type": "code",
   "execution_count": null,
   "metadata": {},
   "outputs": [],
   "source": [
    "b = linalg.inv(a)  # Compute the inverse of a matrix.\n",
    "b"
   ]
  },
  {
   "cell_type": "code",
   "execution_count": null,
   "metadata": {},
   "outputs": [],
   "source": [
    "c = np.array([[1, 1, 1], [1, 1, 1]])\n",
    "c"
   ]
  },
  {
   "cell_type": "code",
   "execution_count": null,
   "metadata": {},
   "outputs": [],
   "source": [
    "a = np.array([[1, 2], [3, 4]])\n",
    "a"
   ]
  },
  {
   "cell_type": "code",
   "execution_count": null,
   "metadata": {},
   "outputs": [],
   "source": [
    "b = np.array([[5], [6]])\n",
    "b"
   ]
  },
  {
   "cell_type": "code",
   "execution_count": null,
   "metadata": {},
   "outputs": [],
   "source": [
    "c = np.linalg.solve(a, b)  # Solve the equation ax = b for x.\n",
    "c"
   ]
  },
  {
   "cell_type": "code",
   "execution_count": null,
   "metadata": {},
   "outputs": [],
   "source": [
    "from scipy import stats\n",
    "from scipy.stats import norm"
   ]
  },
  {
   "cell_type": "code",
   "execution_count": null,
   "metadata": {},
   "outputs": [],
   "source": [
    "a = norm.rvs(size=5)  # Random variates of a given type.\n",
    "a"
   ]
  },
  {
   "cell_type": "code",
   "execution_count": null,
   "metadata": {},
   "outputs": [],
   "source": [
    "a.mean()"
   ]
  },
  {
   "cell_type": "code",
   "execution_count": null,
   "metadata": {},
   "outputs": [],
   "source": [
    "type(a)"
   ]
  },
  {
   "cell_type": "code",
   "execution_count": null,
   "metadata": {},
   "outputs": [],
   "source": [
    "a.std()"
   ]
  },
  {
   "cell_type": "code",
   "execution_count": null,
   "metadata": {},
   "outputs": [],
   "source": [
    "a.var()\n",
    "\n",
    "# Mean is the average of an element.\n",
    "\n",
    "# Variance is a sum of squared differences from the mean divided by the number of elements.\n",
    "# Variance = ∑(arr[i] – mean)^2 / n\n",
    "\n",
    "# Standard Deviation is the square root of the variance\n",
    "# Standard Deviation = sqrt(Variance)"
   ]
  },
  {
   "cell_type": "code",
   "execution_count": null,
   "metadata": {},
   "outputs": [],
   "source": [
    "import math\n",
    "\n",
    "math.sqrt(a.var())"
   ]
  },
  {
   "cell_type": "code",
   "execution_count": null,
   "metadata": {},
   "outputs": [],
   "source": [
    "from scipy.stats import norm"
   ]
  },
  {
   "cell_type": "code",
   "execution_count": null,
   "metadata": {},
   "outputs": [],
   "source": [
    "r = norm.rvs(size=1000)"
   ]
  },
  {
   "cell_type": "code",
   "execution_count": null,
   "metadata": {},
   "outputs": [],
   "source": [
    "fig, ax = plt.subplots(1, 1)\n",
    "ax.hist(r, density=True, histtype='stepfilled', alpha=0.2)\n",
    "plt.show()"
   ]
  },
  {
   "cell_type": "code",
   "execution_count": null,
   "metadata": {},
   "outputs": [],
   "source": [
    "r.mean()"
   ]
  },
  {
   "cell_type": "code",
   "execution_count": null,
   "metadata": {},
   "outputs": [],
   "source": [
    "r.max()"
   ]
  },
  {
   "cell_type": "code",
   "execution_count": null,
   "metadata": {},
   "outputs": [],
   "source": [
    "r.min()"
   ]
  },
  {
   "cell_type": "code",
   "execution_count": null,
   "metadata": {},
   "outputs": [],
   "source": [
    "r.argmax()"
   ]
  },
  {
   "cell_type": "code",
   "execution_count": null,
   "metadata": {},
   "outputs": [],
   "source": [
    "r.shape"
   ]
  },
  {
   "cell_type": "code",
   "execution_count": null,
   "metadata": {},
   "outputs": [],
   "source": [
    "r[r.argmax()]"
   ]
  },
  {
   "cell_type": "code",
   "execution_count": null,
   "metadata": {},
   "outputs": [],
   "source": [
    "r[r.argmin()]"
   ]
  },
  {
   "cell_type": "code",
   "execution_count": null,
   "metadata": {},
   "outputs": [],
   "source": [
    "r.sum()"
   ]
  },
  {
   "cell_type": "code",
   "execution_count": null,
   "metadata": {},
   "outputs": [],
   "source": [
    "s = 0.0\n",
    "for i in range(len(r)):\n",
    "    s = s + r[i]\n",
    "s"
   ]
  },
  {
   "cell_type": "code",
   "execution_count": null,
   "metadata": {},
   "outputs": [],
   "source": [
    "from scipy.stats import chisquare\n",
    "a = chisquare([16, 18, 16, 14, 12, 12])  # Calculate a one-way chi-square test.\n",
    "a"
   ]
  },
  {
   "cell_type": "code",
   "execution_count": null,
   "metadata": {},
   "outputs": [],
   "source": [
    "from scipy.optimize import minimize"
   ]
  },
  {
   "cell_type": "code",
   "execution_count": null,
   "metadata": {},
   "outputs": [],
   "source": [
    "def rosen(x):\n",
    "    \"\"\"The Rosenbrock function\"\"\"\n",
    "    return sum(100.0 * (x[1:] - x[:-1]**2.0)**2.0 + (1 - x[:-1])**2.0)"
   ]
  },
  {
   "cell_type": "code",
   "execution_count": null,
   "metadata": {},
   "outputs": [],
   "source": [
    "x0 = np.array([1.3, 0.7, 0.8, 1.9, 1.2])\n",
    "res = minimize(  # Minimization of a scalar function of one or more variables.\n",
    "    rosen,\n",
    "    x0,\n",
    "    method='nelder-mead',\n",
    "    options={\n",
    "        'xatol': 1e-8,\n",
    "        'disp': True\n",
    "    })"
   ]
  },
  {
   "cell_type": "code",
   "execution_count": null,
   "metadata": {},
   "outputs": [],
   "source": [
    "print(res.x)"
   ]
  },
  {
   "cell_type": "code",
   "execution_count": null,
   "metadata": {},
   "outputs": [],
   "source": [
    "from scipy.optimize import curve_fit\n",
    "\n",
    "\n",
    "def func(x, a, b, c):\n",
    "    return a * np.exp(-b * x) + c"
   ]
  },
  {
   "cell_type": "code",
   "execution_count": null,
   "metadata": {},
   "outputs": [],
   "source": [
    "xdata = np.linspace(0, 4, 50)\n",
    "y = func(xdata, 2.5, 1.3, 0.5)\n",
    "np.random.seed(1729)\n",
    "y_noise = 0.2 * np.random.normal(size=xdata.size)\n",
    "ydata = y + y_noise\n",
    "plt.plot(xdata, ydata, 'b-', label='data')"
   ]
  },
  {
   "cell_type": "code",
   "execution_count": null,
   "metadata": {},
   "outputs": [],
   "source": [
    "xdata = np.linspace(0, 4, 50)\n",
    "y = func(xdata, 2.5, 1.3, 0.5)\n",
    "#np.random.seed( 1729 )\n",
    "y_noise = 0.2 * np.random.normal(size=xdata.size)\n",
    "ydata = y + y_noise\n",
    "plt.plot(xdata, ydata, 'b-', label='data')"
   ]
  },
  {
   "cell_type": "code",
   "execution_count": null,
   "metadata": {},
   "outputs": [],
   "source": [
    "popt, pcov = curve_fit(\n",
    "    func, xdata,\n",
    "    ydata)  # Use non-linear least squares to fit a function, f, to data.\n",
    "popt"
   ]
  },
  {
   "cell_type": "code",
   "execution_count": null,
   "metadata": {},
   "outputs": [],
   "source": [
    "plt.plot(xdata,\n",
    "         func(xdata, *popt),\n",
    "         'r-',\n",
    "         label='fit: a=%5.3f, b=%5.3f, c=%5.3f' % tuple(popt))\n",
    "plt.xlabel('x')\n",
    "plt.ylabel('y')\n",
    "plt.legend()  # For Matplotlib: place a legend on the axes.\n",
    "plt.show()"
   ]
  },
  {
   "cell_type": "code",
   "execution_count": null,
   "metadata": {},
   "outputs": [],
   "source": [
    "# Constrain the optimization to the region of 0 <= a <= 3, 0 <= b <= 1 and 0 <= c <= 0.5:"
   ]
  },
  {
   "cell_type": "code",
   "execution_count": null,
   "metadata": {},
   "outputs": [],
   "source": [
    "popt, pcov = curve_fit(func, xdata, ydata, bounds=(0, [3., 1., 0.5]))\n",
    "popt"
   ]
  },
  {
   "cell_type": "code",
   "execution_count": null,
   "metadata": {},
   "outputs": [],
   "source": [
    "plt.plot(xdata,\n",
    "         func(xdata, *popt),\n",
    "         'g--',\n",
    "         label='fit: a=%5.3f, b=%5.3f, c=%5.3f' % tuple(popt))\n",
    "plt.xlabel('x')\n",
    "plt.ylabel('y')\n",
    "plt.legend()\n",
    "plt.show()"
   ]
  },
  {
   "cell_type": "code",
   "execution_count": null,
   "metadata": {},
   "outputs": [],
   "source": [
    "xdata = np.linspace(0, 4, 50)\n",
    "y = func(xdata, 2.5, 1.3, 0.5)\n",
    "np.random.seed(1729)\n",
    "y_noise = 0.2 * np.random.normal(size=xdata.size)\n",
    "ydata = y + y_noise\n",
    "plt.plot(xdata, ydata, 'b-', label='data')\n",
    "\n",
    "popt, pcov = curve_fit(func, xdata, ydata)\n",
    "\n",
    "plt.plot(xdata,\n",
    "         func(xdata, *popt),\n",
    "         'r-',\n",
    "         label='fit: a=%5.3f, b=%5.3f, c=%5.3f' % tuple(popt))\n",
    "plt.xlabel('x')\n",
    "plt.ylabel('y')\n",
    "plt.legend()\n",
    "#plt.show()\n",
    "\n",
    "popt, pcov = curve_fit(func, xdata, ydata, bounds=(0, [3., 1., 0.5]))\n",
    "\n",
    "plt.plot(xdata,\n",
    "         func(xdata, *popt),\n",
    "         'g--',\n",
    "         label='fit: a=%5.3f, b=%5.3f, c=%5.3f' % tuple(popt))\n",
    "plt.xlabel('x')\n",
    "plt.ylabel('y')\n",
    "plt.legend()\n",
    "#plt.show()"
   ]
  },
  {
   "cell_type": "code",
   "execution_count": null,
   "metadata": {},
   "outputs": [],
   "source": [
    "# Seed the random number generator for reproducibility\n",
    "np.random.seed(0)\n",
    "\n",
    "x_data = np.linspace(-5, 5, num=50)\n",
    "y_data = 2.9 * np.sin(1.5 * x_data) + np.random.normal(size=50)\n",
    "\n",
    "# And plot it\n",
    "import matplotlib.pyplot as plt\n",
    "plt.figure(figsize=(6, 4))\n",
    "plt.scatter(x_data, y_data)"
   ]
  },
  {
   "cell_type": "code",
   "execution_count": null,
   "metadata": {},
   "outputs": [],
   "source": [
    "from scipy import optimize\n",
    "\n",
    "\n",
    "def test_func(x, a, b):\n",
    "    return a * np.sin(b * x)\n",
    "\n",
    "\n",
    "params, params_covariance = optimize.curve_fit(test_func,\n",
    "                                               x_data,\n",
    "                                               y_data,\n",
    "                                               p0=[2, 2])\n",
    "\n",
    "print(params)"
   ]
  },
  {
   "cell_type": "code",
   "execution_count": null,
   "metadata": {},
   "outputs": [],
   "source": [
    "def test_func(x, a, b):\n",
    "    return a * np.sin(b * x)\n",
    "\n",
    "\n",
    "params, params_covariance = optimize.curve_fit(test_func, x_data, y_data)\n",
    "\n",
    "print(params)"
   ]
  },
  {
   "cell_type": "code",
   "execution_count": null,
   "metadata": {},
   "outputs": [],
   "source": [
    "plt.figure(figsize=(6, 4))\n",
    "plt.scatter(x_data, y_data, label='Data')\n",
    "plt.plot(x_data,\n",
    "         test_func(x_data, params[0], params[1]),\n",
    "         label='Fitted function')\n",
    "\n",
    "plt.legend(loc='best')\n",
    "\n",
    "plt.show()"
   ]
  },
  {
   "cell_type": "code",
   "execution_count": null,
   "metadata": {},
   "outputs": [],
   "source": [
    "# Various options for the position of the legend.\n",
    "'''\n",
    "best\n",
    "upper right\n",
    "upper left\n",
    "lower left\n",
    "lower right\n",
    "right\n",
    "center left\n",
    "center right\n",
    "lower center\n",
    "upper center\n",
    "center\n",
    "'''"
   ]
  },
  {
   "cell_type": "code",
   "execution_count": null,
   "metadata": {},
   "outputs": [],
   "source": [
    "# Seed the random number generator for reproducibility\n",
    "#np.random.seed(0)\n",
    "\n",
    "# Generate some data for this demonstration.\n",
    "data = norm.rvs(10.0, 2.5, size=500)  # + np.random.normal(size=500)\n",
    "\n",
    "# Fit a normal distribution to the data:\n",
    "mu, std = norm.fit(data)\n",
    "\n",
    "# Plot the histogram.\n",
    "plt.hist(data, bins=25, density=True, alpha=0.6, color='g')\n",
    "\n",
    "# Plot the PDF.\n",
    "xmin, xmax = plt.xlim()\n",
    "x = np.linspace(xmin, xmax, 100)\n",
    "p = norm.pdf(x, mu, std)  # Probability density function.\n",
    "plt.plot(x, p, 'k', linewidth=2)\n",
    "title = \"Fit results: mu = %.2f,  std = %.2f\" % (mu, std)\n",
    "plt.title(title)\n",
    "plt.figure(figsize=(6, 4))\n",
    "\n",
    "plt.show()"
   ]
  },
  {
   "cell_type": "code",
   "execution_count": null,
   "metadata": {},
   "outputs": [],
   "source": [
    "abs(mu - np.mean(data)) < 0.01"
   ]
  },
  {
   "cell_type": "code",
   "execution_count": null,
   "metadata": {},
   "outputs": [],
   "source": [
    "abs(std - np.std(data, ddof=1)) < 0.01"
   ]
  },
  {
   "cell_type": "code",
   "execution_count": null,
   "metadata": {},
   "outputs": [],
   "source": [
    "abs(10.0 - np.mean(data)) < 0.01"
   ]
  },
  {
   "cell_type": "code",
   "execution_count": null,
   "metadata": {},
   "outputs": [],
   "source": [
    "abs(2.5 - np.std(data, ddof=1)) < 0.01"
   ]
  },
  {
   "cell_type": "code",
   "execution_count": null,
   "metadata": {},
   "outputs": [],
   "source": [
    "abs(2.5 - np.std(data, ddof=1)) < 0.1"
   ]
  },
  {
   "cell_type": "markdown",
   "metadata": {},
   "source": [
    "## Part VII: Additional materials"
   ]
  },
  {
   "cell_type": "markdown",
   "metadata": {},
   "source": [
    "#### Bokeh\n",
    "Bokeh is an interactive visualization library for modern web browsers. It provides elegant, concise construction of versatile graphics, and affords high-performance interactivity over large or streaming datasets. Bokeh can help anyone who would like to quickly and easily make interactive plots, dashboards, and data applications.\n",
    "https://docs.bokeh.org/en/latest/\n",
    "\n",
    "#### Numba\n",
    "Numba provides the ability to speed up applications with high-performance functions written directly in Python, rather than using language extensions such as Cython.\n",
    "\n",
    "Numba translates Python functions to optimized machine code at runtime using the industry-standard LLVM compiler library. Numba-compiled numerical algorithms in Python can approach the speeds of C or FORTRAN.\n",
    "\n",
    "You don't need to replace the Python interpreter, run a separate compilation step, or even have a C/C++ compiler installed. Just apply one of the Numba decorators to your Python function, and Numba does the rest.\n",
    "http://numba.pydata.org\n",
    "\n",
    "#### Desk\n",
    "Dask provides advanced parallelism for analytics, enabling performance at scale for the tools you love.\n",
    "https://dask.org"
   ]
  },
  {
   "cell_type": "code",
   "execution_count": null,
   "metadata": {},
   "outputs": [],
   "source": []
  },
  {
   "cell_type": "markdown",
   "metadata": {},
   "source": [
    "<center>\n",
    "<img src=\"https://meme-generator.com/wp-content/uploads/mememe/2019/11/mememe_cb8e239ef97eb73a7d04ecf46ed4bf5c-1.jpg\" alt=\"YOU-ROCK\" width=\"500\" height=\"600\">\n",
    "</center>"
   ]
  },
  {
   "cell_type": "code",
   "execution_count": null,
   "metadata": {},
   "outputs": [],
   "source": [
    "# If the picture does not work for you (there is no Internet connection),\n",
    "# you can uncomment these two lines below and then run the cell. The picture should appear.\n",
    "# These two:\n",
    "\n",
    "#from IPython.display import Image\n",
    "#Image(\"./images/mememe_cb8e239ef97eb73a7d04ecf46ed4bf5c-1.jpg\")"
   ]
  },
  {
   "cell_type": "code",
   "execution_count": null,
   "metadata": {},
   "outputs": [],
   "source": []
  },
  {
   "cell_type": "markdown",
   "metadata": {},
   "source": [
    "### Here you can see a lot of tasks and solutions for your Python practise:\n",
    "\n",
    "https://www.w3resource.com/python-exercises/\n",
    "\n",
    "https://pynative.com/python-exercises-with-solutions/\n",
    "\n",
    "https://www.machinelearningplus.com/python/101-numpy-exercises-python/\n",
    "\n",
    "https://www.machinelearningplus.com/python/101-pandas-exercises-python/\n",
    "\n",
    "Theory, not practice: https://www.machinelearningplus.com/plots/matplotlib-tutorial-complete-guide-python-plot-examples/"
   ]
  },
  {
   "cell_type": "code",
   "execution_count": null,
   "metadata": {},
   "outputs": [],
   "source": []
  },
  {
   "cell_type": "markdown",
   "metadata": {},
   "source": [
    "## Answers to problems:"
   ]
  },
  {
   "cell_type": "code",
   "execution_count": null,
   "metadata": {},
   "outputs": [],
   "source": [
    "# Answer to problem №0:\n",
    "\n",
    "a = np.array([[1, 0], [1, 2]])\n",
    "\n",
    "print(\"Original 2-d array:\")\n",
    "print(a)\n",
    "\n",
    "print(\"Determinant of the said 2-D array:\")\n",
    "print(np.linalg.det(a))"
   ]
  },
  {
   "cell_type": "code",
   "execution_count": null,
   "metadata": {},
   "outputs": [],
   "source": [
    "# Answer to problem №1:\n",
    "\n",
    "print(\"Printing original array\")\n",
    "sampleArray = np.array([[34, 43, 73], [82, 22, 12], [53, 94, 66]])\n",
    "print(sampleArray, '\\n')\n",
    "\n",
    "print(\"Array after deleting column 2 on axis 1\")\n",
    "sampleArray = np.delete(sampleArray, 1, axis=1)\n",
    "print(sampleArray, '\\n')\n",
    "\n",
    "newColumn = np.array([[10, 10, 10]])\n",
    "\n",
    "print(\"Array after inserting column 2 on axis 1\")\n",
    "sampleArray = np.insert(sampleArray, 1, newColumn, axis=1)\n",
    "print(sampleArray)"
   ]
  },
  {
   "cell_type": "code",
   "execution_count": null,
   "metadata": {},
   "outputs": [],
   "source": [
    "# Answer to problem №2:\n",
    "\n",
    "exam_data = {\n",
    "    'name': [\n",
    "        'Anastasia', 'Dima', 'Katherine', 'James', 'Emily', 'Michael',\n",
    "        'Matthew', 'Laura', 'Kevin', 'Jonas'\n",
    "    ],\n",
    "    'score': [12.5, 9, 16.5, np.nan, 9, 20, 14.5, np.nan, 8, 19],\n",
    "    'attempts': [1, 3, 2, 3, 2, 3, 1, 1, 2, 1],\n",
    "    'qualify':\n",
    "    ['yes', 'no', 'yes', 'no', 'no', 'yes', 'yes', 'no', 'no', 'yes']\n",
    "}\n",
    "\n",
    "labels = ['a', 'b', 'c', 'd', 'e', 'f', 'g', 'h', 'i', 'j']\n",
    "\n",
    "df = pd.DataFrame(exam_data, index=labels)\n",
    "print(df, '\\n')\n",
    "\n",
    "total_rows = len(df.axes[0])\n",
    "total_cols = len(df.axes[1])\n",
    "\n",
    "print(\"Number of Rows: \" + str(total_rows))\n",
    "print(\"Number of Columns: \" + str(total_cols))"
   ]
  },
  {
   "cell_type": "code",
   "execution_count": null,
   "metadata": {},
   "outputs": [],
   "source": [
    "# Answer to problem №3:\n",
    "\n",
    "exam_data = {\n",
    "    'name': [\n",
    "        'Anastasia', 'Dima', 'Katherine', 'James', 'Emily', 'Michael',\n",
    "        'Matthew', 'Laura', 'Kevin', 'Jonas'\n",
    "    ],\n",
    "    'score': [12.5, 9, 16.5, np.nan, 9, 20, 14.5, np.nan, 8, 19],\n",
    "    'attempts': [1, 3, 2, 3, 2, 3, 1, 1, 2, 1],\n",
    "    'qualify':\n",
    "    ['yes', 'no', 'yes', 'no', 'no', 'yes', 'yes', 'no', 'no', 'yes']\n",
    "}\n",
    "\n",
    "labels = ['a', 'b', 'c', 'd', 'e', 'f', 'g', 'h', 'i', 'j']\n",
    "\n",
    "df = pd.DataFrame(exam_data, index=labels)\n",
    "print(df)\n",
    "\n",
    "print(\"\\nMean score for each different student in data frame:\")\n",
    "print(df['score'].mean())"
   ]
  },
  {
   "cell_type": "code",
   "execution_count": null,
   "metadata": {},
   "outputs": [],
   "source": [
    "# Answer to problem №4:\n",
    "\n",
    "df = pd.read_csv(\"./data/company_sales_data.csv\")\n",
    "\n",
    "monthList = df['month_number'].tolist()\n",
    "toothPasteSalesData = df['toothpaste'].tolist()\n",
    "\n",
    "plt.scatter(monthList, toothPasteSalesData, label='Tooth paste Sales data')\n",
    "plt.xlabel('Month Number')\n",
    "plt.ylabel('Number of units Sold')\n",
    "plt.legend(loc='upper left')\n",
    "plt.title('Tooth paste Sales data')\n",
    "plt.xticks(monthList)\n",
    "plt.grid(True, linewidth=1, linestyle=\"--\")\n",
    "plt.show()"
   ]
  },
  {
   "cell_type": "code",
   "execution_count": null,
   "metadata": {},
   "outputs": [],
   "source": []
  },
  {
   "cell_type": "markdown",
   "metadata": {},
   "source": [
    "# The notebook is based on https://github.com/HSE-LAMBDA/MLatMIPS-2020 (Mosphys 2020, https://mosphys.ru) and many other links from the Internet."
   ]
  }
 ],
 "metadata": {
  "colab": {
   "collapsed_sections": [],
   "name": "Libraries.ipynb",
   "provenance": [],
   "toc_visible": true
  },
  "kernelspec": {
   "display_name": "Python 3",
   "language": "python",
   "name": "python3"
  },
  "language_info": {
   "codemirror_mode": {
    "name": "ipython",
    "version": 3
   },
   "file_extension": ".py",
   "mimetype": "text/x-python",
   "name": "python",
   "nbconvert_exporter": "python",
   "pygments_lexer": "ipython3",
   "version": "3.8.5"
  },
  "nteract": {
   "version": "0.21.0"
  }
 },
 "nbformat": 4,
 "nbformat_minor": 1
}
