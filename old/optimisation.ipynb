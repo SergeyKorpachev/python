{
 "cells": [
  {
   "cell_type": "code",
   "execution_count": 1,
   "metadata": {},
   "outputs": [],
   "source": [
    "import numpy as np\n",
    "from math import pi"
   ]
  },
  {
   "cell_type": "code",
   "execution_count": 2,
   "metadata": {},
   "outputs": [
    {
     "name": "stdout",
     "output_type": "stream",
     "text": [
      "pi =  3.141592653589793\n"
     ]
    }
   ],
   "source": [
    "print( 'pi = ', pi )"
   ]
  },
  {
   "cell_type": "code",
   "execution_count": 3,
   "metadata": {},
   "outputs": [],
   "source": [
    "# First array is from 0 to 1 000 000\n",
    "# Second array is from 99 to 1 000 099"
   ]
  },
  {
   "cell_type": "code",
   "execution_count": 4,
   "metadata": {},
   "outputs": [
    {
     "name": "stdout",
     "output_type": "stream",
     "text": [
      "CPU times: user 1.61 s, sys: 70.1 ms, total: 1.68 s\n",
      "Wall time: 1.68 s\n"
     ]
    }
   ],
   "source": [
    "%%time \n",
    "# ^-- this \"magic\" measures and prints cell computation time\n",
    "\n",
    "# Option I: pure python\n",
    "arr_1 = range( 1000000 )\n",
    "arr_2 = range( 99, 1000099 )\n",
    "\n",
    "\n",
    "a_sum = []\n",
    "a_prod = []\n",
    "sqrt_a1 = []\n",
    "sqrt_a2 = []\n",
    "other_a = []\n",
    "for i in range( len( arr_1 ) ):\n",
    "    a_sum.append( arr_1[ i ] + arr_2[ i ] )\n",
    "    a_prod.append( arr_1[ i ] * arr_2[ i ] )\n",
    "    sqrt_a1.append( arr_1[ i ] ** 0.5 )\n",
    "    sqrt_a2.append( arr_2[ i ] ** 0.5 )\n",
    "    other_a.append( ( ( arr_1[ i ] ** 1.5 ) + ( arr_2[ i ] ** 1.5 ) ) * pi )\n",
    "    \n",
    "    \n",
    "arr_1_sum = sum( arr_1 )\n",
    "arr_2_sum = sum( arr_2 )"
   ]
  },
  {
   "cell_type": "code",
   "execution_count": 5,
   "metadata": {},
   "outputs": [
    {
     "name": "stdout",
     "output_type": "stream",
     "text": [
      "CPU times: user 530 ms, sys: 91.6 ms, total: 621 ms\n",
      "Wall time: 620 ms\n"
     ]
    }
   ],
   "source": [
    "%%time\n",
    "\n",
    "# Option II: start from python, convert to numpy\n",
    "arr_1 = range( 1000000 )\n",
    "arr_2 = range( 99, 1000099 )\n",
    "\n",
    "\n",
    "arr_1, arr_2 = np.array( arr_1 ), np.array( arr_2 )\n",
    "\n",
    "\n",
    "a_sum = arr_1 + arr_2\n",
    "a_prod = arr_1 * arr_2\n",
    "sqrt_a1 = arr_1 ** .5\n",
    "sqrt_a2 = arr_2 ** .5\n",
    "other_a = ( ( ( arr_1 ** 1.5 ) + ( arr_2 ** 1.5 ) ) * pi )\n",
    "\n",
    "\n",
    "arr_1_sum = arr_1.sum()\n",
    "arr_2_sum = arr_2.sum()"
   ]
  },
  {
   "cell_type": "code",
   "execution_count": 6,
   "metadata": {},
   "outputs": [
    {
     "name": "stdout",
     "output_type": "stream",
     "text": [
      "CPU times: user 102 ms, sys: 6.33 ms, total: 108 ms\n",
      "Wall time: 106 ms\n"
     ]
    }
   ],
   "source": [
    "%%time\n",
    "\n",
    "# Option III: pure numpy\n",
    "arr_1 = np.arange( 1000000 )\n",
    "arr_2 = np.arange( 99, 1000099 )\n",
    "\n",
    "\n",
    "a_sum = arr_1 + arr_2\n",
    "a_prod = arr_1 * arr_2\n",
    "sqrt_a1 = arr_1 ** .5\n",
    "sqrt_a2 = arr_2 ** .5\n",
    "other_a = ( ( ( arr_1 ** 1.5 ) + ( arr_2 ** 1.5 ) ) * pi )\n",
    "\n",
    "arr_1_sum = arr_1.sum()\n",
    "arr_2_sum = arr_2.sum()"
   ]
  },
  {
   "cell_type": "markdown",
   "metadata": {},
   "source": [
    "### Benchmarks of speed (numpy vs all): http://brilliantlywrong.blogspot.com/2015/01/benchmarks-of-speed-numpy-vs-all.html"
   ]
  },
  {
   "cell_type": "markdown",
   "metadata": {},
   "source": [
    "### <center><b> Some numbers from the link: </b></center>"
   ]
  },
  {
   "cell_type": "markdown",
   "metadata": {},
   "source": [
    "<h1>\n",
    "<table>\n",
    "  <tr>\n",
    "    <td>Pure Python</td>\n",
    "    <td>183ms</td>\n",
    "  </tr>\n",
    "  <tr>\n",
    "    <td>Numpy</td>\n",
    "    <td>5.97ms</td>\n",
    "  </tr>\n",
    "  <tr>\n",
    "    <td>Naive Cython</td>\n",
    "    <td>7.76ms</td>\n",
    "  </tr>\n",
    "  <tr>\n",
    "    <td>Optimised Cython</td>\n",
    "    <td>2.18ms</td>\n",
    "  </tr>\n",
    "  <tr>\n",
    "    <td>Cython calling C</td>\n",
    "    <td>2.22ms</td>\n",
    "  </tr>\n",
    "</table>\n",
    "</h1>"
   ]
  },
  {
   "cell_type": "markdown",
   "metadata": {},
   "source": [
    "<h1>\n",
    "<table>\n",
    "  <tr>\n",
    "    <td>Python</td>\n",
    "    <td>9.51s</td>\n",
    "  </tr>\n",
    "  <tr>\n",
    "    <td>Naive numpy</td>\n",
    "    <td>64.7ms</td>\n",
    "  </tr>\n",
    "  <tr>\n",
    "    <td>Numba</td>\n",
    "    <td>6.72ms</td>\n",
    "  </tr>\n",
    "  <tr>\n",
    "    <td>Cython</td>\n",
    "    <td>6.57ms</td>\n",
    "  </tr>\n",
    "  <tr>\n",
    "    <td>Parakeet</td>\n",
    "    <td>12.3ms</td>\n",
    "  </tr>\n",
    "  <tr>\n",
    "    <td>Cython</td>\n",
    "    <td>6.57ms</td>\n",
    "  </tr>\n",
    "</table>\n",
    "</h1>"
   ]
  },
  {
   "cell_type": "code",
   "execution_count": 7,
   "metadata": {},
   "outputs": [
    {
     "name": "stdout",
     "output_type": "stream",
     "text": [
      "CPU times: user 1 µs, sys: 0 ns, total: 1 µs\n",
      "Wall time: 5.01 µs\n"
     ]
    }
   ],
   "source": [
    "%%time\n",
    "\n",
    "string = 'HELLO WORLD!!!'"
   ]
  },
  {
   "cell_type": "code",
   "execution_count": 8,
   "metadata": {},
   "outputs": [
    {
     "name": "stdout",
     "output_type": "stream",
     "text": [
      "14\n",
      "CPU times: user 124 µs, sys: 52 µs, total: 176 µs\n",
      "Wall time: 123 µs\n"
     ]
    }
   ],
   "source": [
    "%%time\n",
    "\n",
    "if len( string ) > 1:\n",
    "    print( len( string ) )   # the len( string ) is calculated twice"
   ]
  },
  {
   "cell_type": "code",
   "execution_count": 9,
   "metadata": {},
   "outputs": [
    {
     "name": "stdout",
     "output_type": "stream",
     "text": [
      "14\n",
      "CPU times: user 167 µs, sys: 114 µs, total: 281 µs\n",
      "Wall time: 168 µs\n"
     ]
    }
   ],
   "source": [
    "%%time\n",
    "\n",
    "if ( length := len( string ) ) > 1:\n",
    "    print( length ) "
   ]
  },
  {
   "cell_type": "code",
   "execution_count": null,
   "metadata": {},
   "outputs": [],
   "source": []
  },
  {
   "cell_type": "markdown",
   "metadata": {},
   "source": [
    "# The notebook is based on https://github.com/HSE-LAMBDA/MLatMIPS-2020 (Mosphys 2020, https://mosphys.ru)"
   ]
  }
 ],
 "metadata": {
  "kernelspec": {
   "display_name": "Python 3",
   "language": "python",
   "name": "python3"
  },
  "language_info": {
   "codemirror_mode": {
    "name": "ipython",
    "version": 3
   },
   "file_extension": ".py",
   "mimetype": "text/x-python",
   "name": "python",
   "nbconvert_exporter": "python",
   "pygments_lexer": "ipython3",
   "version": "3.8.5"
  }
 },
 "nbformat": 4,
 "nbformat_minor": 4
}
