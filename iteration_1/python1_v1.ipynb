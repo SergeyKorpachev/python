{
 "cells": [
  {
   "cell_type": "markdown",
   "metadata": {},
   "source": [
    "<center>\n",
    "<img src=\"https://cdn.images.express.co.uk/img/dynamic/36/590x/secondary/Jack-Nicholson-in-The-Shining-2043016.jpg\" alt=\"Jack-Nicholson-in-The-Shining\">\n",
    "</center>"
   ]
  },
  {
   "cell_type": "code",
   "execution_count": 1,
   "metadata": {},
   "outputs": [],
   "source": [
    "# If the picture does not work for you (there is no Internet connection), \n",
    "# you can uncomment these two lines below and then run the cell. The picture should appear.\n",
    "# These two:\n",
    "\n",
    "#from IPython.display import Image\n",
    "#Image(\"Jack-Nicholson-in-The-Shining-2043016.jpg\")"
   ]
  },
  {
   "cell_type": "markdown",
   "metadata": {},
   "source": [
    "# <center> <h1> Here's Python! </h1> </center>"
   ]
  },
  {
   "cell_type": "markdown",
   "metadata": {},
   "source": [
    "# Why learn Python?\n",
    "\n",
    "https://www.codingdojo.com/blog/why-you-should-learn-python\n",
    "\n",
    "https://medium.com/datadriveninvestor/5-reasons-why-i-learned-python-and-why-you-should-learn-it-as-well-917f781aea05\n",
    "\n",
    "https://dbader.org/blog/why-learn-python\n",
    "\n",
    "https://hackernoon.com/10-reasons-to-learn-python-in-2018-f473dc35e2ee\n",
    "\n",
    "https://www.edureka.co/blog/10-reasons-why-you-should-learn-python\n",
    "\n",
    "https://www.geeksforgeeks.org/12-reasons-why-you-should-learn-python/\n",
    "\n",
    "https://codingnomads.co/blog/business/why-learn-python/"
   ]
  },
  {
   "cell_type": "markdown",
   "metadata": {},
   "source": [
    "### Your Python version"
   ]
  },
  {
   "cell_type": "code",
   "execution_count": 2,
   "metadata": {},
   "outputs": [
    {
     "name": "stdout",
     "output_type": "stream",
     "text": [
      "Python 3.8.5\r\n"
     ]
    }
   ],
   "source": [
    "!python --version"
   ]
  },
  {
   "cell_type": "markdown",
   "metadata": {
    "colab_type": "text",
    "id": "pfojW1Laghph"
   },
   "source": [
    "#### [Python programming language](https://www.python.org)\n",
    " \n",
    "#### Here you can see an additional information about Python (3.8): https://docs.python.org/3.8/tutorial/\n",
    "\n",
    "Some other links:\n",
    "\n",
    "Russian: https://github.com/MelLain/mipt-python\n",
    "\n",
    "https://stanfordpython.com/#overview\n",
    "\n",
    "https://github.com/jrjohansson/scientific-python-lectures\n",
    "\n",
    "https://nbviewer.jupyter.org/gist/rpmuller/5920182\n",
    "\n",
    "https://www.w3schools.com/python/python_intro.asp\n",
    "\n",
    "https://developers.google.com/edu/python/introduction\n",
    "\n",
    "https://beginnersbook.com/2018/01/introduction-to-python-programming/\n",
    "\n",
    "https://en.wikipedia.org/wiki/Python_(programming_language)"
   ]
  },
  {
   "cell_type": "markdown",
   "metadata": {},
   "source": [
    "# You can see links to Python practice at the end of the document"
   ]
  },
  {
   "cell_type": "markdown",
   "metadata": {},
   "source": [
    "### The symbol '!' and other magic things in Jupyter are shown here:\n",
    "\n",
    "https://blog.dominodatalab.com/lesser-known-ways-of-using-notebooks/\n",
    "\n",
    "https://towardsdatascience.com/optimizing-jupyter-notebook-tips-tricks-and-nbextensions-26d75d502663\n",
    "\n",
    "https://towardsdatascience.com/15-tips-and-tricks-to-use-jupyter-notebook-more-efficiently-ef05ede4e4b9\n",
    "\n",
    "https://www.dataquest.io/blog/jupyter-notebook-tips-tricks-shortcuts/\n",
    "\n",
    "https://ipython.readthedocs.io/en/stable/interactive/magics.html\n",
    "\n",
    "https://jakevdp.github.io/PythonDataScienceHandbook/01.05-ipython-and-shell-commands.html\n",
    "\n",
    "https://medium.com/swlh/some-neat-jupyter-tricks-be0775c3f17\n",
    "\n",
    "https://www.datacamp.com/community/tutorials/markdown-in-jupyter-notebook?utm_source=adwords_ppc&utm_campaignid=1455363063&utm_adgroupid=65083631748&utm_device=c&utm_keyword=&utm_matchtype=b&utm_network=g&utm_adpostion=&utm_creative=332602034361&utm_targetid=dsa-429603003980&utm_loc_interest_ms=&utm_loc_physical_ms=9047023&gclid=EAIaIQobChMI5JuB-9yf6wIVRxV7Ch3oCwftEAAYASAAEgJp9vD_BwE\n",
    "\n",
    "Russian: https://nuancesprog.ru/p/5616/"
   ]
  },
  {
   "cell_type": "markdown",
   "metadata": {
    "colab_type": "text",
    "id": "RqOTq_6hjkyP"
   },
   "source": [
    "## Using python as a calculator"
   ]
  },
  {
   "cell_type": "markdown",
   "metadata": {},
   "source": [
    "https://www.programiz.com/python-programming/operators"
   ]
  },
  {
   "cell_type": "code",
   "execution_count": 3,
   "metadata": {
    "colab": {},
    "colab_type": "code",
    "id": "JVfrJYBHgbXG",
    "outputId": "a35de8e7-f09d-40bf-94c4-177ab876b249"
   },
   "outputs": [
    {
     "data": {
      "text/plain": [
       "2"
      ]
     },
     "execution_count": 3,
     "metadata": {},
     "output_type": "execute_result"
    }
   ],
   "source": [
    "1 + 1"
   ]
  },
  {
   "cell_type": "code",
   "execution_count": 4,
   "metadata": {},
   "outputs": [
    {
     "data": {
      "text/plain": [
       "25"
      ]
     },
     "execution_count": 4,
     "metadata": {},
     "output_type": "execute_result"
    }
   ],
   "source": [
    "# Multiply two operands.\n",
    "\n",
    "5 * 5"
   ]
  },
  {
   "cell_type": "code",
   "execution_count": 5,
   "metadata": {
    "colab": {},
    "colab_type": "code",
    "id": "YhdP8Ksajr7q",
    "outputId": "37b36c1a-cc90-4db5-a1ef-4931e3c6031d"
   },
   "outputs": [
    {
     "data": {
      "text/plain": [
       "100"
      ]
     },
     "execution_count": 5,
     "metadata": {},
     "output_type": "execute_result"
    }
   ],
   "source": [
    "10 * (15 - 5)"
   ]
  },
  {
   "cell_type": "code",
   "execution_count": 6,
   "metadata": {
    "colab": {},
    "colab_type": "code",
    "id": "mWdxx3vjjwNJ",
    "outputId": "e42d3cf4-b984-4f8a-fbf6-08bbddea9c6e"
   },
   "outputs": [
    {
     "data": {
      "text/plain": [
       "16"
      ]
     },
     "execution_count": 6,
     "metadata": {},
     "output_type": "execute_result"
    }
   ],
   "source": [
    "# Exponent - left operand raised to the power of right.\n",
    "# x**y (x to the power y).\n",
    "\n",
    "2 ** 4 # (x ** y)"
   ]
  },
  {
   "cell_type": "code",
   "execution_count": 7,
   "metadata": {},
   "outputs": [
    {
     "data": {
      "text/plain": [
       "5.0"
      ]
     },
     "execution_count": 7,
     "metadata": {},
     "output_type": "execute_result"
    }
   ],
   "source": [
    "# Divide left operand by the right one (always results into float).\n",
    "\n",
    "10 / 2"
   ]
  },
  {
   "cell_type": "code",
   "execution_count": 8,
   "metadata": {},
   "outputs": [
    {
     "data": {
      "text/plain": [
       "5"
      ]
     },
     "execution_count": 8,
     "metadata": {},
     "output_type": "execute_result"
    }
   ],
   "source": [
    "# Floor division - division that results into whole number adjusted to the left in the number line.\n",
    "\n",
    "10 // 2"
   ]
  },
  {
   "cell_type": "code",
   "execution_count": 9,
   "metadata": {},
   "outputs": [
    {
     "data": {
      "text/plain": [
       "3.3333333333333335"
      ]
     },
     "execution_count": 9,
     "metadata": {},
     "output_type": "execute_result"
    }
   ],
   "source": [
    "10 / 3"
   ]
  },
  {
   "cell_type": "code",
   "execution_count": 10,
   "metadata": {},
   "outputs": [
    {
     "data": {
      "text/plain": [
       "3"
      ]
     },
     "execution_count": 10,
     "metadata": {},
     "output_type": "execute_result"
    }
   ],
   "source": [
    "10 // 3"
   ]
  },
  {
   "cell_type": "code",
   "execution_count": 11,
   "metadata": {},
   "outputs": [
    {
     "data": {
      "text/plain": [
       "1.1111111111111112"
      ]
     },
     "execution_count": 11,
     "metadata": {},
     "output_type": "execute_result"
    }
   ],
   "source": [
    "10 / 9"
   ]
  },
  {
   "cell_type": "code",
   "execution_count": 12,
   "metadata": {},
   "outputs": [
    {
     "data": {
      "text/plain": [
       "1"
      ]
     },
     "execution_count": 12,
     "metadata": {},
     "output_type": "execute_result"
    }
   ],
   "source": [
    "# Modulus - remainder of the division of left operand by the right.\n",
    "# x % y (remainder of x/y).\n",
    "\n",
    "10 % 9"
   ]
  },
  {
   "cell_type": "markdown",
   "metadata": {
    "colab_type": "text",
    "id": "gVRXRn6QkU18"
   },
   "source": [
    "## Variables (int, bool, float, complex)"
   ]
  },
  {
   "cell_type": "markdown",
   "metadata": {},
   "source": [
    "### What is the difference between statically typed and dynamically typed languages?\n",
    "\n",
    "https://stackoverflow.com/questions/1517582/what-is-the-difference-between-statically-typed-and-dynamically-typed-languages\n",
    "\n",
    "https://www.geeksforgeeks.org/why-python-is-called-dynamically-typed/\n",
    "\n",
    "https://realpython.com/lessons/dynamic-vs-static/"
   ]
  },
  {
   "cell_type": "code",
   "execution_count": 13,
   "metadata": {},
   "outputs": [],
   "source": [
    "# You don't need to specify the type of a variable in Python.\n",
    "\n",
    "a = 1\n",
    "b = 5"
   ]
  },
  {
   "cell_type": "code",
   "execution_count": 14,
   "metadata": {},
   "outputs": [
    {
     "name": "stdout",
     "output_type": "stream",
     "text": [
      "1  and  5\n"
     ]
    }
   ],
   "source": [
    "# Output of results\n",
    "\n",
    "print(a, ' and ', b)"
   ]
  },
  {
   "cell_type": "code",
   "execution_count": 15,
   "metadata": {},
   "outputs": [
    {
     "data": {
      "text/plain": [
       "int"
      ]
     },
     "execution_count": 15,
     "metadata": {},
     "output_type": "execute_result"
    }
   ],
   "source": [
    "# type() method returns class type of the argument(object) passed as parameter. \n",
    "# type() function is mostly used for debugging purposes.\n",
    "\n",
    "type(a)"
   ]
  },
  {
   "cell_type": "code",
   "execution_count": 16,
   "metadata": {},
   "outputs": [],
   "source": [
    "# Type float(x) to convert x to a floating-point number.\n",
    "\n",
    "a = float(a)"
   ]
  },
  {
   "cell_type": "code",
   "execution_count": 17,
   "metadata": {},
   "outputs": [
    {
     "data": {
      "text/plain": [
       "1.0"
      ]
     },
     "execution_count": 17,
     "metadata": {},
     "output_type": "execute_result"
    }
   ],
   "source": [
    "# Output of 'a'\n",
    "\n",
    "a"
   ]
  },
  {
   "cell_type": "code",
   "execution_count": 18,
   "metadata": {},
   "outputs": [
    {
     "data": {
      "text/plain": [
       "float"
      ]
     },
     "execution_count": 18,
     "metadata": {},
     "output_type": "execute_result"
    }
   ],
   "source": [
    "type(a)"
   ]
  },
  {
   "cell_type": "code",
   "execution_count": 19,
   "metadata": {},
   "outputs": [
    {
     "data": {
      "text/plain": [
       "True"
      ]
     },
     "execution_count": 19,
     "metadata": {},
     "output_type": "execute_result"
    }
   ],
   "source": [
    "# In programming you often need to know if an expression is True or False.\n",
    "# You can evaluate any expression in Python, and get one of two answers, True or False.\n",
    "# When you compare two values, the expression is evaluated and Python returns the Boolean answer:\n",
    "\n",
    "t = True\n",
    "t"
   ]
  },
  {
   "cell_type": "code",
   "execution_count": 20,
   "metadata": {},
   "outputs": [
    {
     "data": {
      "text/plain": [
       "False"
      ]
     },
     "execution_count": 20,
     "metadata": {},
     "output_type": "execute_result"
    }
   ],
   "source": [
    "f = False\n",
    "f"
   ]
  },
  {
   "cell_type": "code",
   "execution_count": 21,
   "metadata": {},
   "outputs": [
    {
     "data": {
      "text/plain": [
       "bool"
      ]
     },
     "execution_count": 21,
     "metadata": {},
     "output_type": "execute_result"
    }
   ],
   "source": [
    "type(t)"
   ]
  },
  {
   "cell_type": "code",
   "execution_count": 22,
   "metadata": {},
   "outputs": [
    {
     "data": {
      "text/plain": [
       "bool"
      ]
     },
     "execution_count": 22,
     "metadata": {},
     "output_type": "execute_result"
    }
   ],
   "source": [
    "type(f)"
   ]
  },
  {
   "cell_type": "code",
   "execution_count": 23,
   "metadata": {},
   "outputs": [
    {
     "data": {
      "text/plain": [
       "4.5"
      ]
     },
     "execution_count": 23,
     "metadata": {},
     "output_type": "execute_result"
    }
   ],
   "source": [
    "# Floating-point number.\n",
    "\n",
    "c = 4.5\n",
    "c"
   ]
  },
  {
   "cell_type": "code",
   "execution_count": 24,
   "metadata": {},
   "outputs": [
    {
     "data": {
      "text/plain": [
       "0.5"
      ]
     },
     "execution_count": 24,
     "metadata": {},
     "output_type": "execute_result"
    }
   ],
   "source": [
    "# You can write .5 instead of 0.5, it will be the same number.\n",
    "\n",
    "c = .5\n",
    "c"
   ]
  },
  {
   "cell_type": "code",
   "execution_count": 25,
   "metadata": {},
   "outputs": [
    {
     "data": {
      "text/plain": [
       "0.5"
      ]
     },
     "execution_count": 25,
     "metadata": {},
     "output_type": "execute_result"
    }
   ],
   "source": [
    "d = 0.5\n",
    "d"
   ]
  },
  {
   "cell_type": "code",
   "execution_count": 26,
   "metadata": {},
   "outputs": [
    {
     "data": {
      "text/plain": [
       "1.0"
      ]
     },
     "execution_count": 26,
     "metadata": {},
     "output_type": "execute_result"
    }
   ],
   "source": [
    "a"
   ]
  },
  {
   "cell_type": "code",
   "execution_count": 27,
   "metadata": {},
   "outputs": [],
   "source": [
    "c = 6.7"
   ]
  },
  {
   "cell_type": "code",
   "execution_count": 28,
   "metadata": {},
   "outputs": [
    {
     "data": {
      "text/plain": [
       "float"
      ]
     },
     "execution_count": 28,
     "metadata": {},
     "output_type": "execute_result"
    }
   ],
   "source": [
    "type(c)"
   ]
  },
  {
   "cell_type": "code",
   "execution_count": 29,
   "metadata": {},
   "outputs": [],
   "source": [
    "c = int(c)"
   ]
  },
  {
   "cell_type": "code",
   "execution_count": 30,
   "metadata": {},
   "outputs": [
    {
     "data": {
      "text/plain": [
       "6"
      ]
     },
     "execution_count": 30,
     "metadata": {},
     "output_type": "execute_result"
    }
   ],
   "source": [
    "c"
   ]
  },
  {
   "cell_type": "code",
   "execution_count": 31,
   "metadata": {},
   "outputs": [
    {
     "data": {
      "text/plain": [
       "int"
      ]
     },
     "execution_count": 31,
     "metadata": {},
     "output_type": "execute_result"
    }
   ],
   "source": [
    "type(c)"
   ]
  },
  {
   "cell_type": "code",
   "execution_count": 32,
   "metadata": {},
   "outputs": [
    {
     "name": "stdout",
     "output_type": "stream",
     "text": [
      "8.0 1200.0\n"
     ]
    }
   ],
   "source": [
    "d = 8.\n",
    "e = 1.2e3\n",
    "print(d, e)"
   ]
  },
  {
   "cell_type": "code",
   "execution_count": 33,
   "metadata": {
    "colab": {},
    "colab_type": "code",
    "id": "51LslOEhkWsJ"
   },
   "outputs": [
    {
     "name": "stdout",
     "output_type": "stream",
     "text": [
      "1 2 0.5\n"
     ]
    }
   ],
   "source": [
    "a = 1\n",
    "b = 2\n",
    "c = a / b\n",
    "\n",
    "print(a, b, c)\n",
    "\n",
    "# Anything after a '#' is a comment.\n",
    "# Note that `c` has different type (float) compared to `a` and `b` (which are of integer type)."
   ]
  },
  {
   "cell_type": "code",
   "execution_count": 34,
   "metadata": {},
   "outputs": [
    {
     "data": {
      "text/plain": [
       "int"
      ]
     },
     "execution_count": 34,
     "metadata": {},
     "output_type": "execute_result"
    }
   ],
   "source": [
    "type(a)"
   ]
  },
  {
   "cell_type": "code",
   "execution_count": 35,
   "metadata": {},
   "outputs": [
    {
     "data": {
      "text/plain": [
       "float"
      ]
     },
     "execution_count": 35,
     "metadata": {},
     "output_type": "execute_result"
    }
   ],
   "source": [
    "type(c)"
   ]
  },
  {
   "cell_type": "code",
   "execution_count": 36,
   "metadata": {},
   "outputs": [
    {
     "data": {
      "text/plain": [
       "int"
      ]
     },
     "execution_count": 36,
     "metadata": {},
     "output_type": "execute_result"
    }
   ],
   "source": [
    "a = 123\n",
    "type(a)"
   ]
  },
  {
   "cell_type": "code",
   "execution_count": 37,
   "metadata": {},
   "outputs": [
    {
     "name": "stdout",
     "output_type": "stream",
     "text": [
      "<class 'int'>\n"
     ]
    }
   ],
   "source": [
    "print(type(a))\n",
    "\n",
    "# Do you understand the output of the function?\n",
    "# If you don't know object-oriented programming yet, you will find out more about it later (below section)."
   ]
  },
  {
   "cell_type": "code",
   "execution_count": 38,
   "metadata": {},
   "outputs": [],
   "source": [
    "# Multiple assignments in Python\n",
    "a, b, c = 1, 2, 5\n",
    "\n",
    "# https://note.nkmk.me/en/python-multi-variables-values/\n",
    "# https://treyhunner.com/2018/03/tuple-unpacking-improves-python-code-readability/"
   ]
  },
  {
   "cell_type": "code",
   "execution_count": 39,
   "metadata": {},
   "outputs": [
    {
     "data": {
      "text/plain": [
       "1"
      ]
     },
     "execution_count": 39,
     "metadata": {},
     "output_type": "execute_result"
    }
   ],
   "source": [
    "a"
   ]
  },
  {
   "cell_type": "code",
   "execution_count": 40,
   "metadata": {},
   "outputs": [
    {
     "data": {
      "text/plain": [
       "2"
      ]
     },
     "execution_count": 40,
     "metadata": {},
     "output_type": "execute_result"
    }
   ],
   "source": [
    "b"
   ]
  },
  {
   "cell_type": "code",
   "execution_count": 41,
   "metadata": {},
   "outputs": [
    {
     "data": {
      "text/plain": [
       "5"
      ]
     },
     "execution_count": 41,
     "metadata": {},
     "output_type": "execute_result"
    }
   ],
   "source": [
    "c"
   ]
  },
  {
   "cell_type": "code",
   "execution_count": 42,
   "metadata": {},
   "outputs": [],
   "source": [
    "a = b = c = 99"
   ]
  },
  {
   "cell_type": "code",
   "execution_count": 43,
   "metadata": {},
   "outputs": [
    {
     "data": {
      "text/plain": [
       "99"
      ]
     },
     "execution_count": 43,
     "metadata": {},
     "output_type": "execute_result"
    }
   ],
   "source": [
    "a"
   ]
  },
  {
   "cell_type": "code",
   "execution_count": 44,
   "metadata": {},
   "outputs": [
    {
     "data": {
      "text/plain": [
       "99"
      ]
     },
     "execution_count": 44,
     "metadata": {},
     "output_type": "execute_result"
    }
   ],
   "source": [
    "b"
   ]
  },
  {
   "cell_type": "code",
   "execution_count": 45,
   "metadata": {},
   "outputs": [
    {
     "data": {
      "text/plain": [
       "99"
      ]
     },
     "execution_count": 45,
     "metadata": {},
     "output_type": "execute_result"
    }
   ],
   "source": [
    "c"
   ]
  },
  {
   "cell_type": "code",
   "execution_count": 46,
   "metadata": {},
   "outputs": [],
   "source": [
    "a, b = 2, 3\n",
    "a, b = b, a"
   ]
  },
  {
   "cell_type": "code",
   "execution_count": 47,
   "metadata": {},
   "outputs": [
    {
     "data": {
      "text/plain": [
       "3"
      ]
     },
     "execution_count": 47,
     "metadata": {},
     "output_type": "execute_result"
    }
   ],
   "source": [
    "a"
   ]
  },
  {
   "cell_type": "code",
   "execution_count": 48,
   "metadata": {},
   "outputs": [
    {
     "data": {
      "text/plain": [
       "2"
      ]
     },
     "execution_count": 48,
     "metadata": {},
     "output_type": "execute_result"
    }
   ],
   "source": [
    "b"
   ]
  },
  {
   "cell_type": "code",
   "execution_count": 49,
   "metadata": {},
   "outputs": [
    {
     "data": {
      "text/plain": [
       "int"
      ]
     },
     "execution_count": 49,
     "metadata": {},
     "output_type": "execute_result"
    }
   ],
   "source": [
    "# You can assign a variable to output a function.\n",
    "# See below about fuctions.\n",
    "\n",
    "v73 = type(73)\n",
    "type(73)"
   ]
  },
  {
   "cell_type": "code",
   "execution_count": 50,
   "metadata": {},
   "outputs": [
    {
     "data": {
      "text/plain": [
       "int"
      ]
     },
     "execution_count": 50,
     "metadata": {},
     "output_type": "execute_result"
    }
   ],
   "source": [
    "v73"
   ]
  },
  {
   "cell_type": "code",
   "execution_count": 51,
   "metadata": {},
   "outputs": [
    {
     "data": {
      "text/plain": [
       "float"
      ]
     },
     "execution_count": 51,
     "metadata": {},
     "output_type": "execute_result"
    }
   ],
   "source": [
    "aaa = type(4.5)\n",
    "aaa\n",
    "\n",
    "# Is it a correct variable name?\n",
    "\n",
    "# Choosing names which are sensible and can be easily understandable, while coding in Python, is very crucial. \n",
    "# This will save time and energy of a reader. \n",
    "# Inappropriate names might lead to difficulties when debugging."
   ]
  },
  {
   "cell_type": "markdown",
   "metadata": {},
   "source": [
    "### PEP 8 -- Style Guide for Python Code\n",
    "\n",
    "https://www.python.org/dev/peps/pep-0008/\n",
    "\n",
    "https://realpython.com/python-pep8/\n",
    "\n",
    "https://www.datacamp.com/community/tutorials/pep8-tutorial-python-code?utm_source=adwords_ppc&utm_campaignid=1455363063&utm_adgroupid=65083631748&utm_device=c&utm_keyword=&utm_matchtype=b&utm_network=g&utm_adpostion=&utm_creative=332602034361&utm_targetid=aud-392016246653:dsa-429603003980&utm_loc_interest_ms=&utm_loc_physical_ms=9047023&gclid=EAIaIQobChMIz56Rx42f6wIVEwCiAx3FZAwsEAAYASAAEgLCUfD_BwE\n",
    "\n",
    "https://www.knowledgehut.com/blog/programming/python-pep8\n",
    "\n",
    "Check your Python code: http://pep8online.com\n",
    "\n",
    "Russian: https://pep8.ru/doc/pep8/\n",
    "\n",
    "Russian: https://pythonworld.ru/osnovy/pep-8-rukovodstvo-po-napisaniyu-koda-na-python.html\n",
    "\n",
    "Russian: https://geekbrains.ru/posts/pep8"
   ]
  },
  {
   "cell_type": "code",
   "execution_count": 52,
   "metadata": {},
   "outputs": [
    {
     "data": {
      "text/plain": [
       "(1+5j)"
      ]
     },
     "execution_count": 52,
     "metadata": {},
     "output_type": "execute_result"
    }
   ],
   "source": [
    "# Complex number.\n",
    "\n",
    "a = 1 + 5j\n",
    "a"
   ]
  },
  {
   "cell_type": "code",
   "execution_count": 53,
   "metadata": {},
   "outputs": [
    {
     "data": {
      "text/plain": [
       "complex"
      ]
     },
     "execution_count": 53,
     "metadata": {},
     "output_type": "execute_result"
    }
   ],
   "source": [
    "type(a)"
   ]
  },
  {
   "cell_type": "code",
   "execution_count": 54,
   "metadata": {},
   "outputs": [
    {
     "name": "stdout",
     "output_type": "stream",
     "text": [
      "<class 'complex'>\n"
     ]
    }
   ],
   "source": [
    "print(type(a))"
   ]
  },
  {
   "cell_type": "code",
   "execution_count": 55,
   "metadata": {},
   "outputs": [
    {
     "data": {
      "text/plain": [
       "(1-5j)"
      ]
     },
     "execution_count": 55,
     "metadata": {},
     "output_type": "execute_result"
    }
   ],
   "source": [
    "# Conjugate number.\n",
    "\n",
    "a.conjugate()"
   ]
  },
  {
   "cell_type": "markdown",
   "metadata": {},
   "source": [
    "### Problem №0 (all answers are at the end of the notebook):\n",
    "\n",
    "Can you find the real and imaginary parts of a complex number (for example, a = 3 + 7j) using **Tab**?\n",
    "\n",
    "So, you have a = 3 + 7j. Then you need to use **Tab**. \n",
    "\n",
    "Could you find it?"
   ]
  },
  {
   "cell_type": "code",
   "execution_count": 56,
   "metadata": {
    "colab": {},
    "colab_type": "code",
    "id": "pEscnUhk-T1a"
   },
   "outputs": [
    {
     "name": "stdout",
     "output_type": "stream",
     "text": [
      "(2+1j)\n",
      "-1j\n",
      "1j\n"
     ]
    }
   ],
   "source": [
    "c1 = 2 + 1j\n",
    "c2 = 1 / 1j\n",
    "c3 = 1j\n",
    "\n",
    "print(c1)\n",
    "print(c2)\n",
    "print(c3)"
   ]
  },
  {
   "cell_type": "code",
   "execution_count": 57,
   "metadata": {},
   "outputs": [
    {
     "ename": "NameError",
     "evalue": "name 'j' is not defined",
     "output_type": "error",
     "traceback": [
      "\u001b[0;31m---------------------------------------------------------------------------\u001b[0m",
      "\u001b[0;31mNameError\u001b[0m                                 Traceback (most recent call last)",
      "\u001b[0;32m<ipython-input-57-91f4c70557ed>\u001b[0m in \u001b[0;36m<module>\u001b[0;34m\u001b[0m\n\u001b[0;32m----> 1\u001b[0;31m \u001b[0mc1\u001b[0m \u001b[0;34m=\u001b[0m \u001b[0;36m2\u001b[0m \u001b[0;34m+\u001b[0m \u001b[0;36m1\u001b[0m\u001b[0;34m*\u001b[0m\u001b[0mj\u001b[0m\u001b[0;34m\u001b[0m\u001b[0;34m\u001b[0m\u001b[0m\n\u001b[0m\u001b[1;32m      2\u001b[0m \u001b[0;34m\u001b[0m\u001b[0m\n\u001b[1;32m      3\u001b[0m \u001b[0;31m#Is it the correct syntax?\u001b[0m\u001b[0;34m\u001b[0m\u001b[0;34m\u001b[0m\u001b[0;34m\u001b[0m\u001b[0m\n",
      "\u001b[0;31mNameError\u001b[0m: name 'j' is not defined"
     ]
    }
   ],
   "source": [
    "c1 = 2 + 1*j\n",
    "\n",
    "#Is it the correct syntax?"
   ]
  },
  {
   "cell_type": "code",
   "execution_count": 58,
   "metadata": {},
   "outputs": [
    {
     "data": {
      "text/plain": [
       "(2+0j)"
      ]
     },
     "execution_count": 58,
     "metadata": {},
     "output_type": "execute_result"
    }
   ],
   "source": [
    "c1 = 2 + 0j\n",
    "c1"
   ]
  },
  {
   "cell_type": "code",
   "execution_count": 59,
   "metadata": {},
   "outputs": [
    {
     "data": {
      "text/plain": [
       "complex"
      ]
     },
     "execution_count": 59,
     "metadata": {},
     "output_type": "execute_result"
    }
   ],
   "source": [
    "type(c1)"
   ]
  },
  {
   "cell_type": "code",
   "execution_count": 60,
   "metadata": {},
   "outputs": [
    {
     "ename": "SyntaxError",
     "evalue": "invalid syntax (<ipython-input-60-a4e1edc93936>, line 1)",
     "output_type": "error",
     "traceback": [
      "\u001b[0;36m  File \u001b[0;32m\"<ipython-input-60-a4e1edc93936>\"\u001b[0;36m, line \u001b[0;32m1\u001b[0m\n\u001b[0;31m    c4 = 1 + 2i\u001b[0m\n\u001b[0m              ^\u001b[0m\n\u001b[0;31mSyntaxError\u001b[0m\u001b[0;31m:\u001b[0m invalid syntax\n"
     ]
    }
   ],
   "source": [
    "c4 = 1 + 2i\n",
    "print(c4)\n",
    "\n",
    "#Is it the correct syntax? 'j' or 'i'? Or something else?"
   ]
  },
  {
   "cell_type": "code",
   "execution_count": 61,
   "metadata": {},
   "outputs": [],
   "source": [
    "a, b = 3, 3 + 4j"
   ]
  },
  {
   "cell_type": "code",
   "execution_count": 62,
   "metadata": {},
   "outputs": [
    {
     "data": {
      "text/plain": [
       "3"
      ]
     },
     "execution_count": 62,
     "metadata": {},
     "output_type": "execute_result"
    }
   ],
   "source": [
    "a"
   ]
  },
  {
   "cell_type": "code",
   "execution_count": 63,
   "metadata": {},
   "outputs": [
    {
     "data": {
      "text/plain": [
       "(3+4j)"
      ]
     },
     "execution_count": 63,
     "metadata": {},
     "output_type": "execute_result"
    }
   ],
   "source": [
    "b"
   ]
  },
  {
   "cell_type": "code",
   "execution_count": 64,
   "metadata": {},
   "outputs": [],
   "source": [
    "a, b = b, a"
   ]
  },
  {
   "cell_type": "code",
   "execution_count": 65,
   "metadata": {},
   "outputs": [
    {
     "data": {
      "text/plain": [
       "(3+4j)"
      ]
     },
     "execution_count": 65,
     "metadata": {},
     "output_type": "execute_result"
    }
   ],
   "source": [
    "a"
   ]
  },
  {
   "cell_type": "code",
   "execution_count": 66,
   "metadata": {},
   "outputs": [
    {
     "data": {
      "text/plain": [
       "3"
      ]
     },
     "execution_count": 66,
     "metadata": {},
     "output_type": "execute_result"
    }
   ],
   "source": [
    "b"
   ]
  },
  {
   "cell_type": "code",
   "execution_count": 67,
   "metadata": {},
   "outputs": [],
   "source": [
    "a = 5"
   ]
  },
  {
   "cell_type": "code",
   "execution_count": 68,
   "metadata": {},
   "outputs": [],
   "source": [
    "a = complex(a)"
   ]
  },
  {
   "cell_type": "code",
   "execution_count": 69,
   "metadata": {},
   "outputs": [
    {
     "data": {
      "text/plain": [
       "(5+0j)"
      ]
     },
     "execution_count": 69,
     "metadata": {},
     "output_type": "execute_result"
    }
   ],
   "source": [
    "a"
   ]
  },
  {
   "cell_type": "code",
   "execution_count": 70,
   "metadata": {},
   "outputs": [
    {
     "ename": "TypeError",
     "evalue": "can't convert complex to int",
     "output_type": "error",
     "traceback": [
      "\u001b[0;31m---------------------------------------------------------------------------\u001b[0m",
      "\u001b[0;31mTypeError\u001b[0m                                 Traceback (most recent call last)",
      "\u001b[0;32m<ipython-input-70-5b5150516a68>\u001b[0m in \u001b[0;36m<module>\u001b[0;34m\u001b[0m\n\u001b[0;32m----> 1\u001b[0;31m \u001b[0mb\u001b[0m \u001b[0;34m=\u001b[0m \u001b[0mint\u001b[0m\u001b[0;34m(\u001b[0m\u001b[0ma\u001b[0m\u001b[0;34m)\u001b[0m\u001b[0;34m\u001b[0m\u001b[0;34m\u001b[0m\u001b[0m\n\u001b[0m\u001b[1;32m      2\u001b[0m \u001b[0mb\u001b[0m\u001b[0;34m\u001b[0m\u001b[0;34m\u001b[0m\u001b[0m\n",
      "\u001b[0;31mTypeError\u001b[0m: can't convert complex to int"
     ]
    }
   ],
   "source": [
    "b = int(a)\n",
    "b"
   ]
  },
  {
   "cell_type": "markdown",
   "metadata": {},
   "source": [
    "## Operations with numeric variables"
   ]
  },
  {
   "cell_type": "code",
   "execution_count": 71,
   "metadata": {
    "colab": {},
    "colab_type": "code",
    "id": "wHbXRpmEk4Ba"
   },
   "outputs": [
    {
     "name": "stdout",
     "output_type": "stream",
     "text": [
      "False\n",
      "False\n",
      "True\n",
      "<class 'bool'>\n"
     ]
    }
   ],
   "source": [
    "a = 1\n",
    "b = 2\n",
    "\n",
    "print(a == b) # Equal to - True if both operands are equal\n",
    "print(a + 1 > b) # Greater than - True if left operand is greater than the right\n",
    "print(a + 1 >= b) # Greater than or equal to - True if left operand is greater than or equal to the right\n",
    "print(type(a + 1 > b))"
   ]
  },
  {
   "cell_type": "code",
   "execution_count": 72,
   "metadata": {},
   "outputs": [
    {
     "name": "stdout",
     "output_type": "stream",
     "text": [
      "True False False\n"
     ]
    }
   ],
   "source": [
    "j = True\n",
    "k = False\n",
    "l = j == k # Do you understand this? What is 'l' here?\n",
    "\n",
    "print( j, k, l )"
   ]
  },
  {
   "cell_type": "code",
   "execution_count": 73,
   "metadata": {},
   "outputs": [
    {
     "name": "stdout",
     "output_type": "stream",
     "text": [
      "True False True\n"
     ]
    }
   ],
   "source": [
    "# booleans\n",
    "j = True\n",
    "k = False\n",
    "l = j != k # Not equal to - True if operands are not equal. And the same question about 'l'.\n",
    "\n",
    "print( j, k, l )"
   ]
  },
  {
   "cell_type": "code",
   "execution_count": 74,
   "metadata": {},
   "outputs": [
    {
     "name": "stdout",
     "output_type": "stream",
     "text": [
      "False False True\n"
     ]
    }
   ],
   "source": [
    "# booleans\n",
    "j = False\n",
    "k = False\n",
    "l = j == k\n",
    "\n",
    "print( j, k, l )"
   ]
  },
  {
   "cell_type": "code",
   "execution_count": 75,
   "metadata": {},
   "outputs": [
    {
     "data": {
      "text/plain": [
       "-3"
      ]
     },
     "execution_count": 75,
     "metadata": {},
     "output_type": "execute_result"
    }
   ],
   "source": [
    "a = -3\n",
    "a"
   ]
  },
  {
   "cell_type": "code",
   "execution_count": 76,
   "metadata": {},
   "outputs": [
    {
     "data": {
      "text/plain": [
       "3"
      ]
     },
     "execution_count": 76,
     "metadata": {},
     "output_type": "execute_result"
    }
   ],
   "source": [
    "a = a * (-1)\n",
    "a"
   ]
  },
  {
   "cell_type": "code",
   "execution_count": 77,
   "metadata": {},
   "outputs": [
    {
     "data": {
      "text/plain": [
       "45"
      ]
     },
     "execution_count": 77,
     "metadata": {},
     "output_type": "execute_result"
    }
   ],
   "source": [
    "a = 45\n",
    "a2 = a\n",
    "a2"
   ]
  },
  {
   "cell_type": "code",
   "execution_count": 78,
   "metadata": {},
   "outputs": [
    {
     "data": {
      "text/plain": [
       "49"
      ]
     },
     "execution_count": 78,
     "metadata": {},
     "output_type": "execute_result"
    }
   ],
   "source": [
    "a2 + 4"
   ]
  },
  {
   "cell_type": "code",
   "execution_count": 79,
   "metadata": {},
   "outputs": [
    {
     "data": {
      "text/plain": [
       "49"
      ]
     },
     "execution_count": 79,
     "metadata": {},
     "output_type": "execute_result"
    }
   ],
   "source": [
    "a2 = a2 + 4\n",
    "a2"
   ]
  },
  {
   "cell_type": "code",
   "execution_count": 80,
   "metadata": {},
   "outputs": [
    {
     "data": {
      "text/plain": [
       "45"
      ]
     },
     "execution_count": 80,
     "metadata": {},
     "output_type": "execute_result"
    }
   ],
   "source": [
    "a2 = a\n",
    "a2"
   ]
  },
  {
   "cell_type": "code",
   "execution_count": 81,
   "metadata": {},
   "outputs": [],
   "source": [
    "# There are various compound operators in Python like a += 5 that adds to the variable and later assigns the same. \n",
    "# It is equivalent to a = a + 5."
   ]
  },
  {
   "cell_type": "code",
   "execution_count": 82,
   "metadata": {},
   "outputs": [
    {
     "data": {
      "text/plain": [
       "49"
      ]
     },
     "execution_count": 82,
     "metadata": {},
     "output_type": "execute_result"
    }
   ],
   "source": [
    "a2 += 4 # a2 = a2 + 4\n",
    "a2"
   ]
  },
  {
   "cell_type": "code",
   "execution_count": 83,
   "metadata": {},
   "outputs": [
    {
     "data": {
      "text/plain": [
       "48"
      ]
     },
     "execution_count": 83,
     "metadata": {},
     "output_type": "execute_result"
    }
   ],
   "source": [
    "a3 = a + 3\n",
    "a3"
   ]
  },
  {
   "cell_type": "code",
   "execution_count": 84,
   "metadata": {},
   "outputs": [
    {
     "data": {
      "text/plain": [
       "144"
      ]
     },
     "execution_count": 84,
     "metadata": {},
     "output_type": "execute_result"
    }
   ],
   "source": [
    "a3 *= 3\n",
    "a3\n",
    "# and the same for '-=' and '/=' and '%=' and '//=' and '**='"
   ]
  },
  {
   "cell_type": "code",
   "execution_count": 85,
   "metadata": {},
   "outputs": [
    {
     "data": {
      "text/plain": [
       "1"
      ]
     },
     "execution_count": 85,
     "metadata": {},
     "output_type": "execute_result"
    }
   ],
   "source": [
    "1 & 1 # Bitwise AND"
   ]
  },
  {
   "cell_type": "code",
   "execution_count": 86,
   "metadata": {},
   "outputs": [
    {
     "data": {
      "text/plain": [
       "0"
      ]
     },
     "execution_count": 86,
     "metadata": {},
     "output_type": "execute_result"
    }
   ],
   "source": [
    "1 & 0"
   ]
  },
  {
   "cell_type": "code",
   "execution_count": 87,
   "metadata": {},
   "outputs": [
    {
     "data": {
      "text/plain": [
       "0"
      ]
     },
     "execution_count": 87,
     "metadata": {},
     "output_type": "execute_result"
    }
   ],
   "source": [
    "0 & 0"
   ]
  },
  {
   "cell_type": "code",
   "execution_count": 88,
   "metadata": {},
   "outputs": [
    {
     "data": {
      "text/plain": [
       "1"
      ]
     },
     "execution_count": 88,
     "metadata": {},
     "output_type": "execute_result"
    }
   ],
   "source": [
    "1 | 1 # Bitwise OR"
   ]
  },
  {
   "cell_type": "code",
   "execution_count": 89,
   "metadata": {},
   "outputs": [
    {
     "data": {
      "text/plain": [
       "1"
      ]
     },
     "execution_count": 89,
     "metadata": {},
     "output_type": "execute_result"
    }
   ],
   "source": [
    "1 | 0"
   ]
  },
  {
   "cell_type": "code",
   "execution_count": 90,
   "metadata": {},
   "outputs": [
    {
     "data": {
      "text/plain": [
       "0"
      ]
     },
     "execution_count": 90,
     "metadata": {},
     "output_type": "execute_result"
    }
   ],
   "source": [
    "0 | 0"
   ]
  },
  {
   "cell_type": "code",
   "execution_count": 91,
   "metadata": {},
   "outputs": [
    {
     "data": {
      "text/plain": [
       "1"
      ]
     },
     "execution_count": 91,
     "metadata": {},
     "output_type": "execute_result"
    }
   ],
   "source": [
    "1 ^ 0 # Bitwise XOR"
   ]
  },
  {
   "cell_type": "code",
   "execution_count": 92,
   "metadata": {},
   "outputs": [
    {
     "data": {
      "text/plain": [
       "0"
      ]
     },
     "execution_count": 92,
     "metadata": {},
     "output_type": "execute_result"
    }
   ],
   "source": [
    "1 ^ 1"
   ]
  },
  {
   "cell_type": "code",
   "execution_count": 93,
   "metadata": {},
   "outputs": [
    {
     "data": {
      "text/plain": [
       "1"
      ]
     },
     "execution_count": 93,
     "metadata": {},
     "output_type": "execute_result"
    }
   ],
   "source": [
    "0 ^ 1"
   ]
  },
  {
   "cell_type": "code",
   "execution_count": 94,
   "metadata": {},
   "outputs": [
    {
     "data": {
      "text/plain": [
       "0"
      ]
     },
     "execution_count": 94,
     "metadata": {},
     "output_type": "execute_result"
    }
   ],
   "source": [
    "0 ^ 0"
   ]
  },
  {
   "cell_type": "code",
   "execution_count": 95,
   "metadata": {},
   "outputs": [
    {
     "data": {
      "text/plain": [
       "False"
      ]
     },
     "execution_count": 95,
     "metadata": {},
     "output_type": "execute_result"
    }
   ],
   "source": [
    "# The 'not' keyword is a logical operator.\n",
    "# The return value will be True if the statement(s) are not True, otherwise it will return False.\n",
    "\n",
    "not 1"
   ]
  },
  {
   "cell_type": "code",
   "execution_count": 96,
   "metadata": {},
   "outputs": [
    {
     "data": {
      "text/plain": [
       "True"
      ]
     },
     "execution_count": 96,
     "metadata": {},
     "output_type": "execute_result"
    }
   ],
   "source": [
    "not 0"
   ]
  },
  {
   "cell_type": "markdown",
   "metadata": {},
   "source": [
    "## NoneType variables (NoneType)"
   ]
  },
  {
   "cell_type": "markdown",
   "metadata": {},
   "source": [
    "https://www.w3schools.com/python/ref_keyword_none.asp"
   ]
  },
  {
   "cell_type": "code",
   "execution_count": 97,
   "metadata": {},
   "outputs": [
    {
     "data": {
      "text/plain": [
       "builtin_function_or_method"
      ]
     },
     "execution_count": 97,
     "metadata": {},
     "output_type": "execute_result"
    }
   ],
   "source": [
    "type(print)"
   ]
  },
  {
   "cell_type": "code",
   "execution_count": 98,
   "metadata": {},
   "outputs": [
    {
     "name": "stdout",
     "output_type": "stream",
     "text": [
      "1\n"
     ]
    }
   ],
   "source": [
    "a = print(1)"
   ]
  },
  {
   "cell_type": "code",
   "execution_count": 99,
   "metadata": {},
   "outputs": [],
   "source": [
    "a"
   ]
  },
  {
   "cell_type": "code",
   "execution_count": 100,
   "metadata": {},
   "outputs": [
    {
     "data": {
      "text/plain": [
       "NoneType"
      ]
     },
     "execution_count": 100,
     "metadata": {},
     "output_type": "execute_result"
    }
   ],
   "source": [
    "type(a)"
   ]
  },
  {
   "cell_type": "code",
   "execution_count": 101,
   "metadata": {},
   "outputs": [],
   "source": [
    "# The None keyword is used to define a null value, or no value at all."
   ]
  },
  {
   "cell_type": "code",
   "execution_count": 102,
   "metadata": {},
   "outputs": [
    {
     "name": "stdout",
     "output_type": "stream",
     "text": [
      "1\n"
     ]
    },
    {
     "data": {
      "text/plain": [
       "NoneType"
      ]
     },
     "execution_count": 102,
     "metadata": {},
     "output_type": "execute_result"
    }
   ],
   "source": [
    "type(print(1))"
   ]
  },
  {
   "cell_type": "code",
   "execution_count": 103,
   "metadata": {},
   "outputs": [
    {
     "data": {
      "text/plain": [
       "int"
      ]
     },
     "execution_count": 103,
     "metadata": {},
     "output_type": "execute_result"
    }
   ],
   "source": [
    "type(1)"
   ]
  },
  {
   "cell_type": "code",
   "execution_count": 104,
   "metadata": {},
   "outputs": [
    {
     "data": {
      "text/plain": [
       "type"
      ]
     },
     "execution_count": 104,
     "metadata": {},
     "output_type": "execute_result"
    }
   ],
   "source": [
    "type(type(1))"
   ]
  },
  {
   "cell_type": "code",
   "execution_count": 105,
   "metadata": {},
   "outputs": [],
   "source": [
    "a = None"
   ]
  },
  {
   "cell_type": "code",
   "execution_count": 106,
   "metadata": {},
   "outputs": [],
   "source": [
    "a"
   ]
  },
  {
   "cell_type": "code",
   "execution_count": 107,
   "metadata": {},
   "outputs": [
    {
     "name": "stdout",
     "output_type": "stream",
     "text": [
      "None\n"
     ]
    }
   ],
   "source": [
    "print(a)"
   ]
  },
  {
   "cell_type": "code",
   "execution_count": 108,
   "metadata": {},
   "outputs": [
    {
     "data": {
      "text/plain": [
       "NoneType"
      ]
     },
     "execution_count": 108,
     "metadata": {},
     "output_type": "execute_result"
    }
   ],
   "source": [
    "type(a)"
   ]
  },
  {
   "cell_type": "markdown",
   "metadata": {},
   "source": [
    "## String variables (str)"
   ]
  },
  {
   "cell_type": "markdown",
   "metadata": {},
   "source": [
    "https://www.programiz.com/python-programming/string\n",
    "\n",
    "https://www.w3schools.com/python/python_strings.asp\n",
    "\n",
    "Russian: https://pythonz.net/references/named/str/"
   ]
  },
  {
   "cell_type": "code",
   "execution_count": 109,
   "metadata": {},
   "outputs": [],
   "source": [
    "#Like many other popular programming languages, strings in Python are arrays of bytes representing \n",
    "# unicode characters.\n",
    "#However, Python does not have a character data type, a single character is simply a string with a length of 1.\n",
    "#Square brackets can be used to access elements of the string."
   ]
  },
  {
   "cell_type": "code",
   "execution_count": 110,
   "metadata": {},
   "outputs": [
    {
     "data": {
      "text/plain": [
       "'Hello world'"
      ]
     },
     "execution_count": 110,
     "metadata": {},
     "output_type": "execute_result"
    }
   ],
   "source": [
    "a = 'Hello world'\n",
    "a"
   ]
  },
  {
   "cell_type": "code",
   "execution_count": 111,
   "metadata": {},
   "outputs": [
    {
     "data": {
      "text/plain": [
       "str"
      ]
     },
     "execution_count": 111,
     "metadata": {},
     "output_type": "execute_result"
    }
   ],
   "source": [
    "type(a)"
   ]
  },
  {
   "cell_type": "code",
   "execution_count": 112,
   "metadata": {},
   "outputs": [
    {
     "name": "stdout",
     "output_type": "stream",
     "text": [
      "e\n"
     ]
    }
   ],
   "source": [
    "a = \"Hello, World!\"\n",
    "print(a[1])"
   ]
  },
  {
   "cell_type": "code",
   "execution_count": 113,
   "metadata": {},
   "outputs": [
    {
     "data": {
      "text/plain": [
       "'Hello world'"
      ]
     },
     "execution_count": 113,
     "metadata": {},
     "output_type": "execute_result"
    }
   ],
   "source": [
    "a = \"Hello world\"\n",
    "a"
   ]
  },
  {
   "cell_type": "code",
   "execution_count": 114,
   "metadata": {},
   "outputs": [
    {
     "data": {
      "text/plain": [
       "str"
      ]
     },
     "execution_count": 114,
     "metadata": {},
     "output_type": "execute_result"
    }
   ],
   "source": [
    "type(a)"
   ]
  },
  {
   "cell_type": "code",
   "execution_count": 115,
   "metadata": {},
   "outputs": [
    {
     "data": {
      "text/plain": [
       "'Hello world'"
      ]
     },
     "execution_count": 115,
     "metadata": {},
     "output_type": "execute_result"
    }
   ],
   "source": [
    "'Hello world'"
   ]
  },
  {
   "cell_type": "code",
   "execution_count": 116,
   "metadata": {},
   "outputs": [
    {
     "data": {
      "text/plain": [
       "int"
      ]
     },
     "execution_count": 116,
     "metadata": {},
     "output_type": "execute_result"
    }
   ],
   "source": [
    "a = 545\n",
    "type(a)"
   ]
  },
  {
   "cell_type": "code",
   "execution_count": 117,
   "metadata": {},
   "outputs": [
    {
     "data": {
      "text/plain": [
       "'545'"
      ]
     },
     "execution_count": 117,
     "metadata": {},
     "output_type": "execute_result"
    }
   ],
   "source": [
    "a = str(a)\n",
    "a"
   ]
  },
  {
   "cell_type": "code",
   "execution_count": 118,
   "metadata": {},
   "outputs": [
    {
     "data": {
      "text/plain": [
       "str"
      ]
     },
     "execution_count": 118,
     "metadata": {},
     "output_type": "execute_result"
    }
   ],
   "source": [
    "type(a)"
   ]
  },
  {
   "cell_type": "code",
   "execution_count": 119,
   "metadata": {
    "colab": {},
    "colab_type": "code",
    "id": "G8aupHIm-Too"
   },
   "outputs": [
    {
     "name": "stdout",
     "output_type": "stream",
     "text": [
      "Hello! Hi\n",
      "Hi there!\n",
      "I'm a multiline string!\n",
      "foobar\n",
      "('foo', 'bar')\n",
      " \"\"\"\"\"\"\"\"\"\"\" \n"
     ]
    }
   ],
   "source": [
    "f1 = 'Hello!'\n",
    "f2 = \"Hi\"\n",
    "\n",
    "g = \"\"\"Hi there!\n",
    "I'm a multiline string!\"\"\"\n",
    "\n",
    "h = 'foo'     'bar'\n",
    "h1 = 'foo',     'bar'\n",
    "\n",
    "i = ' \"\"\"\"\"\"\"\"\"\"\" '\n",
    "\n",
    "print(f1, f2)\n",
    "print(g)\n",
    "print(h)\n",
    "print(h1)\n",
    "print(i)"
   ]
  },
  {
   "cell_type": "markdown",
   "metadata": {},
   "source": [
    "## Operations with string variables and string formatting"
   ]
  },
  {
   "cell_type": "code",
   "execution_count": 120,
   "metadata": {
    "colab": {},
    "colab_type": "code",
    "id": "lmTFsTApj2zC",
    "outputId": "aba600cd-f1ff-4015-b2d6-fc53d5884e84"
   },
   "outputs": [
    {
     "data": {
      "text/plain": [
       "'Hello world'"
      ]
     },
     "execution_count": 120,
     "metadata": {},
     "output_type": "execute_result"
    }
   ],
   "source": [
    "\"Hello\" + \" \" + \"world\""
   ]
  },
  {
   "cell_type": "code",
   "execution_count": 121,
   "metadata": {},
   "outputs": [
    {
     "data": {
      "text/plain": [
       "'Hello world, ok?'"
      ]
     },
     "execution_count": 121,
     "metadata": {},
     "output_type": "execute_result"
    }
   ],
   "source": [
    "'Hello' + ' world' + \", ok?\""
   ]
  },
  {
   "cell_type": "code",
   "execution_count": 122,
   "metadata": {},
   "outputs": [
    {
     "data": {
      "text/plain": [
       "'\" Text:) \"'"
      ]
     },
     "execution_count": 122,
     "metadata": {},
     "output_type": "execute_result"
    }
   ],
   "source": [
    "\"\\\" Text:) \\\"\""
   ]
  },
  {
   "cell_type": "code",
   "execution_count": 123,
   "metadata": {},
   "outputs": [
    {
     "data": {
      "text/plain": [
       "'\" Text:) \"'"
      ]
     },
     "execution_count": 123,
     "metadata": {},
     "output_type": "execute_result"
    }
   ],
   "source": [
    "'\\\" Text:) \\\"'"
   ]
  },
  {
   "cell_type": "code",
   "execution_count": 124,
   "metadata": {},
   "outputs": [
    {
     "data": {
      "text/plain": [
       "\"' Text:) '\""
      ]
     },
     "execution_count": 124,
     "metadata": {},
     "output_type": "execute_result"
    }
   ],
   "source": [
    "\"\\' Text:) \\'\""
   ]
  },
  {
   "cell_type": "code",
   "execution_count": 125,
   "metadata": {},
   "outputs": [
    {
     "data": {
      "text/plain": [
       "\"' Text:) '\""
      ]
     },
     "execution_count": 125,
     "metadata": {},
     "output_type": "execute_result"
    }
   ],
   "source": [
    "'\\' Text:) \\''"
   ]
  },
  {
   "cell_type": "markdown",
   "metadata": {},
   "source": [
    "Format String Syntax:\n",
    "\n",
    "https://pyformat.info\n",
    "    \n",
    "https://www.learnpython.org/en/String_Formatting\n",
    "    \n",
    "https://www.w3schools.com/python/ref_string_format.asp"
   ]
  },
  {
   "cell_type": "code",
   "execution_count": 126,
   "metadata": {
    "colab": {},
    "colab_type": "code",
    "id": "v4g9Jol3nnVk"
   },
   "outputs": [
    {
     "name": "stdout",
     "output_type": "stream",
     "text": [
      "Hello world!\n",
      "1 + 2 = 3\n",
      "1.000000 + 2.000000 = 3.000000\n",
      "1 + 2 = 3\n",
      "1 + 2 = 3\n",
      "1 + 2 = 3.000000\n",
      "1 + 2 = 3\n",
      "1 + 2 = 3.0000\n"
     ]
    }
   ],
   "source": [
    "a = 1\n",
    "b = 2\n",
    "print(\"Hello \" + \"world!\")\n",
    "print(\"%i + %i = %i\" % (a, b, a + b))\n",
    "print(\"%f + %f = %f\" % (a, b, a + b))\n",
    "print(\"{} + {} = {}\".format(a, b, a + b))\n",
    "print(\"{var_a} + {var_b} = {result}\".format(result = a + b, var_a = a, var_b = b))\n",
    "print(\"1 + 2 = %.6f\" % (1 + 2 ))\n",
    "print(\"1 + 2 = {}\".format(1 + 2))\n",
    "print(\"1 + 2 = {:.4f}\".format(1 + 2))"
   ]
  },
  {
   "cell_type": "code",
   "execution_count": 127,
   "metadata": {},
   "outputs": [],
   "source": [
    "# Do you know how to write **10.45** as **10.45000** using the information from the previous cell?"
   ]
  },
  {
   "cell_type": "code",
   "execution_count": 128,
   "metadata": {},
   "outputs": [
    {
     "data": {
      "text/plain": [
       "'Hello, world!'"
      ]
     },
     "execution_count": 128,
     "metadata": {},
     "output_type": "execute_result"
    }
   ],
   "source": [
    "'Hello, {}!'.format('world')"
   ]
  },
  {
   "cell_type": "code",
   "execution_count": 129,
   "metadata": {},
   "outputs": [
    {
     "data": {
      "text/plain": [
       "'He said his name is Fred.'"
      ]
     },
     "execution_count": 129,
     "metadata": {},
     "output_type": "execute_result"
    }
   ],
   "source": [
    "name = \"Fred\"\n",
    "f\"He said his name is {name}.\""
   ]
  },
  {
   "cell_type": "markdown",
   "metadata": {},
   "source": [
    "https://realpython.com/python-f-strings/"
   ]
  },
  {
   "cell_type": "markdown",
   "metadata": {},
   "source": [
    "## Other variables (list, tuple, dict, set)"
   ]
  },
  {
   "cell_type": "markdown",
   "metadata": {
    "colab_type": "text",
    "id": "00Wdm1BEAGSa"
   },
   "source": [
    "### List\n",
    "We'll start with lists - they represent arrays of objects:\n",
    "\n",
    "https://www.w3schools.com/python/python_lists.asp\n",
    "\n",
    "https://www.programiz.com/python-programming/list\n",
    "\n",
    "https://developers.google.com/edu/python/lists"
   ]
  },
  {
   "cell_type": "code",
   "execution_count": 130,
   "metadata": {},
   "outputs": [],
   "source": [
    "# List is a collection which is ordered and changeable. Allows duplicate members.\n",
    "\n",
    "# Tuple is a collection which is ordered and unchangeable. Allows duplicate members.\n",
    "\n",
    "# Dictionary is a collection which is unordered, changeable and indexed. No duplicate members.\n",
    "\n",
    "# Set is a collection which is unordered and unindexed. No duplicate members."
   ]
  },
  {
   "cell_type": "code",
   "execution_count": 131,
   "metadata": {
    "colab": {},
    "colab_type": "code",
    "id": "QF4pb46M8Fr9"
   },
   "outputs": [
    {
     "name": "stdout",
     "output_type": "stream",
     "text": [
      "[1, 2, -3, 'hello', 400000.0, 8j, False]\n",
      "<class 'list'>\n"
     ]
    }
   ],
   "source": [
    "array1 = [1, 2, -3, 'hello', 4e5, 8j, False]\n",
    "print(array1)\n",
    "print(type(array1))"
   ]
  },
  {
   "cell_type": "code",
   "execution_count": 132,
   "metadata": {
    "colab": {},
    "colab_type": "code",
    "id": "LInAFaHm_zld"
   },
   "outputs": [
    {
     "name": "stdout",
     "output_type": "stream",
     "text": [
      "[1, 2, -3, 'hello', 400000.0, 8j, False, 1, 2, -3, 'hello', 400000.0, 8j, False]\n"
     ]
    }
   ],
   "source": [
    "array11 = array1 + array1\n",
    "print(array11)"
   ]
  },
  {
   "cell_type": "code",
   "execution_count": 133,
   "metadata": {
    "colab": {},
    "colab_type": "code",
    "id": "zz8V3id3_98u"
   },
   "outputs": [
    {
     "data": {
      "text/plain": [
       "[1, 2, -3, 'hello', 400000.0, 8j, False, 'world']"
      ]
     },
     "execution_count": 133,
     "metadata": {},
     "output_type": "execute_result"
    }
   ],
   "source": [
    "# list.append(elem) -- adds a single element to the end of the list. \n",
    "# Common error: does not return the new list, just modifies the original.\n",
    "\n",
    "array1.append('world')\n",
    "array1"
   ]
  },
  {
   "cell_type": "code",
   "execution_count": 134,
   "metadata": {
    "colab": {},
    "colab_type": "code",
    "id": "eM5_GSw0Ab7J"
   },
   "outputs": [
    {
     "data": {
      "text/plain": [
       "[[True, False], ['Hello'], 42]"
      ]
     },
     "execution_count": 134,
     "metadata": {},
     "output_type": "execute_result"
    }
   ],
   "source": [
    "array2 = [[True, False], ['Hello'], 42]\n",
    "array2"
   ]
  },
  {
   "cell_type": "code",
   "execution_count": 135,
   "metadata": {
    "colab": {},
    "colab_type": "code",
    "id": "or2i50-QBC0L"
   },
   "outputs": [
    {
     "data": {
      "text/plain": [
       "[[True, False], ['Hello'], 42, [...]]"
      ]
     },
     "execution_count": 135,
     "metadata": {},
     "output_type": "execute_result"
    }
   ],
   "source": [
    "array2.append(array2)\n",
    "array2"
   ]
  },
  {
   "cell_type": "markdown",
   "metadata": {
    "colab_type": "text",
    "id": "PM0ukvotBLfE"
   },
   "source": [
    "Here's how you can index lists (indexing starts with 0):"
   ]
  },
  {
   "cell_type": "code",
   "execution_count": 136,
   "metadata": {
    "colab": {},
    "colab_type": "code",
    "id": "nFI445r_BBh1"
   },
   "outputs": [
    {
     "name": "stdout",
     "output_type": "stream",
     "text": [
      "1\n",
      "False\n",
      "8j\n",
      "hello\n"
     ]
    }
   ],
   "source": [
    "array1 = [1, 2, -3, 'hello', 4e5, 8j, False]\n",
    "print(array1[0])\n",
    "print(array1[-1])\n",
    "print(array1[-2])\n",
    "print(array1[-4])"
   ]
  },
  {
   "cell_type": "code",
   "execution_count": 137,
   "metadata": {
    "colab": {},
    "colab_type": "code",
    "id": "nWi3Ce3SC2xZ"
   },
   "outputs": [
    {
     "name": "stdout",
     "output_type": "stream",
     "text": [
      "[1, -3, 400000.0]\n",
      "[-3, 8j]\n",
      "[1, -3, 400000.0, False]\n",
      "[False, 8j, 400000.0, 'hello', -3, 2, 1]\n",
      "[-3, 'hello', 400000.0]\n",
      "[8j, False]\n"
     ]
    }
   ],
   "source": [
    "array1 = [1, 2, -3, 'hello', 4e5, 8j, False]\n",
    "print(array1[:6:2]) # most general form - every 2nd element from 1 to 6\n",
    "print(array1[2::3]) # elements from 2 to the end with step 3\n",
    "print(array1[::2]) # every 2nd element starting from 0\n",
    "print(array1[::-1]) # all list in reverse order\n",
    "print(array1[2:5]) # elements from 2 to 5 (not including 5)\n",
    "print(array1[-2:]) # last two elements of the list"
   ]
  },
  {
   "cell_type": "code",
   "execution_count": 138,
   "metadata": {
    "colab": {},
    "colab_type": "code",
    "id": "-Z4twE06lHgr",
    "outputId": "57dd02b6-aab9-4323-e590-55a378c5ce87"
   },
   "outputs": [
    {
     "name": "stdout",
     "output_type": "stream",
     "text": [
      "1 <class 'int'>\n",
      "2 <class 'int'>\n",
      "3 <class 'int'>\n",
      "Hello <class 'str'>\n",
      "<class 'list'>\n"
     ]
    }
   ],
   "source": [
    "# See below about 'for' in Python.\n",
    "\n",
    "a = [1, 2, 3, 'Hello']\n",
    "\n",
    "for i in a:\n",
    "    print(i, type(i))\n",
    "\n",
    "print(type(a))"
   ]
  },
  {
   "cell_type": "markdown",
   "metadata": {},
   "source": [
    "About **range** function you can read here: https://www.geeksforgeeks.org/python-range-function/"
   ]
  },
  {
   "cell_type": "code",
   "execution_count": 139,
   "metadata": {
    "colab": {},
    "colab_type": "code",
    "id": "Z1jg1HSuliJT",
    "outputId": "ab766eb9-3234-4572-ebd3-97bc580b5e88"
   },
   "outputs": [
    {
     "name": "stdout",
     "output_type": "stream",
     "text": [
      "[0, 1, 2, 3, 4]\n"
     ]
    }
   ],
   "source": [
    "a = []\n",
    "for i in range(5):\n",
    "    a.append(i)\n",
    "print(a)"
   ]
  },
  {
   "cell_type": "code",
   "execution_count": 140,
   "metadata": {
    "colab": {},
    "colab_type": "code",
    "id": "vjkYAJBFlXA9",
    "outputId": "b4f7684c-a8ed-4757-f110-570f79341051"
   },
   "outputs": [
    {
     "name": "stdout",
     "output_type": "stream",
     "text": [
      "1\n",
      "4\n",
      "7\n",
      "10\n",
      "13\n",
      "16\n",
      "19\n",
      "\n",
      "\n",
      "[19, 16, 13, 10, 7, 4, 1]\n"
     ]
    }
   ],
   "source": [
    "# list.insert(index, elem) -- inserts the element at the given index, shifting elements to the right.\n",
    "\n",
    "a = []\n",
    "for i in range(1, 20, 3):\n",
    "    print(i)\n",
    "    a.insert(0, i)\n",
    "print(\"\\n\")\n",
    "print(a)"
   ]
  },
  {
   "cell_type": "code",
   "execution_count": 141,
   "metadata": {},
   "outputs": [
    {
     "name": "stdout",
     "output_type": "stream",
     "text": [
      "1\n",
      "1\n",
      "1\n",
      "1\n",
      "1\n",
      "1\n",
      "1\n",
      "1\n",
      "1\n",
      "1\n"
     ]
    }
   ],
   "source": [
    "a = [1, 1, 1, 1, 1, 1, 1, 1, 1, 1]\n",
    "for i in range(10):\n",
    "    print(a[i])"
   ]
  },
  {
   "cell_type": "code",
   "execution_count": 142,
   "metadata": {},
   "outputs": [
    {
     "name": "stdout",
     "output_type": "stream",
     "text": [
      "[1, 1, 1, 1, 1, 1, 1, 1, 1, 1]\n",
      "[1, 1, 1, 1, 1, 1, 1, 1, 1, 1]\n",
      "[1, 1, 1, 1, 1, 1, 1, 1, 1, 1]\n",
      "[1, 1, 1, 1, 1, 1, 1, 1, 1, 1]\n",
      "[1, 1, 1, 1, 1, 1, 1, 1, 1, 1]\n",
      "[1, 1, 1, 1, 1, 1, 1, 1, 1, 1]\n",
      "[1, 1, 1, 1, 1, 1, 1, 1, 1, 1]\n",
      "[1, 1, 1, 1, 1, 1, 1, 1, 1, 1]\n",
      "[1, 1, 1, 1, 1, 1, 1, 1, 1, 1]\n",
      "[1, 1, 1, 1, 1, 1, 1, 1, 1, 1]\n"
     ]
    }
   ],
   "source": [
    "a = [1, 1, 1, 1, 1, 1, 1, 1, 1, 1]\n",
    "for i in range(10):\n",
    "    print(a)"
   ]
  },
  {
   "cell_type": "code",
   "execution_count": 143,
   "metadata": {},
   "outputs": [
    {
     "name": "stdout",
     "output_type": "stream",
     "text": [
      "1\n",
      "4\n",
      "7\n",
      "\n",
      "['c', 'c', 'c', 1, 1, 1, 1, 1, 1, 1, 1, 1, 1]\n",
      "\n",
      "\n",
      "[1, 'w', 1, 1, 'w', 1, 1, 'w']\n",
      "\n",
      "[1, 1, 'w', 1, 1, 'w', 1, 'w']\n"
     ]
    }
   ],
   "source": [
    "a = [1, 1, 1, 1, 1, 1, 1, 1, 1, 1]\n",
    "b = [1, 1, 1, 1, 1]\n",
    "c = [1, 1, 1, 1, 1]\n",
    "for i in range(1, 10, 3):\n",
    "    print(i)\n",
    "    a.insert(0, 'c')\n",
    "    b.insert(i, 'w')\n",
    "    c.insert(i + 1, 'w')\n",
    "print()\n",
    "print(a)\n",
    "print(\"\\n\")\n",
    "print(b)\n",
    "print(\"\")\n",
    "print(c)"
   ]
  },
  {
   "cell_type": "code",
   "execution_count": 144,
   "metadata": {},
   "outputs": [
    {
     "data": {
      "text/plain": [
       "[1, 1, 1, 5, 5, 5]"
      ]
     },
     "execution_count": 144,
     "metadata": {},
     "output_type": "execute_result"
    }
   ],
   "source": [
    "# list.extend(list2) adds the elements in list2 to the end of the list.\n",
    "# Using + or += on a list is similar to using extend().\n",
    "\n",
    "a = [1, 1, 1]\n",
    "b = [5, 5, 5]\n",
    "a.extend(b)\n",
    "a"
   ]
  },
  {
   "cell_type": "code",
   "execution_count": 145,
   "metadata": {},
   "outputs": [
    {
     "data": {
      "text/plain": [
       "[1, 1]"
      ]
     },
     "execution_count": 145,
     "metadata": {},
     "output_type": "execute_result"
    }
   ],
   "source": [
    "# list.remove(elem) -- searches for the first instance of the given element and \n",
    "# removes it (throws ValueError if not present)\n",
    "\n",
    "a = [1, 1, 1]\n",
    "a.remove(1)\n",
    "a"
   ]
  },
  {
   "cell_type": "code",
   "execution_count": 146,
   "metadata": {},
   "outputs": [
    {
     "data": {
      "text/plain": [
       "[1, 1]"
      ]
     },
     "execution_count": 146,
     "metadata": {},
     "output_type": "execute_result"
    }
   ],
   "source": [
    "a = [4, 1, 1]\n",
    "a.remove(4)\n",
    "a"
   ]
  },
  {
   "cell_type": "code",
   "execution_count": 147,
   "metadata": {},
   "outputs": [
    {
     "ename": "ValueError",
     "evalue": "list.remove(x): x not in list",
     "output_type": "error",
     "traceback": [
      "\u001b[0;31m---------------------------------------------------------------------------\u001b[0m",
      "\u001b[0;31mValueError\u001b[0m                                Traceback (most recent call last)",
      "\u001b[0;32m<ipython-input-147-b74940fb3635>\u001b[0m in \u001b[0;36m<module>\u001b[0;34m\u001b[0m\n\u001b[1;32m      1\u001b[0m \u001b[0ma\u001b[0m \u001b[0;34m=\u001b[0m \u001b[0;34m[\u001b[0m\u001b[0;36m4\u001b[0m\u001b[0;34m,\u001b[0m \u001b[0;36m1\u001b[0m\u001b[0;34m,\u001b[0m \u001b[0;36m1\u001b[0m\u001b[0;34m]\u001b[0m\u001b[0;34m\u001b[0m\u001b[0;34m\u001b[0m\u001b[0m\n\u001b[0;32m----> 2\u001b[0;31m \u001b[0ma\u001b[0m\u001b[0;34m.\u001b[0m\u001b[0mremove\u001b[0m\u001b[0;34m(\u001b[0m\u001b[0;36m7\u001b[0m\u001b[0;34m)\u001b[0m\u001b[0;34m\u001b[0m\u001b[0;34m\u001b[0m\u001b[0m\n\u001b[0m\u001b[1;32m      3\u001b[0m \u001b[0ma\u001b[0m\u001b[0;34m\u001b[0m\u001b[0;34m\u001b[0m\u001b[0m\n",
      "\u001b[0;31mValueError\u001b[0m: list.remove(x): x not in list"
     ]
    }
   ],
   "source": [
    "a = [4, 1, 1]\n",
    "a.remove(7)\n",
    "a"
   ]
  },
  {
   "cell_type": "code",
   "execution_count": 148,
   "metadata": {},
   "outputs": [],
   "source": [
    "# Do you understand the previuos error?"
   ]
  },
  {
   "cell_type": "code",
   "execution_count": 149,
   "metadata": {},
   "outputs": [
    {
     "data": {
      "text/plain": [
       "1"
      ]
     },
     "execution_count": 149,
     "metadata": {},
     "output_type": "execute_result"
    }
   ],
   "source": [
    "# The count() method returns the number of times the specified element appears in the list.\n",
    "\n",
    "a = [4, 1, 1, 5, 8, 10, 4, -4]\n",
    "a.count(-4)"
   ]
  },
  {
   "cell_type": "code",
   "execution_count": 150,
   "metadata": {},
   "outputs": [
    {
     "data": {
      "text/plain": [
       "['r', 't', -4, 4, 10, 8, 5, 1, 1, 4]"
      ]
     },
     "execution_count": 150,
     "metadata": {},
     "output_type": "execute_result"
    }
   ],
   "source": [
    "# list.reverse() -- reverses the list in place (does not return it).\n",
    "\n",
    "a = [4, 1, 1, 5, 8, 10, 4, -4, 't', 'r']\n",
    "a.reverse()\n",
    "a"
   ]
  },
  {
   "cell_type": "code",
   "execution_count": 151,
   "metadata": {},
   "outputs": [
    {
     "data": {
      "text/plain": [
       "['r', 't', -4, 4, 10, 8, 5, 1, 1, 4]"
      ]
     },
     "execution_count": 151,
     "metadata": {},
     "output_type": "execute_result"
    }
   ],
   "source": [
    "a = [4, 1, 1, 5, 8, 10, 4, -4, 't', 'r']\n",
    "a[::-1] # reverse()"
   ]
  },
  {
   "cell_type": "code",
   "execution_count": 152,
   "metadata": {},
   "outputs": [
    {
     "data": {
      "text/plain": [
       "[]"
      ]
     },
     "execution_count": 152,
     "metadata": {},
     "output_type": "execute_result"
    }
   ],
   "source": [
    "# The clear() method removes all items from the list.\n",
    "\n",
    "a = [4, 1, 1, 5, 8, 10, 4, -4, 't', 'r']\n",
    "a.clear()\n",
    "a"
   ]
  },
  {
   "cell_type": "code",
   "execution_count": 153,
   "metadata": {},
   "outputs": [
    {
     "data": {
      "text/plain": [
       "[-4, 1, 1, 4, 4, 5, 8, 10]"
      ]
     },
     "execution_count": 153,
     "metadata": {},
     "output_type": "execute_result"
    }
   ],
   "source": [
    "# list.sort() -- sorts the list in place (does not return it).\n",
    "# The sorted() function shown later is preferred.\n",
    "\n",
    "a = [4, 1, 1, 5, 8, 10, 4, -4]\n",
    "a.sort()\n",
    "a"
   ]
  },
  {
   "cell_type": "code",
   "execution_count": 154,
   "metadata": {},
   "outputs": [
    {
     "ename": "TypeError",
     "evalue": "'<' not supported between instances of 'str' and 'int'",
     "output_type": "error",
     "traceback": [
      "\u001b[0;31m---------------------------------------------------------------------------\u001b[0m",
      "\u001b[0;31mTypeError\u001b[0m                                 Traceback (most recent call last)",
      "\u001b[0;32m<ipython-input-154-26194767505c>\u001b[0m in \u001b[0;36m<module>\u001b[0;34m\u001b[0m\n\u001b[1;32m      1\u001b[0m \u001b[0ma\u001b[0m \u001b[0;34m=\u001b[0m \u001b[0;34m[\u001b[0m\u001b[0;36m4\u001b[0m\u001b[0;34m,\u001b[0m \u001b[0;36m1\u001b[0m\u001b[0;34m,\u001b[0m \u001b[0;36m1\u001b[0m\u001b[0;34m,\u001b[0m \u001b[0;36m5\u001b[0m\u001b[0;34m,\u001b[0m \u001b[0;36m8\u001b[0m\u001b[0;34m,\u001b[0m \u001b[0;36m10\u001b[0m\u001b[0;34m,\u001b[0m \u001b[0;36m4\u001b[0m\u001b[0;34m,\u001b[0m \u001b[0;34m-\u001b[0m\u001b[0;36m4\u001b[0m\u001b[0;34m,\u001b[0m \u001b[0;34m't'\u001b[0m\u001b[0;34m,\u001b[0m \u001b[0;34m'r'\u001b[0m\u001b[0;34m]\u001b[0m\u001b[0;34m\u001b[0m\u001b[0;34m\u001b[0m\u001b[0m\n\u001b[0;32m----> 2\u001b[0;31m \u001b[0ma\u001b[0m\u001b[0;34m.\u001b[0m\u001b[0msort\u001b[0m\u001b[0;34m(\u001b[0m\u001b[0;34m)\u001b[0m\u001b[0;34m\u001b[0m\u001b[0;34m\u001b[0m\u001b[0m\n\u001b[0m",
      "\u001b[0;31mTypeError\u001b[0m: '<' not supported between instances of 'str' and 'int'"
     ]
    }
   ],
   "source": [
    "a = [4, 1, 1, 5, 8, 10, 4, -4, 't', 'r']\n",
    "a.sort()"
   ]
  },
  {
   "cell_type": "code",
   "execution_count": 155,
   "metadata": {},
   "outputs": [],
   "source": [
    "# Do you understand the previuos error?"
   ]
  },
  {
   "cell_type": "code",
   "execution_count": 156,
   "metadata": {},
   "outputs": [],
   "source": [
    "a, b = [1, 2]"
   ]
  },
  {
   "cell_type": "code",
   "execution_count": 157,
   "metadata": {},
   "outputs": [
    {
     "data": {
      "text/plain": [
       "1"
      ]
     },
     "execution_count": 157,
     "metadata": {},
     "output_type": "execute_result"
    }
   ],
   "source": [
    "a"
   ]
  },
  {
   "cell_type": "code",
   "execution_count": 158,
   "metadata": {},
   "outputs": [
    {
     "data": {
      "text/plain": [
       "int"
      ]
     },
     "execution_count": 158,
     "metadata": {},
     "output_type": "execute_result"
    }
   ],
   "source": [
    "type(a)"
   ]
  },
  {
   "cell_type": "code",
   "execution_count": 159,
   "metadata": {},
   "outputs": [
    {
     "name": "stdout",
     "output_type": "stream",
     "text": [
      "10 a\n",
      "20 b\n",
      "30 c\n",
      "40 d\n"
     ]
    }
   ],
   "source": [
    "# Join two lists together:\n",
    "\n",
    "a = [10, 20, 30, 40]\n",
    "b = ['a', 'b', 'c', 'd', 'e']\n",
    "for i, j in zip(a, b):\n",
    "    print(i, j)"
   ]
  },
  {
   "cell_type": "markdown",
   "metadata": {},
   "source": [
    "https://www.programiz.com/python-programming/methods/built-in/zip\n",
    "\n",
    "https://realpython.com/python-zip-function/\n",
    "\n",
    "Important link about built-in functions in Python: https://docs.python.org/3.3/library/functions.html\n",
    "\n",
    "**The Python interpreter has a number of functions and types built into it that are always available.**"
   ]
  },
  {
   "cell_type": "code",
   "execution_count": 160,
   "metadata": {},
   "outputs": [
    {
     "name": "stdout",
     "output_type": "stream",
     "text": [
      "(10, 'a', 1.1)\n",
      "(20, 'b', 1.2)\n",
      "(30, 'c', None)\n",
      "(40, 'd', None)\n",
      "(None, 'e', None)\n"
     ]
    }
   ],
   "source": [
    "import itertools # See below about 'import'\n",
    "\n",
    "a = [10, 20, 30, 40]\n",
    "b = ['a', 'b', 'c', 'd', 'e']\n",
    "c = [1.1, 1.2]\n",
    "for i in itertools.zip_longest(a, b, c):\n",
    "    print(i)"
   ]
  },
  {
   "cell_type": "markdown",
   "metadata": {},
   "source": [
    "https://www.geeksforgeeks.org/python-itertools-zip_longest/\n",
    "    \n",
    "https://docs.python.org/3.0/library/itertools.html\n",
    "    \n",
    "Russian: https://python-scripts.com/itertools"
   ]
  },
  {
   "cell_type": "code",
   "execution_count": 161,
   "metadata": {},
   "outputs": [
    {
     "data": {
      "text/plain": [
       "[('a', 10), ('b', 20), ('c', 30)]"
      ]
     },
     "execution_count": 161,
     "metadata": {},
     "output_type": "execute_result"
    }
   ],
   "source": [
    "s = 'abc'\n",
    "t = (10, 20, 30, 40)\n",
    "a = list(zip(s,t))\n",
    "a"
   ]
  },
  {
   "cell_type": "code",
   "execution_count": 162,
   "metadata": {},
   "outputs": [
    {
     "data": {
      "text/plain": [
       "list"
      ]
     },
     "execution_count": 162,
     "metadata": {},
     "output_type": "execute_result"
    }
   ],
   "source": [
    "type(a)"
   ]
  },
  {
   "cell_type": "markdown",
   "metadata": {},
   "source": [
    "### Problem №1 (all answers are at the end of the notebook):\n",
    "\n",
    "Write a Python program to clone or copy a list.\n",
    "\n",
    "You have original_list = [50, 4, 52, 't', 34, '9z4']."
   ]
  },
  {
   "cell_type": "markdown",
   "metadata": {},
   "source": [
    "### Problem №2 (all answers are at the end of the notebook):\n",
    "\n",
    "Write a Python program to convert a list of characters into a string.\n",
    "\n",
    "You have list1 = ['h', 'e', 'l', 'l', 'o', ',', ' ', 'w', 'o', 'r', 'l', 'd', '!']"
   ]
  },
  {
   "cell_type": "markdown",
   "metadata": {},
   "source": [
    "### Tuple\n",
    "\n",
    "A very similar type is called \"tuple\". Similarly to lists, tuples are arrays of objects. The major difference is that they are **immutable**.\n",
    "\n",
    "https://www.w3schools.com/python/python_tuples.asp\n",
    "\n",
    "https://www.programiz.com/python-programming/methods/tuple\n",
    "\n",
    "https://docs.python.org/3/tutorial/datastructures.html#tuples-and-sequences"
   ]
  },
  {
   "cell_type": "code",
   "execution_count": 163,
   "metadata": {
    "colab": {},
    "colab_type": "code",
    "id": "nony88Y4CsoI"
   },
   "outputs": [
    {
     "name": "stdout",
     "output_type": "stream",
     "text": [
      "(1, 2, 'foo')\n",
      "([True, False], ['Hello'], 42)\n"
     ]
    }
   ],
   "source": [
    "array2 = [[True, False], ['Hello'], 42]\n",
    "tuple1 = (1, 2, 'foo')\n",
    "tuple2 = tuple(array2) # You can initialize tuples with lists and vice versa\n",
    "print(tuple1)\n",
    "print(tuple2)"
   ]
  },
  {
   "cell_type": "markdown",
   "metadata": {
    "colab_type": "text",
    "id": "4wgK4O_QEwpv"
   },
   "source": [
    "Note that inner lists from `array2` are stored as lists within the `tuple2`, so they are mutable:"
   ]
  },
  {
   "cell_type": "code",
   "execution_count": 164,
   "metadata": {
    "colab": {},
    "colab_type": "code",
    "id": "vShUqu8SEc_7"
   },
   "outputs": [
    {
     "name": "stdout",
     "output_type": "stream",
     "text": [
      "([True, False, 8], ['Hello'], 42)\n"
     ]
    }
   ],
   "source": [
    "# https://www.tutorialspoint.com/How-to-append-elements-in-Python-tuple\n",
    "\n",
    "tuple2[0].append(8)\n",
    "print(tuple2)"
   ]
  },
  {
   "cell_type": "markdown",
   "metadata": {
    "colab_type": "text",
    "id": "h_BsFBKRFTYE"
   },
   "source": [
    "Also note, that the first item in `array2` has changed as well:"
   ]
  },
  {
   "cell_type": "code",
   "execution_count": 165,
   "metadata": {
    "colab": {},
    "colab_type": "code",
    "id": "Va_HqVsmFIjX"
   },
   "outputs": [
    {
     "data": {
      "text/plain": [
       "[[True, False, 8], ['Hello'], 42]"
      ]
     },
     "execution_count": 165,
     "metadata": {},
     "output_type": "execute_result"
    }
   ],
   "source": [
    "array2"
   ]
  },
  {
   "cell_type": "markdown",
   "metadata": {
    "colab_type": "text",
    "id": "LVnOMmgQFkqm"
   },
   "source": [
    "This illustrates a very important feature of python: all objects are stored by reference. Since `tuple2` was initialized from `array2`, they both reference the same object instances."
   ]
  },
  {
   "cell_type": "markdown",
   "metadata": {
    "colab_type": "text",
    "id": "4TtM9brjGQAR"
   },
   "source": [
    "You can check whether two variables are referencing the same object with `is` operator:"
   ]
  },
  {
   "cell_type": "code",
   "execution_count": 166,
   "metadata": {
    "colab": {},
    "colab_type": "code",
    "id": "9mbgGuc0Fbgh"
   },
   "outputs": [
    {
     "name": "stdout",
     "output_type": "stream",
     "text": [
      "42\n",
      "False\n",
      "True\n"
     ]
    }
   ],
   "source": [
    "print(array2[-1])\n",
    "print(array2[-1] is array2)\n",
    "print(tuple2[0] is array2[0])"
   ]
  },
  {
   "cell_type": "markdown",
   "metadata": {
    "colab_type": "text",
    "id": "lwGbXShSHUAo"
   },
   "source": [
    "Two empty tuples created with `tuple()` expression will reference the same object:"
   ]
  },
  {
   "cell_type": "code",
   "execution_count": 167,
   "metadata": {
    "colab": {},
    "colab_type": "code",
    "id": "QOQ71ETcHmpX"
   },
   "outputs": [
    {
     "data": {
      "text/plain": [
       "True"
      ]
     },
     "execution_count": 167,
     "metadata": {},
     "output_type": "execute_result"
    }
   ],
   "source": [
    "tuple() is tuple()"
   ]
  },
  {
   "cell_type": "markdown",
   "metadata": {
    "colab_type": "text",
    "id": "GeTA_nFSHqOI"
   },
   "source": [
    "while two empty lists won't, since lists are mutable (and the two empty list instances may be changed in a different way):"
   ]
  },
  {
   "cell_type": "code",
   "execution_count": 168,
   "metadata": {
    "colab": {},
    "colab_type": "code",
    "id": "s1TzcRMwHofA"
   },
   "outputs": [
    {
     "data": {
      "text/plain": [
       "False"
      ]
     },
     "execution_count": 168,
     "metadata": {},
     "output_type": "execute_result"
    }
   ],
   "source": [
    "list() is list()"
   ]
  },
  {
   "cell_type": "markdown",
   "metadata": {
    "colab_type": "text",
    "id": "D_71MZB0NiOP"
   },
   "source": [
    "### Dict\n",
    "\n",
    "Another important type is **dictionary**. Dictionaries are key->value mappings with a restriction that keys can only be immutable objects.\n",
    "\n",
    "https://realpython.com/python-dicts/\n",
    "\n",
    "https://www.w3schools.com/python/python_dictionaries.asp\n",
    "\n",
    "https://www.programiz.com/python-programming/dictionary\n",
    "\n",
    "Several ways to create and fill a dictionary:"
   ]
  },
  {
   "cell_type": "code",
   "execution_count": 169,
   "metadata": {
    "colab": {},
    "colab_type": "code",
    "id": "v6WfRilNHuWR"
   },
   "outputs": [
    {
     "name": "stdout",
     "output_type": "stream",
     "text": [
      "{'foo': 'bar', -3: False}\n",
      "{'foo': 'bar', 'hello': 'world'}\n"
     ]
    }
   ],
   "source": [
    "dict1 = {\"foo\": 'bar', -3: False}\n",
    "dict2 = dict(foo = 'bar', hello = 'world')\n",
    "\n",
    "print(dict1)\n",
    "print(dict2)"
   ]
  },
  {
   "cell_type": "markdown",
   "metadata": {
    "colab_type": "text",
    "id": "2SELmRyoOe3_"
   },
   "source": [
    "Accessing elements:"
   ]
  },
  {
   "cell_type": "code",
   "execution_count": 170,
   "metadata": {
    "colab": {},
    "colab_type": "code",
    "id": "Nmmm2ErNObj7"
   },
   "outputs": [
    {
     "name": "stdout",
     "output_type": "stream",
     "text": [
      "False\n",
      "bar\n",
      "{'foo': 'bar', 'hello': 'world', 'new_key': 'new_value'}\n"
     ]
    }
   ],
   "source": [
    "print(dict1[-3])\n",
    "print(dict2['foo'])\n",
    "\n",
    "dict2['new_key'] = 'new_value'\n",
    "print(dict2)"
   ]
  },
  {
   "cell_type": "code",
   "execution_count": 171,
   "metadata": {},
   "outputs": [
    {
     "name": "stdout",
     "output_type": "stream",
     "text": [
      "{'key': 'value'}\n",
      "{'key': 'value', 'mynewkey': 'mynewvalue'}\n"
     ]
    }
   ],
   "source": [
    "d = {'key': 'value'}\n",
    "print(d)\n",
    "\n",
    "d['mynewkey'] = 'mynewvalue'\n",
    "print(d)"
   ]
  },
  {
   "cell_type": "code",
   "execution_count": 172,
   "metadata": {},
   "outputs": [
    {
     "name": "stdout",
     "output_type": "stream",
     "text": [
      "{1: 2}\n"
     ]
    }
   ],
   "source": [
    "x = {1: 2}\n",
    "print(x)"
   ]
  },
  {
   "cell_type": "code",
   "execution_count": 173,
   "metadata": {},
   "outputs": [
    {
     "name": "stdout",
     "output_type": "stream",
     "text": [
      "{1: 2, 3: 4, 5: 6, 7: 8}\n"
     ]
    }
   ],
   "source": [
    "# https://www.tutorialspoint.com/python/dictionary_update.htm\n",
    "\n",
    "d = {3: 4, 5: 6, 7: 8}\n",
    "x.update(d)\n",
    "print(x)"
   ]
  },
  {
   "cell_type": "code",
   "execution_count": 174,
   "metadata": {},
   "outputs": [
    {
     "data": {
      "text/plain": [
       "{'Tom': 50, 'Dick': 35, 'Harry': 60}"
      ]
     },
     "execution_count": 174,
     "metadata": {},
     "output_type": "execute_result"
    }
   ],
   "source": [
    "names = ['Tom', 'Dick', 'Harry']\n",
    "ages = [50, 35, 60]\n",
    "\n",
    "a = dict(zip(names, ages))\n",
    "a"
   ]
  },
  {
   "cell_type": "code",
   "execution_count": 175,
   "metadata": {},
   "outputs": [
    {
     "data": {
      "text/plain": [
       "dict"
      ]
     },
     "execution_count": 175,
     "metadata": {},
     "output_type": "execute_result"
    }
   ],
   "source": [
    "type(a)"
   ]
  },
  {
   "cell_type": "markdown",
   "metadata": {},
   "source": [
    "### Set and frozenset\n",
    "\n",
    "https://www.programiz.com/python-programming/set\n",
    "\n",
    "https://www.w3schools.com/python/python_ref_set.asp\n",
    "\n",
    "https://www.programiz.com/python-programming/methods/built-in/frozenset\n",
    "\n",
    "https://docs.python.org/2.4/lib/types-set.html\n",
    "\n",
    "Russian: https://pythonworld.ru/tipy-dannyx-v-python/mnozhestva-set-i-frozenset.html"
   ]
  },
  {
   "cell_type": "code",
   "execution_count": 176,
   "metadata": {},
   "outputs": [
    {
     "data": {
      "text/plain": [
       "{4, 5, 6}"
      ]
     },
     "execution_count": 176,
     "metadata": {},
     "output_type": "execute_result"
    }
   ],
   "source": [
    "a = {4, 5, 6}\n",
    "a"
   ]
  },
  {
   "cell_type": "code",
   "execution_count": 177,
   "metadata": {},
   "outputs": [
    {
     "data": {
      "text/plain": [
       "set"
      ]
     },
     "execution_count": 177,
     "metadata": {},
     "output_type": "execute_result"
    }
   ],
   "source": [
    "type(a)"
   ]
  },
  {
   "cell_type": "code",
   "execution_count": 178,
   "metadata": {},
   "outputs": [
    {
     "data": {
      "text/plain": [
       "frozenset({'e', 'q', 'r', 't', 'w', 'y'})"
      ]
     },
     "execution_count": 178,
     "metadata": {},
     "output_type": "execute_result"
    }
   ],
   "source": [
    "b = frozenset('qwerty')\n",
    "b"
   ]
  },
  {
   "cell_type": "code",
   "execution_count": 179,
   "metadata": {},
   "outputs": [
    {
     "data": {
      "text/plain": [
       "frozenset"
      ]
     },
     "execution_count": 179,
     "metadata": {},
     "output_type": "execute_result"
    }
   ],
   "source": [
    "type(b)"
   ]
  },
  {
   "cell_type": "code",
   "execution_count": 180,
   "metadata": {},
   "outputs": [
    {
     "name": "stdout",
     "output_type": "stream",
     "text": [
      "{'banana', 'apple', 'cherry'}\n"
     ]
    }
   ],
   "source": [
    "thisset = {\"apple\", \"banana\", \"cherry\"}\n",
    "print(thisset)\n",
    "\n",
    "# Note: Sets are unordered, so you cannot be sure in which order the items will appear.\n",
    "# Once a set is created, you cannot change its items, but you can add new items.\n",
    "#To add one item to a set use the add() method.\n",
    "#To add more than one item to a set use the update() method."
   ]
  },
  {
   "cell_type": "code",
   "execution_count": 181,
   "metadata": {},
   "outputs": [
    {
     "name": "stdout",
     "output_type": "stream",
     "text": [
      "{'banana', 'apple', 'orange', 'cherry'}\n"
     ]
    }
   ],
   "source": [
    "thisset = {\"apple\", \"banana\", \"cherry\"}\n",
    "\n",
    "thisset.add(\"orange\") # https://www.geeksforgeeks.org/set-add-python/\n",
    "\n",
    "print(thisset)"
   ]
  },
  {
   "cell_type": "code",
   "execution_count": 182,
   "metadata": {},
   "outputs": [
    {
     "name": "stdout",
     "output_type": "stream",
     "text": [
      "{'grapes', 'orange', 'mango', 'cherry', 'banana', 'apple'}\n"
     ]
    }
   ],
   "source": [
    "thisset = {\"apple\", \"banana\", \"cherry\"}\n",
    "\n",
    "thisset.update([\"orange\", \"mango\", \"grapes\"])\n",
    "\n",
    "print(thisset)"
   ]
  },
  {
   "cell_type": "markdown",
   "metadata": {},
   "source": [
    "https://www.w3schools.com/python/ref_func_len.asp\n",
    "\n",
    "https://www.programiz.com/python-programming/methods/built-in/len\n",
    "\n",
    "https://www.tutorialspoint.com/python/list_len.htm"
   ]
  },
  {
   "cell_type": "code",
   "execution_count": 183,
   "metadata": {},
   "outputs": [
    {
     "name": "stdout",
     "output_type": "stream",
     "text": [
      "3\n"
     ]
    }
   ],
   "source": [
    "thisset = {\"apple\", \"banana\", \"cherry\"}\n",
    "\n",
    "print(len(thisset))"
   ]
  },
  {
   "cell_type": "code",
   "execution_count": 184,
   "metadata": {},
   "outputs": [
    {
     "name": "stdout",
     "output_type": "stream",
     "text": [
      "{'apple', 'cherry'}\n"
     ]
    }
   ],
   "source": [
    "#To remove an item in a set, use the remove(), or the discard() method.\n",
    "\n",
    "thisset = {\"apple\", \"banana\", \"cherry\"}\n",
    "\n",
    "thisset.remove(\"banana\") # https://www.w3schools.com/python/ref_set_remove.asp\n",
    "\n",
    "print(thisset)"
   ]
  },
  {
   "cell_type": "code",
   "execution_count": 185,
   "metadata": {},
   "outputs": [
    {
     "name": "stdout",
     "output_type": "stream",
     "text": [
      "{'apple', 'cherry'}\n"
     ]
    }
   ],
   "source": [
    "thisset = {\"apple\", \"banana\", \"cherry\"}\n",
    "\n",
    "thisset.discard(\"banana\") # https://www.w3schools.com/python/ref_set_discard.asp\n",
    "\n",
    "print(thisset)"
   ]
  },
  {
   "cell_type": "code",
   "execution_count": 186,
   "metadata": {},
   "outputs": [
    {
     "name": "stdout",
     "output_type": "stream",
     "text": [
      "banana\n",
      "{'apple', 'cherry'}\n"
     ]
    }
   ],
   "source": [
    "# Remove the last item by using the pop() method:\n",
    "\n",
    "thisset = {\"apple\", \"banana\", \"cherry\"}\n",
    "\n",
    "x = thisset.pop() # https://www.w3schools.com/python/ref_set_pop.asp\n",
    "\n",
    "print(x)\n",
    "\n",
    "print(thisset)"
   ]
  },
  {
   "cell_type": "code",
   "execution_count": 187,
   "metadata": {},
   "outputs": [
    {
     "name": "stdout",
     "output_type": "stream",
     "text": [
      "set()\n"
     ]
    }
   ],
   "source": [
    "#The clear() method empties the set:\n",
    "\n",
    "thisset = {\"apple\", \"banana\", \"cherry\"}\n",
    "\n",
    "thisset.clear() # https://www.w3schools.com/python/ref_set_clear.asp\n",
    "\n",
    "print(thisset)"
   ]
  },
  {
   "cell_type": "markdown",
   "metadata": {
    "colab_type": "text",
    "id": "xtEdQYzzkPK5"
   },
   "source": [
    "## Loops, conditionals and iterables"
   ]
  },
  {
   "cell_type": "markdown",
   "metadata": {},
   "source": [
    "### Indentation in Python:\n",
    "\n",
    "**A block is a combination of all these statements. Block can be regarded as the grouping of statements for a specific purpose. Most of the programming languages like C, C++, Java use braces { } to define a block of code. One of the distinctive features of Python is its use of indentation to highlight the blocks of code. Whitespace is used for indentation in Python. All statements with the same distance to the right belong to the same block of code. If a block has to be more deeply nested, it is simply indented further to the right.**\n",
    "\n",
    "https://www.geeksforgeeks.org/statement-indentation-and-comment-in-python/\n",
    "\n",
    "https://www.w3schools.com/python/gloss_python_indentation.asp\n",
    "\n",
    "https://www.programiz.com/python-programming/statement-indentation-comments\n",
    "\n",
    "https://www.w3schools.in/python-tutorial/concept-of-indentation-in-python/"
   ]
  },
  {
   "cell_type": "markdown",
   "metadata": {},
   "source": [
    "Important links for the section:\n",
    "\n",
    "https://www.w3schools.com/python/python_for_loops.asp\n",
    "    \n",
    "https://wiki.python.org/moin/ForLoop\n",
    "\n",
    "https://www.geeksforgeeks.org/loops-in-python/"
   ]
  },
  {
   "cell_type": "code",
   "execution_count": 188,
   "metadata": {},
   "outputs": [
    {
     "name": "stdout",
     "output_type": "stream",
     "text": [
      "null_variable is None\n"
     ]
    }
   ],
   "source": [
    "null_variable = None\n",
    "not_null_variable = 'Hello There!'\n",
    "\n",
    "if null_variable is None:\n",
    "    print('null_variable is None')\n",
    "else:\n",
    "    print('null_variable is not None')"
   ]
  },
  {
   "cell_type": "markdown",
   "metadata": {},
   "source": [
    "**while** in Python:\n",
    "\n",
    "https://realpython.com/python-while-loop/\n",
    "    \n",
    "https://www.w3schools.com/python/python_while_loops.asp\n",
    "\n",
    "https://www.tutorialspoint.com/python/python_while_loop.htm"
   ]
  },
  {
   "cell_type": "code",
   "execution_count": 189,
   "metadata": {
    "colab": {},
    "colab_type": "code",
    "id": "pUary3TNkAYj",
    "outputId": "d6a3a806-7814-47ef-fa1d-26de9e0a8cfd"
   },
   "outputs": [
    {
     "name": "stdout",
     "output_type": "stream",
     "text": [
      "1\n",
      "4\n",
      "9\n",
      "16\n",
      "25\n",
      "36\n",
      "49\n",
      "64\n",
      "81\n",
      "100\n"
     ]
    }
   ],
   "source": [
    "a = 0\n",
    "\n",
    "while a < 10:\n",
    "    a += 1\n",
    "    print(a ** 2)"
   ]
  },
  {
   "cell_type": "code",
   "execution_count": 190,
   "metadata": {},
   "outputs": [
    {
     "name": "stdout",
     "output_type": "stream",
     "text": [
      "1\n",
      "4\n",
      "9\n",
      "16\n",
      "25\n",
      "36\n",
      "49\n",
      "64\n",
      "81\n",
      "100\n"
     ]
    }
   ],
   "source": [
    "a = 0\n",
    "\n",
    "while a < 10:\n",
    "   a += 1\n",
    "   print(a ** 2)\n",
    "\n",
    "# Can you fix the line with 'a += 1'?"
   ]
  },
  {
   "cell_type": "code",
   "execution_count": 192,
   "metadata": {},
   "outputs": [
    {
     "ename": "IndentationError",
     "evalue": "unindent does not match any outer indentation level (<tokenize>, line 5)",
     "output_type": "error",
     "traceback": [
      "\u001b[0;36m  File \u001b[0;32m\"<tokenize>\"\u001b[0;36m, line \u001b[0;32m5\u001b[0m\n\u001b[0;31m    print(a ** 2)\u001b[0m\n\u001b[0m    ^\u001b[0m\n\u001b[0;31mIndentationError\u001b[0m\u001b[0;31m:\u001b[0m unindent does not match any outer indentation level\n"
     ]
    }
   ],
   "source": [
    "a = 0\n",
    "\n",
    "while a < 10:\n",
    "    a += 1\n",
    "  print(a ** 2)\n",
    "\n",
    "# Can you fix the line with 'print(a ** 2)'?"
   ]
  },
  {
   "cell_type": "markdown",
   "metadata": {},
   "source": [
    "**break**, **continue** and **pass** in Python:\n",
    "\n",
    "https://medium.com/better-programming/how-to-use-pass-break-and-continue-in-python-6e0201fc032a\n",
    "\n",
    "https://www.digitalocean.com/community/tutorials/how-to-use-break-continue-and-pass-statements-when-working-with-loops-in-python-3\n",
    "\n",
    "https://www.tutorialspoint.com/python/python_loop_control.htm"
   ]
  },
  {
   "cell_type": "code",
   "execution_count": 193,
   "metadata": {},
   "outputs": [
    {
     "name": "stdout",
     "output_type": "stream",
     "text": [
      "i =  0\n",
      "a =  2\n",
      "\n",
      "\n",
      "i =  1\n",
      "a =  3\n",
      "\n",
      "\n",
      "i =  2\n",
      "a =  4\n",
      "\n",
      "\n",
      "i =  3\n",
      "a =  5\n",
      "\n",
      "\n",
      "i =  4\n",
      "a =  6\n",
      "\n",
      "\n",
      "i =  5\n",
      "end\n"
     ]
    }
   ],
   "source": [
    "a = 2\n",
    "for i in range(10):\n",
    "    print('i = ', i)\n",
    "    if a < 7:\n",
    "        print('a = ', a)\n",
    "    else:\n",
    "        print(\"end\")\n",
    "        break\n",
    "    a += 1\n",
    "    print(\"\\n\")"
   ]
  },
  {
   "cell_type": "code",
   "execution_count": 194,
   "metadata": {},
   "outputs": [
    {
     "name": "stdout",
     "output_type": "stream",
     "text": [
      "0\n",
      "1\n",
      "2\n",
      "3\n",
      "4\n",
      "end.\n"
     ]
    }
   ],
   "source": [
    "i = 0\n",
    "while i < 10:\n",
    "    if i == 5:\n",
    "        print(\"end.\")\n",
    "        break\n",
    "    else:\n",
    "        print(i)\n",
    "        i += 1"
   ]
  },
  {
   "cell_type": "code",
   "execution_count": 195,
   "metadata": {},
   "outputs": [
    {
     "name": "stdout",
     "output_type": "stream",
     "text": [
      "0\n",
      "1\n",
      "2\n",
      "3\n",
      "4\n"
     ]
    }
   ],
   "source": [
    "# Now without 'print(\"end.\")'\n",
    "# Do you understand the logic of 'break'?\n",
    "# Where is out from 'print(\"end.\")'?\n",
    "\n",
    "i = 0\n",
    "while i < 10:\n",
    "    if i == 5:\n",
    "        break\n",
    "        print(\"end.\")\n",
    "    else:\n",
    "        print(i)\n",
    "        i += 1"
   ]
  },
  {
   "cell_type": "code",
   "execution_count": 196,
   "metadata": {},
   "outputs": [
    {
     "name": "stdout",
     "output_type": "stream",
     "text": [
      "num =  0\n",
      "0\n",
      "num =  1\n",
      "1\n",
      "num =  2\n",
      "2\n",
      "num =  3\n",
      "num =  4\n",
      "4\n",
      "num =  5\n",
      "num =  6\n",
      "6\n"
     ]
    }
   ],
   "source": [
    "for num in range(7):\n",
    "    print('num = ', num)\n",
    "    if num == 3:\n",
    "        continue\n",
    "    if num == 5:\n",
    "        continue\n",
    "    else:\n",
    "        print(num)"
   ]
  },
  {
   "cell_type": "code",
   "execution_count": 197,
   "metadata": {},
   "outputs": [
    {
     "name": "stdout",
     "output_type": "stream",
     "text": [
      "num =  0\n",
      "0\n",
      "num =  1\n",
      "1\n",
      "num =  2\n",
      "2\n",
      "num =  3\n",
      "some text\n",
      "num =  4\n",
      "4\n",
      "num =  5\n",
      "num =  6\n",
      "6\n"
     ]
    }
   ],
   "source": [
    "for num in range(7):\n",
    "    print('num = ', num)\n",
    "    if num == 3:\n",
    "        print('some text')\n",
    "        continue\n",
    "    if num == 5:\n",
    "        continue\n",
    "    else:\n",
    "        print(num)"
   ]
  },
  {
   "cell_type": "code",
   "execution_count": 198,
   "metadata": {},
   "outputs": [
    {
     "name": "stdout",
     "output_type": "stream",
     "text": [
      "num =  0\n",
      "0\n",
      "num =  1\n",
      "1\n",
      "num =  2\n",
      "2\n",
      "num =  3\n",
      "num =  4\n",
      "4\n",
      "num =  5\n",
      "num =  6\n",
      "6\n"
     ]
    }
   ],
   "source": [
    "# Do you understand the logic of 'continue'?\n",
    "# Where is out from 'print('some text')'?\n",
    "\n",
    "for num in range(7):\n",
    "    print('num = ', num)\n",
    "    if num == 3:\n",
    "        continue\n",
    "        print('some text')\n",
    "    if num == 5:\n",
    "        continue\n",
    "    else:\n",
    "        print(num)"
   ]
  },
  {
   "cell_type": "code",
   "execution_count": 199,
   "metadata": {},
   "outputs": [
    {
     "name": "stdout",
     "output_type": "stream",
     "text": [
      "3\n",
      "4\n",
      "5\n",
      "6\n"
     ]
    }
   ],
   "source": [
    "for num in range(7):\n",
    "    if num < 3:\n",
    "        pass\n",
    "    else:\n",
    "        print(num)"
   ]
  },
  {
   "cell_type": "code",
   "execution_count": 200,
   "metadata": {},
   "outputs": [
    {
     "name": "stdout",
     "output_type": "stream",
     "text": [
      "text\n",
      "text\n",
      "text\n",
      "3\n",
      "4\n",
      "5\n",
      "6\n"
     ]
    }
   ],
   "source": [
    "# Do you understand the logic of 'pass'?\n",
    "\n",
    "for num in range(7):\n",
    "    if num < 3:\n",
    "        pass\n",
    "        print('text')\n",
    "    else:\n",
    "        print(num)"
   ]
  },
  {
   "cell_type": "markdown",
   "metadata": {
    "colab_type": "text",
    "id": "tFQEd2ylO-8A"
   },
   "source": [
    "A loop over elements of a list:"
   ]
  },
  {
   "cell_type": "code",
   "execution_count": 201,
   "metadata": {
    "colab": {},
    "colab_type": "code",
    "id": "_yO1tD-mOt5V"
   },
   "outputs": [
    {
     "name": "stdout",
     "output_type": "stream",
     "text": [
      "1\n",
      "2\n",
      "hello\n",
      "False\n"
     ]
    }
   ],
   "source": [
    "objects = [1, 2, 'hello', False]\n",
    "\n",
    "for obj in objects:\n",
    "    print(obj)"
   ]
  },
  {
   "cell_type": "code",
   "execution_count": 202,
   "metadata": {
    "colab": {},
    "colab_type": "code",
    "id": "dmCu-COkPVJ5"
   },
   "outputs": [
    {
     "name": "stdout",
     "output_type": "stream",
     "text": [
      "0\n",
      "1\n",
      "2\n",
      "3\n",
      "4\n"
     ]
    }
   ],
   "source": [
    "for i in range(5):\n",
    "    print(i)"
   ]
  },
  {
   "cell_type": "markdown",
   "metadata": {
    "colab_type": "text",
    "id": "-XwmCqJRQEZB"
   },
   "source": [
    "Note that `range` has more arguments. Place the cursor right after the opening bracket and hit **TAB** to see help:"
   ]
  },
  {
   "cell_type": "code",
   "execution_count": 203,
   "metadata": {},
   "outputs": [
    {
     "ename": "SyntaxError",
     "evalue": "invalid syntax (<ipython-input-203-550b44f13f7c>, line 2)",
     "output_type": "error",
     "traceback": [
      "\u001b[0;36m  File \u001b[0;32m\"<ipython-input-203-550b44f13f7c>\"\u001b[0;36m, line \u001b[0;32m2\u001b[0m\n\u001b[0;31m    for i in range()\u001b[0m\n\u001b[0m                    ^\u001b[0m\n\u001b[0;31mSyntaxError\u001b[0m\u001b[0;31m:\u001b[0m invalid syntax\n"
     ]
    }
   ],
   "source": [
    "#for i in range(20, 63, 3):\n",
    "for i in range()\n",
    "    print(i)"
   ]
  },
  {
   "cell_type": "code",
   "execution_count": 204,
   "metadata": {
    "colab": {},
    "colab_type": "code",
    "id": "mpk_kkcIQqQf"
   },
   "outputs": [
    {
     "name": "stdout",
     "output_type": "stream",
     "text": [
      "not (i > 3) or i > 98: 0\n",
      "not (i > 3) or i > 98: 1\n",
      "not (i > 3) or i > 98: 2\n",
      "not (i > 3) or i > 98: 3\n",
      "i % 7 == 1 and i % 5 == 3: 8\n",
      "i % 7 == 1 and i % 5 == 3: 43\n",
      "i % 7 == 1 and i % 5 == 3: 78\n",
      "not (i > 3) or i > 98: 99\n"
     ]
    }
   ],
   "source": [
    "for i in range(100):\n",
    "    if i % 7 == 1 and i % 5 == 3:\n",
    "        print(\"i % 7 == 1 and i % 5 == 3:\", i)\n",
    "    if not (i > 3) or i > 98:\n",
    "        print(\"not (i > 3) or i > 98:\", i)"
   ]
  },
  {
   "cell_type": "code",
   "execution_count": 205,
   "metadata": {
    "colab": {},
    "colab_type": "code",
    "id": "zOolnUZeOMdc"
   },
   "outputs": [
    {
     "name": "stdout",
     "output_type": "stream",
     "text": [
      "[9, 225, 729]\n"
     ]
    }
   ],
   "source": [
    "list1 = [3, 15, 27, 42]\n",
    "list2 = []\n",
    "\n",
    "for i in range(30):\n",
    "    if i in list1:\n",
    "        list2.append(i ** 2)\n",
    "\n",
    "print(list2)"
   ]
  },
  {
   "cell_type": "markdown",
   "metadata": {},
   "source": [
    "**List comprehension**:\n",
    "\n",
    "https://www.programiz.com/python-programming/list-comprehension\n",
    "\n",
    "https://realpython.com/list-comprehension-python/\n",
    "\n",
    "Russian: https://habr.com/ru/post/479252/ (See below about '**map**')"
   ]
  },
  {
   "cell_type": "code",
   "execution_count": 206,
   "metadata": {},
   "outputs": [
    {
     "data": {
      "text/plain": [
       "[]"
      ]
     },
     "execution_count": 206,
     "metadata": {},
     "output_type": "execute_result"
    }
   ],
   "source": [
    "squares = []\n",
    "squares"
   ]
  },
  {
   "cell_type": "code",
   "execution_count": 207,
   "metadata": {},
   "outputs": [
    {
     "data": {
      "text/plain": [
       "[0, 1, 4, 9, 16, 25, 36, 49, 64, 81]"
      ]
     },
     "execution_count": 207,
     "metadata": {},
     "output_type": "execute_result"
    }
   ],
   "source": [
    "# list comprehension\n",
    "\n",
    "squares = [i * i for i in range(10)]\n",
    "squares"
   ]
  },
  {
   "cell_type": "code",
   "execution_count": 208,
   "metadata": {},
   "outputs": [
    {
     "data": {
      "text/plain": [
       "[0, 1, 2, 3, 4, 5, 6, 7, 8, 9]"
      ]
     },
     "execution_count": 208,
     "metadata": {},
     "output_type": "execute_result"
    }
   ],
   "source": [
    "odds = [x for x in range(10)]\n",
    "odds"
   ]
  },
  {
   "cell_type": "code",
   "execution_count": 209,
   "metadata": {},
   "outputs": [
    {
     "data": {
      "text/plain": [
       "[1, 3, 5, 7, 9]"
      ]
     },
     "execution_count": 209,
     "metadata": {},
     "output_type": "execute_result"
    }
   ],
   "source": [
    "odds = [x for x in range(10) if x % 2 != 0]\n",
    "odds"
   ]
  },
  {
   "cell_type": "code",
   "execution_count": 210,
   "metadata": {},
   "outputs": [
    {
     "data": {
      "text/plain": [
       "[0, 1, 4, 27, 16, 125, 36, 343, 64, 729]"
      ]
     },
     "execution_count": 210,
     "metadata": {},
     "output_type": "execute_result"
    }
   ],
   "source": [
    "[x ** 2 if x % 2 == 0 else x ** 3 for x in range(10)]"
   ]
  },
  {
   "cell_type": "code",
   "execution_count": 211,
   "metadata": {},
   "outputs": [
    {
     "data": {
      "text/plain": [
       "list"
      ]
     },
     "execution_count": 211,
     "metadata": {},
     "output_type": "execute_result"
    }
   ],
   "source": [
    "a = [x ** 2 if x % 2 == 0 else x ** 3 for x in range(10)]\n",
    "type(a)"
   ]
  },
  {
   "cell_type": "code",
   "execution_count": 212,
   "metadata": {},
   "outputs": [
    {
     "name": "stdout",
     "output_type": "stream",
     "text": [
      "Yes, key: 'test' exists in dictionary\n"
     ]
    }
   ],
   "source": [
    "# Dictionary of string and int\n",
    "word_freq = {\n",
    "    \"Hello\": 56,\n",
    "    \"at\": 23,\n",
    "    \"test\": 43,\n",
    "    \"this\": 78\n",
    "}\n",
    "\n",
    "key = 'test'\n",
    "\n",
    "# python check if key in dict using \"in\"\n",
    "if key in word_freq:\n",
    "    print(f\"Yes, key: '{key}' exists in dictionary\")\n",
    "else:\n",
    "    print(f\"No, key: '{key}' does not exists in dictionary\")"
   ]
  },
  {
   "cell_type": "code",
   "execution_count": 213,
   "metadata": {},
   "outputs": [
    {
     "name": "stdout",
     "output_type": "stream",
     "text": [
      "No, key: 'notest' does not exists in dictionary\n"
     ]
    }
   ],
   "source": [
    "# Dictionary of string and int\n",
    "word_freq = {\n",
    "    \"Hello\": 56,\n",
    "    \"at\": 23,\n",
    "    \"test\": 43,\n",
    "    \"this\": 78\n",
    "}\n",
    "\n",
    "key = 'notest'\n",
    "\n",
    "# python check if key in dict using \"in\"\n",
    "if key in word_freq:\n",
    "    print(f\"Yes, key: '{key}' exists in dictionary\")\n",
    "else:\n",
    "    print(f\"No, key: '{key}' does not exists in dictionary\")"
   ]
  },
  {
   "cell_type": "markdown",
   "metadata": {},
   "source": [
    "This is **map**:\n",
    "    \n",
    "https://www.geeksforgeeks.org/python-map-function/\n",
    "\n",
    "https://www.journaldev.com/22960/python-map-function\n",
    "\n",
    "https://www.tutorialsteacher.com/python/python-map-function"
   ]
  },
  {
   "cell_type": "code",
   "execution_count": 214,
   "metadata": {},
   "outputs": [
    {
     "data": {
      "text/plain": [
       "['ONE', 'TWO', 'LIST', '', 'DICT']"
      ]
     },
     "execution_count": 214,
     "metadata": {},
     "output_type": "execute_result"
    }
   ],
   "source": [
    "list_of_words = ['one', 'two', 'list', '', 'dict']\n",
    "list(map(str.upper, list_of_words))"
   ]
  },
  {
   "cell_type": "code",
   "execution_count": 215,
   "metadata": {},
   "outputs": [
    {
     "data": {
      "text/plain": [
       "[1.0, 2.0, 5.0, 10.0]"
      ]
     },
     "execution_count": 215,
     "metadata": {},
     "output_type": "execute_result"
    }
   ],
   "source": [
    "list_of_str = ['1', '2', '5', '10']\n",
    "list(map(float, list_of_str))"
   ]
  },
  {
   "cell_type": "code",
   "execution_count": 216,
   "metadata": {},
   "outputs": [
    {
     "name": "stdout",
     "output_type": "stream",
     "text": [
      "(0, 10)\n",
      "(1, 20)\n",
      "(2, 30)\n",
      "(3, 40)\n"
     ]
    }
   ],
   "source": [
    "# https://book.pythontips.com/en/latest/enumerate.html\n",
    "# https://www.programiz.com/python-programming/methods/built-in/enumerate\n",
    "# https://www.geeksforgeeks.org/enumerate-in-python/\n",
    "\n",
    "a = [10, 20, 30, 40]\n",
    "for i in enumerate(a):\n",
    "    print(i)"
   ]
  },
  {
   "cell_type": "code",
   "execution_count": 217,
   "metadata": {},
   "outputs": [
    {
     "name": "stdout",
     "output_type": "stream",
     "text": [
      "(0, 'h')\n",
      "(1, 'e')\n",
      "(2, 'l')\n",
      "(3, 'l')\n",
      "(4, 'o')\n"
     ]
    }
   ],
   "source": [
    "b = \"hello\"\n",
    "for i in enumerate(b):\n",
    "    print(i)"
   ]
  },
  {
   "cell_type": "code",
   "execution_count": 218,
   "metadata": {},
   "outputs": [
    {
     "name": "stdout",
     "output_type": "stream",
     "text": [
      "(0, 1)\n",
      "(1, 2)\n",
      "(2, 3)\n"
     ]
    }
   ],
   "source": [
    "c = {1: 'a', 2: 'b', 3: 'c'}\n",
    "for i in enumerate(c):\n",
    "    print(i)"
   ]
  },
  {
   "cell_type": "markdown",
   "metadata": {},
   "source": [
    "**iter**:\n",
    "    \n",
    "https://www.w3schools.com/python/ref_func_iter.asp\n",
    "\n",
    "https://www.programiz.com/python-programming/methods/built-in/iter\n",
    "\n",
    "https://webdevblog.ru/kak-sozdat-svoj-iterator-v-python/"
   ]
  },
  {
   "cell_type": "code",
   "execution_count": 219,
   "metadata": {},
   "outputs": [
    {
     "name": "stdout",
     "output_type": "stream",
     "text": [
      "1\n",
      "2\n",
      "3\n",
      "4\n",
      "5\n"
     ]
    }
   ],
   "source": [
    "num_list = [1, 2, 3, 4, 5]\n",
    "for i in num_list:\n",
    "    print(i)"
   ]
  },
  {
   "cell_type": "code",
   "execution_count": 220,
   "metadata": {},
   "outputs": [],
   "source": [
    "itr = iter(num_list)"
   ]
  },
  {
   "cell_type": "code",
   "execution_count": 221,
   "metadata": {},
   "outputs": [
    {
     "name": "stdout",
     "output_type": "stream",
     "text": [
      "1\n"
     ]
    }
   ],
   "source": [
    "print(next(itr))"
   ]
  },
  {
   "cell_type": "code",
   "execution_count": 222,
   "metadata": {},
   "outputs": [
    {
     "name": "stdout",
     "output_type": "stream",
     "text": [
      "2\n"
     ]
    }
   ],
   "source": [
    "print(next(itr))"
   ]
  },
  {
   "cell_type": "code",
   "execution_count": 223,
   "metadata": {},
   "outputs": [
    {
     "name": "stdout",
     "output_type": "stream",
     "text": [
      "3\n"
     ]
    }
   ],
   "source": [
    "print(next(itr))"
   ]
  },
  {
   "cell_type": "code",
   "execution_count": 224,
   "metadata": {},
   "outputs": [
    {
     "name": "stdout",
     "output_type": "stream",
     "text": [
      "4\n"
     ]
    }
   ],
   "source": [
    "print(next(itr))"
   ]
  },
  {
   "cell_type": "code",
   "execution_count": 225,
   "metadata": {},
   "outputs": [
    {
     "name": "stdout",
     "output_type": "stream",
     "text": [
      "5\n"
     ]
    }
   ],
   "source": [
    "print(next(itr))"
   ]
  },
  {
   "cell_type": "code",
   "execution_count": 226,
   "metadata": {},
   "outputs": [
    {
     "ename": "StopIteration",
     "evalue": "",
     "output_type": "error",
     "traceback": [
      "\u001b[0;31m---------------------------------------------------------------------------\u001b[0m",
      "\u001b[0;31mStopIteration\u001b[0m                             Traceback (most recent call last)",
      "\u001b[0;32m<ipython-input-226-6119ae216990>\u001b[0m in \u001b[0;36m<module>\u001b[0;34m\u001b[0m\n\u001b[0;32m----> 1\u001b[0;31m \u001b[0mprint\u001b[0m\u001b[0;34m(\u001b[0m\u001b[0mnext\u001b[0m\u001b[0;34m(\u001b[0m\u001b[0mitr\u001b[0m\u001b[0;34m)\u001b[0m\u001b[0;34m)\u001b[0m\u001b[0;34m\u001b[0m\u001b[0;34m\u001b[0m\u001b[0m\n\u001b[0m",
      "\u001b[0;31mStopIteration\u001b[0m: "
     ]
    }
   ],
   "source": [
    "print(next(itr))"
   ]
  },
  {
   "cell_type": "code",
   "execution_count": 227,
   "metadata": {},
   "outputs": [],
   "source": [
    "# Do you understand the previuos error?"
   ]
  },
  {
   "cell_type": "code",
   "execution_count": 228,
   "metadata": {},
   "outputs": [
    {
     "name": "stdout",
     "output_type": "stream",
     "text": [
      "banana\n",
      "apple\n",
      "cherry\n"
     ]
    }
   ],
   "source": [
    "thisset = {\"apple\", \"banana\", \"cherry\"}\n",
    "\n",
    "for x in thisset:\n",
    "    print(x)"
   ]
  },
  {
   "cell_type": "code",
   "execution_count": 229,
   "metadata": {},
   "outputs": [
    {
     "name": "stdout",
     "output_type": "stream",
     "text": [
      "True\n"
     ]
    }
   ],
   "source": [
    "thisset = {\"apple\", \"banana\", \"cherry\"}\n",
    "\n",
    "print(\"banana\" in thisset)"
   ]
  },
  {
   "cell_type": "markdown",
   "metadata": {},
   "source": [
    "### Problem №3 (all answers are at the end of the notebook):\n",
    "\n",
    "Sum all the items in a list.\n",
    "\n",
    "You have l = [0, 1, -1, 2, 3, 30, -100, 5]. How to find this sum?"
   ]
  },
  {
   "cell_type": "markdown",
   "metadata": {},
   "source": [
    "### Problem №4 (all answers are at the end of the notebook):\n",
    "\n",
    "Write a Python program to check a list is empty or not.\n",
    "\n",
    "You have list1 = [3, 5, -7, 'mipt', 0.8] and list2 = []."
   ]
  },
  {
   "cell_type": "markdown",
   "metadata": {},
   "source": [
    "### Problem №5 (all answers are at the end of the notebook):\n",
    "\n",
    "Write a Python program to construct the following pattern, using a nested for loop.\n",
    "\n",
    "#### * \n",
    "#### * * \n",
    "#### * * * \n",
    "#### * * * * \n",
    "#### * * * * * \n",
    "#### * * * * \n",
    "#### * * * \n",
    "#### * * \n",
    "#### *\n",
    "\n",
    "<center>\n",
    "<img src=\"https://www.w3resource.com/w3r_images/python-conditional-image-exercise-4.png\">\n",
    "</center>"
   ]
  },
  {
   "cell_type": "code",
   "execution_count": 230,
   "metadata": {},
   "outputs": [],
   "source": [
    "# If the picture does not work for you (there is no Internet connection), \n",
    "# you can uncomment these two lines below and then run the cell. The picture should appear.\n",
    "# These two:\n",
    "\n",
    "#from IPython.display import Image\n",
    "#Image(\"python-conditional-image-exercise-4.png\")"
   ]
  },
  {
   "cell_type": "markdown",
   "metadata": {
    "colab_type": "text",
    "id": "rHKmw61Il80a"
   },
   "source": [
    "## Functions"
   ]
  },
  {
   "cell_type": "markdown",
   "metadata": {},
   "source": [
    "**Functions** in Python:\n",
    "\n",
    "https://www.w3schools.com/python/python_functions.asp\n",
    "\n",
    "https://www.tutorialspoint.com/python/python_functions.htm\n",
    "\n",
    "https://www.programiz.com/python-programming/function\n",
    "\n",
    "https://www.learnpython.org/en/Functions\n",
    "\n",
    "https://realpython.com/defining-your-own-python-function/"
   ]
  },
  {
   "cell_type": "markdown",
   "metadata": {},
   "source": [
    "Do you know '**lambda**'?\n",
    "\n",
    "https://www.w3schools.com/python/python_lambda.asp\n",
    "\n",
    "https://realpython.com/python-lambda/\n",
    "\n",
    "https://webdevblog.ru/kak-ispolzovat-v-python-lyambda-funkcii/"
   ]
  },
  {
   "cell_type": "code",
   "execution_count": 231,
   "metadata": {
    "colab": {},
    "colab_type": "code",
    "id": "igddBBlblfkO"
   },
   "outputs": [
    {
     "name": "stdout",
     "output_type": "stream",
     "text": [
      "0 0 0\n",
      "1 1 1\n",
      "2 4 4\n",
      "3 9 9\n",
      "4 16 16\n"
     ]
    }
   ],
   "source": [
    "def my_function(x):\n",
    "    return x ** 2\n",
    "\n",
    "# For such simple functions one may use lambdas:\n",
    "my_lambda_function = lambda x: x ** 2\n",
    "\n",
    "for i in range(5):\n",
    "    print(i, my_function(i), my_lambda_function(i))"
   ]
  },
  {
   "cell_type": "code",
   "execution_count": 232,
   "metadata": {},
   "outputs": [
    {
     "name": "stdout",
     "output_type": "stream",
     "text": [
      "0 0\n",
      "1 1\n",
      "2 4\n",
      "3 9\n",
      "4 16\n"
     ]
    }
   ],
   "source": [
    "def my_function(x):\n",
    "    def my_second_function(y):\n",
    "        return y ** 2\n",
    "    return x ** 2\n",
    "\n",
    "for i in range(5):\n",
    "    print(i, my_function(i))"
   ]
  },
  {
   "cell_type": "code",
   "execution_count": 233,
   "metadata": {},
   "outputs": [
    {
     "name": "stdout",
     "output_type": "stream",
     "text": [
      "0 None\n",
      "1 None\n",
      "2 None\n",
      "3 None\n",
      "4 None\n"
     ]
    }
   ],
   "source": [
    "def my_function(x):\n",
    "    pass\n",
    "\n",
    "for i in range(5):\n",
    "    print(i, my_function(i))"
   ]
  },
  {
   "cell_type": "code",
   "execution_count": 234,
   "metadata": {},
   "outputs": [
    {
     "name": "stdout",
     "output_type": "stream",
     "text": [
      "0 ** 2 is 0\n",
      "1 ** 2 is 1\n",
      "2 ** 2 is 4\n",
      "3 ** 2 is 9\n",
      "4 ** 2 is 16\n"
     ]
    }
   ],
   "source": [
    "def my_function(x, y):\n",
    "    return x ** y\n",
    "\n",
    "k = 2\n",
    "for i in range(5):\n",
    "    print(i, '**', k, 'is', my_function(i, k))"
   ]
  },
  {
   "cell_type": "code",
   "execution_count": 235,
   "metadata": {},
   "outputs": [
    {
     "name": "stdout",
     "output_type": "stream",
     "text": [
      "0 ** 2 is (0, 0, 2)\n",
      "1 ** 2 is (1, 1, 2)\n",
      "2 ** 2 is (4, 2, 2)\n",
      "3 ** 2 is (9, 3, 2)\n",
      "4 ** 2 is (16, 4, 2)\n"
     ]
    }
   ],
   "source": [
    "def my_function(x, y):\n",
    "    return x ** y, x, y # Do you agree that this is more easier than C/C++ can do? \n",
    "# Here it means several output values of the function.\n",
    "\n",
    "k = 2\n",
    "for i in range(5):\n",
    "    print(i, '**', k, 'is', my_function(i, k))"
   ]
  },
  {
   "cell_type": "markdown",
   "metadata": {},
   "source": [
    "***args** and ****kwargs** in Python:\n",
    "\n",
    "https://book.pythontips.com/en/latest/args_and_kwargs.html\n",
    "\n",
    "https://realpython.com/python-kwargs-and-args/\n",
    "\n",
    "https://www.geeksforgeeks.org/args-kwargs-python/\n",
    "\n",
    "Russian: https://pavel-karateev.gitbook.io/intermediate-python/sintaksis/args_and_kwargs\n",
    "\n",
    "Russian: https://tproger.ru/translations/python-args-and-kwargs/"
   ]
  },
  {
   "cell_type": "markdown",
   "metadata": {},
   "source": [
    "#### ***args** and ****kwargs** allow you to pass multiple arguments or keyword arguments to a function.\n",
    "\n",
    "https://docs.python.org/3/tutorial/controlflow.html#keyword-arguments\n",
    "\n",
    "#### Important: ***name** must occur before ****name**."
   ]
  },
  {
   "cell_type": "code",
   "execution_count": 236,
   "metadata": {},
   "outputs": [
    {
     "name": "stdout",
     "output_type": "stream",
     "text": [
      "Sum:  8\n",
      "Sum:  22\n",
      "Sum:  17\n"
     ]
    }
   ],
   "source": [
    "def adder(*nums): # nums = args\n",
    "    sum = 0\n",
    "    for n in nums:\n",
    "        sum += n\n",
    "    print(\"Sum: \", sum)\n",
    "\n",
    "adder(3, 5)\n",
    "adder(4, 5, 6, 7)\n",
    "adder(1, 2, 3, 5, 6)"
   ]
  },
  {
   "cell_type": "code",
   "execution_count": 237,
   "metadata": {},
   "outputs": [
    {
     "ename": "TypeError",
     "evalue": "adder() takes 0 positional arguments but 2 were given",
     "output_type": "error",
     "traceback": [
      "\u001b[0;31m---------------------------------------------------------------------------\u001b[0m",
      "\u001b[0;31mTypeError\u001b[0m                                 Traceback (most recent call last)",
      "\u001b[0;32m<ipython-input-237-ae3b96c83dcb>\u001b[0m in \u001b[0;36m<module>\u001b[0;34m\u001b[0m\n\u001b[1;32m      5\u001b[0m     \u001b[0mprint\u001b[0m\u001b[0;34m(\u001b[0m\u001b[0;34m\"Sum: \"\u001b[0m\u001b[0;34m,\u001b[0m \u001b[0msum\u001b[0m\u001b[0;34m)\u001b[0m\u001b[0;34m\u001b[0m\u001b[0;34m\u001b[0m\u001b[0m\n\u001b[1;32m      6\u001b[0m \u001b[0;34m\u001b[0m\u001b[0m\n\u001b[0;32m----> 7\u001b[0;31m \u001b[0madder\u001b[0m\u001b[0;34m(\u001b[0m\u001b[0;36m3\u001b[0m\u001b[0;34m,\u001b[0m \u001b[0;36m5\u001b[0m\u001b[0;34m)\u001b[0m\u001b[0;34m\u001b[0m\u001b[0;34m\u001b[0m\u001b[0m\n\u001b[0m\u001b[1;32m      8\u001b[0m \u001b[0madder\u001b[0m\u001b[0;34m(\u001b[0m\u001b[0;36m4\u001b[0m\u001b[0;34m,\u001b[0m \u001b[0;36m5\u001b[0m\u001b[0;34m,\u001b[0m \u001b[0;36m6\u001b[0m\u001b[0;34m,\u001b[0m \u001b[0;36m7\u001b[0m\u001b[0;34m)\u001b[0m\u001b[0;34m\u001b[0m\u001b[0;34m\u001b[0m\u001b[0m\n\u001b[1;32m      9\u001b[0m \u001b[0madder\u001b[0m\u001b[0;34m(\u001b[0m\u001b[0;36m1\u001b[0m\u001b[0;34m,\u001b[0m \u001b[0;36m2\u001b[0m\u001b[0;34m,\u001b[0m \u001b[0;36m3\u001b[0m\u001b[0;34m,\u001b[0m \u001b[0;36m5\u001b[0m\u001b[0;34m,\u001b[0m \u001b[0;36m6\u001b[0m\u001b[0;34m)\u001b[0m\u001b[0;34m\u001b[0m\u001b[0;34m\u001b[0m\u001b[0m\n",
      "\u001b[0;31mTypeError\u001b[0m: adder() takes 0 positional arguments but 2 were given"
     ]
    }
   ],
   "source": [
    "def adder(**nums): # nums = kwargs\n",
    "    sum = 0\n",
    "    for n in nums:\n",
    "        sum += n\n",
    "    print(\"Sum: \", sum)\n",
    "\n",
    "adder(3, 5)\n",
    "adder(4, 5, 6, 7)\n",
    "adder(1, 2, 3, 5, 6)"
   ]
  },
  {
   "cell_type": "code",
   "execution_count": 238,
   "metadata": {},
   "outputs": [
    {
     "name": "stdout",
     "output_type": "stream",
     "text": [
      "\n",
      "Data type of argument:  <class 'dict'>\n",
      "Firstname is Sita\n",
      "Lastname is Sharma\n",
      "Age is 22\n",
      "Phone is 1234567890\n"
     ]
    }
   ],
   "source": [
    "def intro(**data):\n",
    "    print(\"\\nData type of argument: \", type(data))\n",
    "    for key, value in data.items(): # https://www.programiz.com/python-programming/methods/dictionary/items\n",
    "        print(\"{} is {}\".format(key, value))\n",
    "\n",
    "intro(Firstname = \"Sita\", Lastname = \"Sharma\", Age = 22, Phone = 1234567890)"
   ]
  },
  {
   "cell_type": "code",
   "execution_count": 239,
   "metadata": {},
   "outputs": [
    {
     "name": "stdout",
     "output_type": "stream",
     "text": [
      "\n",
      "Data type of argument:  <class 'dict'>\n",
      "Firstname is John\n",
      "Lastname is Wood\n",
      "Email is johnwood@nomail.com\n",
      "Country is Wakanda\n",
      "Age is 25\n",
      "Phone is 9876543210\n"
     ]
    }
   ],
   "source": [
    "def intro(**data):\n",
    "    print(\"\\nData type of argument: \", type(data))\n",
    "    for key, value in data.items():\n",
    "        print(\"{} is {}\".format(key, value))\n",
    "\n",
    "intro(Firstname = \"John\", Lastname = \"Wood\", Email = \"johnwood@nomail.com\", \n",
    "      Country = \"Wakanda\", Age = 25, Phone = 9876543210)"
   ]
  },
  {
   "cell_type": "code",
   "execution_count": 240,
   "metadata": {},
   "outputs": [
    {
     "ename": "TypeError",
     "evalue": "intro() got an unexpected keyword argument 'Firstname'",
     "output_type": "error",
     "traceback": [
      "\u001b[0;31m---------------------------------------------------------------------------\u001b[0m",
      "\u001b[0;31mTypeError\u001b[0m                                 Traceback (most recent call last)",
      "\u001b[0;32m<ipython-input-240-b9bd87bc5055>\u001b[0m in \u001b[0;36m<module>\u001b[0;34m\u001b[0m\n\u001b[1;32m      4\u001b[0m         \u001b[0mprint\u001b[0m\u001b[0;34m(\u001b[0m\u001b[0;34m\"{} is {}\"\u001b[0m\u001b[0;34m.\u001b[0m\u001b[0mformat\u001b[0m\u001b[0;34m(\u001b[0m\u001b[0mkey\u001b[0m\u001b[0;34m,\u001b[0m \u001b[0mvalue\u001b[0m\u001b[0;34m)\u001b[0m\u001b[0;34m)\u001b[0m\u001b[0;34m\u001b[0m\u001b[0;34m\u001b[0m\u001b[0m\n\u001b[1;32m      5\u001b[0m \u001b[0;34m\u001b[0m\u001b[0m\n\u001b[0;32m----> 6\u001b[0;31m intro(Firstname = \"John\", Lastname = \"Wood\", Email = \"johnwood@nomail.com\", \n\u001b[0m\u001b[1;32m      7\u001b[0m       Country = \"Wakanda\", Age = 25, Phone = 9876543210)\n",
      "\u001b[0;31mTypeError\u001b[0m: intro() got an unexpected keyword argument 'Firstname'"
     ]
    }
   ],
   "source": [
    "def intro(*data):\n",
    "    print(\"\\nData type of argument: \", type(data))\n",
    "    for key, value in data.items():\n",
    "        print(\"{} is {}\".format(key, value))\n",
    "\n",
    "intro(Firstname = \"John\", Lastname = \"Wood\", Email = \"johnwood@nomail.com\", \n",
    "      Country = \"Wakanda\", Age = 25, Phone = 9876543210)"
   ]
  },
  {
   "cell_type": "code",
   "execution_count": 241,
   "metadata": {},
   "outputs": [
    {
     "name": "stdout",
     "output_type": "stream",
     "text": [
      "[1, 2, 3, 4, 5, 6]\n"
     ]
    },
    {
     "data": {
      "text/plain": [
       "[1, 2, 3, 4, 5, 6]"
      ]
     },
     "execution_count": 241,
     "metadata": {},
     "output_type": "execute_result"
    }
   ],
   "source": [
    "a = [1, 2, 3]\n",
    "b = [*a, 4, 5, 6]\n",
    "print(b)\n",
    "b"
   ]
  },
  {
   "cell_type": "code",
   "execution_count": 242,
   "metadata": {},
   "outputs": [
    {
     "name": "stdout",
     "output_type": "stream",
     "text": [
      "[[1, 2, 3], 4, 5, 6]\n"
     ]
    }
   ],
   "source": [
    "a = [1, 2, 3]\n",
    "b = [a, 4, 5, 6]\n",
    "print(b)"
   ]
  },
  {
   "cell_type": "code",
   "execution_count": 243,
   "metadata": {},
   "outputs": [
    {
     "name": "stdout",
     "output_type": "stream",
     "text": [
      "Student Name: Jonathan\n",
      "100\n",
      "95\n",
      "88\n",
      "92\n",
      "99\n"
     ]
    }
   ],
   "source": [
    "def printScores(student, *scores):\n",
    "    print(f\"Student Name: {student}\")\n",
    "    for score in scores:\n",
    "        print(score)\n",
    "        \n",
    "printScores(\"Jonathan\", 100, 95, 88, 92, 99)"
   ]
  },
  {
   "cell_type": "code",
   "execution_count": 244,
   "metadata": {},
   "outputs": [
    {
     "name": "stdout",
     "output_type": "stream",
     "text": [
      "Student Name: 100\n",
      "95\n",
      "88\n",
      "92\n",
      "99\n"
     ]
    }
   ],
   "source": [
    "def printScores(student, *scores):\n",
    "    print(f\"Student Name: {student}\")\n",
    "    for score in scores:\n",
    "        print(score)\n",
    "        \n",
    "printScores(100, 95, 88, 92, 99)"
   ]
  },
  {
   "cell_type": "code",
   "execution_count": 245,
   "metadata": {},
   "outputs": [
    {
     "name": "stdout",
     "output_type": "stream",
     "text": [
      "Owner Name: Jonathan\n",
      "dog: Brock\n",
      "fish: ['Larry', 'Curly', 'Moe']\n",
      "turtle: Shelldon\n"
     ]
    }
   ],
   "source": [
    "def printPetNames(owner, **pets):\n",
    "    print(f\"Owner Name: {owner}\")\n",
    "    for pet,name in pets.items():\n",
    "        print(f\"{pet}: {name}\")\n",
    "        \n",
    "printPetNames(\"Jonathan\", dog = \"Brock\", fish = [\"Larry\", \"Curly\", \"Moe\"], turtle = \"Shelldon\")"
   ]
  },
  {
   "cell_type": "code",
   "execution_count": 246,
   "metadata": {},
   "outputs": [
    {
     "name": "stdout",
     "output_type": "stream",
     "text": [
      "<class 'tuple'>\n"
     ]
    },
    {
     "data": {
      "text/plain": [
       "(1, 2, 't')"
      ]
     },
     "execution_count": 246,
     "metadata": {},
     "output_type": "execute_result"
    }
   ],
   "source": [
    "def my_function(*argc):\n",
    "    print(type(argc))\n",
    "    return argc\n",
    "\n",
    "my_function(1, 2, 't')"
   ]
  },
  {
   "cell_type": "code",
   "execution_count": 247,
   "metadata": {},
   "outputs": [
    {
     "ename": "TypeError",
     "evalue": "my_function() got an unexpected keyword argument 'd'",
     "output_type": "error",
     "traceback": [
      "\u001b[0;31m---------------------------------------------------------------------------\u001b[0m",
      "\u001b[0;31mTypeError\u001b[0m                                 Traceback (most recent call last)",
      "\u001b[0;32m<ipython-input-247-ecfb6e2ea2a4>\u001b[0m in \u001b[0;36m<module>\u001b[0;34m\u001b[0m\n\u001b[1;32m      3\u001b[0m     \u001b[0;32mreturn\u001b[0m \u001b[0margc\u001b[0m\u001b[0;34m\u001b[0m\u001b[0;34m\u001b[0m\u001b[0m\n\u001b[1;32m      4\u001b[0m \u001b[0;34m\u001b[0m\u001b[0m\n\u001b[0;32m----> 5\u001b[0;31m \u001b[0mmy_function\u001b[0m\u001b[0;34m(\u001b[0m\u001b[0;36m1\u001b[0m\u001b[0;34m,\u001b[0m \u001b[0;36m2\u001b[0m\u001b[0;34m,\u001b[0m \u001b[0;34m't'\u001b[0m\u001b[0;34m,\u001b[0m \u001b[0md\u001b[0m \u001b[0;34m=\u001b[0m \u001b[0;36m3\u001b[0m\u001b[0;34m)\u001b[0m\u001b[0;34m\u001b[0m\u001b[0;34m\u001b[0m\u001b[0m\n\u001b[0m",
      "\u001b[0;31mTypeError\u001b[0m: my_function() got an unexpected keyword argument 'd'"
     ]
    }
   ],
   "source": [
    "def my_function(*argc):\n",
    "    print(type(argc))\n",
    "    return argc\n",
    "\n",
    "my_function(1, 2, 't', d = 3)"
   ]
  },
  {
   "cell_type": "code",
   "execution_count": 248,
   "metadata": {},
   "outputs": [
    {
     "name": "stdout",
     "output_type": "stream",
     "text": [
      "<class 'dict'>\n"
     ]
    },
    {
     "data": {
      "text/plain": [
       "{'a': 1, 'b': 2, 'c': 't'}"
      ]
     },
     "execution_count": 248,
     "metadata": {},
     "output_type": "execute_result"
    }
   ],
   "source": [
    "def my_function(**argc):\n",
    "    print(type(argc))\n",
    "    return argc\n",
    "\n",
    "my_function(a = 1, b = 2, c = 't')"
   ]
  },
  {
   "cell_type": "code",
   "execution_count": 249,
   "metadata": {},
   "outputs": [
    {
     "name": "stdout",
     "output_type": "stream",
     "text": [
      "<class 'int'>\n",
      "<class 'tuple'>\n",
      "<class 'dict'>\n"
     ]
    },
    {
     "data": {
      "text/plain": [
       "(4, (111, 1, 2, 3), {'a': 't', 'b': 56, 'c': '4t', 'd': '45'})"
      ]
     },
     "execution_count": 249,
     "metadata": {},
     "output_type": "execute_result"
    }
   ],
   "source": [
    "def my_function(q, *AAA, **BBB):\n",
    "    print(type(q))\n",
    "    print(type(AAA))\n",
    "    print(type(BBB))\n",
    "    return q, AAA, BBB\n",
    "\n",
    "my_function(4, 111, 1, 2, 3, a = 't', b = 56, c = '4t', d = '45')"
   ]
  },
  {
   "cell_type": "code",
   "execution_count": 250,
   "metadata": {},
   "outputs": [
    {
     "ename": "SyntaxError",
     "evalue": "invalid syntax (<ipython-input-250-a5932674bd6b>, line 3)",
     "output_type": "error",
     "traceback": [
      "\u001b[0;36m  File \u001b[0;32m\"<ipython-input-250-a5932674bd6b>\"\u001b[0;36m, line \u001b[0;32m3\u001b[0m\n\u001b[0;31m    def my_function(q, **BBB, *AAA):\u001b[0m\n\u001b[0m                              ^\u001b[0m\n\u001b[0;31mSyntaxError\u001b[0m\u001b[0;31m:\u001b[0m invalid syntax\n"
     ]
    }
   ],
   "source": [
    "# Important: *name must occur before **name.\n",
    "\n",
    "def my_function(q, **BBB, *AAA):\n",
    "    print(type(q))\n",
    "    print(type(AAA))\n",
    "    print(type(BBB))\n",
    "    return q, AAA, BBB\n",
    "\n",
    "my_function(4, a = 't', b = 56, c = '4t', d = '45', 111, 1, 2, 3)"
   ]
  },
  {
   "cell_type": "code",
   "execution_count": 251,
   "metadata": {
    "colab": {},
    "colab_type": "code",
    "id": "Xn5yZ3ZNOt7R",
    "scrolled": true
   },
   "outputs": [
    {
     "name": "stdout",
     "output_type": "stream",
     "text": [
      "11\n",
      "['foo', 'bar']\n"
     ]
    }
   ],
   "source": [
    "def some_function(argument1, argument2):\n",
    "    print(argument1 + argument2)\n",
    "\n",
    "some_function(3, 8)\n",
    "some_function(['foo'], ['bar'])"
   ]
  },
  {
   "cell_type": "markdown",
   "metadata": {
    "colab_type": "text",
    "id": "0mofkWp6PVTu"
   },
   "source": [
    "Arguments with default values:"
   ]
  },
  {
   "cell_type": "code",
   "execution_count": 252,
   "metadata": {
    "colab": {},
    "colab_type": "code",
    "id": "mm4QBW3DPJlO"
   },
   "outputs": [
    {
     "name": "stdout",
     "output_type": "stream",
     "text": [
      "18 ----- 42\n",
      "18 ----- 19\n",
      "18 ----- 19\n",
      "<function some_function at 0x7fc031885280> ----- 42\n"
     ]
    }
   ],
   "source": [
    "def some_function(argument1, argument2 = 42):\n",
    "    print(\"{} ----- {}\".format(argument1, argument2))\n",
    "\n",
    "some_function(18)\n",
    "some_function(18, 19)\n",
    "some_function(argument2 = 19, argument1 = 18)\n",
    "\n",
    "some_function(some_function)"
   ]
  },
  {
   "cell_type": "code",
   "execution_count": 253,
   "metadata": {
    "colab": {},
    "colab_type": "code",
    "id": "uWBhj7B3bbvN"
   },
   "outputs": [
    {
     "name": "stdout",
     "output_type": "stream",
     "text": [
      "0\n",
      "1\n",
      "4\n",
      "9\n"
     ]
    }
   ],
   "source": [
    "def square(x):\n",
    "    return x ** 2\n",
    "\n",
    "for i in range(4):\n",
    "    print(square(i))"
   ]
  },
  {
   "cell_type": "code",
   "execution_count": 254,
   "metadata": {
    "scrolled": true
   },
   "outputs": [
    {
     "name": "stdout",
     "output_type": "stream",
     "text": [
      "1\n",
      "2\n",
      "6\n",
      "24\n",
      "120\n",
      "720\n",
      "5040\n",
      "40320\n",
      "362880\n"
     ]
    }
   ],
   "source": [
    "from math import factorial\n",
    "\n",
    "for i in range(1, 10):\n",
    "    print(factorial(i))"
   ]
  },
  {
   "cell_type": "code",
   "execution_count": 255,
   "metadata": {},
   "outputs": [
    {
     "data": {
      "text/plain": [
       "10"
      ]
     },
     "execution_count": 255,
     "metadata": {},
     "output_type": "execute_result"
    }
   ],
   "source": [
    "func = lambda x, y: x + y\n",
    "func(4, 6)"
   ]
  },
  {
   "cell_type": "code",
   "execution_count": 256,
   "metadata": {},
   "outputs": [
    {
     "data": {
      "text/plain": [
       "'ab'"
      ]
     },
     "execution_count": 256,
     "metadata": {},
     "output_type": "execute_result"
    }
   ],
   "source": [
    "func = lambda x, y: x + y\n",
    "func('a', 'b')"
   ]
  },
  {
   "cell_type": "code",
   "execution_count": 257,
   "metadata": {},
   "outputs": [
    {
     "ename": "TypeError",
     "evalue": "unsupported operand type(s) for +: 'int' and 'str'",
     "output_type": "error",
     "traceback": [
      "\u001b[0;31m---------------------------------------------------------------------------\u001b[0m",
      "\u001b[0;31mTypeError\u001b[0m                                 Traceback (most recent call last)",
      "\u001b[0;32m<ipython-input-257-8cd14e331e6e>\u001b[0m in \u001b[0;36m<module>\u001b[0;34m\u001b[0m\n\u001b[1;32m      1\u001b[0m \u001b[0mfunc\u001b[0m \u001b[0;34m=\u001b[0m \u001b[0;32mlambda\u001b[0m \u001b[0mx\u001b[0m\u001b[0;34m,\u001b[0m \u001b[0my\u001b[0m\u001b[0;34m:\u001b[0m \u001b[0mx\u001b[0m \u001b[0;34m+\u001b[0m \u001b[0my\u001b[0m\u001b[0;34m\u001b[0m\u001b[0;34m\u001b[0m\u001b[0m\n\u001b[0;32m----> 2\u001b[0;31m \u001b[0mfunc\u001b[0m\u001b[0;34m(\u001b[0m\u001b[0;36m5\u001b[0m\u001b[0;34m,\u001b[0m \u001b[0;34m'b'\u001b[0m\u001b[0;34m)\u001b[0m\u001b[0;34m\u001b[0m\u001b[0;34m\u001b[0m\u001b[0m\n\u001b[0m",
      "\u001b[0;32m<ipython-input-257-8cd14e331e6e>\u001b[0m in \u001b[0;36m<lambda>\u001b[0;34m(x, y)\u001b[0m\n\u001b[0;32m----> 1\u001b[0;31m \u001b[0mfunc\u001b[0m \u001b[0;34m=\u001b[0m \u001b[0;32mlambda\u001b[0m \u001b[0mx\u001b[0m\u001b[0;34m,\u001b[0m \u001b[0my\u001b[0m\u001b[0;34m:\u001b[0m \u001b[0mx\u001b[0m \u001b[0;34m+\u001b[0m \u001b[0my\u001b[0m\u001b[0;34m\u001b[0m\u001b[0;34m\u001b[0m\u001b[0m\n\u001b[0m\u001b[1;32m      2\u001b[0m \u001b[0mfunc\u001b[0m\u001b[0;34m(\u001b[0m\u001b[0;36m5\u001b[0m\u001b[0;34m,\u001b[0m \u001b[0;34m'b'\u001b[0m\u001b[0;34m)\u001b[0m\u001b[0;34m\u001b[0m\u001b[0;34m\u001b[0m\u001b[0m\n",
      "\u001b[0;31mTypeError\u001b[0m: unsupported operand type(s) for +: 'int' and 'str'"
     ]
    }
   ],
   "source": [
    "func = lambda x, y: x + y\n",
    "func(5, 'b')"
   ]
  },
  {
   "cell_type": "code",
   "execution_count": 258,
   "metadata": {},
   "outputs": [
    {
     "data": {
      "text/plain": [
       "3"
      ]
     },
     "execution_count": 258,
     "metadata": {},
     "output_type": "execute_result"
    }
   ],
   "source": [
    "(lambda x, y: x + y)(1, 2)"
   ]
  },
  {
   "cell_type": "code",
   "execution_count": 259,
   "metadata": {},
   "outputs": [
    {
     "data": {
      "text/plain": [
       "'ab'"
      ]
     },
     "execution_count": 259,
     "metadata": {},
     "output_type": "execute_result"
    }
   ],
   "source": [
    "(lambda x, y: x + y)('a', 'b')"
   ]
  },
  {
   "cell_type": "code",
   "execution_count": 260,
   "metadata": {},
   "outputs": [
    {
     "data": {
      "text/plain": [
       "27"
      ]
     },
     "execution_count": 260,
     "metadata": {},
     "output_type": "execute_result"
    }
   ],
   "source": [
    "(lambda x, y: x ** y)(3, 3)"
   ]
  },
  {
   "cell_type": "code",
   "execution_count": 261,
   "metadata": {},
   "outputs": [
    {
     "data": {
      "text/plain": [
       "(1, 2, 3, 4)"
      ]
     },
     "execution_count": 261,
     "metadata": {},
     "output_type": "execute_result"
    }
   ],
   "source": [
    "func = lambda *args: args\n",
    "func(1, 2, 3, 4)"
   ]
  },
  {
   "cell_type": "code",
   "execution_count": 262,
   "metadata": {},
   "outputs": [
    {
     "data": {
      "text/plain": [
       "(1, 2, 'z', 'x')"
      ]
     },
     "execution_count": 262,
     "metadata": {},
     "output_type": "execute_result"
    }
   ],
   "source": [
    "func = lambda *args: args\n",
    "func(1, 2, 'z', 'x')"
   ]
  },
  {
   "cell_type": "markdown",
   "metadata": {},
   "source": [
    "### Problem №6 (all answers are at the end of the notebook):\n",
    "\n",
    "Write a Python function to find the Max of three numbers.\n",
    "\n",
    "You have -1, 5 and -100."
   ]
  },
  {
   "cell_type": "markdown",
   "metadata": {},
   "source": [
    "### Problem №7 (all answers are at the end of the notebook):\n",
    "\n",
    "Write a Python program to reverse a string.\n",
    "\n",
    "You have str1 = 'qwerty0987'."
   ]
  },
  {
   "cell_type": "markdown",
   "metadata": {},
   "source": [
    "### Problem №8 (all answers are at the end of the notebook):\n",
    "\n",
    "Write a Python function that takes a list and returns a new list with unique elements of the first list.\n",
    "\n",
    "You have list1 = [1, 2, 3, 't', 3, 't', 4, 5, 'q']."
   ]
  },
  {
   "cell_type": "markdown",
   "metadata": {},
   "source": [
    "## Reading and writing files in Python\n",
    "\n",
    "https://realpython.com/read-write-files-python/\n",
    "\n",
    "https://docs.python.org/3/tutorial/inputoutput.html#reading-and-writing-files\n",
    "\n",
    "https://www.guru99.com/reading-and-writing-files-in-python.html\n",
    "\n",
    "https://www.pythonforbeginners.com/files/reading-and-writing-files-in-python\n",
    "\n",
    "https://www.geeksforgeeks.org/reading-writing-text-files-python/\n",
    "\n",
    "https://www.programiz.com/python-programming/file-operation\n",
    "\n",
    "https://www.w3schools.com/python/python_file_write.asp"
   ]
  },
  {
   "cell_type": "code",
   "execution_count": 263,
   "metadata": {},
   "outputs": [],
   "source": [
    "f = open('file.txt', 'r')"
   ]
  },
  {
   "cell_type": "code",
   "execution_count": 264,
   "metadata": {},
   "outputs": [
    {
     "data": {
      "text/plain": [
       "'Jack-Nicholson-in-The-Shining-2043016.jpg\\n__pycache__\\ncompany_sales_data.csv\\nfile.txt\\nhw_python.ipynb\\nmatplotlib_and_pandas_exercise_4_show_scatter_plot.png\\nmememe_cb8e239ef97eb73a7d04ecf46ed4bf5c-1.jpg\\nmymodule.py\\nmymodule2.py\\nmymodule3.py\\nnofile.txt\\nnva5b9dq8r631.png\\noptimisation.ipynb\\npython-conditional-image-exercise-4.png\\npython1_v1.ipynb\\npython2.ipynb-comment.html\\npython2_v1.ipynb\\npython_old\\ntest.txt\\ntext.txt\\ntrain.csv\\n'"
      ]
     },
     "execution_count": 264,
     "metadata": {},
     "output_type": "execute_result"
    }
   ],
   "source": [
    "f.read()"
   ]
  },
  {
   "cell_type": "code",
   "execution_count": 265,
   "metadata": {},
   "outputs": [
    {
     "data": {
      "text/plain": [
       "'Jack-Nicholson-in-Th'"
      ]
     },
     "execution_count": 265,
     "metadata": {},
     "output_type": "execute_result"
    }
   ],
   "source": [
    "f = open('file.txt', 'r')\n",
    "f.read(20)"
   ]
  },
  {
   "cell_type": "code",
   "execution_count": 266,
   "metadata": {},
   "outputs": [
    {
     "data": {
      "text/plain": [
       "'e-Shining-2043016.jpg\\n__pycache__\\ncompany_sales_data.csv\\nfile.txt\\nhw_python.ipynb\\nmatplotlib_and_pandas_exercise_4_show_scatter_plot.png\\nmememe_cb8e239ef97eb73a7d04ecf46ed4bf5c-1.jpg\\nmymodule.py\\nmymodule2.py\\nmymodule3.py\\nnofile.txt\\nnva5b9dq8r631.png\\noptimisation.ipynb\\npython-conditional-image-exercise-4.png\\npython1_v1.ipynb\\npython2.ipynb-comment.html\\npython2_v1.ipynb\\npython_old\\ntest.txt\\ntext.txt\\ntrain.csv\\n'"
      ]
     },
     "execution_count": 266,
     "metadata": {},
     "output_type": "execute_result"
    }
   ],
   "source": [
    "f.read()"
   ]
  },
  {
   "cell_type": "code",
   "execution_count": 267,
   "metadata": {},
   "outputs": [
    {
     "name": "stdout",
     "output_type": "stream",
     "text": [
      "Jack-Nicholson-in-The-Shining-2043016.jpg\n",
      "\n",
      "__pycache__\n",
      "\n",
      "company_sales_data.csv\n",
      "\n",
      "file.txt\n",
      "\n",
      "hw_python.ipynb\n",
      "\n",
      "matplotlib_and_pandas_exercise_4_show_scatter_plot.png\n",
      "\n",
      "mememe_cb8e239ef97eb73a7d04ecf46ed4bf5c-1.jpg\n",
      "\n",
      "mymodule.py\n",
      "\n",
      "mymodule2.py\n",
      "\n",
      "mymodule3.py\n",
      "\n",
      "nofile.txt\n",
      "\n",
      "nva5b9dq8r631.png\n",
      "\n",
      "optimisation.ipynb\n",
      "\n",
      "python-conditional-image-exercise-4.png\n",
      "\n",
      "python1_v1.ipynb\n",
      "\n",
      "python2.ipynb-comment.html\n",
      "\n",
      "python2_v1.ipynb\n",
      "\n",
      "python_old\n",
      "\n",
      "test.txt\n",
      "\n",
      "text.txt\n",
      "\n",
      "train.csv\n",
      "\n"
     ]
    }
   ],
   "source": [
    "f = open('file.txt')\n",
    "for line in f:\n",
    "    print(line)"
   ]
  },
  {
   "cell_type": "code",
   "execution_count": 268,
   "metadata": {},
   "outputs": [
    {
     "data": {
      "text/plain": [
       "'train.csv\\n'"
      ]
     },
     "execution_count": 268,
     "metadata": {},
     "output_type": "execute_result"
    }
   ],
   "source": [
    "f = open('file.txt')\n",
    "for line in f:\n",
    "    line\n",
    "\n",
    "line"
   ]
  },
  {
   "cell_type": "code",
   "execution_count": 269,
   "metadata": {},
   "outputs": [
    {
     "name": "stdout",
     "output_type": "stream",
     "text": [
      "ls: nofile.txt: No such file or directory\r\n"
     ]
    }
   ],
   "source": [
    "!rm nofile.txt && ls nofile.txt"
   ]
  },
  {
   "cell_type": "code",
   "execution_count": 270,
   "metadata": {},
   "outputs": [
    {
     "ename": "FileNotFoundError",
     "evalue": "[Errno 2] No such file or directory: 'nofile.txt'",
     "output_type": "error",
     "traceback": [
      "\u001b[0;31m---------------------------------------------------------------------------\u001b[0m",
      "\u001b[0;31mFileNotFoundError\u001b[0m                         Traceback (most recent call last)",
      "\u001b[0;32m<ipython-input-270-1edcdd0ec9fb>\u001b[0m in \u001b[0;36m<module>\u001b[0;34m\u001b[0m\n\u001b[0;32m----> 1\u001b[0;31m \u001b[0mf\u001b[0m \u001b[0;34m=\u001b[0m \u001b[0mopen\u001b[0m\u001b[0;34m(\u001b[0m\u001b[0;34m'nofile.txt'\u001b[0m\u001b[0;34m)\u001b[0m\u001b[0;34m\u001b[0m\u001b[0;34m\u001b[0m\u001b[0m\n\u001b[0m",
      "\u001b[0;31mFileNotFoundError\u001b[0m: [Errno 2] No such file or directory: 'nofile.txt'"
     ]
    }
   ],
   "source": [
    "f = open('nofile.txt')"
   ]
  },
  {
   "cell_type": "code",
   "execution_count": 271,
   "metadata": {},
   "outputs": [],
   "source": [
    "f = open('nofile.txt', 'a+')"
   ]
  },
  {
   "cell_type": "code",
   "execution_count": 272,
   "metadata": {},
   "outputs": [],
   "source": [
    "!ls -la > ./nofile.txt"
   ]
  },
  {
   "cell_type": "code",
   "execution_count": 273,
   "metadata": {},
   "outputs": [
    {
     "data": {
      "text/plain": [
       "'total 5448\\ndrwxr-xr-x  25 root1  staff      800 Aug 19 02:13 .\\ndrwx------@ 16 root1  staff      512 Aug 19 01:08 ..\\n-rw-r--r--@  1 root1  staff     6148 Aug 12 06:02 .DS_Store\\ndrwxr-xr-x   4 root1  staff      128 Aug 12 06:03 .ipynb_checkpoints\\n-rw-r--r--@  1 root1  staff    35182 Jul 29 22:22 Jack-Nicholson-in-The-Shining-2043016.jpg\\ndrwxr-xr-x   5 root1  staff      160 Aug 17 02:21 __pycache__\\n-rw-r--r--@  1 root1  staff      659 Aug 19 01:04 company_sales_data.csv\\n-rw-r--r--@  1 root1  staff      429 Aug 19 02:04 file.txt\\n-rw-r--r--@  1 root1  staff     6777 Jul 31 18:10 hw_python.ipynb\\n-rw-r--r--@  1 root1  staff    17298 Aug 19 01:07 matplotlib_and_pandas_exercise_4_show_scatter_plot.png\\n-rw-r--r--@  1 root1  staff    76267 Jul 31 00:22 mememe_cb8e239ef97eb73a7d04ecf46ed4bf5c-1.jpg\\n-rw-r--r--   1 root1  staff      116 Aug 16 14:42 mymodule.py\\n-rw-r--r--   1 root1  staff       67 Aug 16 14:45 mymodule2.py\\n-rw-r--r--   1 root1  staff      114 Aug 16 14:46 mymodule3.py\\n-rw-r--r--   1 root1  staff        0 Aug 19 02:13 nofile.txt\\n-rw-r--r--@  1 root1  staff   623360 Jul 29 22:22 nva5b9dq8r631.png\\n-rw-r--r--   1 root1  staff     6854 Aug  1 02:13 optimisation.ipynb\\n-rw-r--r--@  1 root1  staff     3648 Aug 17 09:09 python-conditional-image-exercise-4.png\\n-rw-r--r--@  1 root1  staff   141462 Aug 19 02:12 python1_v1.ipynb\\n-rw-r--r--@  1 root1  staff    76156 Jul 31 11:33 python2.ipynb-comment.html\\n-rw-r--r--@  1 root1  staff  1684039 Aug 19 01:49 python2_v1.ipynb\\ndrwxr-xr-x@  8 root1  staff      256 Aug 17 10:55 python_old\\n-rw-r--r--   1 root1  staff       86 Aug 19 02:04 test.txt\\n-rw-r--r--@  1 root1  staff       80 Aug 19 02:04 text.txt\\n-rw-r--r--@  1 root1  staff    60302 Mar  4 09:07 train.csv\\n'"
      ]
     },
     "execution_count": 273,
     "metadata": {},
     "output_type": "execute_result"
    }
   ],
   "source": [
    "f.read()"
   ]
  },
  {
   "cell_type": "code",
   "execution_count": 274,
   "metadata": {},
   "outputs": [
    {
     "name": "stdout",
     "output_type": "stream",
     "text": [
      "total 5448\n",
      "\n",
      "drwxr-xr-x  25 root1  staff      800 Aug 19 02:13 .\n",
      "\n",
      "drwx------@ 16 root1  staff      512 Aug 19 01:08 ..\n",
      "\n",
      "-rw-r--r--@  1 root1  staff     6148 Aug 12 06:02 .DS_Store\n",
      "\n",
      "drwxr-xr-x   4 root1  staff      128 Aug 12 06:03 .ipynb_checkpoints\n",
      "\n",
      "-rw-r--r--@  1 root1  staff    35182 Jul 29 22:22 Jack-Nicholson-in-The-Shining-2043016.jpg\n",
      "\n",
      "drwxr-xr-x   5 root1  staff      160 Aug 17 02:21 __pycache__\n",
      "\n",
      "-rw-r--r--@  1 root1  staff      659 Aug 19 01:04 company_sales_data.csv\n",
      "\n",
      "-rw-r--r--@  1 root1  staff      429 Aug 19 02:04 file.txt\n",
      "\n",
      "-rw-r--r--@  1 root1  staff     6777 Jul 31 18:10 hw_python.ipynb\n",
      "\n",
      "-rw-r--r--@  1 root1  staff    17298 Aug 19 01:07 matplotlib_and_pandas_exercise_4_show_scatter_plot.png\n",
      "\n",
      "-rw-r--r--@  1 root1  staff    76267 Jul 31 00:22 mememe_cb8e239ef97eb73a7d04ecf46ed4bf5c-1.jpg\n",
      "\n",
      "-rw-r--r--   1 root1  staff      116 Aug 16 14:42 mymodule.py\n",
      "\n",
      "-rw-r--r--   1 root1  staff       67 Aug 16 14:45 mymodule2.py\n",
      "\n",
      "-rw-r--r--   1 root1  staff      114 Aug 16 14:46 mymodule3.py\n",
      "\n",
      "-rw-r--r--   1 root1  staff        0 Aug 19 02:13 nofile.txt\n",
      "\n",
      "-rw-r--r--@  1 root1  staff   623360 Jul 29 22:22 nva5b9dq8r631.png\n",
      "\n",
      "-rw-r--r--   1 root1  staff     6854 Aug  1 02:13 optimisation.ipynb\n",
      "\n",
      "-rw-r--r--@  1 root1  staff     3648 Aug 17 09:09 python-conditional-image-exercise-4.png\n",
      "\n",
      "-rw-r--r--@  1 root1  staff   141462 Aug 19 02:12 python1_v1.ipynb\n",
      "\n",
      "-rw-r--r--@  1 root1  staff    76156 Jul 31 11:33 python2.ipynb-comment.html\n",
      "\n",
      "-rw-r--r--@  1 root1  staff  1684039 Aug 19 01:49 python2_v1.ipynb\n",
      "\n",
      "drwxr-xr-x@  8 root1  staff      256 Aug 17 10:55 python_old\n",
      "\n",
      "-rw-r--r--   1 root1  staff       86 Aug 19 02:04 test.txt\n",
      "\n",
      "-rw-r--r--@  1 root1  staff       80 Aug 19 02:04 text.txt\n",
      "\n",
      "-rw-r--r--@  1 root1  staff    60302 Mar  4 09:07 train.csv\n",
      "\n"
     ]
    }
   ],
   "source": [
    "f = open('nofile.txt')\n",
    "for line in f:\n",
    "    print(line)"
   ]
  },
  {
   "cell_type": "code",
   "execution_count": 275,
   "metadata": {},
   "outputs": [
    {
     "data": {
      "text/plain": [
       "['0-1',\n",
       " '10',\n",
       " '21',\n",
       " '32',\n",
       " '43',\n",
       " '54',\n",
       " '65',\n",
       " '76',\n",
       " '87',\n",
       " '98',\n",
       " '109',\n",
       " '1110',\n",
       " '1211',\n",
       " '1312',\n",
       " '1413',\n",
       " '1514',\n",
       " '1615',\n",
       " '1716',\n",
       " '1817',\n",
       " '1918']"
      ]
     },
     "execution_count": 275,
     "metadata": {},
     "output_type": "execute_result"
    }
   ],
   "source": [
    "l = [str(i) + str(i - 1) for i in range(20)]\n",
    "l"
   ]
  },
  {
   "cell_type": "code",
   "execution_count": 276,
   "metadata": {},
   "outputs": [],
   "source": [
    "w = open('text.txt', 'w+')"
   ]
  },
  {
   "cell_type": "code",
   "execution_count": 277,
   "metadata": {},
   "outputs": [],
   "source": [
    "w = open('text.txt')\n",
    "for line in f:\n",
    "    print(line)"
   ]
  },
  {
   "cell_type": "code",
   "execution_count": 278,
   "metadata": {},
   "outputs": [],
   "source": [
    "w = open('text.txt', 'w+')\n",
    "for line in f:\n",
    "    print(line)"
   ]
  },
  {
   "cell_type": "code",
   "execution_count": 279,
   "metadata": {},
   "outputs": [],
   "source": [
    "for index in l:\n",
    "    w.write(index + '\\n')"
   ]
  },
  {
   "cell_type": "code",
   "execution_count": 280,
   "metadata": {},
   "outputs": [
    {
     "data": {
      "text/plain": [
       "''"
      ]
     },
     "execution_count": 280,
     "metadata": {},
     "output_type": "execute_result"
    }
   ],
   "source": [
    "w.read()"
   ]
  },
  {
   "cell_type": "code",
   "execution_count": 281,
   "metadata": {},
   "outputs": [],
   "source": [
    "w = open('text.txt')\n",
    "for line in f:\n",
    "    print(line)"
   ]
  },
  {
   "cell_type": "code",
   "execution_count": 282,
   "metadata": {},
   "outputs": [],
   "source": [
    "f.close()\n",
    "w.close()"
   ]
  },
  {
   "cell_type": "code",
   "execution_count": 283,
   "metadata": {},
   "outputs": [
    {
     "data": {
      "text/plain": [
       "['0-1',\n",
       " '10',\n",
       " '21',\n",
       " '32',\n",
       " '43',\n",
       " '54',\n",
       " '65',\n",
       " '76',\n",
       " '87',\n",
       " '98',\n",
       " '109',\n",
       " '1110',\n",
       " '1211',\n",
       " '1312',\n",
       " '1413',\n",
       " '1514',\n",
       " '1615',\n",
       " '1716',\n",
       " '1817',\n",
       " '1918']"
      ]
     },
     "execution_count": 283,
     "metadata": {},
     "output_type": "execute_result"
    }
   ],
   "source": [
    "w = open('text.txt', 'r')\n",
    "l = [line.strip() for line in w]\n",
    "l"
   ]
  },
  {
   "cell_type": "code",
   "execution_count": 284,
   "metadata": {},
   "outputs": [
    {
     "data": {
      "text/plain": [
       "['0-1',\n",
       " '10',\n",
       " '21',\n",
       " '32',\n",
       " '43',\n",
       " '54',\n",
       " '65',\n",
       " '76',\n",
       " '87',\n",
       " '98',\n",
       " '109',\n",
       " '1110',\n",
       " '1211',\n",
       " '1312',\n",
       " '1413',\n",
       " '1514',\n",
       " '1615',\n",
       " '1716',\n",
       " '1817',\n",
       " '1918']"
      ]
     },
     "execution_count": 284,
     "metadata": {},
     "output_type": "execute_result"
    }
   ],
   "source": [
    "f = open('text.txt', 'r')\n",
    "l = [line.strip() for line in f]\n",
    "l"
   ]
  },
  {
   "cell_type": "code",
   "execution_count": 285,
   "metadata": {},
   "outputs": [
    {
     "name": "stdout",
     "output_type": "stream",
     "text": [
      "0-1\n",
      "\n",
      "10\n",
      "\n",
      "21\n",
      "\n",
      "32\n",
      "\n",
      "43\n",
      "\n",
      "54\n",
      "\n",
      "65\n",
      "\n",
      "76\n",
      "\n",
      "87\n",
      "\n",
      "98\n",
      "\n",
      "109\n",
      "\n",
      "1110\n",
      "\n",
      "1211\n",
      "\n",
      "1312\n",
      "\n",
      "1413\n",
      "\n",
      "1514\n",
      "\n",
      "1615\n",
      "\n",
      "1716\n",
      "\n",
      "1817\n",
      "\n",
      "1918\n",
      "\n"
     ]
    }
   ],
   "source": [
    "f = open('text.txt')\n",
    "for line in f:\n",
    "    print(line)\n",
    "    \n",
    "f.close()"
   ]
  },
  {
   "cell_type": "code",
   "execution_count": 286,
   "metadata": {},
   "outputs": [
    {
     "name": "stdout",
     "output_type": "stream",
     "text": [
      "0-1\n",
      "\n",
      "10\n",
      "\n",
      "21\n",
      "\n",
      "32\n",
      "\n",
      "43\n",
      "\n",
      "54\n",
      "\n",
      "65\n",
      "\n",
      "76\n",
      "\n",
      "87\n",
      "\n",
      "98\n",
      "\n",
      "109\n",
      "\n",
      "1110\n",
      "\n",
      "1211\n",
      "\n",
      "1312\n",
      "\n",
      "1413\n",
      "\n",
      "1514\n",
      "\n",
      "1615\n",
      "\n",
      "1716\n",
      "\n",
      "1817\n",
      "\n",
      "1918\n",
      "\n"
     ]
    },
    {
     "ename": "ValueError",
     "evalue": "I/O operation on closed file.",
     "output_type": "error",
     "traceback": [
      "\u001b[0;31m---------------------------------------------------------------------------\u001b[0m",
      "\u001b[0;31mValueError\u001b[0m                                Traceback (most recent call last)",
      "\u001b[0;32m<ipython-input-286-dc752299e1e5>\u001b[0m in \u001b[0;36m<module>\u001b[0;34m\u001b[0m\n\u001b[1;32m      4\u001b[0m \u001b[0;34m\u001b[0m\u001b[0m\n\u001b[1;32m      5\u001b[0m \u001b[0mf\u001b[0m\u001b[0;34m.\u001b[0m\u001b[0mclose\u001b[0m\u001b[0;34m(\u001b[0m\u001b[0;34m)\u001b[0m\u001b[0;34m\u001b[0m\u001b[0;34m\u001b[0m\u001b[0m\n\u001b[0;32m----> 6\u001b[0;31m \u001b[0mf\u001b[0m\u001b[0;34m.\u001b[0m\u001b[0mread\u001b[0m\u001b[0;34m(\u001b[0m\u001b[0;34m)\u001b[0m\u001b[0;34m\u001b[0m\u001b[0;34m\u001b[0m\u001b[0m\n\u001b[0m",
      "\u001b[0;31mValueError\u001b[0m: I/O operation on closed file."
     ]
    }
   ],
   "source": [
    "f = open('text.txt')\n",
    "for line in f:\n",
    "    print(line)\n",
    "    \n",
    "f.close()\n",
    "f.read()"
   ]
  },
  {
   "cell_type": "code",
   "execution_count": 287,
   "metadata": {},
   "outputs": [],
   "source": [
    "# Do you understand the previous error?"
   ]
  },
  {
   "cell_type": "code",
   "execution_count": 288,
   "metadata": {},
   "outputs": [],
   "source": [
    "f = open('text.txt')"
   ]
  },
  {
   "cell_type": "code",
   "execution_count": 289,
   "metadata": {},
   "outputs": [
    {
     "ename": "SyntaxError",
     "evalue": "invalid syntax (<ipython-input-289-5491e9b5f0c5>, line 1)",
     "output_type": "error",
     "traceback": [
      "\u001b[0;36m  File \u001b[0;32m\"<ipython-input-289-5491e9b5f0c5>\"\u001b[0;36m, line \u001b[0;32m1\u001b[0m\n\u001b[0;31m    f.\u001b[0m\n\u001b[0m      ^\u001b[0m\n\u001b[0;31mSyntaxError\u001b[0m\u001b[0;31m:\u001b[0m invalid syntax\n"
     ]
    }
   ],
   "source": [
    "f.\n",
    "\n",
    "# Press 'Tab'"
   ]
  },
  {
   "cell_type": "markdown",
   "metadata": {},
   "source": [
    "https://www.w3schools.com/python/ref_keyword_del.asp\n",
    "\n",
    "https://www.programiz.com/python-programming/del\n",
    "\n",
    "Russian: https://pythonz.net/references/named/del/"
   ]
  },
  {
   "cell_type": "code",
   "execution_count": 290,
   "metadata": {},
   "outputs": [],
   "source": [
    "del f, w"
   ]
  },
  {
   "cell_type": "code",
   "execution_count": 291,
   "metadata": {},
   "outputs": [
    {
     "ename": "SyntaxError",
     "evalue": "invalid syntax (<ipython-input-291-5491e9b5f0c5>, line 1)",
     "output_type": "error",
     "traceback": [
      "\u001b[0;36m  File \u001b[0;32m\"<ipython-input-291-5491e9b5f0c5>\"\u001b[0;36m, line \u001b[0;32m1\u001b[0m\n\u001b[0;31m    f.\u001b[0m\n\u001b[0m      ^\u001b[0m\n\u001b[0;31mSyntaxError\u001b[0m\u001b[0;31m:\u001b[0m invalid syntax\n"
     ]
    }
   ],
   "source": [
    "f.\n",
    "\n",
    "# Press 'Tab'"
   ]
  },
  {
   "cell_type": "code",
   "execution_count": 292,
   "metadata": {},
   "outputs": [
    {
     "data": {
      "text/plain": [
       "'file.txt'"
      ]
     },
     "execution_count": 292,
     "metadata": {},
     "output_type": "execute_result"
    }
   ],
   "source": [
    "open('file.txt').name"
   ]
  },
  {
   "cell_type": "code",
   "execution_count": 293,
   "metadata": {},
   "outputs": [
    {
     "data": {
      "text/plain": [
       "True"
      ]
     },
     "execution_count": 293,
     "metadata": {},
     "output_type": "execute_result"
    }
   ],
   "source": [
    "a = open('file.txt').readable()\n",
    "a"
   ]
  },
  {
   "cell_type": "code",
   "execution_count": 294,
   "metadata": {},
   "outputs": [
    {
     "data": {
      "text/plain": [
       "['Jack-Nicholson-in-The-Shining-2043016.jpg\\n',\n",
       " '__pycache__\\n',\n",
       " 'company_sales_data.csv\\n',\n",
       " 'file.txt\\n',\n",
       " 'hw_python.ipynb\\n',\n",
       " 'matplotlib_and_pandas_exercise_4_show_scatter_plot.png\\n',\n",
       " 'mememe_cb8e239ef97eb73a7d04ecf46ed4bf5c-1.jpg\\n',\n",
       " 'mymodule.py\\n',\n",
       " 'mymodule2.py\\n',\n",
       " 'mymodule3.py\\n',\n",
       " 'nofile.txt\\n',\n",
       " 'nva5b9dq8r631.png\\n',\n",
       " 'optimisation.ipynb\\n',\n",
       " 'python-conditional-image-exercise-4.png\\n',\n",
       " 'python1_v1.ipynb\\n',\n",
       " 'python2.ipynb-comment.html\\n',\n",
       " 'python2_v1.ipynb\\n',\n",
       " 'python_old\\n',\n",
       " 'test.txt\\n',\n",
       " 'text.txt\\n',\n",
       " 'train.csv\\n']"
      ]
     },
     "execution_count": 294,
     "metadata": {},
     "output_type": "execute_result"
    }
   ],
   "source": [
    "open('file.txt').readlines()"
   ]
  },
  {
   "cell_type": "code",
   "execution_count": 295,
   "metadata": {},
   "outputs": [
    {
     "data": {
      "text/plain": [
       "False"
      ]
     },
     "execution_count": 295,
     "metadata": {},
     "output_type": "execute_result"
    }
   ],
   "source": [
    "b = open('file.txt').writable()\n",
    "b"
   ]
  },
  {
   "cell_type": "code",
   "execution_count": 296,
   "metadata": {},
   "outputs": [
    {
     "data": {
      "text/plain": [
       "True"
      ]
     },
     "execution_count": 296,
     "metadata": {},
     "output_type": "execute_result"
    }
   ],
   "source": [
    "c = open('file.txt', 'w').writable()\n",
    "c"
   ]
  },
  {
   "cell_type": "code",
   "execution_count": 297,
   "metadata": {},
   "outputs": [],
   "source": [
    "!ls > ./file.txt\n",
    "\n",
    "# We do it because the previous cell delete all information if the file. So we need to add something."
   ]
  },
  {
   "cell_type": "code",
   "execution_count": 298,
   "metadata": {},
   "outputs": [
    {
     "data": {
      "text/plain": [
       "True"
      ]
     },
     "execution_count": 298,
     "metadata": {},
     "output_type": "execute_result"
    }
   ],
   "source": [
    "c = open('file.txt', 'w').writable()\n",
    "c"
   ]
  },
  {
   "cell_type": "code",
   "execution_count": 299,
   "metadata": {},
   "outputs": [],
   "source": [
    "!ls > ./file.txt\n",
    "\n",
    "# We do it because the previous cell delete all information if the file. So we need to add something."
   ]
  },
  {
   "cell_type": "code",
   "execution_count": 300,
   "metadata": {},
   "outputs": [
    {
     "data": {
      "text/plain": [
       "False"
      ]
     },
     "execution_count": 300,
     "metadata": {},
     "output_type": "execute_result"
    }
   ],
   "source": [
    "c = open('file.txt', 'r').writable()\n",
    "c"
   ]
  },
  {
   "cell_type": "code",
   "execution_count": 301,
   "metadata": {},
   "outputs": [
    {
     "data": {
      "text/plain": [
       "True"
      ]
     },
     "execution_count": 301,
     "metadata": {},
     "output_type": "execute_result"
    }
   ],
   "source": [
    "d = open('file.txt', 'a').writable()\n",
    "d"
   ]
  },
  {
   "cell_type": "code",
   "execution_count": 302,
   "metadata": {},
   "outputs": [
    {
     "data": {
      "text/plain": [
       "False"
      ]
     },
     "execution_count": 302,
     "metadata": {},
     "output_type": "execute_result"
    }
   ],
   "source": [
    "d = open('file.txt', 'a').readable()\n",
    "d"
   ]
  },
  {
   "cell_type": "code",
   "execution_count": 303,
   "metadata": {},
   "outputs": [
    {
     "data": {
      "text/plain": [
       "True"
      ]
     },
     "execution_count": 303,
     "metadata": {},
     "output_type": "execute_result"
    }
   ],
   "source": [
    "d = open('file.txt', 'a+').readable()\n",
    "d"
   ]
  },
  {
   "cell_type": "code",
   "execution_count": 304,
   "metadata": {},
   "outputs": [
    {
     "data": {
      "text/plain": [
       "True"
      ]
     },
     "execution_count": 304,
     "metadata": {},
     "output_type": "execute_result"
    }
   ],
   "source": [
    "d = open('file.txt', 'a+').writable()\n",
    "d"
   ]
  },
  {
   "cell_type": "markdown",
   "metadata": {},
   "source": [
    "https://www.geeksforgeeks.org/with-statement-in-python/\n",
    "\n",
    "https://docs.python.org/2.5/whatsnew/pep-343.html\n",
    "\n",
    "Russian: https://pythonworld.ru/osnovy/with-as-menedzhery-konteksta.html"
   ]
  },
  {
   "cell_type": "code",
   "execution_count": 305,
   "metadata": {},
   "outputs": [],
   "source": [
    "with open(\"test.txt\", \"a\") as f:\n",
    "    f.write(\"Line\\n\") # We write the line to the end of the file 'test.txt'"
   ]
  },
  {
   "cell_type": "markdown",
   "metadata": {},
   "source": [
    "### Problem №9 (all answers are at the end of the notebook):\n",
    "\n",
    "Write a python program to find the longest words.\n",
    "\n",
    "You have file 'file.txt'.\n",
    "\n",
    "Below you can see the information from the file."
   ]
  },
  {
   "cell_type": "code",
   "execution_count": 306,
   "metadata": {},
   "outputs": [
    {
     "name": "stdout",
     "output_type": "stream",
     "text": [
      "Jack-Nicholson-in-The-Shining-2043016.jpg\r\n",
      "__pycache__\r\n",
      "company_sales_data.csv\r\n",
      "file.txt\r\n",
      "hw_python.ipynb\r\n",
      "matplotlib_and_pandas_exercise_4_show_scatter_plot.png\r\n",
      "mememe_cb8e239ef97eb73a7d04ecf46ed4bf5c-1.jpg\r\n",
      "mymodule.py\r\n",
      "mymodule2.py\r\n",
      "mymodule3.py\r\n",
      "nofile.txt\r\n",
      "nva5b9dq8r631.png\r\n",
      "optimisation.ipynb\r\n",
      "python-conditional-image-exercise-4.png\r\n",
      "python1_v1.ipynb\r\n",
      "python2.ipynb-comment.html\r\n",
      "python2_v1.ipynb\r\n",
      "python_old\r\n",
      "test.txt\r\n",
      "text.txt\r\n",
      "train.csv\r\n"
     ]
    }
   ],
   "source": [
    "!cat file.txt"
   ]
  },
  {
   "cell_type": "markdown",
   "metadata": {},
   "source": [
    "## Object-oriented programming"
   ]
  },
  {
   "cell_type": "markdown",
   "metadata": {},
   "source": [
    "#### Some links for Object-oriented programming(OOP):\n",
    "    \n",
    "https://realpython.com/python3-object-oriented-programming/\n",
    "    \n",
    "https://www.programiz.com/python-programming/object-oriented-programming\n",
    "    \n",
    "https://docs.python.org/3/tutorial/classes.html\n",
    "    \n",
    "https://python.swaroopch.com/oop.html\n",
    "    \n",
    "https://www.datacamp.com/community/tutorials/python-oop-tutorial\n",
    "    \n",
    "https://www.tutorialspoint.com/python/python_classes_objects.htm\n",
    "    \n",
    "https://python-textbok.readthedocs.io/en/1.0/Object_Oriented_Programming.html"
   ]
  },
  {
   "cell_type": "markdown",
   "metadata": {},
   "source": [
    "#### Python Class - Exercises, Practice, Solution:\n",
    "\n",
    "https://www.w3resource.com/python-exercises/class-exercises/\n",
    "\n",
    "https://gist.github.com/mdang/1f590a8c01acf520c88960953c963825\n",
    "\n",
    "https://hub-courses.pages.pasteur.fr/python-solutions/Object_Oriented_Programming.html"
   ]
  },
  {
   "cell_type": "code",
   "execution_count": 307,
   "metadata": {},
   "outputs": [],
   "source": [
    "class A:\n",
    "    pass"
   ]
  },
  {
   "cell_type": "code",
   "execution_count": 308,
   "metadata": {},
   "outputs": [
    {
     "data": {
      "text/plain": [
       "__main__.A"
      ]
     },
     "execution_count": 308,
     "metadata": {},
     "output_type": "execute_result"
    }
   ],
   "source": [
    "A"
   ]
  },
  {
   "cell_type": "code",
   "execution_count": 309,
   "metadata": {},
   "outputs": [
    {
     "data": {
      "text/plain": [
       "type"
      ]
     },
     "execution_count": 309,
     "metadata": {},
     "output_type": "execute_result"
    }
   ],
   "source": [
    "type(A)"
   ]
  },
  {
   "cell_type": "markdown",
   "metadata": {},
   "source": [
    "https://stackoverflow.com/questions/625083/what-init-and-self-do-on-python\n",
    "\n",
    "https://micropyramid.com/blog/understand-self-and-__init__-method-in-python-class/\n",
    "\n",
    "https://www.edureka.co/blog/init-in-python/\n",
    "\n",
    "https://www.geeksforgeeks.org/__init__-in-python/\n",
    "\n",
    "Russian: http://mit.spbau.ru/files/Python_Classes.pdf"
   ]
  },
  {
   "cell_type": "code",
   "execution_count": 310,
   "metadata": {},
   "outputs": [
    {
     "data": {
      "text/plain": [
       "'hello world'"
      ]
     },
     "execution_count": 310,
     "metadata": {},
     "output_type": "execute_result"
    }
   ],
   "source": [
    "class A:\n",
    "    def g(self):\n",
    "        return 'hello world'\n",
    "\n",
    "    \n",
    "a = A()\n",
    "a.g()"
   ]
  },
  {
   "cell_type": "code",
   "execution_count": 311,
   "metadata": {},
   "outputs": [
    {
     "data": {
      "text/plain": [
       "'hello world'"
      ]
     },
     "execution_count": 311,
     "metadata": {},
     "output_type": "execute_result"
    }
   ],
   "source": [
    "b = A()\n",
    "b.g()"
   ]
  },
  {
   "cell_type": "code",
   "execution_count": 312,
   "metadata": {},
   "outputs": [
    {
     "data": {
      "text/plain": [
       "__main__.A"
      ]
     },
     "execution_count": 312,
     "metadata": {},
     "output_type": "execute_result"
    }
   ],
   "source": [
    "type(b)"
   ]
  },
  {
   "cell_type": "code",
   "execution_count": 313,
   "metadata": {},
   "outputs": [
    {
     "data": {
      "text/plain": [
       "str"
      ]
     },
     "execution_count": 313,
     "metadata": {},
     "output_type": "execute_result"
    }
   ],
   "source": [
    "type(b.g())"
   ]
  },
  {
   "cell_type": "code",
   "execution_count": 314,
   "metadata": {},
   "outputs": [
    {
     "name": "stdout",
     "output_type": "stream",
     "text": [
      "<class '__main__.A'>\n"
     ]
    },
    {
     "data": {
      "text/plain": [
       "'hello world'"
      ]
     },
     "execution_count": 314,
     "metadata": {},
     "output_type": "execute_result"
    }
   ],
   "source": [
    "class A:\n",
    "    def g(self):\n",
    "        print(type(self))\n",
    "        return 'hello world'\n",
    "\n",
    "    \n",
    "a = A()\n",
    "a.g()"
   ]
  },
  {
   "cell_type": "code",
   "execution_count": 315,
   "metadata": {},
   "outputs": [
    {
     "name": "stdout",
     "output_type": "stream",
     "text": [
      "<class 'int'>\n"
     ]
    },
    {
     "data": {
      "text/plain": [
       "'hello world'"
      ]
     },
     "execution_count": 315,
     "metadata": {},
     "output_type": "execute_result"
    }
   ],
   "source": [
    "A.g(4)"
   ]
  },
  {
   "cell_type": "code",
   "execution_count": 316,
   "metadata": {},
   "outputs": [
    {
     "ename": "TypeError",
     "evalue": "g() takes 1 positional argument but 2 were given",
     "output_type": "error",
     "traceback": [
      "\u001b[0;31m---------------------------------------------------------------------------\u001b[0m",
      "\u001b[0;31mTypeError\u001b[0m                                 Traceback (most recent call last)",
      "\u001b[0;32m<ipython-input-316-81abad3ad5f5>\u001b[0m in \u001b[0;36m<module>\u001b[0;34m\u001b[0m\n\u001b[0;32m----> 1\u001b[0;31m \u001b[0ma\u001b[0m\u001b[0;34m.\u001b[0m\u001b[0mg\u001b[0m\u001b[0;34m(\u001b[0m\u001b[0;36m4\u001b[0m\u001b[0;34m)\u001b[0m\u001b[0;34m\u001b[0m\u001b[0;34m\u001b[0m\u001b[0m\n\u001b[0m",
      "\u001b[0;31mTypeError\u001b[0m: g() takes 1 positional argument but 2 were given"
     ]
    }
   ],
   "source": [
    "a.g(4)"
   ]
  },
  {
   "cell_type": "code",
   "execution_count": 317,
   "metadata": {},
   "outputs": [
    {
     "data": {
      "text/plain": [
       "'Python'"
      ]
     },
     "execution_count": 317,
     "metadata": {},
     "output_type": "execute_result"
    }
   ],
   "source": [
    "class B:\n",
    "    arg = 'Python'\n",
    "    def g(self):\n",
    "        return self.arg\n",
    "\n",
    "b = B()\n",
    "b.g()"
   ]
  },
  {
   "cell_type": "code",
   "execution_count": 318,
   "metadata": {},
   "outputs": [
    {
     "data": {
      "text/plain": [
       "'Python'"
      ]
     },
     "execution_count": 318,
     "metadata": {},
     "output_type": "execute_result"
    }
   ],
   "source": [
    "B.g(b)"
   ]
  },
  {
   "cell_type": "code",
   "execution_count": 319,
   "metadata": {},
   "outputs": [
    {
     "ename": "TypeError",
     "evalue": "g() missing 1 required positional argument: 'self'",
     "output_type": "error",
     "traceback": [
      "\u001b[0;31m---------------------------------------------------------------------------\u001b[0m",
      "\u001b[0;31mTypeError\u001b[0m                                 Traceback (most recent call last)",
      "\u001b[0;32m<ipython-input-319-e165106d7c3e>\u001b[0m in \u001b[0;36m<module>\u001b[0;34m\u001b[0m\n\u001b[0;32m----> 1\u001b[0;31m \u001b[0mB\u001b[0m\u001b[0;34m.\u001b[0m\u001b[0mg\u001b[0m\u001b[0;34m(\u001b[0m\u001b[0;34m)\u001b[0m\u001b[0;34m\u001b[0m\u001b[0;34m\u001b[0m\u001b[0m\n\u001b[0m",
      "\u001b[0;31mTypeError\u001b[0m: g() missing 1 required positional argument: 'self'"
     ]
    }
   ],
   "source": [
    "B.g()"
   ]
  },
  {
   "cell_type": "code",
   "execution_count": 320,
   "metadata": {},
   "outputs": [
    {
     "ename": "SyntaxError",
     "evalue": "invalid syntax (<ipython-input-320-afea60d85f73>, line 1)",
     "output_type": "error",
     "traceback": [
      "\u001b[0;36m  File \u001b[0;32m\"<ipython-input-320-afea60d85f73>\"\u001b[0;36m, line \u001b[0;32m1\u001b[0m\n\u001b[0;31m    B. # Press 'Tab'\u001b[0m\n\u001b[0m       ^\u001b[0m\n\u001b[0;31mSyntaxError\u001b[0m\u001b[0;31m:\u001b[0m invalid syntax\n"
     ]
    }
   ],
   "source": [
    "B. # Press 'Tab'"
   ]
  },
  {
   "cell_type": "code",
   "execution_count": 321,
   "metadata": {},
   "outputs": [
    {
     "data": {
      "text/plain": [
       "'spam'"
      ]
     },
     "execution_count": 321,
     "metadata": {},
     "output_type": "execute_result"
    }
   ],
   "source": [
    "b.arg = 'spam'\n",
    "b.g()"
   ]
  },
  {
   "cell_type": "code",
   "execution_count": 322,
   "metadata": {},
   "outputs": [
    {
     "data": {
      "text/plain": [
       "'spam1'"
      ]
     },
     "execution_count": 322,
     "metadata": {},
     "output_type": "execute_result"
    }
   ],
   "source": [
    "B.arg = 'spam1'\n",
    "\n",
    "b = B()\n",
    "b.g()"
   ]
  },
  {
   "cell_type": "code",
   "execution_count": 323,
   "metadata": {},
   "outputs": [
    {
     "data": {
      "text/plain": [
       "'spam1'"
      ]
     },
     "execution_count": 323,
     "metadata": {},
     "output_type": "execute_result"
    }
   ],
   "source": [
    "B.arg"
   ]
  },
  {
   "cell_type": "code",
   "execution_count": 324,
   "metadata": {},
   "outputs": [],
   "source": [
    "class A:\n",
    "    pass"
   ]
  },
  {
   "cell_type": "code",
   "execution_count": 325,
   "metadata": {},
   "outputs": [],
   "source": [
    "a = A()\n",
    "b = A()"
   ]
  },
  {
   "cell_type": "code",
   "execution_count": 326,
   "metadata": {},
   "outputs": [],
   "source": [
    "a.arg = 1\n",
    "b.arg = 2 "
   ]
  },
  {
   "cell_type": "code",
   "execution_count": 327,
   "metadata": {},
   "outputs": [
    {
     "name": "stdout",
     "output_type": "stream",
     "text": [
      "1\n"
     ]
    }
   ],
   "source": [
    "print(a.arg)"
   ]
  },
  {
   "cell_type": "code",
   "execution_count": 328,
   "metadata": {},
   "outputs": [
    {
     "name": "stdout",
     "output_type": "stream",
     "text": [
      "2\n"
     ]
    }
   ],
   "source": [
    "print(b.arg)"
   ]
  },
  {
   "cell_type": "code",
   "execution_count": 329,
   "metadata": {},
   "outputs": [
    {
     "ename": "AttributeError",
     "evalue": "'A' object has no attribute 'arg'",
     "output_type": "error",
     "traceback": [
      "\u001b[0;31m---------------------------------------------------------------------------\u001b[0m",
      "\u001b[0;31mAttributeError\u001b[0m                            Traceback (most recent call last)",
      "\u001b[0;32m<ipython-input-329-479b1041acd1>\u001b[0m in \u001b[0;36m<module>\u001b[0;34m\u001b[0m\n\u001b[1;32m      1\u001b[0m \u001b[0mc\u001b[0m \u001b[0;34m=\u001b[0m \u001b[0mA\u001b[0m\u001b[0;34m(\u001b[0m\u001b[0;34m)\u001b[0m\u001b[0;34m\u001b[0m\u001b[0;34m\u001b[0m\u001b[0m\n\u001b[0;32m----> 2\u001b[0;31m \u001b[0mprint\u001b[0m\u001b[0;34m(\u001b[0m\u001b[0mc\u001b[0m\u001b[0;34m.\u001b[0m\u001b[0marg\u001b[0m\u001b[0;34m)\u001b[0m\u001b[0;34m\u001b[0m\u001b[0;34m\u001b[0m\u001b[0m\n\u001b[0m",
      "\u001b[0;31mAttributeError\u001b[0m: 'A' object has no attribute 'arg'"
     ]
    }
   ],
   "source": [
    "c = A()\n",
    "print(c.arg)"
   ]
  },
  {
   "cell_type": "code",
   "execution_count": 330,
   "metadata": {},
   "outputs": [],
   "source": [
    "class Car:\n",
    "    name = \"c200\"\n",
    "    make = \"mercedez\"\n",
    "    model = 2008\n",
    " \n",
    "    def start(self):\n",
    "        print(\"Start\")\n",
    " \n",
    "    def stop(self):\n",
    "        print(\"Stop\")"
   ]
  },
  {
   "cell_type": "code",
   "execution_count": 331,
   "metadata": {},
   "outputs": [],
   "source": [
    "car_a = Car()\n",
    "car_b = Car()"
   ]
  },
  {
   "cell_type": "code",
   "execution_count": 332,
   "metadata": {},
   "outputs": [
    {
     "data": {
      "text/plain": [
       "__main__.Car"
      ]
     },
     "execution_count": 332,
     "metadata": {},
     "output_type": "execute_result"
    }
   ],
   "source": [
    "type(car_a)"
   ]
  },
  {
   "cell_type": "code",
   "execution_count": 333,
   "metadata": {},
   "outputs": [
    {
     "ename": "SyntaxError",
     "evalue": "invalid syntax (<ipython-input-333-b6626043a632>, line 1)",
     "output_type": "error",
     "traceback": [
      "\u001b[0;36m  File \u001b[0;32m\"<ipython-input-333-b6626043a632>\"\u001b[0;36m, line \u001b[0;32m1\u001b[0m\n\u001b[0;31m    car_a. # Press 'Tab'\u001b[0m\n\u001b[0m           ^\u001b[0m\n\u001b[0;31mSyntaxError\u001b[0m\u001b[0;31m:\u001b[0m invalid syntax\n"
     ]
    }
   ],
   "source": [
    "car_a. # Press 'Tab'"
   ]
  },
  {
   "cell_type": "code",
   "execution_count": 334,
   "metadata": {},
   "outputs": [
    {
     "ename": "SyntaxError",
     "evalue": "invalid syntax (<ipython-input-334-e16338954a68>, line 1)",
     "output_type": "error",
     "traceback": [
      "\u001b[0;36m  File \u001b[0;32m\"<ipython-input-334-e16338954a68>\"\u001b[0;36m, line \u001b[0;32m1\u001b[0m\n\u001b[0;31m    Car. # Press 'Tab'\u001b[0m\n\u001b[0m         ^\u001b[0m\n\u001b[0;31mSyntaxError\u001b[0m\u001b[0;31m:\u001b[0m invalid syntax\n"
     ]
    }
   ],
   "source": [
    "Car. # Press 'Tab'"
   ]
  },
  {
   "cell_type": "code",
   "execution_count": 335,
   "metadata": {},
   "outputs": [
    {
     "name": "stdout",
     "output_type": "stream",
     "text": [
      "Start\n"
     ]
    }
   ],
   "source": [
    "car_a.start()"
   ]
  },
  {
   "cell_type": "code",
   "execution_count": 336,
   "metadata": {},
   "outputs": [
    {
     "name": "stdout",
     "output_type": "stream",
     "text": [
      "Stop\n"
     ]
    }
   ],
   "source": [
    "car_a.stop()"
   ]
  },
  {
   "cell_type": "code",
   "execution_count": 337,
   "metadata": {},
   "outputs": [
    {
     "name": "stdout",
     "output_type": "stream",
     "text": [
      "Start\n"
     ]
    }
   ],
   "source": [
    "Car.start(Car)"
   ]
  },
  {
   "cell_type": "code",
   "execution_count": 338,
   "metadata": {},
   "outputs": [
    {
     "name": "stdout",
     "output_type": "stream",
     "text": [
      "Start\n"
     ]
    }
   ],
   "source": [
    "Car.start(4)"
   ]
  },
  {
   "cell_type": "code",
   "execution_count": 339,
   "metadata": {},
   "outputs": [
    {
     "data": {
      "text/plain": [
       "2008"
      ]
     },
     "execution_count": 339,
     "metadata": {},
     "output_type": "execute_result"
    }
   ],
   "source": [
    "car_b.model"
   ]
  },
  {
   "cell_type": "markdown",
   "metadata": {},
   "source": [
    "https://www.programiz.com/python-programming/methods/built-in/dir\n",
    "\n",
    "https://www.geeksforgeeks.org/python-dir-function/\n",
    "\n",
    "https://www.w3schools.com/python/ref_func_dir.asp\n",
    "\n",
    "https://www.journaldev.com/22810/python-dir-function\n",
    "\n",
    "Russian: https://www.opennet.ru/docs/RUS/diveinto_python/apihelper_builtin.html"
   ]
  },
  {
   "cell_type": "code",
   "execution_count": 340,
   "metadata": {
    "scrolled": true
   },
   "outputs": [
    {
     "data": {
      "text/plain": [
       "['A',\n",
       " 'B',\n",
       " 'Car',\n",
       " 'In',\n",
       " 'Out',\n",
       " '_',\n",
       " '_10',\n",
       " '_100',\n",
       " '_102',\n",
       " '_103',\n",
       " '_104',\n",
       " '_108',\n",
       " '_11',\n",
       " '_110',\n",
       " '_111',\n",
       " '_113',\n",
       " '_114',\n",
       " '_115',\n",
       " '_116',\n",
       " '_117',\n",
       " '_118',\n",
       " '_12',\n",
       " '_120',\n",
       " '_121',\n",
       " '_122',\n",
       " '_123',\n",
       " '_124',\n",
       " '_125',\n",
       " '_128',\n",
       " '_129',\n",
       " '_133',\n",
       " '_134',\n",
       " '_135',\n",
       " '_144',\n",
       " '_145',\n",
       " '_146',\n",
       " '_149',\n",
       " '_15',\n",
       " '_150',\n",
       " '_151',\n",
       " '_152',\n",
       " '_153',\n",
       " '_157',\n",
       " '_158',\n",
       " '_161',\n",
       " '_162',\n",
       " '_165',\n",
       " '_167',\n",
       " '_168',\n",
       " '_17',\n",
       " '_174',\n",
       " '_175',\n",
       " '_176',\n",
       " '_177',\n",
       " '_178',\n",
       " '_179',\n",
       " '_18',\n",
       " '_19',\n",
       " '_20',\n",
       " '_206',\n",
       " '_207',\n",
       " '_208',\n",
       " '_209',\n",
       " '_21',\n",
       " '_210',\n",
       " '_211',\n",
       " '_214',\n",
       " '_215',\n",
       " '_22',\n",
       " '_23',\n",
       " '_24',\n",
       " '_241',\n",
       " '_246',\n",
       " '_248',\n",
       " '_249',\n",
       " '_25',\n",
       " '_255',\n",
       " '_256',\n",
       " '_258',\n",
       " '_259',\n",
       " '_26',\n",
       " '_260',\n",
       " '_261',\n",
       " '_262',\n",
       " '_264',\n",
       " '_265',\n",
       " '_266',\n",
       " '_268',\n",
       " '_273',\n",
       " '_275',\n",
       " '_28',\n",
       " '_280',\n",
       " '_283',\n",
       " '_284',\n",
       " '_292',\n",
       " '_293',\n",
       " '_294',\n",
       " '_295',\n",
       " '_296',\n",
       " '_298',\n",
       " '_3',\n",
       " '_30',\n",
       " '_300',\n",
       " '_301',\n",
       " '_302',\n",
       " '_303',\n",
       " '_304',\n",
       " '_308',\n",
       " '_309',\n",
       " '_31',\n",
       " '_310',\n",
       " '_311',\n",
       " '_312',\n",
       " '_313',\n",
       " '_314',\n",
       " '_315',\n",
       " '_317',\n",
       " '_318',\n",
       " '_321',\n",
       " '_322',\n",
       " '_323',\n",
       " '_332',\n",
       " '_339',\n",
       " '_34',\n",
       " '_35',\n",
       " '_36',\n",
       " '_39',\n",
       " '_4',\n",
       " '_40',\n",
       " '_41',\n",
       " '_43',\n",
       " '_44',\n",
       " '_45',\n",
       " '_47',\n",
       " '_48',\n",
       " '_49',\n",
       " '_5',\n",
       " '_50',\n",
       " '_51',\n",
       " '_52',\n",
       " '_53',\n",
       " '_55',\n",
       " '_58',\n",
       " '_59',\n",
       " '_6',\n",
       " '_62',\n",
       " '_63',\n",
       " '_65',\n",
       " '_66',\n",
       " '_69',\n",
       " '_7',\n",
       " '_75',\n",
       " '_76',\n",
       " '_77',\n",
       " '_78',\n",
       " '_79',\n",
       " '_8',\n",
       " '_80',\n",
       " '_82',\n",
       " '_83',\n",
       " '_84',\n",
       " '_85',\n",
       " '_86',\n",
       " '_87',\n",
       " '_88',\n",
       " '_89',\n",
       " '_9',\n",
       " '_90',\n",
       " '_91',\n",
       " '_92',\n",
       " '_93',\n",
       " '_94',\n",
       " '_95',\n",
       " '_96',\n",
       " '_97',\n",
       " '__',\n",
       " '___',\n",
       " '__builtin__',\n",
       " '__builtins__',\n",
       " '__doc__',\n",
       " '__loader__',\n",
       " '__name__',\n",
       " '__package__',\n",
       " '__spec__',\n",
       " '_dh',\n",
       " '_exit_code',\n",
       " '_i',\n",
       " '_i1',\n",
       " '_i10',\n",
       " '_i100',\n",
       " '_i101',\n",
       " '_i102',\n",
       " '_i103',\n",
       " '_i104',\n",
       " '_i105',\n",
       " '_i106',\n",
       " '_i107',\n",
       " '_i108',\n",
       " '_i109',\n",
       " '_i11',\n",
       " '_i110',\n",
       " '_i111',\n",
       " '_i112',\n",
       " '_i113',\n",
       " '_i114',\n",
       " '_i115',\n",
       " '_i116',\n",
       " '_i117',\n",
       " '_i118',\n",
       " '_i119',\n",
       " '_i12',\n",
       " '_i120',\n",
       " '_i121',\n",
       " '_i122',\n",
       " '_i123',\n",
       " '_i124',\n",
       " '_i125',\n",
       " '_i126',\n",
       " '_i127',\n",
       " '_i128',\n",
       " '_i129',\n",
       " '_i13',\n",
       " '_i130',\n",
       " '_i131',\n",
       " '_i132',\n",
       " '_i133',\n",
       " '_i134',\n",
       " '_i135',\n",
       " '_i136',\n",
       " '_i137',\n",
       " '_i138',\n",
       " '_i139',\n",
       " '_i14',\n",
       " '_i140',\n",
       " '_i141',\n",
       " '_i142',\n",
       " '_i143',\n",
       " '_i144',\n",
       " '_i145',\n",
       " '_i146',\n",
       " '_i147',\n",
       " '_i148',\n",
       " '_i149',\n",
       " '_i15',\n",
       " '_i150',\n",
       " '_i151',\n",
       " '_i152',\n",
       " '_i153',\n",
       " '_i154',\n",
       " '_i155',\n",
       " '_i156',\n",
       " '_i157',\n",
       " '_i158',\n",
       " '_i159',\n",
       " '_i16',\n",
       " '_i160',\n",
       " '_i161',\n",
       " '_i162',\n",
       " '_i163',\n",
       " '_i164',\n",
       " '_i165',\n",
       " '_i166',\n",
       " '_i167',\n",
       " '_i168',\n",
       " '_i169',\n",
       " '_i17',\n",
       " '_i170',\n",
       " '_i171',\n",
       " '_i172',\n",
       " '_i173',\n",
       " '_i174',\n",
       " '_i175',\n",
       " '_i176',\n",
       " '_i177',\n",
       " '_i178',\n",
       " '_i179',\n",
       " '_i18',\n",
       " '_i180',\n",
       " '_i181',\n",
       " '_i182',\n",
       " '_i183',\n",
       " '_i184',\n",
       " '_i185',\n",
       " '_i186',\n",
       " '_i187',\n",
       " '_i188',\n",
       " '_i189',\n",
       " '_i19',\n",
       " '_i190',\n",
       " '_i191',\n",
       " '_i193',\n",
       " '_i194',\n",
       " '_i195',\n",
       " '_i196',\n",
       " '_i197',\n",
       " '_i198',\n",
       " '_i199',\n",
       " '_i2',\n",
       " '_i20',\n",
       " '_i200',\n",
       " '_i201',\n",
       " '_i202',\n",
       " '_i203',\n",
       " '_i204',\n",
       " '_i205',\n",
       " '_i206',\n",
       " '_i207',\n",
       " '_i208',\n",
       " '_i209',\n",
       " '_i21',\n",
       " '_i210',\n",
       " '_i211',\n",
       " '_i212',\n",
       " '_i213',\n",
       " '_i214',\n",
       " '_i215',\n",
       " '_i216',\n",
       " '_i217',\n",
       " '_i218',\n",
       " '_i219',\n",
       " '_i22',\n",
       " '_i220',\n",
       " '_i221',\n",
       " '_i222',\n",
       " '_i223',\n",
       " '_i224',\n",
       " '_i225',\n",
       " '_i226',\n",
       " '_i227',\n",
       " '_i228',\n",
       " '_i229',\n",
       " '_i23',\n",
       " '_i230',\n",
       " '_i231',\n",
       " '_i232',\n",
       " '_i233',\n",
       " '_i234',\n",
       " '_i235',\n",
       " '_i236',\n",
       " '_i237',\n",
       " '_i238',\n",
       " '_i239',\n",
       " '_i24',\n",
       " '_i240',\n",
       " '_i241',\n",
       " '_i242',\n",
       " '_i243',\n",
       " '_i244',\n",
       " '_i245',\n",
       " '_i246',\n",
       " '_i247',\n",
       " '_i248',\n",
       " '_i249',\n",
       " '_i25',\n",
       " '_i250',\n",
       " '_i251',\n",
       " '_i252',\n",
       " '_i253',\n",
       " '_i254',\n",
       " '_i255',\n",
       " '_i256',\n",
       " '_i257',\n",
       " '_i258',\n",
       " '_i259',\n",
       " '_i26',\n",
       " '_i260',\n",
       " '_i261',\n",
       " '_i262',\n",
       " '_i263',\n",
       " '_i264',\n",
       " '_i265',\n",
       " '_i266',\n",
       " '_i267',\n",
       " '_i268',\n",
       " '_i269',\n",
       " '_i27',\n",
       " '_i270',\n",
       " '_i271',\n",
       " '_i272',\n",
       " '_i273',\n",
       " '_i274',\n",
       " '_i275',\n",
       " '_i276',\n",
       " '_i277',\n",
       " '_i278',\n",
       " '_i279',\n",
       " '_i28',\n",
       " '_i280',\n",
       " '_i281',\n",
       " '_i282',\n",
       " '_i283',\n",
       " '_i284',\n",
       " '_i285',\n",
       " '_i286',\n",
       " '_i287',\n",
       " '_i288',\n",
       " '_i289',\n",
       " '_i29',\n",
       " '_i290',\n",
       " '_i291',\n",
       " '_i292',\n",
       " '_i293',\n",
       " '_i294',\n",
       " '_i295',\n",
       " '_i296',\n",
       " '_i297',\n",
       " '_i298',\n",
       " '_i299',\n",
       " '_i3',\n",
       " '_i30',\n",
       " '_i300',\n",
       " '_i301',\n",
       " '_i302',\n",
       " '_i303',\n",
       " '_i304',\n",
       " '_i305',\n",
       " '_i306',\n",
       " '_i307',\n",
       " '_i308',\n",
       " '_i309',\n",
       " '_i31',\n",
       " '_i310',\n",
       " '_i311',\n",
       " '_i312',\n",
       " '_i313',\n",
       " '_i314',\n",
       " '_i315',\n",
       " '_i316',\n",
       " '_i317',\n",
       " '_i318',\n",
       " '_i319',\n",
       " '_i32',\n",
       " '_i320',\n",
       " '_i321',\n",
       " '_i322',\n",
       " '_i323',\n",
       " '_i324',\n",
       " '_i325',\n",
       " '_i326',\n",
       " '_i327',\n",
       " '_i328',\n",
       " '_i329',\n",
       " '_i33',\n",
       " '_i330',\n",
       " '_i331',\n",
       " '_i332',\n",
       " '_i333',\n",
       " '_i334',\n",
       " '_i335',\n",
       " '_i336',\n",
       " '_i337',\n",
       " '_i338',\n",
       " '_i339',\n",
       " '_i34',\n",
       " '_i340',\n",
       " '_i35',\n",
       " '_i36',\n",
       " '_i37',\n",
       " '_i38',\n",
       " '_i39',\n",
       " '_i4',\n",
       " '_i40',\n",
       " '_i41',\n",
       " '_i42',\n",
       " '_i43',\n",
       " '_i44',\n",
       " '_i45',\n",
       " '_i46',\n",
       " '_i47',\n",
       " '_i48',\n",
       " '_i49',\n",
       " '_i5',\n",
       " '_i50',\n",
       " '_i51',\n",
       " '_i52',\n",
       " '_i53',\n",
       " '_i54',\n",
       " '_i55',\n",
       " '_i56',\n",
       " '_i57',\n",
       " '_i58',\n",
       " '_i59',\n",
       " '_i6',\n",
       " '_i60',\n",
       " '_i61',\n",
       " '_i62',\n",
       " '_i63',\n",
       " '_i64',\n",
       " '_i65',\n",
       " '_i66',\n",
       " '_i67',\n",
       " '_i68',\n",
       " '_i69',\n",
       " '_i7',\n",
       " '_i70',\n",
       " '_i71',\n",
       " '_i72',\n",
       " '_i73',\n",
       " '_i74',\n",
       " '_i75',\n",
       " '_i76',\n",
       " '_i77',\n",
       " '_i78',\n",
       " '_i79',\n",
       " '_i8',\n",
       " '_i80',\n",
       " '_i81',\n",
       " '_i82',\n",
       " '_i83',\n",
       " '_i84',\n",
       " '_i85',\n",
       " '_i86',\n",
       " '_i87',\n",
       " '_i88',\n",
       " '_i89',\n",
       " '_i9',\n",
       " '_i90',\n",
       " '_i91',\n",
       " '_i92',\n",
       " '_i93',\n",
       " '_i94',\n",
       " '_i95',\n",
       " '_i96',\n",
       " '_i97',\n",
       " '_i98',\n",
       " '_i99',\n",
       " '_ih',\n",
       " '_ii',\n",
       " '_iii',\n",
       " '_oh',\n",
       " 'a',\n",
       " 'a2',\n",
       " 'a3',\n",
       " 'aaa',\n",
       " 'adder',\n",
       " 'ages',\n",
       " 'array1',\n",
       " 'array11',\n",
       " 'array2',\n",
       " 'b',\n",
       " 'c',\n",
       " 'c1',\n",
       " 'c2',\n",
       " 'c3',\n",
       " 'car_a',\n",
       " 'car_b',\n",
       " 'd',\n",
       " 'dict1',\n",
       " 'dict2',\n",
       " 'e',\n",
       " 'exit',\n",
       " 'f',\n",
       " 'f1',\n",
       " 'f2',\n",
       " 'factorial',\n",
       " 'func',\n",
       " 'g',\n",
       " 'get_ipython',\n",
       " 'h',\n",
       " 'h1',\n",
       " 'i',\n",
       " 'index',\n",
       " 'intro',\n",
       " 'itertools',\n",
       " 'itr',\n",
       " 'j',\n",
       " 'k',\n",
       " 'key',\n",
       " 'l',\n",
       " 'line',\n",
       " 'list1',\n",
       " 'list2',\n",
       " 'list_of_str',\n",
       " 'list_of_words',\n",
       " 'my_function',\n",
       " 'my_lambda_function',\n",
       " 'name',\n",
       " 'names',\n",
       " 'not_null_variable',\n",
       " 'null_variable',\n",
       " 'num',\n",
       " 'num_list',\n",
       " 'obj',\n",
       " 'objects',\n",
       " 'odds',\n",
       " 'printPetNames',\n",
       " 'printScores',\n",
       " 'quit',\n",
       " 's',\n",
       " 'some_function',\n",
       " 'square',\n",
       " 'squares',\n",
       " 't',\n",
       " 'thisset',\n",
       " 'tuple1',\n",
       " 'tuple2',\n",
       " 'v73',\n",
       " 'word_freq',\n",
       " 'x']"
      ]
     },
     "execution_count": 340,
     "metadata": {},
     "output_type": "execute_result"
    }
   ],
   "source": [
    "dir()"
   ]
  },
  {
   "cell_type": "code",
   "execution_count": 341,
   "metadata": {},
   "outputs": [
    {
     "data": {
      "text/plain": [
       "['__class__',\n",
       " '__delattr__',\n",
       " '__dict__',\n",
       " '__dir__',\n",
       " '__doc__',\n",
       " '__eq__',\n",
       " '__format__',\n",
       " '__ge__',\n",
       " '__getattribute__',\n",
       " '__gt__',\n",
       " '__hash__',\n",
       " '__init__',\n",
       " '__init_subclass__',\n",
       " '__le__',\n",
       " '__lt__',\n",
       " '__module__',\n",
       " '__ne__',\n",
       " '__new__',\n",
       " '__reduce__',\n",
       " '__reduce_ex__',\n",
       " '__repr__',\n",
       " '__setattr__',\n",
       " '__sizeof__',\n",
       " '__str__',\n",
       " '__subclasshook__',\n",
       " '__weakref__',\n",
       " 'make',\n",
       " 'model',\n",
       " 'name',\n",
       " 'start',\n",
       " 'stop']"
      ]
     },
     "execution_count": 341,
     "metadata": {},
     "output_type": "execute_result"
    }
   ],
   "source": [
    "dir(car_b)"
   ]
  },
  {
   "cell_type": "code",
   "execution_count": 342,
   "metadata": {},
   "outputs": [],
   "source": [
    "class Car:\n",
    "    car_count = 0\n",
    " \n",
    "    def start(self, name, make, model):\n",
    "        print(\"OK\")\n",
    "        self.name = name\n",
    "        self.make = make\n",
    "        self.model = model\n",
    "        Car.car_count += 1"
   ]
  },
  {
   "cell_type": "code",
   "execution_count": 343,
   "metadata": {},
   "outputs": [
    {
     "name": "stdout",
     "output_type": "stream",
     "text": [
      "OK\n",
      "Corrola\n",
      "1\n"
     ]
    }
   ],
   "source": [
    "car_a = Car()  \n",
    "car_a.start(\"Corrola\", \"Toyota\", 2015)  \n",
    "\n",
    "print(car_a.name)  \n",
    "print(car_a.car_count)"
   ]
  },
  {
   "cell_type": "code",
   "execution_count": 344,
   "metadata": {},
   "outputs": [
    {
     "name": "stdout",
     "output_type": "stream",
     "text": [
      "OK\n",
      "City\n",
      "2\n"
     ]
    }
   ],
   "source": [
    "car_b = Car()  \n",
    "car_b.start(\"City\", \"Honda\", 2013)  \n",
    "print(car_b.name)  \n",
    "print(car_b.car_count)"
   ]
  },
  {
   "cell_type": "markdown",
   "metadata": {},
   "source": [
    "https://www.tutorialspoint.com/difference-between-method-and-function-in-python\n",
    "\n",
    "https://www.w3schools.com/python/gloss_python_object_methods.asp\n",
    "\n",
    "https://data-flair.training/blogs/python-method/\n",
    "\n",
    "https://docs.python.org/3/tutorial/classes.html\n",
    "\n",
    "https://www.dummies.com/programming/python/working-with-methods-in-python/\n",
    "\n",
    "https://www.journaldev.com/18722/python-static-method\n",
    "\n",
    "https://realpython.com/instance-class-and-static-methods-demystified/"
   ]
  },
  {
   "cell_type": "code",
   "execution_count": 345,
   "metadata": {},
   "outputs": [
    {
     "name": "stdout",
     "output_type": "stream",
     "text": [
      "Hello, user :)\n"
     ]
    }
   ],
   "source": [
    "class Car:\n",
    " \n",
    "    @staticmethod\n",
    "    def get_class_details():\n",
    "        print (\"Hello, user :)\")\n",
    "\n",
    "Car.get_class_details()"
   ]
  },
  {
   "cell_type": "code",
   "execution_count": 346,
   "metadata": {},
   "outputs": [
    {
     "name": "stdout",
     "output_type": "stream",
     "text": [
      "(9, 25)\n"
     ]
    }
   ],
   "source": [
    "class Square:\n",
    " \n",
    "    @staticmethod\n",
    "    def get_squares(a, b):\n",
    "        return a * a, b * b\n",
    "\n",
    "print(Square.get_squares(3, 5))"
   ]
  },
  {
   "cell_type": "code",
   "execution_count": 347,
   "metadata": {},
   "outputs": [
    {
     "name": "stdout",
     "output_type": "stream",
     "text": [
      "Hello, user :)\n"
     ]
    }
   ],
   "source": [
    "c = Car()\n",
    "c.get_class_details()"
   ]
  },
  {
   "cell_type": "code",
   "execution_count": 348,
   "metadata": {},
   "outputs": [
    {
     "name": "stdout",
     "output_type": "stream",
     "text": [
      "<__main__.Car object at 0x7fc03176ff40>\n"
     ]
    }
   ],
   "source": [
    "class Car:\n",
    " \n",
    "    def start(self):\n",
    "        print(\"OK\")\n",
    "\n",
    "car_a = Car()  \n",
    "print(car_a)"
   ]
  },
  {
   "cell_type": "code",
   "execution_count": 349,
   "metadata": {},
   "outputs": [
    {
     "name": "stdout",
     "output_type": "stream",
     "text": [
      "Car class Object\n"
     ]
    }
   ],
   "source": [
    "class Car:\n",
    " \n",
    "    def __str__(self):\n",
    "        return \"Car class Object\"\n",
    " \n",
    "    def start(self):\n",
    "        print(\"OK\")\n",
    "\n",
    "car_a = Car()  \n",
    "print(car_a)"
   ]
  },
  {
   "cell_type": "code",
   "execution_count": 350,
   "metadata": {},
   "outputs": [
    {
     "name": "stdout",
     "output_type": "stream",
     "text": [
      "<__main__.Car object at 0x7fc031878460>\n"
     ]
    }
   ],
   "source": [
    "class Car:\n",
    " \n",
    "    def str__(self):\n",
    "        return \"Car class Object\"\n",
    " \n",
    "    def start(self):\n",
    "        print(\"OK\")\n",
    "\n",
    "car_a = Car()  \n",
    "print(car_a)"
   ]
  },
  {
   "cell_type": "code",
   "execution_count": 351,
   "metadata": {},
   "outputs": [
    {
     "name": "stdout",
     "output_type": "stream",
     "text": [
      "OK\n",
      "None\n"
     ]
    }
   ],
   "source": [
    "print(car_a.start())"
   ]
  },
  {
   "cell_type": "code",
   "execution_count": 352,
   "metadata": {},
   "outputs": [
    {
     "name": "stdout",
     "output_type": "stream",
     "text": [
      "Car class Object\n"
     ]
    }
   ],
   "source": [
    "class Car:\n",
    "    def __str__(self):\n",
    "        return \"Car class Object\"\n",
    " \n",
    "    def start(self):\n",
    "        print(\"OK\")\n",
    "        return 4\n",
    "\n",
    "car_a = Car()  \n",
    "print(car_a)"
   ]
  },
  {
   "cell_type": "code",
   "execution_count": 353,
   "metadata": {},
   "outputs": [
    {
     "name": "stdout",
     "output_type": "stream",
     "text": [
      "OK\n",
      "4\n"
     ]
    }
   ],
   "source": [
    "print(car_a.start())"
   ]
  },
  {
   "cell_type": "code",
   "execution_count": 354,
   "metadata": {},
   "outputs": [
    {
     "name": "stdout",
     "output_type": "stream",
     "text": [
      "Car class Object\n"
     ]
    }
   ],
   "source": [
    "class Car:\n",
    "    def __str__(self):\n",
    "        return \"Car class Object\"\n",
    " \n",
    "    def start(self):\n",
    "        print(\"OK\")\n",
    "\n",
    "car_a = Car()  \n",
    "print(car_a)"
   ]
  },
  {
   "cell_type": "code",
   "execution_count": 355,
   "metadata": {},
   "outputs": [
    {
     "name": "stdout",
     "output_type": "stream",
     "text": [
      "OK\n"
     ]
    }
   ],
   "source": [
    "car_a.start()"
   ]
  },
  {
   "cell_type": "code",
   "execution_count": 356,
   "metadata": {},
   "outputs": [
    {
     "data": {
      "text/plain": [
       "['__class__',\n",
       " '__delattr__',\n",
       " '__dict__',\n",
       " '__dir__',\n",
       " '__doc__',\n",
       " '__eq__',\n",
       " '__format__',\n",
       " '__ge__',\n",
       " '__getattribute__',\n",
       " '__gt__',\n",
       " '__hash__',\n",
       " '__init__',\n",
       " '__init_subclass__',\n",
       " '__le__',\n",
       " '__lt__',\n",
       " '__module__',\n",
       " '__ne__',\n",
       " '__new__',\n",
       " '__reduce__',\n",
       " '__reduce_ex__',\n",
       " '__repr__',\n",
       " '__setattr__',\n",
       " '__sizeof__',\n",
       " '__str__',\n",
       " '__subclasshook__',\n",
       " '__weakref__',\n",
       " 'start']"
      ]
     },
     "execution_count": 356,
     "metadata": {},
     "output_type": "execute_result"
    }
   ],
   "source": [
    "dir(Car)"
   ]
  },
  {
   "cell_type": "markdown",
   "metadata": {},
   "source": [
    "### Problem №10 (all answers are at the end of the notebook):\n",
    "\n",
    "Write a Python program to convert a roman numeral to an integer.\n",
    "\n",
    "You have 'MMMCMLXXXVI', 'MMMM' and 'C'."
   ]
  },
  {
   "cell_type": "markdown",
   "metadata": {},
   "source": [
    "### Problem №11 (all answers are at the end of the notebook):\n",
    "\n",
    "Write a Python program to convert an integer to a roman numeral.\n",
    "\n",
    "You have 1, 4000 and 3986."
   ]
  },
  {
   "cell_type": "markdown",
   "metadata": {},
   "source": [
    "### Problem №12 (all answers are at the end of the notebook):\n",
    "\n",
    "Write a Python program to implement pow(x, n).\n",
    "\n",
    "You have pairs (x, n): (2, -3), (3, 5) and (100, 0)."
   ]
  },
  {
   "cell_type": "markdown",
   "metadata": {},
   "source": [
    "## Modules in Python"
   ]
  },
  {
   "cell_type": "markdown",
   "metadata": {},
   "source": [
    "#### Some links about module struction of Python:\n",
    "\n",
    "https://docs.python.org/3/tutorial/modules.html\n",
    "    \n",
    "https://docs.python.org/3/py-modindex.html\n",
    "    \n",
    "https://www.w3schools.com/python/python_modules.asp\n",
    "    \n",
    "https://www.tutorialspoint.com/python/python_modules.htm\n",
    "    \n",
    "https://realpython.com/python-modules-packages/"
   ]
  },
  {
   "cell_type": "markdown",
   "metadata": {},
   "source": [
    "##### Consider a module to be the same as a code library.\n",
    "\n",
    "##### A file containing a set of functions you want to include in your application."
   ]
  },
  {
   "cell_type": "code",
   "execution_count": 357,
   "metadata": {},
   "outputs": [
    {
     "data": {
      "text/plain": [
       "5"
      ]
     },
     "execution_count": 357,
     "metadata": {},
     "output_type": "execute_result"
    }
   ],
   "source": [
    "import math\n",
    "\n",
    "math.ceil(4.3)"
   ]
  },
  {
   "cell_type": "code",
   "execution_count": 358,
   "metadata": {},
   "outputs": [
    {
     "data": {
      "text/plain": [
       "-1"
      ]
     },
     "execution_count": 358,
     "metadata": {},
     "output_type": "execute_result"
    }
   ],
   "source": [
    "math.ceil(-1.4)"
   ]
  },
  {
   "cell_type": "code",
   "execution_count": 359,
   "metadata": {},
   "outputs": [
    {
     "data": {
      "text/plain": [
       "4.0"
      ]
     },
     "execution_count": 359,
     "metadata": {},
     "output_type": "execute_result"
    }
   ],
   "source": [
    "math.fabs(-4)"
   ]
  },
  {
   "cell_type": "code",
   "execution_count": 360,
   "metadata": {},
   "outputs": [
    {
     "data": {
      "text/plain": [
       "5.0"
      ]
     },
     "execution_count": 360,
     "metadata": {},
     "output_type": "execute_result"
    }
   ],
   "source": [
    "math.hypot(3, 4) # math.sqrt(x * x + y * y) or hypotenuse"
   ]
  },
  {
   "cell_type": "code",
   "execution_count": 361,
   "metadata": {},
   "outputs": [
    {
     "data": {
      "text/plain": [
       "10.017874927409903"
      ]
     },
     "execution_count": 361,
     "metadata": {},
     "output_type": "execute_result"
    }
   ],
   "source": [
    "math.sinh(3)"
   ]
  },
  {
   "cell_type": "markdown",
   "metadata": {},
   "source": [
    "#### See other modules in Python below (Additional materials)"
   ]
  },
  {
   "cell_type": "code",
   "execution_count": 362,
   "metadata": {},
   "outputs": [
    {
     "name": "stdout",
     "output_type": "stream",
     "text": [
      "def greeting(name):\r\n",
      "    print(\"Hello, \" + name)\r\n",
      "\r\n",
      "person1 = {\r\n",
      "  \"name\": \"John\",\r\n",
      "  \"age\": 36,\r\n",
      "  \"country\": \"Norway\"\r\n",
      "}\r\n"
     ]
    }
   ],
   "source": [
    "!cat mymodule.py"
   ]
  },
  {
   "cell_type": "code",
   "execution_count": 363,
   "metadata": {},
   "outputs": [
    {
     "name": "stdout",
     "output_type": "stream",
     "text": [
      "Hello, Jonathan\n"
     ]
    }
   ],
   "source": [
    "import mymodule\n",
    "\n",
    "mymodule.greeting(\"Jonathan\")"
   ]
  },
  {
   "cell_type": "code",
   "execution_count": 364,
   "metadata": {},
   "outputs": [
    {
     "name": "stdout",
     "output_type": "stream",
     "text": [
      "Hello, Ann\n"
     ]
    }
   ],
   "source": [
    "import mymodule as mx\n",
    "\n",
    "mx.greeting(\"Ann\")"
   ]
  },
  {
   "cell_type": "code",
   "execution_count": 365,
   "metadata": {},
   "outputs": [
    {
     "name": "stdout",
     "output_type": "stream",
     "text": [
      "person1 = {\r\n",
      "  \"name\": \"John\",\r\n",
      "  \"age\": 36,\r\n",
      "  \"country\": \"Norway\"\r\n",
      "}\r\n"
     ]
    }
   ],
   "source": [
    "!cat mymodule2.py"
   ]
  },
  {
   "cell_type": "code",
   "execution_count": 366,
   "metadata": {},
   "outputs": [
    {
     "name": "stdout",
     "output_type": "stream",
     "text": [
      "36\n"
     ]
    }
   ],
   "source": [
    "import mymodule2\n",
    "\n",
    "a = mymodule2.person1[\"age\"]\n",
    "print(a)"
   ]
  },
  {
   "cell_type": "code",
   "execution_count": 367,
   "metadata": {},
   "outputs": [
    {
     "name": "stdout",
     "output_type": "stream",
     "text": [
      "['__doc__', '__file__', '__loader__', '__name__', '__package__', '__spec__', 'acos', 'acosh', 'asin', 'asinh', 'atan', 'atan2', 'atanh', 'ceil', 'comb', 'copysign', 'cos', 'cosh', 'degrees', 'dist', 'e', 'erf', 'erfc', 'exp', 'expm1', 'fabs', 'factorial', 'floor', 'fmod', 'frexp', 'fsum', 'gamma', 'gcd', 'hypot', 'inf', 'isclose', 'isfinite', 'isinf', 'isnan', 'isqrt', 'ldexp', 'lgamma', 'log', 'log10', 'log1p', 'log2', 'modf', 'nan', 'perm', 'pi', 'pow', 'prod', 'radians', 'remainder', 'sin', 'sinh', 'sqrt', 'tan', 'tanh', 'tau', 'trunc']\n"
     ]
    }
   ],
   "source": [
    "x = dir(math)\n",
    "print(x)"
   ]
  },
  {
   "cell_type": "code",
   "execution_count": 368,
   "metadata": {},
   "outputs": [
    {
     "name": "stdout",
     "output_type": "stream",
     "text": [
      "['__builtins__', '__cached__', '__doc__', '__file__', '__loader__', '__name__', '__package__', '__spec__', 'greeting', 'person1']\n"
     ]
    }
   ],
   "source": [
    "x = dir(mymodule)\n",
    "print(x)"
   ]
  },
  {
   "cell_type": "code",
   "execution_count": 369,
   "metadata": {},
   "outputs": [
    {
     "name": "stdout",
     "output_type": "stream",
     "text": [
      "['__builtins__', '__cached__', '__doc__', '__file__', '__loader__', '__name__', '__package__', '__spec__', 'person1']\n"
     ]
    }
   ],
   "source": [
    "x = dir(mymodule2)\n",
    "print(x)"
   ]
  },
  {
   "cell_type": "code",
   "execution_count": 370,
   "metadata": {},
   "outputs": [
    {
     "name": "stdout",
     "output_type": "stream",
     "text": [
      "def greeting(name):\r\n",
      "  print(\"Hello, \" + name)\r\n",
      "\r\n",
      "person1 = {\r\n",
      "  \"name\": \"John\",\r\n",
      "  \"age\": 36,\r\n",
      "  \"country\": \"Norway\"\r\n",
      "}\r\n"
     ]
    }
   ],
   "source": [
    "!cat mymodule3.py"
   ]
  },
  {
   "cell_type": "code",
   "execution_count": 371,
   "metadata": {},
   "outputs": [
    {
     "name": "stdout",
     "output_type": "stream",
     "text": [
      "Norway\n"
     ]
    }
   ],
   "source": [
    "from mymodule3 import person1\n",
    "\n",
    "print(person1[\"country\"])"
   ]
  },
  {
   "cell_type": "markdown",
   "metadata": {},
   "source": [
    "## Additional materials\n",
    "\n",
    "https://pynative.com/python-input-function-get-user-input/"
   ]
  },
  {
   "cell_type": "code",
   "execution_count": 372,
   "metadata": {},
   "outputs": [
    {
     "name": "stdout",
     "output_type": "stream",
     "text": [
      "Write something, please: 3\n"
     ]
    },
    {
     "data": {
      "text/plain": [
       "'3'"
      ]
     },
     "execution_count": 372,
     "metadata": {},
     "output_type": "execute_result"
    }
   ],
   "source": [
    "a = input('Write something, please: ')\n",
    "a"
   ]
  },
  {
   "cell_type": "code",
   "execution_count": 373,
   "metadata": {},
   "outputs": [
    {
     "data": {
      "text/plain": [
       "str"
      ]
     },
     "execution_count": 373,
     "metadata": {},
     "output_type": "execute_result"
    }
   ],
   "source": [
    "type(a)"
   ]
  },
  {
   "cell_type": "code",
   "execution_count": 374,
   "metadata": {},
   "outputs": [
    {
     "name": "stdout",
     "output_type": "stream",
     "text": [
      "Write something, please: 45\n"
     ]
    },
    {
     "data": {
      "text/plain": [
       "'45'"
      ]
     },
     "execution_count": 374,
     "metadata": {},
     "output_type": "execute_result"
    }
   ],
   "source": [
    "a = input('Write something, please: ')\n",
    "a"
   ]
  },
  {
   "cell_type": "code",
   "execution_count": 375,
   "metadata": {},
   "outputs": [
    {
     "data": {
      "text/plain": [
       "str"
      ]
     },
     "execution_count": 375,
     "metadata": {},
     "output_type": "execute_result"
    }
   ],
   "source": [
    "type(a)"
   ]
  },
  {
   "cell_type": "markdown",
   "metadata": {
    "colab_type": "text",
    "id": "_XbtNJNo4kls"
   },
   "source": [
    "We've defined a number of variables so far. Here's how you can list all of them (+ some internals of python):"
   ]
  },
  {
   "cell_type": "code",
   "execution_count": 376,
   "metadata": {
    "colab": {},
    "colab_type": "code",
    "id": "nRVS4csJ4jJN"
   },
   "outputs": [
    {
     "data": {
      "text/plain": [
       "['A',\n",
       " 'B',\n",
       " 'Car',\n",
       " 'In',\n",
       " 'Out',\n",
       " 'Square',\n",
       " '_',\n",
       " '_10',\n",
       " '_100',\n",
       " '_102',\n",
       " '_103',\n",
       " '_104',\n",
       " '_108',\n",
       " '_11',\n",
       " '_110',\n",
       " '_111',\n",
       " '_113',\n",
       " '_114',\n",
       " '_115',\n",
       " '_116',\n",
       " '_117',\n",
       " '_118',\n",
       " '_12',\n",
       " '_120',\n",
       " '_121',\n",
       " '_122',\n",
       " '_123',\n",
       " '_124',\n",
       " '_125',\n",
       " '_128',\n",
       " '_129',\n",
       " '_133',\n",
       " '_134',\n",
       " '_135',\n",
       " '_144',\n",
       " '_145',\n",
       " '_146',\n",
       " '_149',\n",
       " '_15',\n",
       " '_150',\n",
       " '_151',\n",
       " '_152',\n",
       " '_153',\n",
       " '_157',\n",
       " '_158',\n",
       " '_161',\n",
       " '_162',\n",
       " '_165',\n",
       " '_167',\n",
       " '_168',\n",
       " '_17',\n",
       " '_174',\n",
       " '_175',\n",
       " '_176',\n",
       " '_177',\n",
       " '_178',\n",
       " '_179',\n",
       " '_18',\n",
       " '_19',\n",
       " '_20',\n",
       " '_206',\n",
       " '_207',\n",
       " '_208',\n",
       " '_209',\n",
       " '_21',\n",
       " '_210',\n",
       " '_211',\n",
       " '_214',\n",
       " '_215',\n",
       " '_22',\n",
       " '_23',\n",
       " '_24',\n",
       " '_241',\n",
       " '_246',\n",
       " '_248',\n",
       " '_249',\n",
       " '_25',\n",
       " '_255',\n",
       " '_256',\n",
       " '_258',\n",
       " '_259',\n",
       " '_26',\n",
       " '_260',\n",
       " '_261',\n",
       " '_262',\n",
       " '_264',\n",
       " '_265',\n",
       " '_266',\n",
       " '_268',\n",
       " '_273',\n",
       " '_275',\n",
       " '_28',\n",
       " '_280',\n",
       " '_283',\n",
       " '_284',\n",
       " '_292',\n",
       " '_293',\n",
       " '_294',\n",
       " '_295',\n",
       " '_296',\n",
       " '_298',\n",
       " '_3',\n",
       " '_30',\n",
       " '_300',\n",
       " '_301',\n",
       " '_302',\n",
       " '_303',\n",
       " '_304',\n",
       " '_308',\n",
       " '_309',\n",
       " '_31',\n",
       " '_310',\n",
       " '_311',\n",
       " '_312',\n",
       " '_313',\n",
       " '_314',\n",
       " '_315',\n",
       " '_317',\n",
       " '_318',\n",
       " '_321',\n",
       " '_322',\n",
       " '_323',\n",
       " '_332',\n",
       " '_339',\n",
       " '_34',\n",
       " '_340',\n",
       " '_341',\n",
       " '_35',\n",
       " '_356',\n",
       " '_357',\n",
       " '_358',\n",
       " '_359',\n",
       " '_36',\n",
       " '_360',\n",
       " '_361',\n",
       " '_372',\n",
       " '_373',\n",
       " '_374',\n",
       " '_375',\n",
       " '_39',\n",
       " '_4',\n",
       " '_40',\n",
       " '_41',\n",
       " '_43',\n",
       " '_44',\n",
       " '_45',\n",
       " '_47',\n",
       " '_48',\n",
       " '_49',\n",
       " '_5',\n",
       " '_50',\n",
       " '_51',\n",
       " '_52',\n",
       " '_53',\n",
       " '_55',\n",
       " '_58',\n",
       " '_59',\n",
       " '_6',\n",
       " '_62',\n",
       " '_63',\n",
       " '_65',\n",
       " '_66',\n",
       " '_69',\n",
       " '_7',\n",
       " '_75',\n",
       " '_76',\n",
       " '_77',\n",
       " '_78',\n",
       " '_79',\n",
       " '_8',\n",
       " '_80',\n",
       " '_82',\n",
       " '_83',\n",
       " '_84',\n",
       " '_85',\n",
       " '_86',\n",
       " '_87',\n",
       " '_88',\n",
       " '_89',\n",
       " '_9',\n",
       " '_90',\n",
       " '_91',\n",
       " '_92',\n",
       " '_93',\n",
       " '_94',\n",
       " '_95',\n",
       " '_96',\n",
       " '_97',\n",
       " '__',\n",
       " '___',\n",
       " '__builtin__',\n",
       " '__builtins__',\n",
       " '__doc__',\n",
       " '__loader__',\n",
       " '__name__',\n",
       " '__package__',\n",
       " '__spec__',\n",
       " '_dh',\n",
       " '_exit_code',\n",
       " '_i',\n",
       " '_i1',\n",
       " '_i10',\n",
       " '_i100',\n",
       " '_i101',\n",
       " '_i102',\n",
       " '_i103',\n",
       " '_i104',\n",
       " '_i105',\n",
       " '_i106',\n",
       " '_i107',\n",
       " '_i108',\n",
       " '_i109',\n",
       " '_i11',\n",
       " '_i110',\n",
       " '_i111',\n",
       " '_i112',\n",
       " '_i113',\n",
       " '_i114',\n",
       " '_i115',\n",
       " '_i116',\n",
       " '_i117',\n",
       " '_i118',\n",
       " '_i119',\n",
       " '_i12',\n",
       " '_i120',\n",
       " '_i121',\n",
       " '_i122',\n",
       " '_i123',\n",
       " '_i124',\n",
       " '_i125',\n",
       " '_i126',\n",
       " '_i127',\n",
       " '_i128',\n",
       " '_i129',\n",
       " '_i13',\n",
       " '_i130',\n",
       " '_i131',\n",
       " '_i132',\n",
       " '_i133',\n",
       " '_i134',\n",
       " '_i135',\n",
       " '_i136',\n",
       " '_i137',\n",
       " '_i138',\n",
       " '_i139',\n",
       " '_i14',\n",
       " '_i140',\n",
       " '_i141',\n",
       " '_i142',\n",
       " '_i143',\n",
       " '_i144',\n",
       " '_i145',\n",
       " '_i146',\n",
       " '_i147',\n",
       " '_i148',\n",
       " '_i149',\n",
       " '_i15',\n",
       " '_i150',\n",
       " '_i151',\n",
       " '_i152',\n",
       " '_i153',\n",
       " '_i154',\n",
       " '_i155',\n",
       " '_i156',\n",
       " '_i157',\n",
       " '_i158',\n",
       " '_i159',\n",
       " '_i16',\n",
       " '_i160',\n",
       " '_i161',\n",
       " '_i162',\n",
       " '_i163',\n",
       " '_i164',\n",
       " '_i165',\n",
       " '_i166',\n",
       " '_i167',\n",
       " '_i168',\n",
       " '_i169',\n",
       " '_i17',\n",
       " '_i170',\n",
       " '_i171',\n",
       " '_i172',\n",
       " '_i173',\n",
       " '_i174',\n",
       " '_i175',\n",
       " '_i176',\n",
       " '_i177',\n",
       " '_i178',\n",
       " '_i179',\n",
       " '_i18',\n",
       " '_i180',\n",
       " '_i181',\n",
       " '_i182',\n",
       " '_i183',\n",
       " '_i184',\n",
       " '_i185',\n",
       " '_i186',\n",
       " '_i187',\n",
       " '_i188',\n",
       " '_i189',\n",
       " '_i19',\n",
       " '_i190',\n",
       " '_i191',\n",
       " '_i193',\n",
       " '_i194',\n",
       " '_i195',\n",
       " '_i196',\n",
       " '_i197',\n",
       " '_i198',\n",
       " '_i199',\n",
       " '_i2',\n",
       " '_i20',\n",
       " '_i200',\n",
       " '_i201',\n",
       " '_i202',\n",
       " '_i203',\n",
       " '_i204',\n",
       " '_i205',\n",
       " '_i206',\n",
       " '_i207',\n",
       " '_i208',\n",
       " '_i209',\n",
       " '_i21',\n",
       " '_i210',\n",
       " '_i211',\n",
       " '_i212',\n",
       " '_i213',\n",
       " '_i214',\n",
       " '_i215',\n",
       " '_i216',\n",
       " '_i217',\n",
       " '_i218',\n",
       " '_i219',\n",
       " '_i22',\n",
       " '_i220',\n",
       " '_i221',\n",
       " '_i222',\n",
       " '_i223',\n",
       " '_i224',\n",
       " '_i225',\n",
       " '_i226',\n",
       " '_i227',\n",
       " '_i228',\n",
       " '_i229',\n",
       " '_i23',\n",
       " '_i230',\n",
       " '_i231',\n",
       " '_i232',\n",
       " '_i233',\n",
       " '_i234',\n",
       " '_i235',\n",
       " '_i236',\n",
       " '_i237',\n",
       " '_i238',\n",
       " '_i239',\n",
       " '_i24',\n",
       " '_i240',\n",
       " '_i241',\n",
       " '_i242',\n",
       " '_i243',\n",
       " '_i244',\n",
       " '_i245',\n",
       " '_i246',\n",
       " '_i247',\n",
       " '_i248',\n",
       " '_i249',\n",
       " '_i25',\n",
       " '_i250',\n",
       " '_i251',\n",
       " '_i252',\n",
       " '_i253',\n",
       " '_i254',\n",
       " '_i255',\n",
       " '_i256',\n",
       " '_i257',\n",
       " '_i258',\n",
       " '_i259',\n",
       " '_i26',\n",
       " '_i260',\n",
       " '_i261',\n",
       " '_i262',\n",
       " '_i263',\n",
       " '_i264',\n",
       " '_i265',\n",
       " '_i266',\n",
       " '_i267',\n",
       " '_i268',\n",
       " '_i269',\n",
       " '_i27',\n",
       " '_i270',\n",
       " '_i271',\n",
       " '_i272',\n",
       " '_i273',\n",
       " '_i274',\n",
       " '_i275',\n",
       " '_i276',\n",
       " '_i277',\n",
       " '_i278',\n",
       " '_i279',\n",
       " '_i28',\n",
       " '_i280',\n",
       " '_i281',\n",
       " '_i282',\n",
       " '_i283',\n",
       " '_i284',\n",
       " '_i285',\n",
       " '_i286',\n",
       " '_i287',\n",
       " '_i288',\n",
       " '_i289',\n",
       " '_i29',\n",
       " '_i290',\n",
       " '_i291',\n",
       " '_i292',\n",
       " '_i293',\n",
       " '_i294',\n",
       " '_i295',\n",
       " '_i296',\n",
       " '_i297',\n",
       " '_i298',\n",
       " '_i299',\n",
       " '_i3',\n",
       " '_i30',\n",
       " '_i300',\n",
       " '_i301',\n",
       " '_i302',\n",
       " '_i303',\n",
       " '_i304',\n",
       " '_i305',\n",
       " '_i306',\n",
       " '_i307',\n",
       " '_i308',\n",
       " '_i309',\n",
       " '_i31',\n",
       " '_i310',\n",
       " '_i311',\n",
       " '_i312',\n",
       " '_i313',\n",
       " '_i314',\n",
       " '_i315',\n",
       " '_i316',\n",
       " '_i317',\n",
       " '_i318',\n",
       " '_i319',\n",
       " '_i32',\n",
       " '_i320',\n",
       " '_i321',\n",
       " '_i322',\n",
       " '_i323',\n",
       " '_i324',\n",
       " '_i325',\n",
       " '_i326',\n",
       " '_i327',\n",
       " '_i328',\n",
       " '_i329',\n",
       " '_i33',\n",
       " '_i330',\n",
       " '_i331',\n",
       " '_i332',\n",
       " '_i333',\n",
       " '_i334',\n",
       " '_i335',\n",
       " '_i336',\n",
       " '_i337',\n",
       " '_i338',\n",
       " '_i339',\n",
       " '_i34',\n",
       " '_i340',\n",
       " '_i341',\n",
       " '_i342',\n",
       " '_i343',\n",
       " '_i344',\n",
       " '_i345',\n",
       " '_i346',\n",
       " '_i347',\n",
       " '_i348',\n",
       " '_i349',\n",
       " '_i35',\n",
       " '_i350',\n",
       " '_i351',\n",
       " '_i352',\n",
       " '_i353',\n",
       " '_i354',\n",
       " '_i355',\n",
       " '_i356',\n",
       " '_i357',\n",
       " '_i358',\n",
       " '_i359',\n",
       " '_i36',\n",
       " '_i360',\n",
       " '_i361',\n",
       " '_i362',\n",
       " '_i363',\n",
       " '_i364',\n",
       " '_i365',\n",
       " '_i366',\n",
       " '_i367',\n",
       " '_i368',\n",
       " '_i369',\n",
       " '_i37',\n",
       " '_i370',\n",
       " '_i371',\n",
       " '_i372',\n",
       " '_i373',\n",
       " '_i374',\n",
       " '_i375',\n",
       " '_i376',\n",
       " '_i38',\n",
       " '_i39',\n",
       " '_i4',\n",
       " '_i40',\n",
       " '_i41',\n",
       " '_i42',\n",
       " '_i43',\n",
       " '_i44',\n",
       " '_i45',\n",
       " '_i46',\n",
       " '_i47',\n",
       " '_i48',\n",
       " '_i49',\n",
       " '_i5',\n",
       " '_i50',\n",
       " '_i51',\n",
       " '_i52',\n",
       " '_i53',\n",
       " '_i54',\n",
       " '_i55',\n",
       " '_i56',\n",
       " '_i57',\n",
       " '_i58',\n",
       " '_i59',\n",
       " '_i6',\n",
       " '_i60',\n",
       " '_i61',\n",
       " '_i62',\n",
       " '_i63',\n",
       " '_i64',\n",
       " '_i65',\n",
       " '_i66',\n",
       " '_i67',\n",
       " '_i68',\n",
       " '_i69',\n",
       " '_i7',\n",
       " '_i70',\n",
       " '_i71',\n",
       " '_i72',\n",
       " '_i73',\n",
       " '_i74',\n",
       " '_i75',\n",
       " '_i76',\n",
       " '_i77',\n",
       " '_i78',\n",
       " '_i79',\n",
       " '_i8',\n",
       " '_i80',\n",
       " '_i81',\n",
       " '_i82',\n",
       " '_i83',\n",
       " '_i84',\n",
       " '_i85',\n",
       " '_i86',\n",
       " '_i87',\n",
       " '_i88',\n",
       " '_i89',\n",
       " '_i9',\n",
       " '_i90',\n",
       " '_i91',\n",
       " '_i92',\n",
       " '_i93',\n",
       " '_i94',\n",
       " '_i95',\n",
       " '_i96',\n",
       " '_i97',\n",
       " '_i98',\n",
       " '_i99',\n",
       " '_ih',\n",
       " '_ii',\n",
       " '_iii',\n",
       " '_oh',\n",
       " 'a',\n",
       " 'a2',\n",
       " 'a3',\n",
       " 'aaa',\n",
       " 'adder',\n",
       " 'ages',\n",
       " 'array1',\n",
       " 'array11',\n",
       " 'array2',\n",
       " 'b',\n",
       " 'c',\n",
       " 'c1',\n",
       " 'c2',\n",
       " 'c3',\n",
       " 'car_a',\n",
       " 'car_b',\n",
       " 'd',\n",
       " 'dict1',\n",
       " 'dict2',\n",
       " 'e',\n",
       " 'exit',\n",
       " 'f',\n",
       " 'f1',\n",
       " 'f2',\n",
       " 'factorial',\n",
       " 'func',\n",
       " 'g',\n",
       " 'get_ipython',\n",
       " 'h',\n",
       " 'h1',\n",
       " 'i',\n",
       " 'index',\n",
       " 'intro',\n",
       " 'itertools',\n",
       " 'itr',\n",
       " 'j',\n",
       " 'k',\n",
       " 'key',\n",
       " 'l',\n",
       " 'line',\n",
       " 'list1',\n",
       " 'list2',\n",
       " 'list_of_str',\n",
       " 'list_of_words',\n",
       " 'math',\n",
       " 'mx',\n",
       " 'my_function',\n",
       " 'my_lambda_function',\n",
       " 'mymodule',\n",
       " 'mymodule2',\n",
       " 'name',\n",
       " 'names',\n",
       " 'not_null_variable',\n",
       " 'null_variable',\n",
       " 'num',\n",
       " 'num_list',\n",
       " 'obj',\n",
       " 'objects',\n",
       " 'odds',\n",
       " 'person1',\n",
       " 'printPetNames',\n",
       " 'printScores',\n",
       " 'quit',\n",
       " 's',\n",
       " 'some_function',\n",
       " 'square',\n",
       " 'squares',\n",
       " 't',\n",
       " 'thisset',\n",
       " 'tuple1',\n",
       " 'tuple2',\n",
       " 'v73',\n",
       " 'word_freq',\n",
       " 'x']"
      ]
     },
     "execution_count": 376,
     "metadata": {},
     "output_type": "execute_result"
    }
   ],
   "source": [
    "dir()"
   ]
  },
  {
   "cell_type": "markdown",
   "metadata": {
    "colab_type": "text",
    "id": "NsvDiBuY5Gtt"
   },
   "source": [
    "Note: **Be careful with your variable names!** Python allows you to use the built-in function names for your variables, which can mess things up:"
   ]
  },
  {
   "cell_type": "code",
   "execution_count": 377,
   "metadata": {
    "colab": {},
    "colab_type": "code",
    "id": "cFa4gcsu6q88"
   },
   "outputs": [
    {
     "data": {
      "text/plain": [
       "False"
      ]
     },
     "execution_count": 377,
     "metadata": {},
     "output_type": "execute_result"
    }
   ],
   "source": [
    "print = False\n",
    "print"
   ]
  },
  {
   "cell_type": "code",
   "execution_count": 378,
   "metadata": {
    "colab": {},
    "colab_type": "code",
    "id": "bxwMGoZX6wJV"
   },
   "outputs": [
    {
     "ename": "TypeError",
     "evalue": "'bool' object is not callable",
     "output_type": "error",
     "traceback": [
      "\u001b[0;31m---------------------------------------------------------------------------\u001b[0m",
      "\u001b[0;31mTypeError\u001b[0m                                 Traceback (most recent call last)",
      "\u001b[0;32m<ipython-input-378-355b70c05717>\u001b[0m in \u001b[0;36m<module>\u001b[0;34m\u001b[0m\n\u001b[0;32m----> 1\u001b[0;31m \u001b[0mprint\u001b[0m\u001b[0;34m(\u001b[0m\u001b[0;36m10\u001b[0m\u001b[0;34m)\u001b[0m\u001b[0;34m\u001b[0m\u001b[0;34m\u001b[0m\u001b[0m\n\u001b[0m",
      "\u001b[0;31mTypeError\u001b[0m: 'bool' object is not callable"
     ]
    }
   ],
   "source": [
    "print(10)"
   ]
  },
  {
   "cell_type": "code",
   "execution_count": 379,
   "metadata": {
    "colab": {},
    "colab_type": "code",
    "id": "EdkDrH1F7nwS"
   },
   "outputs": [
    {
     "name": "stdout",
     "output_type": "stream",
     "text": [
      "10\n"
     ]
    }
   ],
   "source": [
    "del print\n",
    "print(10)"
   ]
  },
  {
   "cell_type": "markdown",
   "metadata": {
    "colab_type": "text",
    "id": "FuUDOWzF3tJA"
   },
   "source": [
    "Note that after a cell execution the value of the last expression will be printed out, so you don't always have to use the `print` function:"
   ]
  },
  {
   "cell_type": "code",
   "execution_count": 380,
   "metadata": {
    "colab": {},
    "colab_type": "code",
    "id": "BA8Cjjf3n9at"
   },
   "outputs": [
    {
     "data": {
      "text/plain": [
       "3"
      ]
     },
     "execution_count": 380,
     "metadata": {},
     "output_type": "execute_result"
    }
   ],
   "source": [
    "a = 1\n",
    "b = 2\n",
    "a + b"
   ]
  },
  {
   "cell_type": "markdown",
   "metadata": {
    "colab_type": "text",
    "id": "MKP-eUtY4QNp"
   },
   "source": [
    "Unless you finish a line with a semicolon:"
   ]
  },
  {
   "cell_type": "code",
   "execution_count": 381,
   "metadata": {
    "colab": {},
    "colab_type": "code",
    "id": "RTvObVSS4PVU"
   },
   "outputs": [],
   "source": [
    "a + b;"
   ]
  },
  {
   "cell_type": "code",
   "execution_count": 382,
   "metadata": {},
   "outputs": [],
   "source": [
    "string = 'hello world, ok?'"
   ]
  },
  {
   "cell_type": "code",
   "execution_count": 383,
   "metadata": {},
   "outputs": [
    {
     "name": "stdout",
     "output_type": "stream",
     "text": [
      "16\n"
     ]
    }
   ],
   "source": [
    "# https://docs.python.org/3/whatsnew/3.8.html\n",
    "\n",
    "if len(string) > 10:\n",
    "    print(len(string))   # the len(string) is calculated twice"
   ]
  },
  {
   "cell_type": "code",
   "execution_count": 384,
   "metadata": {},
   "outputs": [
    {
     "name": "stdout",
     "output_type": "stream",
     "text": [
      "16\n"
     ]
    }
   ],
   "source": [
    "if (length := len(string)) > 10:\n",
    "    print(length) "
   ]
  },
  {
   "cell_type": "code",
   "execution_count": 385,
   "metadata": {},
   "outputs": [
    {
     "name": "stdout",
     "output_type": "stream",
     "text": [
      "26\n"
     ]
    }
   ],
   "source": [
    "age = 26    \n",
    "if age > 18:\n",
    "    print(age)"
   ]
  },
  {
   "cell_type": "code",
   "execution_count": 386,
   "metadata": {},
   "outputs": [
    {
     "name": "stdout",
     "output_type": "stream",
     "text": [
      "26\n"
     ]
    }
   ],
   "source": [
    "if (age := 26) > 18:\n",
    "    print(age)"
   ]
  },
  {
   "cell_type": "code",
   "execution_count": 387,
   "metadata": {},
   "outputs": [
    {
     "ename": "SyntaxError",
     "evalue": "invalid syntax (<ipython-input-387-3b0cdf4b934e>, line 1)",
     "output_type": "error",
     "traceback": [
      "\u001b[0;36m  File \u001b[0;32m\"<ipython-input-387-3b0cdf4b934e>\"\u001b[0;36m, line \u001b[0;32m1\u001b[0m\n\u001b[0;31m    if (age = 26) > 18:\u001b[0m\n\u001b[0m            ^\u001b[0m\n\u001b[0;31mSyntaxError\u001b[0m\u001b[0;31m:\u001b[0m invalid syntax\n"
     ]
    }
   ],
   "source": [
    "if (age = 26) > 18:\n",
    "    print(age)"
   ]
  },
  {
   "cell_type": "markdown",
   "metadata": {},
   "source": [
    "https://www.w3schools.com/python/module_random.asp\n",
    "    \n",
    "https://docs.python.org/3/library/random.html\n",
    "    \n",
    "Russian: https://ru.hexlet.io/courses/python-basics/lessons/module-random/theory_unit "
   ]
  },
  {
   "cell_type": "code",
   "execution_count": 388,
   "metadata": {},
   "outputs": [
    {
     "name": "stdout",
     "output_type": "stream",
     "text": [
      "0.28437462501002475\n"
     ]
    }
   ],
   "source": [
    "import random\n",
    "print( random.random() )"
   ]
  },
  {
   "cell_type": "code",
   "execution_count": 389,
   "metadata": {},
   "outputs": [
    {
     "data": {
      "text/plain": [
       "0.4249299468021026"
      ]
     },
     "execution_count": 389,
     "metadata": {},
     "output_type": "execute_result"
    }
   ],
   "source": [
    "random.random()"
   ]
  },
  {
   "cell_type": "code",
   "execution_count": 390,
   "metadata": {},
   "outputs": [
    {
     "data": {
      "text/plain": [
       "5"
      ]
     },
     "execution_count": 390,
     "metadata": {},
     "output_type": "execute_result"
    }
   ],
   "source": [
    "from random import randint\n",
    "randint(0, 9)"
   ]
  },
  {
   "cell_type": "code",
   "execution_count": 391,
   "metadata": {},
   "outputs": [
    {
     "data": {
      "text/plain": [
       "0"
      ]
     },
     "execution_count": 391,
     "metadata": {},
     "output_type": "execute_result"
    }
   ],
   "source": [
    "from random import randrange\n",
    "randrange(0, 10, 2)"
   ]
  },
  {
   "cell_type": "code",
   "execution_count": 392,
   "metadata": {},
   "outputs": [
    {
     "data": {
      "text/plain": [
       "'Los Angeles'"
      ]
     },
     "execution_count": 392,
     "metadata": {},
     "output_type": "execute_result"
    }
   ],
   "source": [
    "city_list = ['New York', 'Los Angeles', 'Chicago', 'Houston', 'Philadelphia']\n",
    "random.choice(city_list)"
   ]
  },
  {
   "cell_type": "code",
   "execution_count": 393,
   "metadata": {},
   "outputs": [
    {
     "data": {
      "text/plain": [
       "-3"
      ]
     },
     "execution_count": 393,
     "metadata": {},
     "output_type": "execute_result"
    }
   ],
   "source": [
    "randint(-10, 0)"
   ]
  },
  {
   "cell_type": "code",
   "execution_count": 394,
   "metadata": {},
   "outputs": [
    {
     "data": {
      "text/plain": [
       "0"
      ]
     },
     "execution_count": 394,
     "metadata": {},
     "output_type": "execute_result"
    }
   ],
   "source": [
    "randint(0, 0)"
   ]
  },
  {
   "cell_type": "code",
   "execution_count": 395,
   "metadata": {},
   "outputs": [
    {
     "data": {
      "text/plain": [
       "-1.3342428931817154"
      ]
     },
     "execution_count": 395,
     "metadata": {},
     "output_type": "execute_result"
    }
   ],
   "source": [
    "from random import gauss\n",
    "gauss(0, 2)"
   ]
  },
  {
   "cell_type": "code",
   "execution_count": 396,
   "metadata": {},
   "outputs": [
    {
     "data": {
      "text/plain": [
       "-8"
      ]
     },
     "execution_count": 396,
     "metadata": {},
     "output_type": "execute_result"
    }
   ],
   "source": [
    "random.seed(1)\n",
    "randint(-10, 0)"
   ]
  },
  {
   "cell_type": "code",
   "execution_count": 397,
   "metadata": {},
   "outputs": [
    {
     "data": {
      "text/plain": [
       "-1"
      ]
     },
     "execution_count": 397,
     "metadata": {},
     "output_type": "execute_result"
    }
   ],
   "source": [
    "#random.seed(1)\n",
    "randint(-10, 0)"
   ]
  },
  {
   "cell_type": "code",
   "execution_count": 398,
   "metadata": {},
   "outputs": [
    {
     "data": {
      "text/plain": [
       "[2, 8, 12]"
      ]
     },
     "execution_count": 398,
     "metadata": {},
     "output_type": "execute_result"
    }
   ],
   "source": [
    "list1 = [2, 5, 8, 9, 12]\n",
    "random.sample(list1, 3)"
   ]
  },
  {
   "cell_type": "code",
   "execution_count": 399,
   "metadata": {},
   "outputs": [
    {
     "data": {
      "text/plain": [
       "[9, 12, 5, 8, 2]"
      ]
     },
     "execution_count": 399,
     "metadata": {},
     "output_type": "execute_result"
    }
   ],
   "source": [
    "list1 = [2, 5, 8, 9, 12]\n",
    "random.sample(list1, 5)"
   ]
  },
  {
   "cell_type": "code",
   "execution_count": 400,
   "metadata": {},
   "outputs": [
    {
     "data": {
      "text/plain": [
       "[8, 5, 12, 9, 2]"
      ]
     },
     "execution_count": 400,
     "metadata": {},
     "output_type": "execute_result"
    }
   ],
   "source": [
    "list1 = [2, 5, 8, 9, 12]\n",
    "random.shuffle(list1)\n",
    "list1"
   ]
  },
  {
   "cell_type": "code",
   "execution_count": 401,
   "metadata": {},
   "outputs": [
    {
     "data": {
      "text/plain": [
       "16.9915060185758"
      ]
     },
     "execution_count": 401,
     "metadata": {},
     "output_type": "execute_result"
    }
   ],
   "source": [
    "random.uniform(10.5, 25.5)"
   ]
  },
  {
   "cell_type": "code",
   "execution_count": 402,
   "metadata": {},
   "outputs": [
    {
     "data": {
      "text/plain": [
       "0.762280082457942"
      ]
     },
     "execution_count": 402,
     "metadata": {},
     "output_type": "execute_result"
    }
   ],
   "source": [
    "random.uniform(0, 1)"
   ]
  },
  {
   "cell_type": "markdown",
   "metadata": {},
   "source": [
    "https://pynative.com/python-secrets-module/\n",
    "\n",
    "https://pypi.org/project/python-secrets/\n",
    "\n",
    "https://docs.python.org/3/library/secrets.html"
   ]
  },
  {
   "cell_type": "code",
   "execution_count": 403,
   "metadata": {},
   "outputs": [
    {
     "name": "stdout",
     "output_type": "stream",
     "text": [
      "number =  0.3450799068030621\n"
     ]
    }
   ],
   "source": [
    "import random\n",
    "import secrets\n",
    " \n",
    "number = random.SystemRandom().random()\n",
    "print(\"number = \", number)"
   ]
  },
  {
   "cell_type": "code",
   "execution_count": 404,
   "metadata": {},
   "outputs": [
    {
     "name": "stdout",
     "output_type": "stream",
     "text": [
      "token_bytes =  b'\\x0b)oi\\x1e/lB+\\xdf\\xfe\\x91\\xf9e+\\xe3'\n"
     ]
    }
   ],
   "source": [
    "print(\"token_bytes = \", secrets.token_bytes(16))"
   ]
  },
  {
   "cell_type": "code",
   "execution_count": 405,
   "metadata": {},
   "outputs": [
    {
     "name": "stdout",
     "output_type": "stream",
     "text": [
      "token_bytes =  b'n\\xab\\xf0\\x7f{\\xc8\\xec:[\\xf7\\xe6^M\\xbef\\x015\\xc6%@\\xc7\\x9a\\\\\\x03\\xa1\\x9f\\x9e\\xdb\\r l\\xc0\\x8a.\\xaa\\xb9\\xad\\t%\\xfd00\\x12'\n"
     ]
    }
   ],
   "source": [
    "print(\"token_bytes = \", secrets.token_bytes(43))"
   ]
  },
  {
   "cell_type": "code",
   "execution_count": 406,
   "metadata": {},
   "outputs": [
    {
     "name": "stdout",
     "output_type": "stream",
     "text": [
      "token_bytes =  b\"\\x80l\\x14\\xbbJ\\xafRL\\xf6\\xb2\\xb9\\xd1\\xb3`\\x0f\\xe3\\xa6\\nv\\xac\\xc5SD@'s\\xd5\\xae\\xbf\\xac\\xe0h\"\n"
     ]
    }
   ],
   "source": [
    "print(\"token_bytes = \", secrets.token_bytes())"
   ]
  },
  {
   "cell_type": "code",
   "execution_count": 407,
   "metadata": {},
   "outputs": [
    {
     "data": {
      "text/plain": [
       "138"
      ]
     },
     "execution_count": 407,
     "metadata": {},
     "output_type": "execute_result"
    }
   ],
   "source": [
    "random.getrandbits(16)"
   ]
  },
  {
   "cell_type": "code",
   "execution_count": 408,
   "metadata": {},
   "outputs": [
    {
     "data": {
      "text/plain": [
       "8805"
      ]
     },
     "execution_count": 408,
     "metadata": {},
     "output_type": "execute_result"
    }
   ],
   "source": [
    "random.seed(1)\n",
    "random.getrandbits(16)"
   ]
  },
  {
   "cell_type": "markdown",
   "metadata": {},
   "source": [
    "### Problem №13 (all answers are at the end of the notebook):\n",
    "\n",
    "Write a Python program to get a single random element from a specified string.\n",
    "\n",
    "You have str1 = 'sddcsrvebumimubwfarsbbsrb'."
   ]
  },
  {
   "cell_type": "code",
   "execution_count": null,
   "metadata": {},
   "outputs": [],
   "source": []
  },
  {
   "cell_type": "markdown",
   "metadata": {},
   "source": [
    "### Here you can see a lot of tasks and solutions for your Python practise:\n",
    "\n",
    "https://www.w3resource.com/python-exercises/\n",
    "\n",
    "https://pynative.com/python-exercises-with-solutions/\n",
    "\n",
    "https://github.com/zhiwehu/Python-programming-exercises"
   ]
  },
  {
   "cell_type": "code",
   "execution_count": null,
   "metadata": {},
   "outputs": [],
   "source": []
  },
  {
   "cell_type": "markdown",
   "metadata": {},
   "source": [
    "## Answers to problems:"
   ]
  },
  {
   "cell_type": "code",
   "execution_count": 409,
   "metadata": {},
   "outputs": [
    {
     "name": "stdout",
     "output_type": "stream",
     "text": [
      "The real = 3.0 and imaginary parts = 7.0\n"
     ]
    }
   ],
   "source": [
    "# Answer to problem №0:\n",
    "\n",
    "a = 3 + 7j\n",
    "\n",
    "print('The real =', a.real, 'and imaginary parts =', a.imag)"
   ]
  },
  {
   "cell_type": "code",
   "execution_count": 410,
   "metadata": {},
   "outputs": [
    {
     "name": "stdout",
     "output_type": "stream",
     "text": [
      "[50, 4, 52, 't', 34, '9z4']\n",
      "[50, 4, 52, 't', 34, '9z4']\n"
     ]
    }
   ],
   "source": [
    "# Answer to problem №1:\n",
    "\n",
    "original_list = [50, 4, 52, 't', 34, '9z4']\n",
    "new_list = list(original_list)\n",
    "print(original_list)\n",
    "print(new_list)"
   ]
  },
  {
   "cell_type": "code",
   "execution_count": 411,
   "metadata": {},
   "outputs": [
    {
     "name": "stdout",
     "output_type": "stream",
     "text": [
      "hello, world!\n"
     ]
    }
   ],
   "source": [
    "# Answer to problem №2:\n",
    "\n",
    "list1 = ['h', 'e', 'l', 'l', 'o', ',', ' ', 'w', 'o', 'r', 'l', 'd', '!']\n",
    "\n",
    "Str = ''.join(list1)\n",
    "print(Str)"
   ]
  },
  {
   "cell_type": "code",
   "execution_count": 412,
   "metadata": {},
   "outputs": [
    {
     "name": "stdout",
     "output_type": "stream",
     "text": [
      "-60\n"
     ]
    }
   ],
   "source": [
    "# Answer to problem №3:\n",
    "\n",
    "l = [0, 1, -1, 2, 3, 30, -100, 5]\n",
    "\n",
    "Sum = 0\n",
    "for element in l:\n",
    "    Sum += element\n",
    "    \n",
    "print(Sum)\n",
    "\n",
    "# Also you can use standard 'sum' from Python.\n",
    "# https://www.geeksforgeeks.org/sum-function-python/"
   ]
  },
  {
   "cell_type": "code",
   "execution_count": 413,
   "metadata": {},
   "outputs": [
    {
     "name": "stdout",
     "output_type": "stream",
     "text": [
      "List1 is not empty\n",
      "List2 is empty\n"
     ]
    }
   ],
   "source": [
    "# Answer to problem №4:\n",
    "\n",
    "list1 = [3, 5, -7, 'mipt', 0.8]\n",
    "list2 = []\n",
    "\n",
    "if not list1:\n",
    "    print(\"List1 is empty\")\n",
    "    \n",
    "else:\n",
    "    print(\"List1 is not empty\")\n",
    "    \n",
    "if not list2:\n",
    "    print(\"List2 is empty\")\n",
    "    \n",
    "else:\n",
    "    print(\"List2 is not empty\")"
   ]
  },
  {
   "cell_type": "code",
   "execution_count": 414,
   "metadata": {},
   "outputs": [
    {
     "name": "stdout",
     "output_type": "stream",
     "text": [
      "\n",
      "* \n",
      "* * \n",
      "* * * \n",
      "* * * * \n",
      "* * * * * \n",
      "* * * * \n",
      "* * * \n",
      "* * \n",
      "* \n"
     ]
    }
   ],
   "source": [
    "# Answer to problem №5:\n",
    "\n",
    "n = 5\n",
    "\n",
    "for i in range(n):\n",
    "    for j in range(i):\n",
    "        print ('* ', end = \"\")\n",
    "    print('')\n",
    "\n",
    "for i in range(n, 0, - 1):\n",
    "    for j in range(i):\n",
    "        print('* ', end = \"\")\n",
    "    print('')"
   ]
  },
  {
   "cell_type": "code",
   "execution_count": 415,
   "metadata": {},
   "outputs": [
    {
     "name": "stdout",
     "output_type": "stream",
     "text": [
      "5\n"
     ]
    }
   ],
   "source": [
    "# Answer to problem №6:\n",
    "\n",
    "# This algorithm can be implemented in different ways.\n",
    "\n",
    "def max_of_two(x, y):\n",
    "    if x > y:\n",
    "        return x\n",
    "    return y\n",
    "def max_of_three(x, y, z):\n",
    "    return max_of_two(x, max_of_two(y, z))\n",
    "\n",
    "print(max_of_three(-1, 5, -100))"
   ]
  },
  {
   "cell_type": "code",
   "execution_count": 416,
   "metadata": {},
   "outputs": [
    {
     "name": "stdout",
     "output_type": "stream",
     "text": [
      "7890ytrewq\n"
     ]
    }
   ],
   "source": [
    "# Answer to problem №7:\n",
    "\n",
    "str1 = 'qwerty0987'\n",
    "\n",
    "def string_reverse(str1):\n",
    "    rstr1 = ''\n",
    "    index = len(str1)\n",
    "    while index > 0:\n",
    "        rstr1 += str1[index - 1]\n",
    "        index = index - 1\n",
    "    return rstr1\n",
    "\n",
    "print(string_reverse(str1))"
   ]
  },
  {
   "cell_type": "code",
   "execution_count": 417,
   "metadata": {},
   "outputs": [
    {
     "name": "stdout",
     "output_type": "stream",
     "text": [
      "[1, 2, 3, 't', 4, 5, 'q']\n"
     ]
    }
   ],
   "source": [
    "# Answer to problem №8:\n",
    "\n",
    "list1 = [1, 2, 3, 't', 3, 't', 4, 5, 'q']\n",
    "\n",
    "def unique_list(l):\n",
    "    x = []\n",
    "    for a in l:\n",
    "        if a not in x:\n",
    "            x.append(a)\n",
    "    return x\n",
    "\n",
    "print(unique_list(list1)) "
   ]
  },
  {
   "cell_type": "code",
   "execution_count": 418,
   "metadata": {},
   "outputs": [
    {
     "name": "stdout",
     "output_type": "stream",
     "text": [
      "['matplotlib_and_pandas_exercise_4_show_scatter_plot.png']\n"
     ]
    }
   ],
   "source": [
    "# Answer to problem №9:\n",
    "\n",
    "def longest_word(filename):\n",
    "    with open(filename, 'r') as infile:\n",
    "              words = infile.read().split()\n",
    "    max_len = len(max(words, key = len))\n",
    "    return [word for word in words if len(word) == max_len]\n",
    "\n",
    "print(longest_word('file.txt'))"
   ]
  },
  {
   "cell_type": "code",
   "execution_count": 419,
   "metadata": {},
   "outputs": [
    {
     "name": "stdout",
     "output_type": "stream",
     "text": [
      "Jack-Nicholson-in-The-Shining-2043016.jpg\r\n",
      "__pycache__\r\n",
      "company_sales_data.csv\r\n",
      "file.txt\r\n",
      "hw_python.ipynb\r\n",
      "matplotlib_and_pandas_exercise_4_show_scatter_plot.png\r\n",
      "mememe_cb8e239ef97eb73a7d04ecf46ed4bf5c-1.jpg\r\n",
      "mymodule.py\r\n",
      "mymodule2.py\r\n",
      "mymodule3.py\r\n",
      "nofile.txt\r\n",
      "nva5b9dq8r631.png\r\n",
      "optimisation.ipynb\r\n",
      "python-conditional-image-exercise-4.png\r\n",
      "python1_v1.ipynb\r\n",
      "python2.ipynb-comment.html\r\n",
      "python2_v1.ipynb\r\n",
      "python_old\r\n",
      "test.txt\r\n",
      "text.txt\r\n",
      "train.csv\r\n"
     ]
    }
   ],
   "source": [
    "!cat file.txt"
   ]
  },
  {
   "cell_type": "code",
   "execution_count": 420,
   "metadata": {},
   "outputs": [
    {
     "name": "stdout",
     "output_type": "stream",
     "text": [
      "3986\n",
      "4000\n",
      "100\n",
      "0\n"
     ]
    }
   ],
   "source": [
    "# Answer to problem №10:\n",
    "\n",
    "class py_solution:\n",
    "    def roman_to_int(self, s):\n",
    "        rom_val = {'I': 1, 'V': 5, 'X': 10, 'L': 50, 'C': 100, 'D': 500, 'M': 1000}\n",
    "        int_val = 0\n",
    "        for i in range(len(s)):\n",
    "            if i > 0 and rom_val[s[i]] > rom_val[s[i - 1]]:\n",
    "                int_val += rom_val[s[i]] - 2 * rom_val[s[i - 1]]\n",
    "            else:\n",
    "                int_val += rom_val[s[i]]\n",
    "        return int_val\n",
    "\n",
    "print(py_solution().roman_to_int('MMMCMLXXXVI'))\n",
    "print(py_solution().roman_to_int('MMMM'))\n",
    "print(py_solution().roman_to_int('C'))\n",
    "print(py_solution().roman_to_int(''))"
   ]
  },
  {
   "cell_type": "code",
   "execution_count": 421,
   "metadata": {},
   "outputs": [
    {
     "name": "stdout",
     "output_type": "stream",
     "text": [
      "I\n",
      "MMMM\n",
      "MMMCMLXXXVI\n"
     ]
    }
   ],
   "source": [
    "# Answer to problem №11:\n",
    "\n",
    "class py_solution:\n",
    "    def int_to_Roman(self, num):\n",
    "        val = [\n",
    "            1000, 900, 500, 400,\n",
    "            100, 90, 50, 40,\n",
    "            10, 9, 5, 4,\n",
    "            1\n",
    "            ]\n",
    "        syb = [\n",
    "            \"M\", \"CM\", \"D\", \"CD\",\n",
    "            \"C\", \"XC\", \"L\", \"XL\",\n",
    "            \"X\", \"IX\", \"V\", \"IV\",\n",
    "            \"I\"\n",
    "            ]\n",
    "        roman_num = ''\n",
    "        i = 0\n",
    "        while  num > 0:\n",
    "            for _ in range(num // val[i]):\n",
    "                roman_num += syb[i]\n",
    "                num -= val[i]\n",
    "            i += 1\n",
    "        return roman_num\n",
    "\n",
    "print(py_solution().int_to_Roman(1))\n",
    "print(py_solution().int_to_Roman(4000))\n",
    "print(py_solution().int_to_Roman(3986))\n",
    "#print(py_solution().int_to_Roman(0))"
   ]
  },
  {
   "cell_type": "code",
   "execution_count": 422,
   "metadata": {},
   "outputs": [
    {
     "name": "stdout",
     "output_type": "stream",
     "text": [
      "0.125\n",
      "243\n",
      "1\n"
     ]
    }
   ],
   "source": [
    "# Answer to problem №12:\n",
    "\n",
    "class py_solution:\n",
    "    def pow(self, x, n):\n",
    "        if x == 0 or x == 1 or n == 1:\n",
    "            return x \n",
    "\n",
    "        if x == -1:\n",
    "            if n % 2 == 0:\n",
    "                return 1\n",
    "            else:\n",
    "                return -1\n",
    "        if n == 0:\n",
    "            return 1\n",
    "        if n < 0:\n",
    "            return 1 / self.pow(x, -n)\n",
    "        val = self.pow(x, n // 2)\n",
    "        if n % 2 == 0:\n",
    "            return val * val\n",
    "        return val * val * x\n",
    "\n",
    "print(py_solution().pow(2, -3));\n",
    "print(py_solution().pow(3, 5));\n",
    "print(py_solution().pow(100, 0));"
   ]
  },
  {
   "cell_type": "code",
   "execution_count": 423,
   "metadata": {},
   "outputs": [
    {
     "name": "stdout",
     "output_type": "stream",
     "text": [
      "j\n"
     ]
    }
   ],
   "source": [
    "# Answer to problem №13:\n",
    "\n",
    "import random\n",
    "\n",
    "str1 = 'sddcsrvebumimubwfarsbbsrb'\n",
    "\n",
    "print(random.choice('abcdefghijklm'))"
   ]
  },
  {
   "cell_type": "code",
   "execution_count": null,
   "metadata": {},
   "outputs": [],
   "source": []
  },
  {
   "cell_type": "markdown",
   "metadata": {},
   "source": [
    "# The notebook is based on https://github.com/HSE-LAMBDA/MLatMIPS-2020 (Mosphys 2020, https://mosphys.ru) and many other links from the Internet."
   ]
  }
 ],
 "metadata": {
  "colab": {
   "collapsed_sections": [],
   "name": "Welcome.ipynb",
   "provenance": [],
   "toc_visible": true
  },
  "kernelspec": {
   "display_name": "Python 3",
   "language": "python",
   "name": "python3"
  },
  "language_info": {
   "codemirror_mode": {
    "name": "ipython",
    "version": 3
   },
   "file_extension": ".py",
   "mimetype": "text/x-python",
   "name": "python",
   "nbconvert_exporter": "python",
   "pygments_lexer": "ipython3",
   "version": "3.8.5"
  }
 },
 "nbformat": 4,
 "nbformat_minor": 1
}
